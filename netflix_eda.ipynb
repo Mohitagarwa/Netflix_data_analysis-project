{
 "cells": [
  {
   "cell_type": "markdown",
   "metadata": {},
   "source": [
    "<h1> Netflix Movies And TV-show </h1>"
   ]
  },
  {
   "cell_type": "code",
   "execution_count": null,
   "metadata": {},
   "outputs": [],
   "source": [
    "#Importing important libraries\n",
    "\n",
    "import numpy as np\n",
    "import pandas as pd\n",
    "import matplotlib.pyplot as plt\n",
    "\n",
    "import missingno\n",
    "\n",
    "import seaborn as sns\n",
    "import matplotlib.pyplot as plt\n",
    "import plotly.express as px\n",
    "%matplotlib inline\n",
    "\n",
    "import warnings\n",
    "warnings.filterwarnings(\"ignore\")\n",
    "\n",
    "sns.set_theme(style=\"darkgrid\")"
   ]
  },
  {
   "cell_type": "code",
   "execution_count": 2,
   "metadata": {},
   "outputs": [],
   "source": [
    "data = pd.read_csv(r'C:\\Users\\mohit\\Downloads\\archive\\netflix_titles.csv')"
   ]
  },
  {
   "cell_type": "code",
   "execution_count": 3,
   "metadata": {},
   "outputs": [
    {
     "data": {
      "text/html": [
       "<div>\n",
       "<style scoped>\n",
       "    .dataframe tbody tr th:only-of-type {\n",
       "        vertical-align: middle;\n",
       "    }\n",
       "\n",
       "    .dataframe tbody tr th {\n",
       "        vertical-align: top;\n",
       "    }\n",
       "\n",
       "    .dataframe thead th {\n",
       "        text-align: right;\n",
       "    }\n",
       "</style>\n",
       "<table border=\"1\" class=\"dataframe\">\n",
       "  <thead>\n",
       "    <tr style=\"text-align: right;\">\n",
       "      <th></th>\n",
       "      <th>show_id</th>\n",
       "      <th>type</th>\n",
       "      <th>title</th>\n",
       "      <th>director</th>\n",
       "      <th>cast</th>\n",
       "      <th>country</th>\n",
       "      <th>date_added</th>\n",
       "      <th>release_year</th>\n",
       "      <th>rating</th>\n",
       "      <th>duration</th>\n",
       "      <th>listed_in</th>\n",
       "      <th>description</th>\n",
       "    </tr>\n",
       "  </thead>\n",
       "  <tbody>\n",
       "    <tr>\n",
       "      <th>0</th>\n",
       "      <td>s1</td>\n",
       "      <td>TV Show</td>\n",
       "      <td>3%</td>\n",
       "      <td>NaN</td>\n",
       "      <td>João Miguel, Bianca Comparato, Michel Gomes, R...</td>\n",
       "      <td>Brazil</td>\n",
       "      <td>August 14, 2020</td>\n",
       "      <td>2020</td>\n",
       "      <td>TV-MA</td>\n",
       "      <td>4 Seasons</td>\n",
       "      <td>International TV Shows, TV Dramas, TV Sci-Fi &amp;...</td>\n",
       "      <td>In a future where the elite inhabit an island ...</td>\n",
       "    </tr>\n",
       "    <tr>\n",
       "      <th>1</th>\n",
       "      <td>s2</td>\n",
       "      <td>Movie</td>\n",
       "      <td>7:19</td>\n",
       "      <td>Jorge Michel Grau</td>\n",
       "      <td>Demián Bichir, Héctor Bonilla, Oscar Serrano, ...</td>\n",
       "      <td>Mexico</td>\n",
       "      <td>December 23, 2016</td>\n",
       "      <td>2016</td>\n",
       "      <td>TV-MA</td>\n",
       "      <td>93 min</td>\n",
       "      <td>Dramas, International Movies</td>\n",
       "      <td>After a devastating earthquake hits Mexico Cit...</td>\n",
       "    </tr>\n",
       "  </tbody>\n",
       "</table>\n",
       "</div>"
      ],
      "text/plain": [
       "  show_id     type title           director  \\\n",
       "0      s1  TV Show    3%                NaN   \n",
       "1      s2    Movie  7:19  Jorge Michel Grau   \n",
       "\n",
       "                                                cast country  \\\n",
       "0  João Miguel, Bianca Comparato, Michel Gomes, R...  Brazil   \n",
       "1  Demián Bichir, Héctor Bonilla, Oscar Serrano, ...  Mexico   \n",
       "\n",
       "          date_added  release_year rating   duration  \\\n",
       "0    August 14, 2020          2020  TV-MA  4 Seasons   \n",
       "1  December 23, 2016          2016  TV-MA     93 min   \n",
       "\n",
       "                                           listed_in  \\\n",
       "0  International TV Shows, TV Dramas, TV Sci-Fi &...   \n",
       "1                       Dramas, International Movies   \n",
       "\n",
       "                                         description  \n",
       "0  In a future where the elite inhabit an island ...  \n",
       "1  After a devastating earthquake hits Mexico Cit...  "
      ]
     },
     "execution_count": 3,
     "metadata": {},
     "output_type": "execute_result"
    }
   ],
   "source": [
    "data.head(2)"
   ]
  },
  {
   "cell_type": "code",
   "execution_count": 4,
   "metadata": {},
   "outputs": [
    {
     "data": {
      "text/plain": [
       "(7787, 12)"
      ]
     },
     "execution_count": 4,
     "metadata": {},
     "output_type": "execute_result"
    }
   ],
   "source": [
    "data.shape"
   ]
  },
  {
   "cell_type": "code",
   "execution_count": 5,
   "metadata": {},
   "outputs": [
    {
     "name": "stdout",
     "output_type": "stream",
     "text": [
      "<class 'pandas.core.frame.DataFrame'>\n",
      "RangeIndex: 7787 entries, 0 to 7786\n",
      "Data columns (total 12 columns):\n",
      " #   Column        Non-Null Count  Dtype \n",
      "---  ------        --------------  ----- \n",
      " 0   show_id       7787 non-null   object\n",
      " 1   type          7787 non-null   object\n",
      " 2   title         7787 non-null   object\n",
      " 3   director      5398 non-null   object\n",
      " 4   cast          7069 non-null   object\n",
      " 5   country       7280 non-null   object\n",
      " 6   date_added    7777 non-null   object\n",
      " 7   release_year  7787 non-null   int64 \n",
      " 8   rating        7780 non-null   object\n",
      " 9   duration      7787 non-null   object\n",
      " 10  listed_in     7787 non-null   object\n",
      " 11  description   7787 non-null   object\n",
      "dtypes: int64(1), object(11)\n",
      "memory usage: 730.2+ KB\n"
     ]
    }
   ],
   "source": [
    "data.info()"
   ]
  },
  {
   "cell_type": "code",
   "execution_count": 6,
   "metadata": {},
   "outputs": [
    {
     "data": {
      "text/plain": [
       "show_id            0\n",
       "type               0\n",
       "title              0\n",
       "director        2389\n",
       "cast             718\n",
       "country          507\n",
       "date_added        10\n",
       "release_year       0\n",
       "rating             7\n",
       "duration           0\n",
       "listed_in          0\n",
       "description        0\n",
       "dtype: int64"
      ]
     },
     "execution_count": 6,
     "metadata": {},
     "output_type": "execute_result"
    }
   ],
   "source": [
    "data.isnull().sum()"
   ]
  },
  {
   "cell_type": "markdown",
   "metadata": {},
   "source": [
    "<p> As we can clearly see that there are lot of missing values in the director,cast and country columns. so i have to drop\n",
    "some of the columns if possible. I have dropped director column because it's not possible to fill the director column,same for the\n",
    "cast column. \n",
    "For country column i should find the mode and assign the mode value where is null. </p>"
   ]
  },
  {
   "cell_type": "code",
   "execution_count": 7,
   "metadata": {},
   "outputs": [],
   "source": [
    "data.drop(columns=['cast'],inplace=True)"
   ]
  },
  {
   "cell_type": "code",
   "execution_count": 8,
   "metadata": {},
   "outputs": [
    {
     "data": {
      "text/plain": [
       "(7787, 11)"
      ]
     },
     "execution_count": 8,
     "metadata": {},
     "output_type": "execute_result"
    }
   ],
   "source": [
    "data.shape"
   ]
  },
  {
   "cell_type": "code",
   "execution_count": 9,
   "metadata": {},
   "outputs": [],
   "source": [
    "data.country.fillna(data.country.mode()[0],inplace=True)"
   ]
  },
  {
   "cell_type": "code",
   "execution_count": 10,
   "metadata": {},
   "outputs": [
    {
     "data": {
      "text/plain": [
       "show_id            0\n",
       "type               0\n",
       "title              0\n",
       "director        2389\n",
       "country            0\n",
       "date_added        10\n",
       "release_year       0\n",
       "rating             7\n",
       "duration           0\n",
       "listed_in          0\n",
       "description        0\n",
       "dtype: int64"
      ]
     },
     "execution_count": 10,
     "metadata": {},
     "output_type": "execute_result"
    }
   ],
   "source": [
    "data.isnull().sum()"
   ]
  },
  {
   "cell_type": "code",
   "execution_count": 11,
   "metadata": {},
   "outputs": [],
   "source": [
    "data.date_added.fillna(data.date_added.mode()[0],inplace=True)\n",
    "data.rating.fillna(data.rating.mode()[0],inplace=True)"
   ]
  },
  {
   "cell_type": "code",
   "execution_count": 107,
   "metadata": {},
   "outputs": [
    {
     "data": {
      "text/plain": [
       "show_id            0\n",
       "type               0\n",
       "title              0\n",
       "director        2389\n",
       "country            0\n",
       "date_added         0\n",
       "release_year       0\n",
       "rating             0\n",
       "duration           0\n",
       "listed_in          0\n",
       "description        0\n",
       "add_year           0\n",
       "add_month          0\n",
       "country_main       0\n",
       "dtype: int64"
      ]
     },
     "execution_count": 107,
     "metadata": {},
     "output_type": "execute_result"
    }
   ],
   "source": [
    "data.isnull().sum()"
   ]
  },
  {
   "cell_type": "code",
   "execution_count": null,
   "metadata": {},
   "outputs": [],
   "source": [
    "data.drop(columns=['director'])"
   ]
  },
  {
   "cell_type": "markdown",
   "metadata": {},
   "source": [
    "<p> Now all the missing values in the dataset have been removed or managed. </p>"
   ]
  },
  {
   "cell_type": "code",
   "execution_count": 108,
   "metadata": {},
   "outputs": [
    {
     "data": {
      "text/plain": [
       "0"
      ]
     },
     "execution_count": 108,
     "metadata": {},
     "output_type": "execute_result"
    }
   ],
   "source": [
    " data.duplicated().sum() # No duplicate values in the dataset "
   ]
  },
  {
   "cell_type": "markdown",
   "metadata": {},
   "source": [
    "<p> so,In the conclusion no missing value in the dataset </p>"
   ]
  },
  {
   "cell_type": "markdown",
   "metadata": {},
   "source": [
    "<p> Adding some new columns in this dataset </p>"
   ]
  },
  {
   "cell_type": "code",
   "execution_count": 15,
   "metadata": {},
   "outputs": [],
   "source": [
    "data['add_year']=data['date_added'].apply(lambda x:x.split(',')[1])\n",
    "or \n",
    "#data['add_year']=pd.DatetimeIndex(data['date_added']).year  \n",
    "\n",
    "#For this make sure that date_added column type should be datetime if not use this \n",
    "# data['date_added']=pd.to_datetime(data['date_added'])\n"
   ]
  },
  {
   "cell_type": "code",
   "execution_count": 17,
   "metadata": {},
   "outputs": [],
   "source": [
    "data['add_month']=data['date_added'].apply(lambda x:x.split(' ')[0])\n",
    "\n",
    "#data['add_month']=pd.DatetimeIndex(data['date_added']).month  "
   ]
  },
  {
   "cell_type": "code",
   "execution_count": 21,
   "metadata": {},
   "outputs": [],
   "source": [
    "#Only main countries are in this column\n",
    "data['country_main']=data['country'].apply(lambda x: x.split(',')[0])"
   ]
  },
  {
   "cell_type": "code",
   "execution_count": 23,
   "metadata": {},
   "outputs": [
    {
     "data": {
      "text/html": [
       "<div>\n",
       "<style scoped>\n",
       "    .dataframe tbody tr th:only-of-type {\n",
       "        vertical-align: middle;\n",
       "    }\n",
       "\n",
       "    .dataframe tbody tr th {\n",
       "        vertical-align: top;\n",
       "    }\n",
       "\n",
       "    .dataframe thead th {\n",
       "        text-align: right;\n",
       "    }\n",
       "</style>\n",
       "<table border=\"1\" class=\"dataframe\">\n",
       "  <thead>\n",
       "    <tr style=\"text-align: right;\">\n",
       "      <th></th>\n",
       "      <th>show_id</th>\n",
       "      <th>type</th>\n",
       "      <th>title</th>\n",
       "      <th>director</th>\n",
       "      <th>country</th>\n",
       "      <th>date_added</th>\n",
       "      <th>release_year</th>\n",
       "      <th>rating</th>\n",
       "      <th>duration</th>\n",
       "      <th>listed_in</th>\n",
       "      <th>description</th>\n",
       "      <th>add_year</th>\n",
       "      <th>add_month</th>\n",
       "      <th>country_main</th>\n",
       "    </tr>\n",
       "  </thead>\n",
       "  <tbody>\n",
       "    <tr>\n",
       "      <th>0</th>\n",
       "      <td>s1</td>\n",
       "      <td>TV Show</td>\n",
       "      <td>3%</td>\n",
       "      <td>NaN</td>\n",
       "      <td>Brazil</td>\n",
       "      <td>2020-08-14</td>\n",
       "      <td>2020</td>\n",
       "      <td>TV-MA</td>\n",
       "      <td>4 Seasons</td>\n",
       "      <td>International TV Shows, TV Dramas, TV Sci-Fi &amp;...</td>\n",
       "      <td>In a future where the elite inhabit an island ...</td>\n",
       "      <td>2020</td>\n",
       "      <td>August</td>\n",
       "      <td>Brazil</td>\n",
       "    </tr>\n",
       "    <tr>\n",
       "      <th>1</th>\n",
       "      <td>s2</td>\n",
       "      <td>Movie</td>\n",
       "      <td>7:19</td>\n",
       "      <td>Jorge Michel Grau</td>\n",
       "      <td>Mexico</td>\n",
       "      <td>2016-12-23</td>\n",
       "      <td>2016</td>\n",
       "      <td>TV-MA</td>\n",
       "      <td>93 min</td>\n",
       "      <td>Dramas, International Movies</td>\n",
       "      <td>After a devastating earthquake hits Mexico Cit...</td>\n",
       "      <td>2016</td>\n",
       "      <td>December</td>\n",
       "      <td>Mexico</td>\n",
       "    </tr>\n",
       "  </tbody>\n",
       "</table>\n",
       "</div>"
      ],
      "text/plain": [
       "  show_id     type title           director country date_added  release_year  \\\n",
       "0      s1  TV Show    3%                NaN  Brazil 2020-08-14          2020   \n",
       "1      s2    Movie  7:19  Jorge Michel Grau  Mexico 2016-12-23          2016   \n",
       "\n",
       "  rating   duration                                          listed_in  \\\n",
       "0  TV-MA  4 Seasons  International TV Shows, TV Dramas, TV Sci-Fi &...   \n",
       "1  TV-MA     93 min                       Dramas, International Movies   \n",
       "\n",
       "                                         description add_year add_month  \\\n",
       "0  In a future where the elite inhabit an island ...     2020    August   \n",
       "1  After a devastating earthquake hits Mexico Cit...     2016  December   \n",
       "\n",
       "  country_main  \n",
       "0       Brazil  \n",
       "1       Mexico  "
      ]
     },
     "execution_count": 23,
     "metadata": {},
     "output_type": "execute_result"
    }
   ],
   "source": [
    "data.head(2)"
   ]
  },
  {
   "cell_type": "code",
   "execution_count": 24,
   "metadata": {},
   "outputs": [],
   "source": [
    "# Now making two dataframes for TV Show and Movie\n",
    "\n",
    "tv = data[data.type==\"TV Show\"]\n",
    "movie = data[data.type==\"Movie\"]"
   ]
  },
  {
   "cell_type": "code",
   "execution_count": 111,
   "metadata": {},
   "outputs": [
    {
     "data": {
      "text/html": [
       "<div>\n",
       "<style scoped>\n",
       "    .dataframe tbody tr th:only-of-type {\n",
       "        vertical-align: middle;\n",
       "    }\n",
       "\n",
       "    .dataframe tbody tr th {\n",
       "        vertical-align: top;\n",
       "    }\n",
       "\n",
       "    .dataframe thead th {\n",
       "        text-align: right;\n",
       "    }\n",
       "</style>\n",
       "<table border=\"1\" class=\"dataframe\">\n",
       "  <thead>\n",
       "    <tr style=\"text-align: right;\">\n",
       "      <th></th>\n",
       "      <th>show_id</th>\n",
       "      <th>type</th>\n",
       "      <th>title</th>\n",
       "      <th>director</th>\n",
       "      <th>country</th>\n",
       "      <th>date_added</th>\n",
       "      <th>release_year</th>\n",
       "      <th>rating</th>\n",
       "      <th>duration</th>\n",
       "      <th>listed_in</th>\n",
       "      <th>description</th>\n",
       "      <th>add_year</th>\n",
       "      <th>add_month</th>\n",
       "      <th>country_main</th>\n",
       "    </tr>\n",
       "  </thead>\n",
       "  <tbody>\n",
       "    <tr>\n",
       "      <th>0</th>\n",
       "      <td>s1</td>\n",
       "      <td>TV Show</td>\n",
       "      <td>3%</td>\n",
       "      <td>NaN</td>\n",
       "      <td>Brazil</td>\n",
       "      <td>2020-08-14</td>\n",
       "      <td>2020</td>\n",
       "      <td>TV-MA</td>\n",
       "      <td>4 Seasons</td>\n",
       "      <td>International TV Shows, TV Dramas, TV Sci-Fi &amp;...</td>\n",
       "      <td>In a future where the elite inhabit an island ...</td>\n",
       "      <td>2020</td>\n",
       "      <td>August</td>\n",
       "      <td>Brazil</td>\n",
       "    </tr>\n",
       "    <tr>\n",
       "      <th>5</th>\n",
       "      <td>s6</td>\n",
       "      <td>TV Show</td>\n",
       "      <td>46</td>\n",
       "      <td>Serdar Akar</td>\n",
       "      <td>Turkey</td>\n",
       "      <td>2017-07-01</td>\n",
       "      <td>2016</td>\n",
       "      <td>TV-MA</td>\n",
       "      <td>1 Season</td>\n",
       "      <td>International TV Shows, TV Dramas, TV Mysteries</td>\n",
       "      <td>A genetics professor experiments with a treatm...</td>\n",
       "      <td>2017</td>\n",
       "      <td>July</td>\n",
       "      <td>Turkey</td>\n",
       "    </tr>\n",
       "  </tbody>\n",
       "</table>\n",
       "</div>"
      ],
      "text/plain": [
       "  show_id     type title     director country date_added  release_year rating  \\\n",
       "0      s1  TV Show    3%          NaN  Brazil 2020-08-14          2020  TV-MA   \n",
       "5      s6  TV Show    46  Serdar Akar  Turkey 2017-07-01          2016  TV-MA   \n",
       "\n",
       "    duration                                          listed_in  \\\n",
       "0  4 Seasons  International TV Shows, TV Dramas, TV Sci-Fi &...   \n",
       "5   1 Season    International TV Shows, TV Dramas, TV Mysteries   \n",
       "\n",
       "                                         description add_year add_month  \\\n",
       "0  In a future where the elite inhabit an island ...     2020    August   \n",
       "5  A genetics professor experiments with a treatm...     2017      July   \n",
       "\n",
       "  country_main  \n",
       "0       Brazil  \n",
       "5       Turkey  "
      ]
     },
     "execution_count": 111,
     "metadata": {},
     "output_type": "execute_result"
    }
   ],
   "source": [
    "tv.head(2)"
   ]
  },
  {
   "cell_type": "code",
   "execution_count": 112,
   "metadata": {},
   "outputs": [
    {
     "data": {
      "text/html": [
       "<div>\n",
       "<style scoped>\n",
       "    .dataframe tbody tr th:only-of-type {\n",
       "        vertical-align: middle;\n",
       "    }\n",
       "\n",
       "    .dataframe tbody tr th {\n",
       "        vertical-align: top;\n",
       "    }\n",
       "\n",
       "    .dataframe thead th {\n",
       "        text-align: right;\n",
       "    }\n",
       "</style>\n",
       "<table border=\"1\" class=\"dataframe\">\n",
       "  <thead>\n",
       "    <tr style=\"text-align: right;\">\n",
       "      <th></th>\n",
       "      <th>show_id</th>\n",
       "      <th>type</th>\n",
       "      <th>title</th>\n",
       "      <th>director</th>\n",
       "      <th>country</th>\n",
       "      <th>date_added</th>\n",
       "      <th>release_year</th>\n",
       "      <th>rating</th>\n",
       "      <th>duration</th>\n",
       "      <th>listed_in</th>\n",
       "      <th>description</th>\n",
       "      <th>add_year</th>\n",
       "      <th>add_month</th>\n",
       "      <th>country_main</th>\n",
       "    </tr>\n",
       "  </thead>\n",
       "  <tbody>\n",
       "    <tr>\n",
       "      <th>1</th>\n",
       "      <td>s2</td>\n",
       "      <td>Movie</td>\n",
       "      <td>7:19</td>\n",
       "      <td>Jorge Michel Grau</td>\n",
       "      <td>Mexico</td>\n",
       "      <td>2016-12-23</td>\n",
       "      <td>2016</td>\n",
       "      <td>TV-MA</td>\n",
       "      <td>93 min</td>\n",
       "      <td>Dramas, International Movies</td>\n",
       "      <td>After a devastating earthquake hits Mexico Cit...</td>\n",
       "      <td>2016</td>\n",
       "      <td>December</td>\n",
       "      <td>Mexico</td>\n",
       "    </tr>\n",
       "    <tr>\n",
       "      <th>2</th>\n",
       "      <td>s3</td>\n",
       "      <td>Movie</td>\n",
       "      <td>23:59</td>\n",
       "      <td>Gilbert Chan</td>\n",
       "      <td>Singapore</td>\n",
       "      <td>2018-12-20</td>\n",
       "      <td>2011</td>\n",
       "      <td>R</td>\n",
       "      <td>78 min</td>\n",
       "      <td>Horror Movies, International Movies</td>\n",
       "      <td>When an army recruit is found dead, his fellow...</td>\n",
       "      <td>2018</td>\n",
       "      <td>December</td>\n",
       "      <td>Singapore</td>\n",
       "    </tr>\n",
       "  </tbody>\n",
       "</table>\n",
       "</div>"
      ],
      "text/plain": [
       "  show_id   type  title           director    country date_added  \\\n",
       "1      s2  Movie   7:19  Jorge Michel Grau     Mexico 2016-12-23   \n",
       "2      s3  Movie  23:59       Gilbert Chan  Singapore 2018-12-20   \n",
       "\n",
       "   release_year rating duration                            listed_in  \\\n",
       "1          2016  TV-MA   93 min         Dramas, International Movies   \n",
       "2          2011      R   78 min  Horror Movies, International Movies   \n",
       "\n",
       "                                         description add_year add_month  \\\n",
       "1  After a devastating earthquake hits Mexico Cit...     2016  December   \n",
       "2  When an army recruit is found dead, his fellow...     2018  December   \n",
       "\n",
       "  country_main  \n",
       "1       Mexico  \n",
       "2    Singapore  "
      ]
     },
     "execution_count": 112,
     "metadata": {},
     "output_type": "execute_result"
    }
   ],
   "source": [
    "movie.head(2)"
   ]
  },
  {
   "cell_type": "code",
   "execution_count": 113,
   "metadata": {},
   "outputs": [
    {
     "data": {
      "text/html": [
       "<div>\n",
       "<style scoped>\n",
       "    .dataframe tbody tr th:only-of-type {\n",
       "        vertical-align: middle;\n",
       "    }\n",
       "\n",
       "    .dataframe tbody tr th {\n",
       "        vertical-align: top;\n",
       "    }\n",
       "\n",
       "    .dataframe thead th {\n",
       "        text-align: right;\n",
       "    }\n",
       "</style>\n",
       "<table border=\"1\" class=\"dataframe\">\n",
       "  <thead>\n",
       "    <tr style=\"text-align: right;\">\n",
       "      <th></th>\n",
       "      <th>index</th>\n",
       "      <th>type</th>\n",
       "    </tr>\n",
       "  </thead>\n",
       "  <tbody>\n",
       "    <tr>\n",
       "      <th>0</th>\n",
       "      <td>Movie</td>\n",
       "      <td>5377</td>\n",
       "    </tr>\n",
       "    <tr>\n",
       "      <th>1</th>\n",
       "      <td>TV Show</td>\n",
       "      <td>2410</td>\n",
       "    </tr>\n",
       "  </tbody>\n",
       "</table>\n",
       "</div>"
      ],
      "text/plain": [
       "     index  type\n",
       "0    Movie  5377\n",
       "1  TV Show  2410"
      ]
     },
     "execution_count": 113,
     "metadata": {},
     "output_type": "execute_result"
    }
   ],
   "source": [
    "X = data.type.value_counts().reset_index()\n",
    "X"
   ]
  },
  {
   "cell_type": "markdown",
   "metadata": {},
   "source": [
    "<h2> Movie and Tv show -Percentage in above data </h2>"
   ]
  },
  {
   "cell_type": "code",
   "execution_count": 115,
   "metadata": {},
   "outputs": [
    {
     "data": {
      "application/vnd.plotly.v1+json": {
       "config": {
        "plotlyServerURL": "https://plot.ly"
       },
       "data": [
        {
         "domain": {
          "x": [
           0,
           1
          ],
          "y": [
           0,
           1
          ]
         },
         "hovertemplate": "index=%{label}<br>type=%{value}<extra></extra>",
         "labels": [
          "Movie",
          "TV Show"
         ],
         "legendgroup": "",
         "marker": {
          "line": {
           "color": "white",
           "width": 2
          }
         },
         "name": "",
         "showlegend": true,
         "textinfo": "percent+label",
         "textposition": "inside",
         "type": "pie",
         "values": [
          5377,
          2410
         ]
        }
       ],
       "layout": {
        "legend": {
         "tracegroupgap": 0
        },
        "margin": {
         "t": 60
        },
        "piecolorway": [
         "rgb(103,0,31)",
         "rgb(178,24,43)",
         "rgb(214,96,77)",
         "rgb(244,165,130)",
         "rgb(253,219,199)",
         "rgb(247,247,247)",
         "rgb(209,229,240)",
         "rgb(146,197,222)",
         "rgb(67,147,195)",
         "rgb(33,102,172)",
         "rgb(5,48,97)"
        ],
        "template": {
         "data": {
          "bar": [
           {
            "error_x": {
             "color": "#2a3f5f"
            },
            "error_y": {
             "color": "#2a3f5f"
            },
            "marker": {
             "line": {
              "color": "#E5ECF6",
              "width": 0.5
             },
             "pattern": {
              "fillmode": "overlay",
              "size": 10,
              "solidity": 0.2
             }
            },
            "type": "bar"
           }
          ],
          "barpolar": [
           {
            "marker": {
             "line": {
              "color": "#E5ECF6",
              "width": 0.5
             },
             "pattern": {
              "fillmode": "overlay",
              "size": 10,
              "solidity": 0.2
             }
            },
            "type": "barpolar"
           }
          ],
          "carpet": [
           {
            "aaxis": {
             "endlinecolor": "#2a3f5f",
             "gridcolor": "white",
             "linecolor": "white",
             "minorgridcolor": "white",
             "startlinecolor": "#2a3f5f"
            },
            "baxis": {
             "endlinecolor": "#2a3f5f",
             "gridcolor": "white",
             "linecolor": "white",
             "minorgridcolor": "white",
             "startlinecolor": "#2a3f5f"
            },
            "type": "carpet"
           }
          ],
          "choropleth": [
           {
            "colorbar": {
             "outlinewidth": 0,
             "ticks": ""
            },
            "type": "choropleth"
           }
          ],
          "contour": [
           {
            "colorbar": {
             "outlinewidth": 0,
             "ticks": ""
            },
            "colorscale": [
             [
              0,
              "#0d0887"
             ],
             [
              0.1111111111111111,
              "#46039f"
             ],
             [
              0.2222222222222222,
              "#7201a8"
             ],
             [
              0.3333333333333333,
              "#9c179e"
             ],
             [
              0.4444444444444444,
              "#bd3786"
             ],
             [
              0.5555555555555556,
              "#d8576b"
             ],
             [
              0.6666666666666666,
              "#ed7953"
             ],
             [
              0.7777777777777778,
              "#fb9f3a"
             ],
             [
              0.8888888888888888,
              "#fdca26"
             ],
             [
              1,
              "#f0f921"
             ]
            ],
            "type": "contour"
           }
          ],
          "contourcarpet": [
           {
            "colorbar": {
             "outlinewidth": 0,
             "ticks": ""
            },
            "type": "contourcarpet"
           }
          ],
          "heatmap": [
           {
            "colorbar": {
             "outlinewidth": 0,
             "ticks": ""
            },
            "colorscale": [
             [
              0,
              "#0d0887"
             ],
             [
              0.1111111111111111,
              "#46039f"
             ],
             [
              0.2222222222222222,
              "#7201a8"
             ],
             [
              0.3333333333333333,
              "#9c179e"
             ],
             [
              0.4444444444444444,
              "#bd3786"
             ],
             [
              0.5555555555555556,
              "#d8576b"
             ],
             [
              0.6666666666666666,
              "#ed7953"
             ],
             [
              0.7777777777777778,
              "#fb9f3a"
             ],
             [
              0.8888888888888888,
              "#fdca26"
             ],
             [
              1,
              "#f0f921"
             ]
            ],
            "type": "heatmap"
           }
          ],
          "heatmapgl": [
           {
            "colorbar": {
             "outlinewidth": 0,
             "ticks": ""
            },
            "colorscale": [
             [
              0,
              "#0d0887"
             ],
             [
              0.1111111111111111,
              "#46039f"
             ],
             [
              0.2222222222222222,
              "#7201a8"
             ],
             [
              0.3333333333333333,
              "#9c179e"
             ],
             [
              0.4444444444444444,
              "#bd3786"
             ],
             [
              0.5555555555555556,
              "#d8576b"
             ],
             [
              0.6666666666666666,
              "#ed7953"
             ],
             [
              0.7777777777777778,
              "#fb9f3a"
             ],
             [
              0.8888888888888888,
              "#fdca26"
             ],
             [
              1,
              "#f0f921"
             ]
            ],
            "type": "heatmapgl"
           }
          ],
          "histogram": [
           {
            "marker": {
             "pattern": {
              "fillmode": "overlay",
              "size": 10,
              "solidity": 0.2
             }
            },
            "type": "histogram"
           }
          ],
          "histogram2d": [
           {
            "colorbar": {
             "outlinewidth": 0,
             "ticks": ""
            },
            "colorscale": [
             [
              0,
              "#0d0887"
             ],
             [
              0.1111111111111111,
              "#46039f"
             ],
             [
              0.2222222222222222,
              "#7201a8"
             ],
             [
              0.3333333333333333,
              "#9c179e"
             ],
             [
              0.4444444444444444,
              "#bd3786"
             ],
             [
              0.5555555555555556,
              "#d8576b"
             ],
             [
              0.6666666666666666,
              "#ed7953"
             ],
             [
              0.7777777777777778,
              "#fb9f3a"
             ],
             [
              0.8888888888888888,
              "#fdca26"
             ],
             [
              1,
              "#f0f921"
             ]
            ],
            "type": "histogram2d"
           }
          ],
          "histogram2dcontour": [
           {
            "colorbar": {
             "outlinewidth": 0,
             "ticks": ""
            },
            "colorscale": [
             [
              0,
              "#0d0887"
             ],
             [
              0.1111111111111111,
              "#46039f"
             ],
             [
              0.2222222222222222,
              "#7201a8"
             ],
             [
              0.3333333333333333,
              "#9c179e"
             ],
             [
              0.4444444444444444,
              "#bd3786"
             ],
             [
              0.5555555555555556,
              "#d8576b"
             ],
             [
              0.6666666666666666,
              "#ed7953"
             ],
             [
              0.7777777777777778,
              "#fb9f3a"
             ],
             [
              0.8888888888888888,
              "#fdca26"
             ],
             [
              1,
              "#f0f921"
             ]
            ],
            "type": "histogram2dcontour"
           }
          ],
          "mesh3d": [
           {
            "colorbar": {
             "outlinewidth": 0,
             "ticks": ""
            },
            "type": "mesh3d"
           }
          ],
          "parcoords": [
           {
            "line": {
             "colorbar": {
              "outlinewidth": 0,
              "ticks": ""
             }
            },
            "type": "parcoords"
           }
          ],
          "pie": [
           {
            "automargin": true,
            "type": "pie"
           }
          ],
          "scatter": [
           {
            "marker": {
             "colorbar": {
              "outlinewidth": 0,
              "ticks": ""
             }
            },
            "type": "scatter"
           }
          ],
          "scatter3d": [
           {
            "line": {
             "colorbar": {
              "outlinewidth": 0,
              "ticks": ""
             }
            },
            "marker": {
             "colorbar": {
              "outlinewidth": 0,
              "ticks": ""
             }
            },
            "type": "scatter3d"
           }
          ],
          "scattercarpet": [
           {
            "marker": {
             "colorbar": {
              "outlinewidth": 0,
              "ticks": ""
             }
            },
            "type": "scattercarpet"
           }
          ],
          "scattergeo": [
           {
            "marker": {
             "colorbar": {
              "outlinewidth": 0,
              "ticks": ""
             }
            },
            "type": "scattergeo"
           }
          ],
          "scattergl": [
           {
            "marker": {
             "colorbar": {
              "outlinewidth": 0,
              "ticks": ""
             }
            },
            "type": "scattergl"
           }
          ],
          "scattermapbox": [
           {
            "marker": {
             "colorbar": {
              "outlinewidth": 0,
              "ticks": ""
             }
            },
            "type": "scattermapbox"
           }
          ],
          "scatterpolar": [
           {
            "marker": {
             "colorbar": {
              "outlinewidth": 0,
              "ticks": ""
             }
            },
            "type": "scatterpolar"
           }
          ],
          "scatterpolargl": [
           {
            "marker": {
             "colorbar": {
              "outlinewidth": 0,
              "ticks": ""
             }
            },
            "type": "scatterpolargl"
           }
          ],
          "scatterternary": [
           {
            "marker": {
             "colorbar": {
              "outlinewidth": 0,
              "ticks": ""
             }
            },
            "type": "scatterternary"
           }
          ],
          "surface": [
           {
            "colorbar": {
             "outlinewidth": 0,
             "ticks": ""
            },
            "colorscale": [
             [
              0,
              "#0d0887"
             ],
             [
              0.1111111111111111,
              "#46039f"
             ],
             [
              0.2222222222222222,
              "#7201a8"
             ],
             [
              0.3333333333333333,
              "#9c179e"
             ],
             [
              0.4444444444444444,
              "#bd3786"
             ],
             [
              0.5555555555555556,
              "#d8576b"
             ],
             [
              0.6666666666666666,
              "#ed7953"
             ],
             [
              0.7777777777777778,
              "#fb9f3a"
             ],
             [
              0.8888888888888888,
              "#fdca26"
             ],
             [
              1,
              "#f0f921"
             ]
            ],
            "type": "surface"
           }
          ],
          "table": [
           {
            "cells": {
             "fill": {
              "color": "#EBF0F8"
             },
             "line": {
              "color": "white"
             }
            },
            "header": {
             "fill": {
              "color": "#C8D4E3"
             },
             "line": {
              "color": "white"
             }
            },
            "type": "table"
           }
          ]
         },
         "layout": {
          "annotationdefaults": {
           "arrowcolor": "#2a3f5f",
           "arrowhead": 0,
           "arrowwidth": 1
          },
          "autotypenumbers": "strict",
          "coloraxis": {
           "colorbar": {
            "outlinewidth": 0,
            "ticks": ""
           }
          },
          "colorscale": {
           "diverging": [
            [
             0,
             "#8e0152"
            ],
            [
             0.1,
             "#c51b7d"
            ],
            [
             0.2,
             "#de77ae"
            ],
            [
             0.3,
             "#f1b6da"
            ],
            [
             0.4,
             "#fde0ef"
            ],
            [
             0.5,
             "#f7f7f7"
            ],
            [
             0.6,
             "#e6f5d0"
            ],
            [
             0.7,
             "#b8e186"
            ],
            [
             0.8,
             "#7fbc41"
            ],
            [
             0.9,
             "#4d9221"
            ],
            [
             1,
             "#276419"
            ]
           ],
           "sequential": [
            [
             0,
             "#0d0887"
            ],
            [
             0.1111111111111111,
             "#46039f"
            ],
            [
             0.2222222222222222,
             "#7201a8"
            ],
            [
             0.3333333333333333,
             "#9c179e"
            ],
            [
             0.4444444444444444,
             "#bd3786"
            ],
            [
             0.5555555555555556,
             "#d8576b"
            ],
            [
             0.6666666666666666,
             "#ed7953"
            ],
            [
             0.7777777777777778,
             "#fb9f3a"
            ],
            [
             0.8888888888888888,
             "#fdca26"
            ],
            [
             1,
             "#f0f921"
            ]
           ],
           "sequentialminus": [
            [
             0,
             "#0d0887"
            ],
            [
             0.1111111111111111,
             "#46039f"
            ],
            [
             0.2222222222222222,
             "#7201a8"
            ],
            [
             0.3333333333333333,
             "#9c179e"
            ],
            [
             0.4444444444444444,
             "#bd3786"
            ],
            [
             0.5555555555555556,
             "#d8576b"
            ],
            [
             0.6666666666666666,
             "#ed7953"
            ],
            [
             0.7777777777777778,
             "#fb9f3a"
            ],
            [
             0.8888888888888888,
             "#fdca26"
            ],
            [
             1,
             "#f0f921"
            ]
           ]
          },
          "colorway": [
           "#636efa",
           "#EF553B",
           "#00cc96",
           "#ab63fa",
           "#FFA15A",
           "#19d3f3",
           "#FF6692",
           "#B6E880",
           "#FF97FF",
           "#FECB52"
          ],
          "font": {
           "color": "#2a3f5f"
          },
          "geo": {
           "bgcolor": "white",
           "lakecolor": "white",
           "landcolor": "#E5ECF6",
           "showlakes": true,
           "showland": true,
           "subunitcolor": "white"
          },
          "hoverlabel": {
           "align": "left"
          },
          "hovermode": "closest",
          "mapbox": {
           "style": "light"
          },
          "paper_bgcolor": "white",
          "plot_bgcolor": "#E5ECF6",
          "polar": {
           "angularaxis": {
            "gridcolor": "white",
            "linecolor": "white",
            "ticks": ""
           },
           "bgcolor": "#E5ECF6",
           "radialaxis": {
            "gridcolor": "white",
            "linecolor": "white",
            "ticks": ""
           }
          },
          "scene": {
           "xaxis": {
            "backgroundcolor": "#E5ECF6",
            "gridcolor": "white",
            "gridwidth": 2,
            "linecolor": "white",
            "showbackground": true,
            "ticks": "",
            "zerolinecolor": "white"
           },
           "yaxis": {
            "backgroundcolor": "#E5ECF6",
            "gridcolor": "white",
            "gridwidth": 2,
            "linecolor": "white",
            "showbackground": true,
            "ticks": "",
            "zerolinecolor": "white"
           },
           "zaxis": {
            "backgroundcolor": "#E5ECF6",
            "gridcolor": "white",
            "gridwidth": 2,
            "linecolor": "white",
            "showbackground": true,
            "ticks": "",
            "zerolinecolor": "white"
           }
          },
          "shapedefaults": {
           "line": {
            "color": "#2a3f5f"
           }
          },
          "ternary": {
           "aaxis": {
            "gridcolor": "white",
            "linecolor": "white",
            "ticks": ""
           },
           "baxis": {
            "gridcolor": "white",
            "linecolor": "white",
            "ticks": ""
           },
           "bgcolor": "#E5ECF6",
           "caxis": {
            "gridcolor": "white",
            "linecolor": "white",
            "ticks": ""
           }
          },
          "title": {
           "x": 0.05
          },
          "xaxis": {
           "automargin": true,
           "gridcolor": "white",
           "linecolor": "white",
           "ticks": "",
           "title": {
            "standoff": 15
           },
           "zerolinecolor": "white",
           "zerolinewidth": 2
          },
          "yaxis": {
           "automargin": true,
           "gridcolor": "white",
           "linecolor": "white",
           "ticks": "",
           "title": {
            "standoff": 15
           },
           "zerolinecolor": "white",
           "zerolinewidth": 2
          }
         }
        }
       }
      },
      "text/html": [
       "<div>                            <div id=\"f7ec7d1a-ba78-459b-8d31-42daeaf69701\" class=\"plotly-graph-div\" style=\"height:525px; width:100%;\"></div>            <script type=\"text/javascript\">                require([\"plotly\"], function(Plotly) {                    window.PLOTLYENV=window.PLOTLYENV || {};                                    if (document.getElementById(\"f7ec7d1a-ba78-459b-8d31-42daeaf69701\")) {                    Plotly.newPlot(                        \"f7ec7d1a-ba78-459b-8d31-42daeaf69701\",                        [{\"domain\":{\"x\":[0.0,1.0],\"y\":[0.0,1.0]},\"hovertemplate\":\"index=%{label}<br>type=%{value}<extra></extra>\",\"labels\":[\"Movie\",\"TV Show\"],\"legendgroup\":\"\",\"marker\":{\"line\":{\"color\":\"white\",\"width\":2}},\"name\":\"\",\"showlegend\":true,\"textinfo\":\"percent+label\",\"textposition\":\"inside\",\"type\":\"pie\",\"values\":[5377,2410]}],                        {\"legend\":{\"tracegroupgap\":0},\"margin\":{\"t\":60},\"piecolorway\":[\"rgb(103,0,31)\",\"rgb(178,24,43)\",\"rgb(214,96,77)\",\"rgb(244,165,130)\",\"rgb(253,219,199)\",\"rgb(247,247,247)\",\"rgb(209,229,240)\",\"rgb(146,197,222)\",\"rgb(67,147,195)\",\"rgb(33,102,172)\",\"rgb(5,48,97)\"],\"template\":{\"data\":{\"bar\":[{\"error_x\":{\"color\":\"#2a3f5f\"},\"error_y\":{\"color\":\"#2a3f5f\"},\"marker\":{\"line\":{\"color\":\"#E5ECF6\",\"width\":0.5},\"pattern\":{\"fillmode\":\"overlay\",\"size\":10,\"solidity\":0.2}},\"type\":\"bar\"}],\"barpolar\":[{\"marker\":{\"line\":{\"color\":\"#E5ECF6\",\"width\":0.5},\"pattern\":{\"fillmode\":\"overlay\",\"size\":10,\"solidity\":0.2}},\"type\":\"barpolar\"}],\"carpet\":[{\"aaxis\":{\"endlinecolor\":\"#2a3f5f\",\"gridcolor\":\"white\",\"linecolor\":\"white\",\"minorgridcolor\":\"white\",\"startlinecolor\":\"#2a3f5f\"},\"baxis\":{\"endlinecolor\":\"#2a3f5f\",\"gridcolor\":\"white\",\"linecolor\":\"white\",\"minorgridcolor\":\"white\",\"startlinecolor\":\"#2a3f5f\"},\"type\":\"carpet\"}],\"choropleth\":[{\"colorbar\":{\"outlinewidth\":0,\"ticks\":\"\"},\"type\":\"choropleth\"}],\"contour\":[{\"colorbar\":{\"outlinewidth\":0,\"ticks\":\"\"},\"colorscale\":[[0.0,\"#0d0887\"],[0.1111111111111111,\"#46039f\"],[0.2222222222222222,\"#7201a8\"],[0.3333333333333333,\"#9c179e\"],[0.4444444444444444,\"#bd3786\"],[0.5555555555555556,\"#d8576b\"],[0.6666666666666666,\"#ed7953\"],[0.7777777777777778,\"#fb9f3a\"],[0.8888888888888888,\"#fdca26\"],[1.0,\"#f0f921\"]],\"type\":\"contour\"}],\"contourcarpet\":[{\"colorbar\":{\"outlinewidth\":0,\"ticks\":\"\"},\"type\":\"contourcarpet\"}],\"heatmap\":[{\"colorbar\":{\"outlinewidth\":0,\"ticks\":\"\"},\"colorscale\":[[0.0,\"#0d0887\"],[0.1111111111111111,\"#46039f\"],[0.2222222222222222,\"#7201a8\"],[0.3333333333333333,\"#9c179e\"],[0.4444444444444444,\"#bd3786\"],[0.5555555555555556,\"#d8576b\"],[0.6666666666666666,\"#ed7953\"],[0.7777777777777778,\"#fb9f3a\"],[0.8888888888888888,\"#fdca26\"],[1.0,\"#f0f921\"]],\"type\":\"heatmap\"}],\"heatmapgl\":[{\"colorbar\":{\"outlinewidth\":0,\"ticks\":\"\"},\"colorscale\":[[0.0,\"#0d0887\"],[0.1111111111111111,\"#46039f\"],[0.2222222222222222,\"#7201a8\"],[0.3333333333333333,\"#9c179e\"],[0.4444444444444444,\"#bd3786\"],[0.5555555555555556,\"#d8576b\"],[0.6666666666666666,\"#ed7953\"],[0.7777777777777778,\"#fb9f3a\"],[0.8888888888888888,\"#fdca26\"],[1.0,\"#f0f921\"]],\"type\":\"heatmapgl\"}],\"histogram\":[{\"marker\":{\"pattern\":{\"fillmode\":\"overlay\",\"size\":10,\"solidity\":0.2}},\"type\":\"histogram\"}],\"histogram2d\":[{\"colorbar\":{\"outlinewidth\":0,\"ticks\":\"\"},\"colorscale\":[[0.0,\"#0d0887\"],[0.1111111111111111,\"#46039f\"],[0.2222222222222222,\"#7201a8\"],[0.3333333333333333,\"#9c179e\"],[0.4444444444444444,\"#bd3786\"],[0.5555555555555556,\"#d8576b\"],[0.6666666666666666,\"#ed7953\"],[0.7777777777777778,\"#fb9f3a\"],[0.8888888888888888,\"#fdca26\"],[1.0,\"#f0f921\"]],\"type\":\"histogram2d\"}],\"histogram2dcontour\":[{\"colorbar\":{\"outlinewidth\":0,\"ticks\":\"\"},\"colorscale\":[[0.0,\"#0d0887\"],[0.1111111111111111,\"#46039f\"],[0.2222222222222222,\"#7201a8\"],[0.3333333333333333,\"#9c179e\"],[0.4444444444444444,\"#bd3786\"],[0.5555555555555556,\"#d8576b\"],[0.6666666666666666,\"#ed7953\"],[0.7777777777777778,\"#fb9f3a\"],[0.8888888888888888,\"#fdca26\"],[1.0,\"#f0f921\"]],\"type\":\"histogram2dcontour\"}],\"mesh3d\":[{\"colorbar\":{\"outlinewidth\":0,\"ticks\":\"\"},\"type\":\"mesh3d\"}],\"parcoords\":[{\"line\":{\"colorbar\":{\"outlinewidth\":0,\"ticks\":\"\"}},\"type\":\"parcoords\"}],\"pie\":[{\"automargin\":true,\"type\":\"pie\"}],\"scatter\":[{\"marker\":{\"colorbar\":{\"outlinewidth\":0,\"ticks\":\"\"}},\"type\":\"scatter\"}],\"scatter3d\":[{\"line\":{\"colorbar\":{\"outlinewidth\":0,\"ticks\":\"\"}},\"marker\":{\"colorbar\":{\"outlinewidth\":0,\"ticks\":\"\"}},\"type\":\"scatter3d\"}],\"scattercarpet\":[{\"marker\":{\"colorbar\":{\"outlinewidth\":0,\"ticks\":\"\"}},\"type\":\"scattercarpet\"}],\"scattergeo\":[{\"marker\":{\"colorbar\":{\"outlinewidth\":0,\"ticks\":\"\"}},\"type\":\"scattergeo\"}],\"scattergl\":[{\"marker\":{\"colorbar\":{\"outlinewidth\":0,\"ticks\":\"\"}},\"type\":\"scattergl\"}],\"scattermapbox\":[{\"marker\":{\"colorbar\":{\"outlinewidth\":0,\"ticks\":\"\"}},\"type\":\"scattermapbox\"}],\"scatterpolar\":[{\"marker\":{\"colorbar\":{\"outlinewidth\":0,\"ticks\":\"\"}},\"type\":\"scatterpolar\"}],\"scatterpolargl\":[{\"marker\":{\"colorbar\":{\"outlinewidth\":0,\"ticks\":\"\"}},\"type\":\"scatterpolargl\"}],\"scatterternary\":[{\"marker\":{\"colorbar\":{\"outlinewidth\":0,\"ticks\":\"\"}},\"type\":\"scatterternary\"}],\"surface\":[{\"colorbar\":{\"outlinewidth\":0,\"ticks\":\"\"},\"colorscale\":[[0.0,\"#0d0887\"],[0.1111111111111111,\"#46039f\"],[0.2222222222222222,\"#7201a8\"],[0.3333333333333333,\"#9c179e\"],[0.4444444444444444,\"#bd3786\"],[0.5555555555555556,\"#d8576b\"],[0.6666666666666666,\"#ed7953\"],[0.7777777777777778,\"#fb9f3a\"],[0.8888888888888888,\"#fdca26\"],[1.0,\"#f0f921\"]],\"type\":\"surface\"}],\"table\":[{\"cells\":{\"fill\":{\"color\":\"#EBF0F8\"},\"line\":{\"color\":\"white\"}},\"header\":{\"fill\":{\"color\":\"#C8D4E3\"},\"line\":{\"color\":\"white\"}},\"type\":\"table\"}]},\"layout\":{\"annotationdefaults\":{\"arrowcolor\":\"#2a3f5f\",\"arrowhead\":0,\"arrowwidth\":1},\"autotypenumbers\":\"strict\",\"coloraxis\":{\"colorbar\":{\"outlinewidth\":0,\"ticks\":\"\"}},\"colorscale\":{\"diverging\":[[0,\"#8e0152\"],[0.1,\"#c51b7d\"],[0.2,\"#de77ae\"],[0.3,\"#f1b6da\"],[0.4,\"#fde0ef\"],[0.5,\"#f7f7f7\"],[0.6,\"#e6f5d0\"],[0.7,\"#b8e186\"],[0.8,\"#7fbc41\"],[0.9,\"#4d9221\"],[1,\"#276419\"]],\"sequential\":[[0.0,\"#0d0887\"],[0.1111111111111111,\"#46039f\"],[0.2222222222222222,\"#7201a8\"],[0.3333333333333333,\"#9c179e\"],[0.4444444444444444,\"#bd3786\"],[0.5555555555555556,\"#d8576b\"],[0.6666666666666666,\"#ed7953\"],[0.7777777777777778,\"#fb9f3a\"],[0.8888888888888888,\"#fdca26\"],[1.0,\"#f0f921\"]],\"sequentialminus\":[[0.0,\"#0d0887\"],[0.1111111111111111,\"#46039f\"],[0.2222222222222222,\"#7201a8\"],[0.3333333333333333,\"#9c179e\"],[0.4444444444444444,\"#bd3786\"],[0.5555555555555556,\"#d8576b\"],[0.6666666666666666,\"#ed7953\"],[0.7777777777777778,\"#fb9f3a\"],[0.8888888888888888,\"#fdca26\"],[1.0,\"#f0f921\"]]},\"colorway\":[\"#636efa\",\"#EF553B\",\"#00cc96\",\"#ab63fa\",\"#FFA15A\",\"#19d3f3\",\"#FF6692\",\"#B6E880\",\"#FF97FF\",\"#FECB52\"],\"font\":{\"color\":\"#2a3f5f\"},\"geo\":{\"bgcolor\":\"white\",\"lakecolor\":\"white\",\"landcolor\":\"#E5ECF6\",\"showlakes\":true,\"showland\":true,\"subunitcolor\":\"white\"},\"hoverlabel\":{\"align\":\"left\"},\"hovermode\":\"closest\",\"mapbox\":{\"style\":\"light\"},\"paper_bgcolor\":\"white\",\"plot_bgcolor\":\"#E5ECF6\",\"polar\":{\"angularaxis\":{\"gridcolor\":\"white\",\"linecolor\":\"white\",\"ticks\":\"\"},\"bgcolor\":\"#E5ECF6\",\"radialaxis\":{\"gridcolor\":\"white\",\"linecolor\":\"white\",\"ticks\":\"\"}},\"scene\":{\"xaxis\":{\"backgroundcolor\":\"#E5ECF6\",\"gridcolor\":\"white\",\"gridwidth\":2,\"linecolor\":\"white\",\"showbackground\":true,\"ticks\":\"\",\"zerolinecolor\":\"white\"},\"yaxis\":{\"backgroundcolor\":\"#E5ECF6\",\"gridcolor\":\"white\",\"gridwidth\":2,\"linecolor\":\"white\",\"showbackground\":true,\"ticks\":\"\",\"zerolinecolor\":\"white\"},\"zaxis\":{\"backgroundcolor\":\"#E5ECF6\",\"gridcolor\":\"white\",\"gridwidth\":2,\"linecolor\":\"white\",\"showbackground\":true,\"ticks\":\"\",\"zerolinecolor\":\"white\"}},\"shapedefaults\":{\"line\":{\"color\":\"#2a3f5f\"}},\"ternary\":{\"aaxis\":{\"gridcolor\":\"white\",\"linecolor\":\"white\",\"ticks\":\"\"},\"baxis\":{\"gridcolor\":\"white\",\"linecolor\":\"white\",\"ticks\":\"\"},\"bgcolor\":\"#E5ECF6\",\"caxis\":{\"gridcolor\":\"white\",\"linecolor\":\"white\",\"ticks\":\"\"}},\"title\":{\"x\":0.05},\"xaxis\":{\"automargin\":true,\"gridcolor\":\"white\",\"linecolor\":\"white\",\"ticks\":\"\",\"title\":{\"standoff\":15},\"zerolinecolor\":\"white\",\"zerolinewidth\":2},\"yaxis\":{\"automargin\":true,\"gridcolor\":\"white\",\"linecolor\":\"white\",\"ticks\":\"\",\"title\":{\"standoff\":15},\"zerolinecolor\":\"white\",\"zerolinewidth\":2}}}},                        {\"responsive\": true}                    ).then(function(){\n",
       "                            \n",
       "var gd = document.getElementById('f7ec7d1a-ba78-459b-8d31-42daeaf69701');\n",
       "var x = new MutationObserver(function (mutations, observer) {{\n",
       "        var display = window.getComputedStyle(gd).display;\n",
       "        if (!display || display === 'none') {{\n",
       "            console.log([gd, 'removed!']);\n",
       "            Plotly.purge(gd);\n",
       "            observer.disconnect();\n",
       "        }}\n",
       "}});\n",
       "\n",
       "// Listen for the removal of the full notebook cells\n",
       "var notebookContainer = gd.closest('#notebook-container');\n",
       "if (notebookContainer) {{\n",
       "    x.observe(notebookContainer, {childList: true});\n",
       "}}\n",
       "\n",
       "// Listen for the clearing of the current output cell\n",
       "var outputEl = gd.closest('.output');\n",
       "if (outputEl) {{\n",
       "    x.observe(outputEl, {childList: true});\n",
       "}}\n",
       "\n",
       "                        })                };                });            </script>        </div>"
      ]
     },
     "metadata": {},
     "output_type": "display_data"
    }
   ],
   "source": [
    "#Now plotted the above information in a pie chart\n",
    "fig = px.pie(X, values='type', names='index',color_discrete_sequence=px.colors.sequential.RdBu)\n",
    "fig.update_traces(textposition='inside', textinfo='percent+label',\n",
    "                  marker = dict(line = dict(color = 'white', width =2)))\n",
    "fig.show()\n"
   ]
  },
  {
   "cell_type": "markdown",
   "metadata": {},
   "source": [
    "<h2>Movies and Tv-show - Based on countries </h2>"
   ]
  },
  {
   "cell_type": "code",
   "execution_count": 31,
   "metadata": {},
   "outputs": [
    {
     "data": {
      "application/vnd.plotly.v1+json": {
       "config": {
        "plotlyServerURL": "https://plot.ly"
       },
       "data": [
        {
         "domain": {
          "x": [
           0,
           1
          ],
          "y": [
           0,
           1
          ]
         },
         "hovertemplate": "index=%{label}<br>country_main=%{value}<extra></extra>",
         "labels": [
          "United States",
          "India",
          "United Kingdom",
          "Canada",
          "Japan",
          "France",
          "South Korea",
          "Spain",
          "Mexico",
          "Australia",
          "Turkey",
          "Egypt",
          "Germany",
          "China",
          "Taiwan",
          "Brazil"
         ],
         "legendgroup": "",
         "marker": {
          "line": {
           "color": "white",
           "width": 2
          }
         },
         "name": "",
         "showlegend": true,
         "textinfo": "percent+label",
         "textposition": "inside",
         "type": "pie",
         "values": [
          3390,
          956,
          577,
          259,
          237,
          196,
          194,
          168,
          123,
          108,
          106,
          105,
          92,
          86,
          82,
          79
         ]
        }
       ],
       "layout": {
        "legend": {
         "tracegroupgap": 0
        },
        "margin": {
         "t": 60
        },
        "piecolorway": [
         "rgb(103,0,31)",
         "rgb(178,24,43)",
         "rgb(214,96,77)",
         "rgb(244,165,130)",
         "rgb(253,219,199)",
         "rgb(247,247,247)",
         "rgb(209,229,240)",
         "rgb(146,197,222)",
         "rgb(67,147,195)",
         "rgb(33,102,172)",
         "rgb(5,48,97)"
        ],
        "template": {
         "data": {
          "bar": [
           {
            "error_x": {
             "color": "#2a3f5f"
            },
            "error_y": {
             "color": "#2a3f5f"
            },
            "marker": {
             "line": {
              "color": "#E5ECF6",
              "width": 0.5
             },
             "pattern": {
              "fillmode": "overlay",
              "size": 10,
              "solidity": 0.2
             }
            },
            "type": "bar"
           }
          ],
          "barpolar": [
           {
            "marker": {
             "line": {
              "color": "#E5ECF6",
              "width": 0.5
             },
             "pattern": {
              "fillmode": "overlay",
              "size": 10,
              "solidity": 0.2
             }
            },
            "type": "barpolar"
           }
          ],
          "carpet": [
           {
            "aaxis": {
             "endlinecolor": "#2a3f5f",
             "gridcolor": "white",
             "linecolor": "white",
             "minorgridcolor": "white",
             "startlinecolor": "#2a3f5f"
            },
            "baxis": {
             "endlinecolor": "#2a3f5f",
             "gridcolor": "white",
             "linecolor": "white",
             "minorgridcolor": "white",
             "startlinecolor": "#2a3f5f"
            },
            "type": "carpet"
           }
          ],
          "choropleth": [
           {
            "colorbar": {
             "outlinewidth": 0,
             "ticks": ""
            },
            "type": "choropleth"
           }
          ],
          "contour": [
           {
            "colorbar": {
             "outlinewidth": 0,
             "ticks": ""
            },
            "colorscale": [
             [
              0,
              "#0d0887"
             ],
             [
              0.1111111111111111,
              "#46039f"
             ],
             [
              0.2222222222222222,
              "#7201a8"
             ],
             [
              0.3333333333333333,
              "#9c179e"
             ],
             [
              0.4444444444444444,
              "#bd3786"
             ],
             [
              0.5555555555555556,
              "#d8576b"
             ],
             [
              0.6666666666666666,
              "#ed7953"
             ],
             [
              0.7777777777777778,
              "#fb9f3a"
             ],
             [
              0.8888888888888888,
              "#fdca26"
             ],
             [
              1,
              "#f0f921"
             ]
            ],
            "type": "contour"
           }
          ],
          "contourcarpet": [
           {
            "colorbar": {
             "outlinewidth": 0,
             "ticks": ""
            },
            "type": "contourcarpet"
           }
          ],
          "heatmap": [
           {
            "colorbar": {
             "outlinewidth": 0,
             "ticks": ""
            },
            "colorscale": [
             [
              0,
              "#0d0887"
             ],
             [
              0.1111111111111111,
              "#46039f"
             ],
             [
              0.2222222222222222,
              "#7201a8"
             ],
             [
              0.3333333333333333,
              "#9c179e"
             ],
             [
              0.4444444444444444,
              "#bd3786"
             ],
             [
              0.5555555555555556,
              "#d8576b"
             ],
             [
              0.6666666666666666,
              "#ed7953"
             ],
             [
              0.7777777777777778,
              "#fb9f3a"
             ],
             [
              0.8888888888888888,
              "#fdca26"
             ],
             [
              1,
              "#f0f921"
             ]
            ],
            "type": "heatmap"
           }
          ],
          "heatmapgl": [
           {
            "colorbar": {
             "outlinewidth": 0,
             "ticks": ""
            },
            "colorscale": [
             [
              0,
              "#0d0887"
             ],
             [
              0.1111111111111111,
              "#46039f"
             ],
             [
              0.2222222222222222,
              "#7201a8"
             ],
             [
              0.3333333333333333,
              "#9c179e"
             ],
             [
              0.4444444444444444,
              "#bd3786"
             ],
             [
              0.5555555555555556,
              "#d8576b"
             ],
             [
              0.6666666666666666,
              "#ed7953"
             ],
             [
              0.7777777777777778,
              "#fb9f3a"
             ],
             [
              0.8888888888888888,
              "#fdca26"
             ],
             [
              1,
              "#f0f921"
             ]
            ],
            "type": "heatmapgl"
           }
          ],
          "histogram": [
           {
            "marker": {
             "pattern": {
              "fillmode": "overlay",
              "size": 10,
              "solidity": 0.2
             }
            },
            "type": "histogram"
           }
          ],
          "histogram2d": [
           {
            "colorbar": {
             "outlinewidth": 0,
             "ticks": ""
            },
            "colorscale": [
             [
              0,
              "#0d0887"
             ],
             [
              0.1111111111111111,
              "#46039f"
             ],
             [
              0.2222222222222222,
              "#7201a8"
             ],
             [
              0.3333333333333333,
              "#9c179e"
             ],
             [
              0.4444444444444444,
              "#bd3786"
             ],
             [
              0.5555555555555556,
              "#d8576b"
             ],
             [
              0.6666666666666666,
              "#ed7953"
             ],
             [
              0.7777777777777778,
              "#fb9f3a"
             ],
             [
              0.8888888888888888,
              "#fdca26"
             ],
             [
              1,
              "#f0f921"
             ]
            ],
            "type": "histogram2d"
           }
          ],
          "histogram2dcontour": [
           {
            "colorbar": {
             "outlinewidth": 0,
             "ticks": ""
            },
            "colorscale": [
             [
              0,
              "#0d0887"
             ],
             [
              0.1111111111111111,
              "#46039f"
             ],
             [
              0.2222222222222222,
              "#7201a8"
             ],
             [
              0.3333333333333333,
              "#9c179e"
             ],
             [
              0.4444444444444444,
              "#bd3786"
             ],
             [
              0.5555555555555556,
              "#d8576b"
             ],
             [
              0.6666666666666666,
              "#ed7953"
             ],
             [
              0.7777777777777778,
              "#fb9f3a"
             ],
             [
              0.8888888888888888,
              "#fdca26"
             ],
             [
              1,
              "#f0f921"
             ]
            ],
            "type": "histogram2dcontour"
           }
          ],
          "mesh3d": [
           {
            "colorbar": {
             "outlinewidth": 0,
             "ticks": ""
            },
            "type": "mesh3d"
           }
          ],
          "parcoords": [
           {
            "line": {
             "colorbar": {
              "outlinewidth": 0,
              "ticks": ""
             }
            },
            "type": "parcoords"
           }
          ],
          "pie": [
           {
            "automargin": true,
            "type": "pie"
           }
          ],
          "scatter": [
           {
            "marker": {
             "colorbar": {
              "outlinewidth": 0,
              "ticks": ""
             }
            },
            "type": "scatter"
           }
          ],
          "scatter3d": [
           {
            "line": {
             "colorbar": {
              "outlinewidth": 0,
              "ticks": ""
             }
            },
            "marker": {
             "colorbar": {
              "outlinewidth": 0,
              "ticks": ""
             }
            },
            "type": "scatter3d"
           }
          ],
          "scattercarpet": [
           {
            "marker": {
             "colorbar": {
              "outlinewidth": 0,
              "ticks": ""
             }
            },
            "type": "scattercarpet"
           }
          ],
          "scattergeo": [
           {
            "marker": {
             "colorbar": {
              "outlinewidth": 0,
              "ticks": ""
             }
            },
            "type": "scattergeo"
           }
          ],
          "scattergl": [
           {
            "marker": {
             "colorbar": {
              "outlinewidth": 0,
              "ticks": ""
             }
            },
            "type": "scattergl"
           }
          ],
          "scattermapbox": [
           {
            "marker": {
             "colorbar": {
              "outlinewidth": 0,
              "ticks": ""
             }
            },
            "type": "scattermapbox"
           }
          ],
          "scatterpolar": [
           {
            "marker": {
             "colorbar": {
              "outlinewidth": 0,
              "ticks": ""
             }
            },
            "type": "scatterpolar"
           }
          ],
          "scatterpolargl": [
           {
            "marker": {
             "colorbar": {
              "outlinewidth": 0,
              "ticks": ""
             }
            },
            "type": "scatterpolargl"
           }
          ],
          "scatterternary": [
           {
            "marker": {
             "colorbar": {
              "outlinewidth": 0,
              "ticks": ""
             }
            },
            "type": "scatterternary"
           }
          ],
          "surface": [
           {
            "colorbar": {
             "outlinewidth": 0,
             "ticks": ""
            },
            "colorscale": [
             [
              0,
              "#0d0887"
             ],
             [
              0.1111111111111111,
              "#46039f"
             ],
             [
              0.2222222222222222,
              "#7201a8"
             ],
             [
              0.3333333333333333,
              "#9c179e"
             ],
             [
              0.4444444444444444,
              "#bd3786"
             ],
             [
              0.5555555555555556,
              "#d8576b"
             ],
             [
              0.6666666666666666,
              "#ed7953"
             ],
             [
              0.7777777777777778,
              "#fb9f3a"
             ],
             [
              0.8888888888888888,
              "#fdca26"
             ],
             [
              1,
              "#f0f921"
             ]
            ],
            "type": "surface"
           }
          ],
          "table": [
           {
            "cells": {
             "fill": {
              "color": "#EBF0F8"
             },
             "line": {
              "color": "white"
             }
            },
            "header": {
             "fill": {
              "color": "#C8D4E3"
             },
             "line": {
              "color": "white"
             }
            },
            "type": "table"
           }
          ]
         },
         "layout": {
          "annotationdefaults": {
           "arrowcolor": "#2a3f5f",
           "arrowhead": 0,
           "arrowwidth": 1
          },
          "autotypenumbers": "strict",
          "coloraxis": {
           "colorbar": {
            "outlinewidth": 0,
            "ticks": ""
           }
          },
          "colorscale": {
           "diverging": [
            [
             0,
             "#8e0152"
            ],
            [
             0.1,
             "#c51b7d"
            ],
            [
             0.2,
             "#de77ae"
            ],
            [
             0.3,
             "#f1b6da"
            ],
            [
             0.4,
             "#fde0ef"
            ],
            [
             0.5,
             "#f7f7f7"
            ],
            [
             0.6,
             "#e6f5d0"
            ],
            [
             0.7,
             "#b8e186"
            ],
            [
             0.8,
             "#7fbc41"
            ],
            [
             0.9,
             "#4d9221"
            ],
            [
             1,
             "#276419"
            ]
           ],
           "sequential": [
            [
             0,
             "#0d0887"
            ],
            [
             0.1111111111111111,
             "#46039f"
            ],
            [
             0.2222222222222222,
             "#7201a8"
            ],
            [
             0.3333333333333333,
             "#9c179e"
            ],
            [
             0.4444444444444444,
             "#bd3786"
            ],
            [
             0.5555555555555556,
             "#d8576b"
            ],
            [
             0.6666666666666666,
             "#ed7953"
            ],
            [
             0.7777777777777778,
             "#fb9f3a"
            ],
            [
             0.8888888888888888,
             "#fdca26"
            ],
            [
             1,
             "#f0f921"
            ]
           ],
           "sequentialminus": [
            [
             0,
             "#0d0887"
            ],
            [
             0.1111111111111111,
             "#46039f"
            ],
            [
             0.2222222222222222,
             "#7201a8"
            ],
            [
             0.3333333333333333,
             "#9c179e"
            ],
            [
             0.4444444444444444,
             "#bd3786"
            ],
            [
             0.5555555555555556,
             "#d8576b"
            ],
            [
             0.6666666666666666,
             "#ed7953"
            ],
            [
             0.7777777777777778,
             "#fb9f3a"
            ],
            [
             0.8888888888888888,
             "#fdca26"
            ],
            [
             1,
             "#f0f921"
            ]
           ]
          },
          "colorway": [
           "#636efa",
           "#EF553B",
           "#00cc96",
           "#ab63fa",
           "#FFA15A",
           "#19d3f3",
           "#FF6692",
           "#B6E880",
           "#FF97FF",
           "#FECB52"
          ],
          "font": {
           "color": "#2a3f5f"
          },
          "geo": {
           "bgcolor": "white",
           "lakecolor": "white",
           "landcolor": "#E5ECF6",
           "showlakes": true,
           "showland": true,
           "subunitcolor": "white"
          },
          "hoverlabel": {
           "align": "left"
          },
          "hovermode": "closest",
          "mapbox": {
           "style": "light"
          },
          "paper_bgcolor": "white",
          "plot_bgcolor": "#E5ECF6",
          "polar": {
           "angularaxis": {
            "gridcolor": "white",
            "linecolor": "white",
            "ticks": ""
           },
           "bgcolor": "#E5ECF6",
           "radialaxis": {
            "gridcolor": "white",
            "linecolor": "white",
            "ticks": ""
           }
          },
          "scene": {
           "xaxis": {
            "backgroundcolor": "#E5ECF6",
            "gridcolor": "white",
            "gridwidth": 2,
            "linecolor": "white",
            "showbackground": true,
            "ticks": "",
            "zerolinecolor": "white"
           },
           "yaxis": {
            "backgroundcolor": "#E5ECF6",
            "gridcolor": "white",
            "gridwidth": 2,
            "linecolor": "white",
            "showbackground": true,
            "ticks": "",
            "zerolinecolor": "white"
           },
           "zaxis": {
            "backgroundcolor": "#E5ECF6",
            "gridcolor": "white",
            "gridwidth": 2,
            "linecolor": "white",
            "showbackground": true,
            "ticks": "",
            "zerolinecolor": "white"
           }
          },
          "shapedefaults": {
           "line": {
            "color": "#2a3f5f"
           }
          },
          "ternary": {
           "aaxis": {
            "gridcolor": "white",
            "linecolor": "white",
            "ticks": ""
           },
           "baxis": {
            "gridcolor": "white",
            "linecolor": "white",
            "ticks": ""
           },
           "bgcolor": "#E5ECF6",
           "caxis": {
            "gridcolor": "white",
            "linecolor": "white",
            "ticks": ""
           }
          },
          "title": {
           "x": 0.05
          },
          "xaxis": {
           "automargin": true,
           "gridcolor": "white",
           "linecolor": "white",
           "ticks": "",
           "title": {
            "standoff": 15
           },
           "zerolinecolor": "white",
           "zerolinewidth": 2
          },
          "yaxis": {
           "automargin": true,
           "gridcolor": "white",
           "linecolor": "white",
           "ticks": "",
           "title": {
            "standoff": 15
           },
           "zerolinecolor": "white",
           "zerolinewidth": 2
          }
         }
        }
       }
      },
      "text/html": [
       "<div>                            <div id=\"675a1c0a-f87a-49b1-adca-548e6a0d280f\" class=\"plotly-graph-div\" style=\"height:525px; width:100%;\"></div>            <script type=\"text/javascript\">                require([\"plotly\"], function(Plotly) {                    window.PLOTLYENV=window.PLOTLYENV || {};                                    if (document.getElementById(\"675a1c0a-f87a-49b1-adca-548e6a0d280f\")) {                    Plotly.newPlot(                        \"675a1c0a-f87a-49b1-adca-548e6a0d280f\",                        [{\"domain\":{\"x\":[0.0,1.0],\"y\":[0.0,1.0]},\"hovertemplate\":\"index=%{label}<br>country_main=%{value}<extra></extra>\",\"labels\":[\"United States\",\"India\",\"United Kingdom\",\"Canada\",\"Japan\",\"France\",\"South Korea\",\"Spain\",\"Mexico\",\"Australia\",\"Turkey\",\"Egypt\",\"Germany\",\"China\",\"Taiwan\",\"Brazil\"],\"legendgroup\":\"\",\"marker\":{\"line\":{\"color\":\"white\",\"width\":2}},\"name\":\"\",\"showlegend\":true,\"textinfo\":\"percent+label\",\"textposition\":\"inside\",\"type\":\"pie\",\"values\":[3390,956,577,259,237,196,194,168,123,108,106,105,92,86,82,79]}],                        {\"legend\":{\"tracegroupgap\":0},\"margin\":{\"t\":60},\"piecolorway\":[\"rgb(103,0,31)\",\"rgb(178,24,43)\",\"rgb(214,96,77)\",\"rgb(244,165,130)\",\"rgb(253,219,199)\",\"rgb(247,247,247)\",\"rgb(209,229,240)\",\"rgb(146,197,222)\",\"rgb(67,147,195)\",\"rgb(33,102,172)\",\"rgb(5,48,97)\"],\"template\":{\"data\":{\"bar\":[{\"error_x\":{\"color\":\"#2a3f5f\"},\"error_y\":{\"color\":\"#2a3f5f\"},\"marker\":{\"line\":{\"color\":\"#E5ECF6\",\"width\":0.5},\"pattern\":{\"fillmode\":\"overlay\",\"size\":10,\"solidity\":0.2}},\"type\":\"bar\"}],\"barpolar\":[{\"marker\":{\"line\":{\"color\":\"#E5ECF6\",\"width\":0.5},\"pattern\":{\"fillmode\":\"overlay\",\"size\":10,\"solidity\":0.2}},\"type\":\"barpolar\"}],\"carpet\":[{\"aaxis\":{\"endlinecolor\":\"#2a3f5f\",\"gridcolor\":\"white\",\"linecolor\":\"white\",\"minorgridcolor\":\"white\",\"startlinecolor\":\"#2a3f5f\"},\"baxis\":{\"endlinecolor\":\"#2a3f5f\",\"gridcolor\":\"white\",\"linecolor\":\"white\",\"minorgridcolor\":\"white\",\"startlinecolor\":\"#2a3f5f\"},\"type\":\"carpet\"}],\"choropleth\":[{\"colorbar\":{\"outlinewidth\":0,\"ticks\":\"\"},\"type\":\"choropleth\"}],\"contour\":[{\"colorbar\":{\"outlinewidth\":0,\"ticks\":\"\"},\"colorscale\":[[0.0,\"#0d0887\"],[0.1111111111111111,\"#46039f\"],[0.2222222222222222,\"#7201a8\"],[0.3333333333333333,\"#9c179e\"],[0.4444444444444444,\"#bd3786\"],[0.5555555555555556,\"#d8576b\"],[0.6666666666666666,\"#ed7953\"],[0.7777777777777778,\"#fb9f3a\"],[0.8888888888888888,\"#fdca26\"],[1.0,\"#f0f921\"]],\"type\":\"contour\"}],\"contourcarpet\":[{\"colorbar\":{\"outlinewidth\":0,\"ticks\":\"\"},\"type\":\"contourcarpet\"}],\"heatmap\":[{\"colorbar\":{\"outlinewidth\":0,\"ticks\":\"\"},\"colorscale\":[[0.0,\"#0d0887\"],[0.1111111111111111,\"#46039f\"],[0.2222222222222222,\"#7201a8\"],[0.3333333333333333,\"#9c179e\"],[0.4444444444444444,\"#bd3786\"],[0.5555555555555556,\"#d8576b\"],[0.6666666666666666,\"#ed7953\"],[0.7777777777777778,\"#fb9f3a\"],[0.8888888888888888,\"#fdca26\"],[1.0,\"#f0f921\"]],\"type\":\"heatmap\"}],\"heatmapgl\":[{\"colorbar\":{\"outlinewidth\":0,\"ticks\":\"\"},\"colorscale\":[[0.0,\"#0d0887\"],[0.1111111111111111,\"#46039f\"],[0.2222222222222222,\"#7201a8\"],[0.3333333333333333,\"#9c179e\"],[0.4444444444444444,\"#bd3786\"],[0.5555555555555556,\"#d8576b\"],[0.6666666666666666,\"#ed7953\"],[0.7777777777777778,\"#fb9f3a\"],[0.8888888888888888,\"#fdca26\"],[1.0,\"#f0f921\"]],\"type\":\"heatmapgl\"}],\"histogram\":[{\"marker\":{\"pattern\":{\"fillmode\":\"overlay\",\"size\":10,\"solidity\":0.2}},\"type\":\"histogram\"}],\"histogram2d\":[{\"colorbar\":{\"outlinewidth\":0,\"ticks\":\"\"},\"colorscale\":[[0.0,\"#0d0887\"],[0.1111111111111111,\"#46039f\"],[0.2222222222222222,\"#7201a8\"],[0.3333333333333333,\"#9c179e\"],[0.4444444444444444,\"#bd3786\"],[0.5555555555555556,\"#d8576b\"],[0.6666666666666666,\"#ed7953\"],[0.7777777777777778,\"#fb9f3a\"],[0.8888888888888888,\"#fdca26\"],[1.0,\"#f0f921\"]],\"type\":\"histogram2d\"}],\"histogram2dcontour\":[{\"colorbar\":{\"outlinewidth\":0,\"ticks\":\"\"},\"colorscale\":[[0.0,\"#0d0887\"],[0.1111111111111111,\"#46039f\"],[0.2222222222222222,\"#7201a8\"],[0.3333333333333333,\"#9c179e\"],[0.4444444444444444,\"#bd3786\"],[0.5555555555555556,\"#d8576b\"],[0.6666666666666666,\"#ed7953\"],[0.7777777777777778,\"#fb9f3a\"],[0.8888888888888888,\"#fdca26\"],[1.0,\"#f0f921\"]],\"type\":\"histogram2dcontour\"}],\"mesh3d\":[{\"colorbar\":{\"outlinewidth\":0,\"ticks\":\"\"},\"type\":\"mesh3d\"}],\"parcoords\":[{\"line\":{\"colorbar\":{\"outlinewidth\":0,\"ticks\":\"\"}},\"type\":\"parcoords\"}],\"pie\":[{\"automargin\":true,\"type\":\"pie\"}],\"scatter\":[{\"marker\":{\"colorbar\":{\"outlinewidth\":0,\"ticks\":\"\"}},\"type\":\"scatter\"}],\"scatter3d\":[{\"line\":{\"colorbar\":{\"outlinewidth\":0,\"ticks\":\"\"}},\"marker\":{\"colorbar\":{\"outlinewidth\":0,\"ticks\":\"\"}},\"type\":\"scatter3d\"}],\"scattercarpet\":[{\"marker\":{\"colorbar\":{\"outlinewidth\":0,\"ticks\":\"\"}},\"type\":\"scattercarpet\"}],\"scattergeo\":[{\"marker\":{\"colorbar\":{\"outlinewidth\":0,\"ticks\":\"\"}},\"type\":\"scattergeo\"}],\"scattergl\":[{\"marker\":{\"colorbar\":{\"outlinewidth\":0,\"ticks\":\"\"}},\"type\":\"scattergl\"}],\"scattermapbox\":[{\"marker\":{\"colorbar\":{\"outlinewidth\":0,\"ticks\":\"\"}},\"type\":\"scattermapbox\"}],\"scatterpolar\":[{\"marker\":{\"colorbar\":{\"outlinewidth\":0,\"ticks\":\"\"}},\"type\":\"scatterpolar\"}],\"scatterpolargl\":[{\"marker\":{\"colorbar\":{\"outlinewidth\":0,\"ticks\":\"\"}},\"type\":\"scatterpolargl\"}],\"scatterternary\":[{\"marker\":{\"colorbar\":{\"outlinewidth\":0,\"ticks\":\"\"}},\"type\":\"scatterternary\"}],\"surface\":[{\"colorbar\":{\"outlinewidth\":0,\"ticks\":\"\"},\"colorscale\":[[0.0,\"#0d0887\"],[0.1111111111111111,\"#46039f\"],[0.2222222222222222,\"#7201a8\"],[0.3333333333333333,\"#9c179e\"],[0.4444444444444444,\"#bd3786\"],[0.5555555555555556,\"#d8576b\"],[0.6666666666666666,\"#ed7953\"],[0.7777777777777778,\"#fb9f3a\"],[0.8888888888888888,\"#fdca26\"],[1.0,\"#f0f921\"]],\"type\":\"surface\"}],\"table\":[{\"cells\":{\"fill\":{\"color\":\"#EBF0F8\"},\"line\":{\"color\":\"white\"}},\"header\":{\"fill\":{\"color\":\"#C8D4E3\"},\"line\":{\"color\":\"white\"}},\"type\":\"table\"}]},\"layout\":{\"annotationdefaults\":{\"arrowcolor\":\"#2a3f5f\",\"arrowhead\":0,\"arrowwidth\":1},\"autotypenumbers\":\"strict\",\"coloraxis\":{\"colorbar\":{\"outlinewidth\":0,\"ticks\":\"\"}},\"colorscale\":{\"diverging\":[[0,\"#8e0152\"],[0.1,\"#c51b7d\"],[0.2,\"#de77ae\"],[0.3,\"#f1b6da\"],[0.4,\"#fde0ef\"],[0.5,\"#f7f7f7\"],[0.6,\"#e6f5d0\"],[0.7,\"#b8e186\"],[0.8,\"#7fbc41\"],[0.9,\"#4d9221\"],[1,\"#276419\"]],\"sequential\":[[0.0,\"#0d0887\"],[0.1111111111111111,\"#46039f\"],[0.2222222222222222,\"#7201a8\"],[0.3333333333333333,\"#9c179e\"],[0.4444444444444444,\"#bd3786\"],[0.5555555555555556,\"#d8576b\"],[0.6666666666666666,\"#ed7953\"],[0.7777777777777778,\"#fb9f3a\"],[0.8888888888888888,\"#fdca26\"],[1.0,\"#f0f921\"]],\"sequentialminus\":[[0.0,\"#0d0887\"],[0.1111111111111111,\"#46039f\"],[0.2222222222222222,\"#7201a8\"],[0.3333333333333333,\"#9c179e\"],[0.4444444444444444,\"#bd3786\"],[0.5555555555555556,\"#d8576b\"],[0.6666666666666666,\"#ed7953\"],[0.7777777777777778,\"#fb9f3a\"],[0.8888888888888888,\"#fdca26\"],[1.0,\"#f0f921\"]]},\"colorway\":[\"#636efa\",\"#EF553B\",\"#00cc96\",\"#ab63fa\",\"#FFA15A\",\"#19d3f3\",\"#FF6692\",\"#B6E880\",\"#FF97FF\",\"#FECB52\"],\"font\":{\"color\":\"#2a3f5f\"},\"geo\":{\"bgcolor\":\"white\",\"lakecolor\":\"white\",\"landcolor\":\"#E5ECF6\",\"showlakes\":true,\"showland\":true,\"subunitcolor\":\"white\"},\"hoverlabel\":{\"align\":\"left\"},\"hovermode\":\"closest\",\"mapbox\":{\"style\":\"light\"},\"paper_bgcolor\":\"white\",\"plot_bgcolor\":\"#E5ECF6\",\"polar\":{\"angularaxis\":{\"gridcolor\":\"white\",\"linecolor\":\"white\",\"ticks\":\"\"},\"bgcolor\":\"#E5ECF6\",\"radialaxis\":{\"gridcolor\":\"white\",\"linecolor\":\"white\",\"ticks\":\"\"}},\"scene\":{\"xaxis\":{\"backgroundcolor\":\"#E5ECF6\",\"gridcolor\":\"white\",\"gridwidth\":2,\"linecolor\":\"white\",\"showbackground\":true,\"ticks\":\"\",\"zerolinecolor\":\"white\"},\"yaxis\":{\"backgroundcolor\":\"#E5ECF6\",\"gridcolor\":\"white\",\"gridwidth\":2,\"linecolor\":\"white\",\"showbackground\":true,\"ticks\":\"\",\"zerolinecolor\":\"white\"},\"zaxis\":{\"backgroundcolor\":\"#E5ECF6\",\"gridcolor\":\"white\",\"gridwidth\":2,\"linecolor\":\"white\",\"showbackground\":true,\"ticks\":\"\",\"zerolinecolor\":\"white\"}},\"shapedefaults\":{\"line\":{\"color\":\"#2a3f5f\"}},\"ternary\":{\"aaxis\":{\"gridcolor\":\"white\",\"linecolor\":\"white\",\"ticks\":\"\"},\"baxis\":{\"gridcolor\":\"white\",\"linecolor\":\"white\",\"ticks\":\"\"},\"bgcolor\":\"#E5ECF6\",\"caxis\":{\"gridcolor\":\"white\",\"linecolor\":\"white\",\"ticks\":\"\"}},\"title\":{\"x\":0.05},\"xaxis\":{\"automargin\":true,\"gridcolor\":\"white\",\"linecolor\":\"white\",\"ticks\":\"\",\"title\":{\"standoff\":15},\"zerolinecolor\":\"white\",\"zerolinewidth\":2},\"yaxis\":{\"automargin\":true,\"gridcolor\":\"white\",\"linecolor\":\"white\",\"ticks\":\"\",\"title\":{\"standoff\":15},\"zerolinecolor\":\"white\",\"zerolinewidth\":2}}}},                        {\"responsive\": true}                    ).then(function(){\n",
       "                            \n",
       "var gd = document.getElementById('675a1c0a-f87a-49b1-adca-548e6a0d280f');\n",
       "var x = new MutationObserver(function (mutations, observer) {{\n",
       "        var display = window.getComputedStyle(gd).display;\n",
       "        if (!display || display === 'none') {{\n",
       "            console.log([gd, 'removed!']);\n",
       "            Plotly.purge(gd);\n",
       "            observer.disconnect();\n",
       "        }}\n",
       "}});\n",
       "\n",
       "// Listen for the removal of the full notebook cells\n",
       "var notebookContainer = gd.closest('#notebook-container');\n",
       "if (notebookContainer) {{\n",
       "    x.observe(notebookContainer, {childList: true});\n",
       "}}\n",
       "\n",
       "// Listen for the clearing of the current output cell\n",
       "var outputEl = gd.closest('.output');\n",
       "if (outputEl) {{\n",
       "    x.observe(outputEl, {childList: true});\n",
       "}}\n",
       "\n",
       "                        })                };                });            </script>        </div>"
      ]
     },
     "metadata": {},
     "output_type": "display_data"
    }
   ],
   "source": [
    "#Now let's do this with some other comparison like country\n",
    "country_data= data.country_main.value_counts().reset_index()\n",
    "\n",
    "country_data=country_data[country_data['country_main']/country_data['country_main'].sum()>0.01]\n",
    "fig = px.pie(country_data, values='country_main', names='index',color_discrete_sequence=px.colors.sequential.RdBu)\n",
    "fig.update_traces(textposition='inside', textinfo='percent+label',\n",
    "                  marker = dict(line = dict(color = 'white', width =2)))\n",
    "fig.show()\n"
   ]
  },
  {
   "cell_type": "code",
   "execution_count": 49,
   "metadata": {},
   "outputs": [
    {
     "data": {
      "image/png": "[encoded data removed]",
      "text/plain": [
       "<Figure size 504x720 with 1 Axes>"
      ]
     },
     "metadata": {},
     "output_type": "display_data"
    }
   ],
   "source": [
    "#Also we can use same thing using matplotlib library\n",
    "plt.figure(figsize=(7,10))\n",
    "plt.pie(country_data['country_main'],autopct='%1.00f%%',labels=country_data['index'])\n",
    "plt.legend(loc='upper right',frameon=False,shadow=True,fancybox=True)\n",
    "plt.show()"
   ]
  },
  {
   "cell_type": "code",
   "execution_count": 122,
   "metadata": {},
   "outputs": [
    {
     "data": {
      "text/html": [
       "<div>\n",
       "<style scoped>\n",
       "    .dataframe tbody tr th:only-of-type {\n",
       "        vertical-align: middle;\n",
       "    }\n",
       "\n",
       "    .dataframe tbody tr th {\n",
       "        vertical-align: top;\n",
       "    }\n",
       "\n",
       "    .dataframe thead th {\n",
       "        text-align: right;\n",
       "    }\n",
       "</style>\n",
       "<table border=\"1\" class=\"dataframe\">\n",
       "  <thead>\n",
       "    <tr style=\"text-align: right;\">\n",
       "      <th></th>\n",
       "      <th>index</th>\n",
       "      <th>add_year</th>\n",
       "    </tr>\n",
       "  </thead>\n",
       "  <tbody>\n",
       "    <tr>\n",
       "      <th>0</th>\n",
       "      <td>2019</td>\n",
       "      <td>1497</td>\n",
       "    </tr>\n",
       "    <tr>\n",
       "      <th>1</th>\n",
       "      <td>2020</td>\n",
       "      <td>1312</td>\n",
       "    </tr>\n",
       "    <tr>\n",
       "      <th>2</th>\n",
       "      <td>2018</td>\n",
       "      <td>1255</td>\n",
       "    </tr>\n",
       "    <tr>\n",
       "      <th>3</th>\n",
       "      <td>2017</td>\n",
       "      <td>864</td>\n",
       "    </tr>\n",
       "    <tr>\n",
       "      <th>4</th>\n",
       "      <td>2016</td>\n",
       "      <td>258</td>\n",
       "    </tr>\n",
       "    <tr>\n",
       "      <th>5</th>\n",
       "      <td>2021</td>\n",
       "      <td>88</td>\n",
       "    </tr>\n",
       "    <tr>\n",
       "      <th>6</th>\n",
       "      <td>2015</td>\n",
       "      <td>58</td>\n",
       "    </tr>\n",
       "    <tr>\n",
       "      <th>7</th>\n",
       "      <td>2014</td>\n",
       "      <td>19</td>\n",
       "    </tr>\n",
       "    <tr>\n",
       "      <th>8</th>\n",
       "      <td>2011</td>\n",
       "      <td>13</td>\n",
       "    </tr>\n",
       "    <tr>\n",
       "      <th>9</th>\n",
       "      <td>2013</td>\n",
       "      <td>6</td>\n",
       "    </tr>\n",
       "    <tr>\n",
       "      <th>10</th>\n",
       "      <td>2012</td>\n",
       "      <td>3</td>\n",
       "    </tr>\n",
       "    <tr>\n",
       "      <th>11</th>\n",
       "      <td>2009</td>\n",
       "      <td>2</td>\n",
       "    </tr>\n",
       "    <tr>\n",
       "      <th>12</th>\n",
       "      <td>2010</td>\n",
       "      <td>1</td>\n",
       "    </tr>\n",
       "    <tr>\n",
       "      <th>13</th>\n",
       "      <td>2008</td>\n",
       "      <td>1</td>\n",
       "    </tr>\n",
       "  </tbody>\n",
       "</table>\n",
       "</div>"
      ],
      "text/plain": [
       "    index  add_year\n",
       "0    2019      1497\n",
       "1    2020      1312\n",
       "2    2018      1255\n",
       "3    2017       864\n",
       "4    2016       258\n",
       "5    2021        88\n",
       "6    2015        58\n",
       "7    2014        19\n",
       "8    2011        13\n",
       "9    2013         6\n",
       "10   2012         3\n",
       "11   2009         2\n",
       "12   2010         1\n",
       "13   2008         1"
      ]
     },
     "execution_count": 122,
     "metadata": {},
     "output_type": "execute_result"
    }
   ],
   "source": [
    "movie_data=movie.add_year.value_counts().reset_index()\n",
    "movie_data"
   ]
  },
  {
   "cell_type": "markdown",
   "metadata": {},
   "source": [
    "<h2> Number of Movies-Based on year </h2>"
   ]
  },
  {
   "cell_type": "code",
   "execution_count": 119,
   "metadata": {},
   "outputs": [
    {
     "data": {
      "application/vnd.plotly.v1+json": {
       "config": {
        "plotlyServerURL": "https://plot.ly"
       },
       "data": [
        {
         "domain": {
          "x": [
           0,
           1
          ],
          "y": [
           0,
           1
          ]
         },
         "hovertemplate": "index=%{label}<br>add_year=%{value}<extra></extra>",
         "labels": [
          " 2019",
          " 2020",
          " 2018",
          " 2017",
          " 2016",
          " 2021",
          " 2015",
          " 2014",
          " 2011",
          " 2013",
          " 2012",
          " 2009",
          " 2010",
          " 2008"
         ],
         "legendgroup": "",
         "marker": {
          "line": {
           "color": "white",
           "width": 2
          }
         },
         "name": "",
         "showlegend": true,
         "textinfo": "percent+label",
         "textposition": "inside",
         "type": "pie",
         "values": [
          1497,
          1312,
          1255,
          864,
          258,
          88,
          58,
          19,
          13,
          6,
          3,
          2,
          1,
          1
         ]
        }
       ],
       "layout": {
        "legend": {
         "tracegroupgap": 0
        },
        "margin": {
         "t": 60
        },
        "piecolorway": [
         "rgb(103,0,31)",
         "rgb(178,24,43)",
         "rgb(214,96,77)",
         "rgb(244,165,130)",
         "rgb(253,219,199)",
         "rgb(247,247,247)",
         "rgb(209,229,240)",
         "rgb(146,197,222)",
         "rgb(67,147,195)",
         "rgb(33,102,172)",
         "rgb(5,48,97)"
        ],
        "template": {
         "data": {
          "bar": [
           {
            "error_x": {
             "color": "#2a3f5f"
            },
            "error_y": {
             "color": "#2a3f5f"
            },
            "marker": {
             "line": {
              "color": "#E5ECF6",
              "width": 0.5
             },
             "pattern": {
              "fillmode": "overlay",
              "size": 10,
              "solidity": 0.2
             }
            },
            "type": "bar"
           }
          ],
          "barpolar": [
           {
            "marker": {
             "line": {
              "color": "#E5ECF6",
              "width": 0.5
             },
             "pattern": {
              "fillmode": "overlay",
              "size": 10,
              "solidity": 0.2
             }
            },
            "type": "barpolar"
           }
          ],
          "carpet": [
           {
            "aaxis": {
             "endlinecolor": "#2a3f5f",
             "gridcolor": "white",
             "linecolor": "white",
             "minorgridcolor": "white",
             "startlinecolor": "#2a3f5f"
            },
            "baxis": {
             "endlinecolor": "#2a3f5f",
             "gridcolor": "white",
             "linecolor": "white",
             "minorgridcolor": "white",
             "startlinecolor": "#2a3f5f"
            },
            "type": "carpet"
           }
          ],
          "choropleth": [
           {
            "colorbar": {
             "outlinewidth": 0,
             "ticks": ""
            },
            "type": "choropleth"
           }
          ],
          "contour": [
           {
            "colorbar": {
             "outlinewidth": 0,
             "ticks": ""
            },
            "colorscale": [
             [
              0,
              "#0d0887"
             ],
             [
              0.1111111111111111,
              "#46039f"
             ],
             [
              0.2222222222222222,
              "#7201a8"
             ],
             [
              0.3333333333333333,
              "#9c179e"
             ],
             [
              0.4444444444444444,
              "#bd3786"
             ],
             [
              0.5555555555555556,
              "#d8576b"
             ],
             [
              0.6666666666666666,
              "#ed7953"
             ],
             [
              0.7777777777777778,
              "#fb9f3a"
             ],
             [
              0.8888888888888888,
              "#fdca26"
             ],
             [
              1,
              "#f0f921"
             ]
            ],
            "type": "contour"
           }
          ],
          "contourcarpet": [
           {
            "colorbar": {
             "outlinewidth": 0,
             "ticks": ""
            },
            "type": "contourcarpet"
           }
          ],
          "heatmap": [
           {
            "colorbar": {
             "outlinewidth": 0,
             "ticks": ""
            },
            "colorscale": [
             [
              0,
              "#0d0887"
             ],
             [
              0.1111111111111111,
              "#46039f"
             ],
             [
              0.2222222222222222,
              "#7201a8"
             ],
             [
              0.3333333333333333,
              "#9c179e"
             ],
             [
              0.4444444444444444,
              "#bd3786"
             ],
             [
              0.5555555555555556,
              "#d8576b"
             ],
             [
              0.6666666666666666,
              "#ed7953"
             ],
             [
              0.7777777777777778,
              "#fb9f3a"
             ],
             [
              0.8888888888888888,
              "#fdca26"
             ],
             [
              1,
              "#f0f921"
             ]
            ],
            "type": "heatmap"
           }
          ],
          "heatmapgl": [
           {
            "colorbar": {
             "outlinewidth": 0,
             "ticks": ""
            },
            "colorscale": [
             [
              0,
              "#0d0887"
             ],
             [
              0.1111111111111111,
              "#46039f"
             ],
             [
              0.2222222222222222,
              "#7201a8"
             ],
             [
              0.3333333333333333,
              "#9c179e"
             ],
             [
              0.4444444444444444,
              "#bd3786"
             ],
             [
              0.5555555555555556,
              "#d8576b"
             ],
             [
              0.6666666666666666,
              "#ed7953"
             ],
             [
              0.7777777777777778,
              "#fb9f3a"
             ],
             [
              0.8888888888888888,
              "#fdca26"
             ],
             [
              1,
              "#f0f921"
             ]
            ],
            "type": "heatmapgl"
           }
          ],
          "histogram": [
           {
            "marker": {
             "pattern": {
              "fillmode": "overlay",
              "size": 10,
              "solidity": 0.2
             }
            },
            "type": "histogram"
           }
          ],
          "histogram2d": [
           {
            "colorbar": {
             "outlinewidth": 0,
             "ticks": ""
            },
            "colorscale": [
             [
              0,
              "#0d0887"
             ],
             [
              0.1111111111111111,
              "#46039f"
             ],
             [
              0.2222222222222222,
              "#7201a8"
             ],
             [
              0.3333333333333333,
              "#9c179e"
             ],
             [
              0.4444444444444444,
              "#bd3786"
             ],
             [
              0.5555555555555556,
              "#d8576b"
             ],
             [
              0.6666666666666666,
              "#ed7953"
             ],
             [
              0.7777777777777778,
              "#fb9f3a"
             ],
             [
              0.8888888888888888,
              "#fdca26"
             ],
             [
              1,
              "#f0f921"
             ]
            ],
            "type": "histogram2d"
           }
          ],
          "histogram2dcontour": [
           {
            "colorbar": {
             "outlinewidth": 0,
             "ticks": ""
            },
            "colorscale": [
             [
              0,
              "#0d0887"
             ],
             [
              0.1111111111111111,
              "#46039f"
             ],
             [
              0.2222222222222222,
              "#7201a8"
             ],
             [
              0.3333333333333333,
              "#9c179e"
             ],
             [
              0.4444444444444444,
              "#bd3786"
             ],
             [
              0.5555555555555556,
              "#d8576b"
             ],
             [
              0.6666666666666666,
              "#ed7953"
             ],
             [
              0.7777777777777778,
              "#fb9f3a"
             ],
             [
              0.8888888888888888,
              "#fdca26"
             ],
             [
              1,
              "#f0f921"
             ]
            ],
            "type": "histogram2dcontour"
           }
          ],
          "mesh3d": [
           {
            "colorbar": {
             "outlinewidth": 0,
             "ticks": ""
            },
            "type": "mesh3d"
           }
          ],
          "parcoords": [
           {
            "line": {
             "colorbar": {
              "outlinewidth": 0,
              "ticks": ""
             }
            },
            "type": "parcoords"
           }
          ],
          "pie": [
           {
            "automargin": true,
            "type": "pie"
           }
          ],
          "scatter": [
           {
            "marker": {
             "colorbar": {
              "outlinewidth": 0,
              "ticks": ""
             }
            },
            "type": "scatter"
           }
          ],
          "scatter3d": [
           {
            "line": {
             "colorbar": {
              "outlinewidth": 0,
              "ticks": ""
             }
            },
            "marker": {
             "colorbar": {
              "outlinewidth": 0,
              "ticks": ""
             }
            },
            "type": "scatter3d"
           }
          ],
          "scattercarpet": [
           {
            "marker": {
             "colorbar": {
              "outlinewidth": 0,
              "ticks": ""
             }
            },
            "type": "scattercarpet"
           }
          ],
          "scattergeo": [
           {
            "marker": {
             "colorbar": {
              "outlinewidth": 0,
              "ticks": ""
             }
            },
            "type": "scattergeo"
           }
          ],
          "scattergl": [
           {
            "marker": {
             "colorbar": {
              "outlinewidth": 0,
              "ticks": ""
             }
            },
            "type": "scattergl"
           }
          ],
          "scattermapbox": [
           {
            "marker": {
             "colorbar": {
              "outlinewidth": 0,
              "ticks": ""
             }
            },
            "type": "scattermapbox"
           }
          ],
          "scatterpolar": [
           {
            "marker": {
             "colorbar": {
              "outlinewidth": 0,
              "ticks": ""
             }
            },
            "type": "scatterpolar"
           }
          ],
          "scatterpolargl": [
           {
            "marker": {
             "colorbar": {
              "outlinewidth": 0,
              "ticks": ""
             }
            },
            "type": "scatterpolargl"
           }
          ],
          "scatterternary": [
           {
            "marker": {
             "colorbar": {
              "outlinewidth": 0,
              "ticks": ""
             }
            },
            "type": "scatterternary"
           }
          ],
          "surface": [
           {
            "colorbar": {
             "outlinewidth": 0,
             "ticks": ""
            },
            "colorscale": [
             [
              0,
              "#0d0887"
             ],
             [
              0.1111111111111111,
              "#46039f"
             ],
             [
              0.2222222222222222,
              "#7201a8"
             ],
             [
              0.3333333333333333,
              "#9c179e"
             ],
             [
              0.4444444444444444,
              "#bd3786"
             ],
             [
              0.5555555555555556,
              "#d8576b"
             ],
             [
              0.6666666666666666,
              "#ed7953"
             ],
             [
              0.7777777777777778,
              "#fb9f3a"
             ],
             [
              0.8888888888888888,
              "#fdca26"
             ],
             [
              1,
              "#f0f921"
             ]
            ],
            "type": "surface"
           }
          ],
          "table": [
           {
            "cells": {
             "fill": {
              "color": "#EBF0F8"
             },
             "line": {
              "color": "white"
             }
            },
            "header": {
             "fill": {
              "color": "#C8D4E3"
             },
             "line": {
              "color": "white"
             }
            },
            "type": "table"
           }
          ]
         },
         "layout": {
          "annotationdefaults": {
           "arrowcolor": "#2a3f5f",
           "arrowhead": 0,
           "arrowwidth": 1
          },
          "autotypenumbers": "strict",
          "coloraxis": {
           "colorbar": {
            "outlinewidth": 0,
            "ticks": ""
           }
          },
          "colorscale": {
           "diverging": [
            [
             0,
             "#8e0152"
            ],
            [
             0.1,
             "#c51b7d"
            ],
            [
             0.2,
             "#de77ae"
            ],
            [
             0.3,
             "#f1b6da"
            ],
            [
             0.4,
             "#fde0ef"
            ],
            [
             0.5,
             "#f7f7f7"
            ],
            [
             0.6,
             "#e6f5d0"
            ],
            [
             0.7,
             "#b8e186"
            ],
            [
             0.8,
             "#7fbc41"
            ],
            [
             0.9,
             "#4d9221"
            ],
            [
             1,
             "#276419"
            ]
           ],
           "sequential": [
            [
             0,
             "#0d0887"
            ],
            [
             0.1111111111111111,
             "#46039f"
            ],
            [
             0.2222222222222222,
             "#7201a8"
            ],
            [
             0.3333333333333333,
             "#9c179e"
            ],
            [
             0.4444444444444444,
             "#bd3786"
            ],
            [
             0.5555555555555556,
             "#d8576b"
            ],
            [
             0.6666666666666666,
             "#ed7953"
            ],
            [
             0.7777777777777778,
             "#fb9f3a"
            ],
            [
             0.8888888888888888,
             "#fdca26"
            ],
            [
             1,
             "#f0f921"
            ]
           ],
           "sequentialminus": [
            [
             0,
             "#0d0887"
            ],
            [
             0.1111111111111111,
             "#46039f"
            ],
            [
             0.2222222222222222,
             "#7201a8"
            ],
            [
             0.3333333333333333,
             "#9c179e"
            ],
            [
             0.4444444444444444,
             "#bd3786"
            ],
            [
             0.5555555555555556,
             "#d8576b"
            ],
            [
             0.6666666666666666,
             "#ed7953"
            ],
            [
             0.7777777777777778,
             "#fb9f3a"
            ],
            [
             0.8888888888888888,
             "#fdca26"
            ],
            [
             1,
             "#f0f921"
            ]
           ]
          },
          "colorway": [
           "#636efa",
           "#EF553B",
           "#00cc96",
           "#ab63fa",
           "#FFA15A",
           "#19d3f3",
           "#FF6692",
           "#B6E880",
           "#FF97FF",
           "#FECB52"
          ],
          "font": {
           "color": "#2a3f5f"
          },
          "geo": {
           "bgcolor": "white",
           "lakecolor": "white",
           "landcolor": "#E5ECF6",
           "showlakes": true,
           "showland": true,
           "subunitcolor": "white"
          },
          "hoverlabel": {
           "align": "left"
          },
          "hovermode": "closest",
          "mapbox": {
           "style": "light"
          },
          "paper_bgcolor": "white",
          "plot_bgcolor": "#E5ECF6",
          "polar": {
           "angularaxis": {
            "gridcolor": "white",
            "linecolor": "white",
            "ticks": ""
           },
           "bgcolor": "#E5ECF6",
           "radialaxis": {
            "gridcolor": "white",
            "linecolor": "white",
            "ticks": ""
           }
          },
          "scene": {
           "xaxis": {
            "backgroundcolor": "#E5ECF6",
            "gridcolor": "white",
            "gridwidth": 2,
            "linecolor": "white",
            "showbackground": true,
            "ticks": "",
            "zerolinecolor": "white"
           },
           "yaxis": {
            "backgroundcolor": "#E5ECF6",
            "gridcolor": "white",
            "gridwidth": 2,
            "linecolor": "white",
            "showbackground": true,
            "ticks": "",
            "zerolinecolor": "white"
           },
           "zaxis": {
            "backgroundcolor": "#E5ECF6",
            "gridcolor": "white",
            "gridwidth": 2,
            "linecolor": "white",
            "showbackground": true,
            "ticks": "",
            "zerolinecolor": "white"
           }
          },
          "shapedefaults": {
           "line": {
            "color": "#2a3f5f"
           }
          },
          "ternary": {
           "aaxis": {
            "gridcolor": "white",
            "linecolor": "white",
            "ticks": ""
           },
           "baxis": {
            "gridcolor": "white",
            "linecolor": "white",
            "ticks": ""
           },
           "bgcolor": "#E5ECF6",
           "caxis": {
            "gridcolor": "white",
            "linecolor": "white",
            "ticks": ""
           }
          },
          "title": {
           "x": 0.05
          },
          "xaxis": {
           "automargin": true,
           "gridcolor": "white",
           "linecolor": "white",
           "ticks": "",
           "title": {
            "standoff": 15
           },
           "zerolinecolor": "white",
           "zerolinewidth": 2
          },
          "yaxis": {
           "automargin": true,
           "gridcolor": "white",
           "linecolor": "white",
           "ticks": "",
           "title": {
            "standoff": 15
           },
           "zerolinecolor": "white",
           "zerolinewidth": 2
          }
         }
        }
       }
      },
      "text/html": [
       "<div>                            <div id=\"ff253ef7-dabc-4f57-ad76-7d2217d4c835\" class=\"plotly-graph-div\" style=\"height:525px; width:100%;\"></div>            <script type=\"text/javascript\">                require([\"plotly\"], function(Plotly) {                    window.PLOTLYENV=window.PLOTLYENV || {};                                    if (document.getElementById(\"ff253ef7-dabc-4f57-ad76-7d2217d4c835\")) {                    Plotly.newPlot(                        \"ff253ef7-dabc-4f57-ad76-7d2217d4c835\",                        [{\"domain\":{\"x\":[0.0,1.0],\"y\":[0.0,1.0]},\"hovertemplate\":\"index=%{label}<br>add_year=%{value}<extra></extra>\",\"labels\":[\" 2019\",\" 2020\",\" 2018\",\" 2017\",\" 2016\",\" 2021\",\" 2015\",\" 2014\",\" 2011\",\" 2013\",\" 2012\",\" 2009\",\" 2010\",\" 2008\"],\"legendgroup\":\"\",\"marker\":{\"line\":{\"color\":\"white\",\"width\":2}},\"name\":\"\",\"showlegend\":true,\"textinfo\":\"percent+label\",\"textposition\":\"inside\",\"type\":\"pie\",\"values\":[1497,1312,1255,864,258,88,58,19,13,6,3,2,1,1]}],                        {\"legend\":{\"tracegroupgap\":0},\"margin\":{\"t\":60},\"piecolorway\":[\"rgb(103,0,31)\",\"rgb(178,24,43)\",\"rgb(214,96,77)\",\"rgb(244,165,130)\",\"rgb(253,219,199)\",\"rgb(247,247,247)\",\"rgb(209,229,240)\",\"rgb(146,197,222)\",\"rgb(67,147,195)\",\"rgb(33,102,172)\",\"rgb(5,48,97)\"],\"template\":{\"data\":{\"bar\":[{\"error_x\":{\"color\":\"#2a3f5f\"},\"error_y\":{\"color\":\"#2a3f5f\"},\"marker\":{\"line\":{\"color\":\"#E5ECF6\",\"width\":0.5},\"pattern\":{\"fillmode\":\"overlay\",\"size\":10,\"solidity\":0.2}},\"type\":\"bar\"}],\"barpolar\":[{\"marker\":{\"line\":{\"color\":\"#E5ECF6\",\"width\":0.5},\"pattern\":{\"fillmode\":\"overlay\",\"size\":10,\"solidity\":0.2}},\"type\":\"barpolar\"}],\"carpet\":[{\"aaxis\":{\"endlinecolor\":\"#2a3f5f\",\"gridcolor\":\"white\",\"linecolor\":\"white\",\"minorgridcolor\":\"white\",\"startlinecolor\":\"#2a3f5f\"},\"baxis\":{\"endlinecolor\":\"#2a3f5f\",\"gridcolor\":\"white\",\"linecolor\":\"white\",\"minorgridcolor\":\"white\",\"startlinecolor\":\"#2a3f5f\"},\"type\":\"carpet\"}],\"choropleth\":[{\"colorbar\":{\"outlinewidth\":0,\"ticks\":\"\"},\"type\":\"choropleth\"}],\"contour\":[{\"colorbar\":{\"outlinewidth\":0,\"ticks\":\"\"},\"colorscale\":[[0.0,\"#0d0887\"],[0.1111111111111111,\"#46039f\"],[0.2222222222222222,\"#7201a8\"],[0.3333333333333333,\"#9c179e\"],[0.4444444444444444,\"#bd3786\"],[0.5555555555555556,\"#d8576b\"],[0.6666666666666666,\"#ed7953\"],[0.7777777777777778,\"#fb9f3a\"],[0.8888888888888888,\"#fdca26\"],[1.0,\"#f0f921\"]],\"type\":\"contour\"}],\"contourcarpet\":[{\"colorbar\":{\"outlinewidth\":0,\"ticks\":\"\"},\"type\":\"contourcarpet\"}],\"heatmap\":[{\"colorbar\":{\"outlinewidth\":0,\"ticks\":\"\"},\"colorscale\":[[0.0,\"#0d0887\"],[0.1111111111111111,\"#46039f\"],[0.2222222222222222,\"#7201a8\"],[0.3333333333333333,\"#9c179e\"],[0.4444444444444444,\"#bd3786\"],[0.5555555555555556,\"#d8576b\"],[0.6666666666666666,\"#ed7953\"],[0.7777777777777778,\"#fb9f3a\"],[0.8888888888888888,\"#fdca26\"],[1.0,\"#f0f921\"]],\"type\":\"heatmap\"}],\"heatmapgl\":[{\"colorbar\":{\"outlinewidth\":0,\"ticks\":\"\"},\"colorscale\":[[0.0,\"#0d0887\"],[0.1111111111111111,\"#46039f\"],[0.2222222222222222,\"#7201a8\"],[0.3333333333333333,\"#9c179e\"],[0.4444444444444444,\"#bd3786\"],[0.5555555555555556,\"#d8576b\"],[0.6666666666666666,\"#ed7953\"],[0.7777777777777778,\"#fb9f3a\"],[0.8888888888888888,\"#fdca26\"],[1.0,\"#f0f921\"]],\"type\":\"heatmapgl\"}],\"histogram\":[{\"marker\":{\"pattern\":{\"fillmode\":\"overlay\",\"size\":10,\"solidity\":0.2}},\"type\":\"histogram\"}],\"histogram2d\":[{\"colorbar\":{\"outlinewidth\":0,\"ticks\":\"\"},\"colorscale\":[[0.0,\"#0d0887\"],[0.1111111111111111,\"#46039f\"],[0.2222222222222222,\"#7201a8\"],[0.3333333333333333,\"#9c179e\"],[0.4444444444444444,\"#bd3786\"],[0.5555555555555556,\"#d8576b\"],[0.6666666666666666,\"#ed7953\"],[0.7777777777777778,\"#fb9f3a\"],[0.8888888888888888,\"#fdca26\"],[1.0,\"#f0f921\"]],\"type\":\"histogram2d\"}],\"histogram2dcontour\":[{\"colorbar\":{\"outlinewidth\":0,\"ticks\":\"\"},\"colorscale\":[[0.0,\"#0d0887\"],[0.1111111111111111,\"#46039f\"],[0.2222222222222222,\"#7201a8\"],[0.3333333333333333,\"#9c179e\"],[0.4444444444444444,\"#bd3786\"],[0.5555555555555556,\"#d8576b\"],[0.6666666666666666,\"#ed7953\"],[0.7777777777777778,\"#fb9f3a\"],[0.8888888888888888,\"#fdca26\"],[1.0,\"#f0f921\"]],\"type\":\"histogram2dcontour\"}],\"mesh3d\":[{\"colorbar\":{\"outlinewidth\":0,\"ticks\":\"\"},\"type\":\"mesh3d\"}],\"parcoords\":[{\"line\":{\"colorbar\":{\"outlinewidth\":0,\"ticks\":\"\"}},\"type\":\"parcoords\"}],\"pie\":[{\"automargin\":true,\"type\":\"pie\"}],\"scatter\":[{\"marker\":{\"colorbar\":{\"outlinewidth\":0,\"ticks\":\"\"}},\"type\":\"scatter\"}],\"scatter3d\":[{\"line\":{\"colorbar\":{\"outlinewidth\":0,\"ticks\":\"\"}},\"marker\":{\"colorbar\":{\"outlinewidth\":0,\"ticks\":\"\"}},\"type\":\"scatter3d\"}],\"scattercarpet\":[{\"marker\":{\"colorbar\":{\"outlinewidth\":0,\"ticks\":\"\"}},\"type\":\"scattercarpet\"}],\"scattergeo\":[{\"marker\":{\"colorbar\":{\"outlinewidth\":0,\"ticks\":\"\"}},\"type\":\"scattergeo\"}],\"scattergl\":[{\"marker\":{\"colorbar\":{\"outlinewidth\":0,\"ticks\":\"\"}},\"type\":\"scattergl\"}],\"scattermapbox\":[{\"marker\":{\"colorbar\":{\"outlinewidth\":0,\"ticks\":\"\"}},\"type\":\"scattermapbox\"}],\"scatterpolar\":[{\"marker\":{\"colorbar\":{\"outlinewidth\":0,\"ticks\":\"\"}},\"type\":\"scatterpolar\"}],\"scatterpolargl\":[{\"marker\":{\"colorbar\":{\"outlinewidth\":0,\"ticks\":\"\"}},\"type\":\"scatterpolargl\"}],\"scatterternary\":[{\"marker\":{\"colorbar\":{\"outlinewidth\":0,\"ticks\":\"\"}},\"type\":\"scatterternary\"}],\"surface\":[{\"colorbar\":{\"outlinewidth\":0,\"ticks\":\"\"},\"colorscale\":[[0.0,\"#0d0887\"],[0.1111111111111111,\"#46039f\"],[0.2222222222222222,\"#7201a8\"],[0.3333333333333333,\"#9c179e\"],[0.4444444444444444,\"#bd3786\"],[0.5555555555555556,\"#d8576b\"],[0.6666666666666666,\"#ed7953\"],[0.7777777777777778,\"#fb9f3a\"],[0.8888888888888888,\"#fdca26\"],[1.0,\"#f0f921\"]],\"type\":\"surface\"}],\"table\":[{\"cells\":{\"fill\":{\"color\":\"#EBF0F8\"},\"line\":{\"color\":\"white\"}},\"header\":{\"fill\":{\"color\":\"#C8D4E3\"},\"line\":{\"color\":\"white\"}},\"type\":\"table\"}]},\"layout\":{\"annotationdefaults\":{\"arrowcolor\":\"#2a3f5f\",\"arrowhead\":0,\"arrowwidth\":1},\"autotypenumbers\":\"strict\",\"coloraxis\":{\"colorbar\":{\"outlinewidth\":0,\"ticks\":\"\"}},\"colorscale\":{\"diverging\":[[0,\"#8e0152\"],[0.1,\"#c51b7d\"],[0.2,\"#de77ae\"],[0.3,\"#f1b6da\"],[0.4,\"#fde0ef\"],[0.5,\"#f7f7f7\"],[0.6,\"#e6f5d0\"],[0.7,\"#b8e186\"],[0.8,\"#7fbc41\"],[0.9,\"#4d9221\"],[1,\"#276419\"]],\"sequential\":[[0.0,\"#0d0887\"],[0.1111111111111111,\"#46039f\"],[0.2222222222222222,\"#7201a8\"],[0.3333333333333333,\"#9c179e\"],[0.4444444444444444,\"#bd3786\"],[0.5555555555555556,\"#d8576b\"],[0.6666666666666666,\"#ed7953\"],[0.7777777777777778,\"#fb9f3a\"],[0.8888888888888888,\"#fdca26\"],[1.0,\"#f0f921\"]],\"sequentialminus\":[[0.0,\"#0d0887\"],[0.1111111111111111,\"#46039f\"],[0.2222222222222222,\"#7201a8\"],[0.3333333333333333,\"#9c179e\"],[0.4444444444444444,\"#bd3786\"],[0.5555555555555556,\"#d8576b\"],[0.6666666666666666,\"#ed7953\"],[0.7777777777777778,\"#fb9f3a\"],[0.8888888888888888,\"#fdca26\"],[1.0,\"#f0f921\"]]},\"colorway\":[\"#636efa\",\"#EF553B\",\"#00cc96\",\"#ab63fa\",\"#FFA15A\",\"#19d3f3\",\"#FF6692\",\"#B6E880\",\"#FF97FF\",\"#FECB52\"],\"font\":{\"color\":\"#2a3f5f\"},\"geo\":{\"bgcolor\":\"white\",\"lakecolor\":\"white\",\"landcolor\":\"#E5ECF6\",\"showlakes\":true,\"showland\":true,\"subunitcolor\":\"white\"},\"hoverlabel\":{\"align\":\"left\"},\"hovermode\":\"closest\",\"mapbox\":{\"style\":\"light\"},\"paper_bgcolor\":\"white\",\"plot_bgcolor\":\"#E5ECF6\",\"polar\":{\"angularaxis\":{\"gridcolor\":\"white\",\"linecolor\":\"white\",\"ticks\":\"\"},\"bgcolor\":\"#E5ECF6\",\"radialaxis\":{\"gridcolor\":\"white\",\"linecolor\":\"white\",\"ticks\":\"\"}},\"scene\":{\"xaxis\":{\"backgroundcolor\":\"#E5ECF6\",\"gridcolor\":\"white\",\"gridwidth\":2,\"linecolor\":\"white\",\"showbackground\":true,\"ticks\":\"\",\"zerolinecolor\":\"white\"},\"yaxis\":{\"backgroundcolor\":\"#E5ECF6\",\"gridcolor\":\"white\",\"gridwidth\":2,\"linecolor\":\"white\",\"showbackground\":true,\"ticks\":\"\",\"zerolinecolor\":\"white\"},\"zaxis\":{\"backgroundcolor\":\"#E5ECF6\",\"gridcolor\":\"white\",\"gridwidth\":2,\"linecolor\":\"white\",\"showbackground\":true,\"ticks\":\"\",\"zerolinecolor\":\"white\"}},\"shapedefaults\":{\"line\":{\"color\":\"#2a3f5f\"}},\"ternary\":{\"aaxis\":{\"gridcolor\":\"white\",\"linecolor\":\"white\",\"ticks\":\"\"},\"baxis\":{\"gridcolor\":\"white\",\"linecolor\":\"white\",\"ticks\":\"\"},\"bgcolor\":\"#E5ECF6\",\"caxis\":{\"gridcolor\":\"white\",\"linecolor\":\"white\",\"ticks\":\"\"}},\"title\":{\"x\":0.05},\"xaxis\":{\"automargin\":true,\"gridcolor\":\"white\",\"linecolor\":\"white\",\"ticks\":\"\",\"title\":{\"standoff\":15},\"zerolinecolor\":\"white\",\"zerolinewidth\":2},\"yaxis\":{\"automargin\":true,\"gridcolor\":\"white\",\"linecolor\":\"white\",\"ticks\":\"\",\"title\":{\"standoff\":15},\"zerolinecolor\":\"white\",\"zerolinewidth\":2}}}},                        {\"responsive\": true}                    ).then(function(){\n",
       "                            \n",
       "var gd = document.getElementById('ff253ef7-dabc-4f57-ad76-7d2217d4c835');\n",
       "var x = new MutationObserver(function (mutations, observer) {{\n",
       "        var display = window.getComputedStyle(gd).display;\n",
       "        if (!display || display === 'none') {{\n",
       "            console.log([gd, 'removed!']);\n",
       "            Plotly.purge(gd);\n",
       "            observer.disconnect();\n",
       "        }}\n",
       "}});\n",
       "\n",
       "// Listen for the removal of the full notebook cells\n",
       "var notebookContainer = gd.closest('#notebook-container');\n",
       "if (notebookContainer) {{\n",
       "    x.observe(notebookContainer, {childList: true});\n",
       "}}\n",
       "\n",
       "// Listen for the clearing of the current output cell\n",
       "var outputEl = gd.closest('.output');\n",
       "if (outputEl) {{\n",
       "    x.observe(outputEl, {childList: true});\n",
       "}}\n",
       "\n",
       "                        })                };                });            </script>        </div>"
      ]
     },
     "metadata": {},
     "output_type": "display_data"
    }
   ],
   "source": [
    "#Now let's do this with some other comparison like country\n",
    "#using px library\n",
    "fig = px.pie(movie_data, values='add_year', names='index',color_discrete_sequence=px.colors.sequential.RdBu)\n",
    "fig.update_traces(textposition='inside', textinfo='percent+label',\n",
    "                  marker = dict(line = dict(color = 'white', width =2)))\n",
    "fig.show()\n"
   ]
  },
  {
   "cell_type": "code",
   "execution_count": 123,
   "metadata": {},
   "outputs": [
    {
     "data": {
      "image/png": "[encoded data removed]",
      "text/plain": [
       "<Figure size 504x720 with 1 Axes>"
      ]
     },
     "metadata": {},
     "output_type": "display_data"
    }
   ],
   "source": [
    "#using matplotlib library\n",
    "movie_data=movie.add_year.value_counts().reset_index()\n",
    "movie_data\n",
    "plt.figure(figsize=(7,10))\n",
    "plt.title('by year in movies data')\n",
    "plt.pie(movie_data.add_year,labels=movie_data['index'],autopct='%1.1f%%',)\n",
    "plt.show()"
   ]
  },
  {
   "cell_type": "markdown",
   "metadata": {},
   "source": [
    "<h2> Number of Tv-show- Based on year </h2>"
   ]
  },
  {
   "cell_type": "code",
   "execution_count": 121,
   "metadata": {},
   "outputs": [
    {
     "data": {
      "application/vnd.plotly.v1+json": {
       "config": {
        "plotlyServerURL": "https://plot.ly"
       },
       "data": [
        {
         "domain": {
          "x": [
           0,
           1
          ],
          "y": [
           0,
           1
          ]
         },
         "hovertemplate": "index=%{label}<br>add_year=%{value}<extra></extra>",
         "labels": [
          " 2020",
          " 2019",
          " 2018",
          " 2017",
          " 2016",
          " 2015",
          " 2021",
          " 2014",
          " 2013",
          " 2008"
         ],
         "legendgroup": "",
         "marker": {
          "line": {
           "color": "white",
           "width": 2
          }
         },
         "name": "",
         "showlegend": true,
         "textinfo": "percent+label",
         "textposition": "inside",
         "type": "pie",
         "values": [
          707,
          656,
          430,
          361,
          185,
          30,
          29,
          6,
          5,
          1
         ]
        }
       ],
       "layout": {
        "legend": {
         "tracegroupgap": 0
        },
        "margin": {
         "t": 60
        },
        "piecolorway": [
         "rgb(103,0,31)",
         "rgb(178,24,43)",
         "rgb(214,96,77)",
         "rgb(244,165,130)",
         "rgb(253,219,199)",
         "rgb(247,247,247)",
         "rgb(209,229,240)",
         "rgb(146,197,222)",
         "rgb(67,147,195)",
         "rgb(33,102,172)",
         "rgb(5,48,97)"
        ],
        "template": {
         "data": {
          "bar": [
           {
            "error_x": {
             "color": "#2a3f5f"
            },
            "error_y": {
             "color": "#2a3f5f"
            },
            "marker": {
             "line": {
              "color": "#E5ECF6",
              "width": 0.5
             },
             "pattern": {
              "fillmode": "overlay",
              "size": 10,
              "solidity": 0.2
             }
            },
            "type": "bar"
           }
          ],
          "barpolar": [
           {
            "marker": {
             "line": {
              "color": "#E5ECF6",
              "width": 0.5
             },
             "pattern": {
              "fillmode": "overlay",
              "size": 10,
              "solidity": 0.2
             }
            },
            "type": "barpolar"
           }
          ],
          "carpet": [
           {
            "aaxis": {
             "endlinecolor": "#2a3f5f",
             "gridcolor": "white",
             "linecolor": "white",
             "minorgridcolor": "white",
             "startlinecolor": "#2a3f5f"
            },
            "baxis": {
             "endlinecolor": "#2a3f5f",
             "gridcolor": "white",
             "linecolor": "white",
             "minorgridcolor": "white",
             "startlinecolor": "#2a3f5f"
            },
            "type": "carpet"
           }
          ],
          "choropleth": [
           {
            "colorbar": {
             "outlinewidth": 0,
             "ticks": ""
            },
            "type": "choropleth"
           }
          ],
          "contour": [
           {
            "colorbar": {
             "outlinewidth": 0,
             "ticks": ""
            },
            "colorscale": [
             [
              0,
              "#0d0887"
             ],
             [
              0.1111111111111111,
              "#46039f"
             ],
             [
              0.2222222222222222,
              "#7201a8"
             ],
             [
              0.3333333333333333,
              "#9c179e"
             ],
             [
              0.4444444444444444,
              "#bd3786"
             ],
             [
              0.5555555555555556,
              "#d8576b"
             ],
             [
              0.6666666666666666,
              "#ed7953"
             ],
             [
              0.7777777777777778,
              "#fb9f3a"
             ],
             [
              0.8888888888888888,
              "#fdca26"
             ],
             [
              1,
              "#f0f921"
             ]
            ],
            "type": "contour"
           }
          ],
          "contourcarpet": [
           {
            "colorbar": {
             "outlinewidth": 0,
             "ticks": ""
            },
            "type": "contourcarpet"
           }
          ],
          "heatmap": [
           {
            "colorbar": {
             "outlinewidth": 0,
             "ticks": ""
            },
            "colorscale": [
             [
              0,
              "#0d0887"
             ],
             [
              0.1111111111111111,
              "#46039f"
             ],
             [
              0.2222222222222222,
              "#7201a8"
             ],
             [
              0.3333333333333333,
              "#9c179e"
             ],
             [
              0.4444444444444444,
              "#bd3786"
             ],
             [
              0.5555555555555556,
              "#d8576b"
             ],
             [
              0.6666666666666666,
              "#ed7953"
             ],
             [
              0.7777777777777778,
              "#fb9f3a"
             ],
             [
              0.8888888888888888,
              "#fdca26"
             ],
             [
              1,
              "#f0f921"
             ]
            ],
            "type": "heatmap"
           }
          ],
          "heatmapgl": [
           {
            "colorbar": {
             "outlinewidth": 0,
             "ticks": ""
            },
            "colorscale": [
             [
              0,
              "#0d0887"
             ],
             [
              0.1111111111111111,
              "#46039f"
             ],
             [
              0.2222222222222222,
              "#7201a8"
             ],
             [
              0.3333333333333333,
              "#9c179e"
             ],
             [
              0.4444444444444444,
              "#bd3786"
             ],
             [
              0.5555555555555556,
              "#d8576b"
             ],
             [
              0.6666666666666666,
              "#ed7953"
             ],
             [
              0.7777777777777778,
              "#fb9f3a"
             ],
             [
              0.8888888888888888,
              "#fdca26"
             ],
             [
              1,
              "#f0f921"
             ]
            ],
            "type": "heatmapgl"
           }
          ],
          "histogram": [
           {
            "marker": {
             "pattern": {
              "fillmode": "overlay",
              "size": 10,
              "solidity": 0.2
             }
            },
            "type": "histogram"
           }
          ],
          "histogram2d": [
           {
            "colorbar": {
             "outlinewidth": 0,
             "ticks": ""
            },
            "colorscale": [
             [
              0,
              "#0d0887"
             ],
             [
              0.1111111111111111,
              "#46039f"
             ],
             [
              0.2222222222222222,
              "#7201a8"
             ],
             [
              0.3333333333333333,
              "#9c179e"
             ],
             [
              0.4444444444444444,
              "#bd3786"
             ],
             [
              0.5555555555555556,
              "#d8576b"
             ],
             [
              0.6666666666666666,
              "#ed7953"
             ],
             [
              0.7777777777777778,
              "#fb9f3a"
             ],
             [
              0.8888888888888888,
              "#fdca26"
             ],
             [
              1,
              "#f0f921"
             ]
            ],
            "type": "histogram2d"
           }
          ],
          "histogram2dcontour": [
           {
            "colorbar": {
             "outlinewidth": 0,
             "ticks": ""
            },
            "colorscale": [
             [
              0,
              "#0d0887"
             ],
             [
              0.1111111111111111,
              "#46039f"
             ],
             [
              0.2222222222222222,
              "#7201a8"
             ],
             [
              0.3333333333333333,
              "#9c179e"
             ],
             [
              0.4444444444444444,
              "#bd3786"
             ],
             [
              0.5555555555555556,
              "#d8576b"
             ],
             [
              0.6666666666666666,
              "#ed7953"
             ],
             [
              0.7777777777777778,
              "#fb9f3a"
             ],
             [
              0.8888888888888888,
              "#fdca26"
             ],
             [
              1,
              "#f0f921"
             ]
            ],
            "type": "histogram2dcontour"
           }
          ],
          "mesh3d": [
           {
            "colorbar": {
             "outlinewidth": 0,
             "ticks": ""
            },
            "type": "mesh3d"
           }
          ],
          "parcoords": [
           {
            "line": {
             "colorbar": {
              "outlinewidth": 0,
              "ticks": ""
             }
            },
            "type": "parcoords"
           }
          ],
          "pie": [
           {
            "automargin": true,
            "type": "pie"
           }
          ],
          "scatter": [
           {
            "marker": {
             "colorbar": {
              "outlinewidth": 0,
              "ticks": ""
             }
            },
            "type": "scatter"
           }
          ],
          "scatter3d": [
           {
            "line": {
             "colorbar": {
              "outlinewidth": 0,
              "ticks": ""
             }
            },
            "marker": {
             "colorbar": {
              "outlinewidth": 0,
              "ticks": ""
             }
            },
            "type": "scatter3d"
           }
          ],
          "scattercarpet": [
           {
            "marker": {
             "colorbar": {
              "outlinewidth": 0,
              "ticks": ""
             }
            },
            "type": "scattercarpet"
           }
          ],
          "scattergeo": [
           {
            "marker": {
             "colorbar": {
              "outlinewidth": 0,
              "ticks": ""
             }
            },
            "type": "scattergeo"
           }
          ],
          "scattergl": [
           {
            "marker": {
             "colorbar": {
              "outlinewidth": 0,
              "ticks": ""
             }
            },
            "type": "scattergl"
           }
          ],
          "scattermapbox": [
           {
            "marker": {
             "colorbar": {
              "outlinewidth": 0,
              "ticks": ""
             }
            },
            "type": "scattermapbox"
           }
          ],
          "scatterpolar": [
           {
            "marker": {
             "colorbar": {
              "outlinewidth": 0,
              "ticks": ""
             }
            },
            "type": "scatterpolar"
           }
          ],
          "scatterpolargl": [
           {
            "marker": {
             "colorbar": {
              "outlinewidth": 0,
              "ticks": ""
             }
            },
            "type": "scatterpolargl"
           }
          ],
          "scatterternary": [
           {
            "marker": {
             "colorbar": {
              "outlinewidth": 0,
              "ticks": ""
             }
            },
            "type": "scatterternary"
           }
          ],
          "surface": [
           {
            "colorbar": {
             "outlinewidth": 0,
             "ticks": ""
            },
            "colorscale": [
             [
              0,
              "#0d0887"
             ],
             [
              0.1111111111111111,
              "#46039f"
             ],
             [
              0.2222222222222222,
              "#7201a8"
             ],
             [
              0.3333333333333333,
              "#9c179e"
             ],
             [
              0.4444444444444444,
              "#bd3786"
             ],
             [
              0.5555555555555556,
              "#d8576b"
             ],
             [
              0.6666666666666666,
              "#ed7953"
             ],
             [
              0.7777777777777778,
              "#fb9f3a"
             ],
             [
              0.8888888888888888,
              "#fdca26"
             ],
             [
              1,
              "#f0f921"
             ]
            ],
            "type": "surface"
           }
          ],
          "table": [
           {
            "cells": {
             "fill": {
              "color": "#EBF0F8"
             },
             "line": {
              "color": "white"
             }
            },
            "header": {
             "fill": {
              "color": "#C8D4E3"
             },
             "line": {
              "color": "white"
             }
            },
            "type": "table"
           }
          ]
         },
         "layout": {
          "annotationdefaults": {
           "arrowcolor": "#2a3f5f",
           "arrowhead": 0,
           "arrowwidth": 1
          },
          "autotypenumbers": "strict",
          "coloraxis": {
           "colorbar": {
            "outlinewidth": 0,
            "ticks": ""
           }
          },
          "colorscale": {
           "diverging": [
            [
             0,
             "#8e0152"
            ],
            [
             0.1,
             "#c51b7d"
            ],
            [
             0.2,
             "#de77ae"
            ],
            [
             0.3,
             "#f1b6da"
            ],
            [
             0.4,
             "#fde0ef"
            ],
            [
             0.5,
             "#f7f7f7"
            ],
            [
             0.6,
             "#e6f5d0"
            ],
            [
             0.7,
             "#b8e186"
            ],
            [
             0.8,
             "#7fbc41"
            ],
            [
             0.9,
             "#4d9221"
            ],
            [
             1,
             "#276419"
            ]
           ],
           "sequential": [
            [
             0,
             "#0d0887"
            ],
            [
             0.1111111111111111,
             "#46039f"
            ],
            [
             0.2222222222222222,
             "#7201a8"
            ],
            [
             0.3333333333333333,
             "#9c179e"
            ],
            [
             0.4444444444444444,
             "#bd3786"
            ],
            [
             0.5555555555555556,
             "#d8576b"
            ],
            [
             0.6666666666666666,
             "#ed7953"
            ],
            [
             0.7777777777777778,
             "#fb9f3a"
            ],
            [
             0.8888888888888888,
             "#fdca26"
            ],
            [
             1,
             "#f0f921"
            ]
           ],
           "sequentialminus": [
            [
             0,
             "#0d0887"
            ],
            [
             0.1111111111111111,
             "#46039f"
            ],
            [
             0.2222222222222222,
             "#7201a8"
            ],
            [
             0.3333333333333333,
             "#9c179e"
            ],
            [
             0.4444444444444444,
             "#bd3786"
            ],
            [
             0.5555555555555556,
             "#d8576b"
            ],
            [
             0.6666666666666666,
             "#ed7953"
            ],
            [
             0.7777777777777778,
             "#fb9f3a"
            ],
            [
             0.8888888888888888,
             "#fdca26"
            ],
            [
             1,
             "#f0f921"
            ]
           ]
          },
          "colorway": [
           "#636efa",
           "#EF553B",
           "#00cc96",
           "#ab63fa",
           "#FFA15A",
           "#19d3f3",
           "#FF6692",
           "#B6E880",
           "#FF97FF",
           "#FECB52"
          ],
          "font": {
           "color": "#2a3f5f"
          },
          "geo": {
           "bgcolor": "white",
           "lakecolor": "white",
           "landcolor": "#E5ECF6",
           "showlakes": true,
           "showland": true,
           "subunitcolor": "white"
          },
          "hoverlabel": {
           "align": "left"
          },
          "hovermode": "closest",
          "mapbox": {
           "style": "light"
          },
          "paper_bgcolor": "white",
          "plot_bgcolor": "#E5ECF6",
          "polar": {
           "angularaxis": {
            "gridcolor": "white",
            "linecolor": "white",
            "ticks": ""
           },
           "bgcolor": "#E5ECF6",
           "radialaxis": {
            "gridcolor": "white",
            "linecolor": "white",
            "ticks": ""
           }
          },
          "scene": {
           "xaxis": {
            "backgroundcolor": "#E5ECF6",
            "gridcolor": "white",
            "gridwidth": 2,
            "linecolor": "white",
            "showbackground": true,
            "ticks": "",
            "zerolinecolor": "white"
           },
           "yaxis": {
            "backgroundcolor": "#E5ECF6",
            "gridcolor": "white",
            "gridwidth": 2,
            "linecolor": "white",
            "showbackground": true,
            "ticks": "",
            "zerolinecolor": "white"
           },
           "zaxis": {
            "backgroundcolor": "#E5ECF6",
            "gridcolor": "white",
            "gridwidth": 2,
            "linecolor": "white",
            "showbackground": true,
            "ticks": "",
            "zerolinecolor": "white"
           }
          },
          "shapedefaults": {
           "line": {
            "color": "#2a3f5f"
           }
          },
          "ternary": {
           "aaxis": {
            "gridcolor": "white",
            "linecolor": "white",
            "ticks": ""
           },
           "baxis": {
            "gridcolor": "white",
            "linecolor": "white",
            "ticks": ""
           },
           "bgcolor": "#E5ECF6",
           "caxis": {
            "gridcolor": "white",
            "linecolor": "white",
            "ticks": ""
           }
          },
          "title": {
           "x": 0.05
          },
          "xaxis": {
           "automargin": true,
           "gridcolor": "white",
           "linecolor": "white",
           "ticks": "",
           "title": {
            "standoff": 15
           },
           "zerolinecolor": "white",
           "zerolinewidth": 2
          },
          "yaxis": {
           "automargin": true,
           "gridcolor": "white",
           "linecolor": "white",
           "ticks": "",
           "title": {
            "standoff": 15
           },
           "zerolinecolor": "white",
           "zerolinewidth": 2
          }
         }
        }
       }
      },
      "text/html": [
       "<div>                            <div id=\"de63fd43-3583-4187-b2d8-4f8314a3bd8d\" class=\"plotly-graph-div\" style=\"height:525px; width:100%;\"></div>            <script type=\"text/javascript\">                require([\"plotly\"], function(Plotly) {                    window.PLOTLYENV=window.PLOTLYENV || {};                                    if (document.getElementById(\"de63fd43-3583-4187-b2d8-4f8314a3bd8d\")) {                    Plotly.newPlot(                        \"de63fd43-3583-4187-b2d8-4f8314a3bd8d\",                        [{\"domain\":{\"x\":[0.0,1.0],\"y\":[0.0,1.0]},\"hovertemplate\":\"index=%{label}<br>add_year=%{value}<extra></extra>\",\"labels\":[\" 2020\",\" 2019\",\" 2018\",\" 2017\",\" 2016\",\" 2015\",\" 2021\",\" 2014\",\" 2013\",\" 2008\"],\"legendgroup\":\"\",\"marker\":{\"line\":{\"color\":\"white\",\"width\":2}},\"name\":\"\",\"showlegend\":true,\"textinfo\":\"percent+label\",\"textposition\":\"inside\",\"type\":\"pie\",\"values\":[707,656,430,361,185,30,29,6,5,1]}],                        {\"legend\":{\"tracegroupgap\":0},\"margin\":{\"t\":60},\"piecolorway\":[\"rgb(103,0,31)\",\"rgb(178,24,43)\",\"rgb(214,96,77)\",\"rgb(244,165,130)\",\"rgb(253,219,199)\",\"rgb(247,247,247)\",\"rgb(209,229,240)\",\"rgb(146,197,222)\",\"rgb(67,147,195)\",\"rgb(33,102,172)\",\"rgb(5,48,97)\"],\"template\":{\"data\":{\"bar\":[{\"error_x\":{\"color\":\"#2a3f5f\"},\"error_y\":{\"color\":\"#2a3f5f\"},\"marker\":{\"line\":{\"color\":\"#E5ECF6\",\"width\":0.5},\"pattern\":{\"fillmode\":\"overlay\",\"size\":10,\"solidity\":0.2}},\"type\":\"bar\"}],\"barpolar\":[{\"marker\":{\"line\":{\"color\":\"#E5ECF6\",\"width\":0.5},\"pattern\":{\"fillmode\":\"overlay\",\"size\":10,\"solidity\":0.2}},\"type\":\"barpolar\"}],\"carpet\":[{\"aaxis\":{\"endlinecolor\":\"#2a3f5f\",\"gridcolor\":\"white\",\"linecolor\":\"white\",\"minorgridcolor\":\"white\",\"startlinecolor\":\"#2a3f5f\"},\"baxis\":{\"endlinecolor\":\"#2a3f5f\",\"gridcolor\":\"white\",\"linecolor\":\"white\",\"minorgridcolor\":\"white\",\"startlinecolor\":\"#2a3f5f\"},\"type\":\"carpet\"}],\"choropleth\":[{\"colorbar\":{\"outlinewidth\":0,\"ticks\":\"\"},\"type\":\"choropleth\"}],\"contour\":[{\"colorbar\":{\"outlinewidth\":0,\"ticks\":\"\"},\"colorscale\":[[0.0,\"#0d0887\"],[0.1111111111111111,\"#46039f\"],[0.2222222222222222,\"#7201a8\"],[0.3333333333333333,\"#9c179e\"],[0.4444444444444444,\"#bd3786\"],[0.5555555555555556,\"#d8576b\"],[0.6666666666666666,\"#ed7953\"],[0.7777777777777778,\"#fb9f3a\"],[0.8888888888888888,\"#fdca26\"],[1.0,\"#f0f921\"]],\"type\":\"contour\"}],\"contourcarpet\":[{\"colorbar\":{\"outlinewidth\":0,\"ticks\":\"\"},\"type\":\"contourcarpet\"}],\"heatmap\":[{\"colorbar\":{\"outlinewidth\":0,\"ticks\":\"\"},\"colorscale\":[[0.0,\"#0d0887\"],[0.1111111111111111,\"#46039f\"],[0.2222222222222222,\"#7201a8\"],[0.3333333333333333,\"#9c179e\"],[0.4444444444444444,\"#bd3786\"],[0.5555555555555556,\"#d8576b\"],[0.6666666666666666,\"#ed7953\"],[0.7777777777777778,\"#fb9f3a\"],[0.8888888888888888,\"#fdca26\"],[1.0,\"#f0f921\"]],\"type\":\"heatmap\"}],\"heatmapgl\":[{\"colorbar\":{\"outlinewidth\":0,\"ticks\":\"\"},\"colorscale\":[[0.0,\"#0d0887\"],[0.1111111111111111,\"#46039f\"],[0.2222222222222222,\"#7201a8\"],[0.3333333333333333,\"#9c179e\"],[0.4444444444444444,\"#bd3786\"],[0.5555555555555556,\"#d8576b\"],[0.6666666666666666,\"#ed7953\"],[0.7777777777777778,\"#fb9f3a\"],[0.8888888888888888,\"#fdca26\"],[1.0,\"#f0f921\"]],\"type\":\"heatmapgl\"}],\"histogram\":[{\"marker\":{\"pattern\":{\"fillmode\":\"overlay\",\"size\":10,\"solidity\":0.2}},\"type\":\"histogram\"}],\"histogram2d\":[{\"colorbar\":{\"outlinewidth\":0,\"ticks\":\"\"},\"colorscale\":[[0.0,\"#0d0887\"],[0.1111111111111111,\"#46039f\"],[0.2222222222222222,\"#7201a8\"],[0.3333333333333333,\"#9c179e\"],[0.4444444444444444,\"#bd3786\"],[0.5555555555555556,\"#d8576b\"],[0.6666666666666666,\"#ed7953\"],[0.7777777777777778,\"#fb9f3a\"],[0.8888888888888888,\"#fdca26\"],[1.0,\"#f0f921\"]],\"type\":\"histogram2d\"}],\"histogram2dcontour\":[{\"colorbar\":{\"outlinewidth\":0,\"ticks\":\"\"},\"colorscale\":[[0.0,\"#0d0887\"],[0.1111111111111111,\"#46039f\"],[0.2222222222222222,\"#7201a8\"],[0.3333333333333333,\"#9c179e\"],[0.4444444444444444,\"#bd3786\"],[0.5555555555555556,\"#d8576b\"],[0.6666666666666666,\"#ed7953\"],[0.7777777777777778,\"#fb9f3a\"],[0.8888888888888888,\"#fdca26\"],[1.0,\"#f0f921\"]],\"type\":\"histogram2dcontour\"}],\"mesh3d\":[{\"colorbar\":{\"outlinewidth\":0,\"ticks\":\"\"},\"type\":\"mesh3d\"}],\"parcoords\":[{\"line\":{\"colorbar\":{\"outlinewidth\":0,\"ticks\":\"\"}},\"type\":\"parcoords\"}],\"pie\":[{\"automargin\":true,\"type\":\"pie\"}],\"scatter\":[{\"marker\":{\"colorbar\":{\"outlinewidth\":0,\"ticks\":\"\"}},\"type\":\"scatter\"}],\"scatter3d\":[{\"line\":{\"colorbar\":{\"outlinewidth\":0,\"ticks\":\"\"}},\"marker\":{\"colorbar\":{\"outlinewidth\":0,\"ticks\":\"\"}},\"type\":\"scatter3d\"}],\"scattercarpet\":[{\"marker\":{\"colorbar\":{\"outlinewidth\":0,\"ticks\":\"\"}},\"type\":\"scattercarpet\"}],\"scattergeo\":[{\"marker\":{\"colorbar\":{\"outlinewidth\":0,\"ticks\":\"\"}},\"type\":\"scattergeo\"}],\"scattergl\":[{\"marker\":{\"colorbar\":{\"outlinewidth\":0,\"ticks\":\"\"}},\"type\":\"scattergl\"}],\"scattermapbox\":[{\"marker\":{\"colorbar\":{\"outlinewidth\":0,\"ticks\":\"\"}},\"type\":\"scattermapbox\"}],\"scatterpolar\":[{\"marker\":{\"colorbar\":{\"outlinewidth\":0,\"ticks\":\"\"}},\"type\":\"scatterpolar\"}],\"scatterpolargl\":[{\"marker\":{\"colorbar\":{\"outlinewidth\":0,\"ticks\":\"\"}},\"type\":\"scatterpolargl\"}],\"scatterternary\":[{\"marker\":{\"colorbar\":{\"outlinewidth\":0,\"ticks\":\"\"}},\"type\":\"scatterternary\"}],\"surface\":[{\"colorbar\":{\"outlinewidth\":0,\"ticks\":\"\"},\"colorscale\":[[0.0,\"#0d0887\"],[0.1111111111111111,\"#46039f\"],[0.2222222222222222,\"#7201a8\"],[0.3333333333333333,\"#9c179e\"],[0.4444444444444444,\"#bd3786\"],[0.5555555555555556,\"#d8576b\"],[0.6666666666666666,\"#ed7953\"],[0.7777777777777778,\"#fb9f3a\"],[0.8888888888888888,\"#fdca26\"],[1.0,\"#f0f921\"]],\"type\":\"surface\"}],\"table\":[{\"cells\":{\"fill\":{\"color\":\"#EBF0F8\"},\"line\":{\"color\":\"white\"}},\"header\":{\"fill\":{\"color\":\"#C8D4E3\"},\"line\":{\"color\":\"white\"}},\"type\":\"table\"}]},\"layout\":{\"annotationdefaults\":{\"arrowcolor\":\"#2a3f5f\",\"arrowhead\":0,\"arrowwidth\":1},\"autotypenumbers\":\"strict\",\"coloraxis\":{\"colorbar\":{\"outlinewidth\":0,\"ticks\":\"\"}},\"colorscale\":{\"diverging\":[[0,\"#8e0152\"],[0.1,\"#c51b7d\"],[0.2,\"#de77ae\"],[0.3,\"#f1b6da\"],[0.4,\"#fde0ef\"],[0.5,\"#f7f7f7\"],[0.6,\"#e6f5d0\"],[0.7,\"#b8e186\"],[0.8,\"#7fbc41\"],[0.9,\"#4d9221\"],[1,\"#276419\"]],\"sequential\":[[0.0,\"#0d0887\"],[0.1111111111111111,\"#46039f\"],[0.2222222222222222,\"#7201a8\"],[0.3333333333333333,\"#9c179e\"],[0.4444444444444444,\"#bd3786\"],[0.5555555555555556,\"#d8576b\"],[0.6666666666666666,\"#ed7953\"],[0.7777777777777778,\"#fb9f3a\"],[0.8888888888888888,\"#fdca26\"],[1.0,\"#f0f921\"]],\"sequentialminus\":[[0.0,\"#0d0887\"],[0.1111111111111111,\"#46039f\"],[0.2222222222222222,\"#7201a8\"],[0.3333333333333333,\"#9c179e\"],[0.4444444444444444,\"#bd3786\"],[0.5555555555555556,\"#d8576b\"],[0.6666666666666666,\"#ed7953\"],[0.7777777777777778,\"#fb9f3a\"],[0.8888888888888888,\"#fdca26\"],[1.0,\"#f0f921\"]]},\"colorway\":[\"#636efa\",\"#EF553B\",\"#00cc96\",\"#ab63fa\",\"#FFA15A\",\"#19d3f3\",\"#FF6692\",\"#B6E880\",\"#FF97FF\",\"#FECB52\"],\"font\":{\"color\":\"#2a3f5f\"},\"geo\":{\"bgcolor\":\"white\",\"lakecolor\":\"white\",\"landcolor\":\"#E5ECF6\",\"showlakes\":true,\"showland\":true,\"subunitcolor\":\"white\"},\"hoverlabel\":{\"align\":\"left\"},\"hovermode\":\"closest\",\"mapbox\":{\"style\":\"light\"},\"paper_bgcolor\":\"white\",\"plot_bgcolor\":\"#E5ECF6\",\"polar\":{\"angularaxis\":{\"gridcolor\":\"white\",\"linecolor\":\"white\",\"ticks\":\"\"},\"bgcolor\":\"#E5ECF6\",\"radialaxis\":{\"gridcolor\":\"white\",\"linecolor\":\"white\",\"ticks\":\"\"}},\"scene\":{\"xaxis\":{\"backgroundcolor\":\"#E5ECF6\",\"gridcolor\":\"white\",\"gridwidth\":2,\"linecolor\":\"white\",\"showbackground\":true,\"ticks\":\"\",\"zerolinecolor\":\"white\"},\"yaxis\":{\"backgroundcolor\":\"#E5ECF6\",\"gridcolor\":\"white\",\"gridwidth\":2,\"linecolor\":\"white\",\"showbackground\":true,\"ticks\":\"\",\"zerolinecolor\":\"white\"},\"zaxis\":{\"backgroundcolor\":\"#E5ECF6\",\"gridcolor\":\"white\",\"gridwidth\":2,\"linecolor\":\"white\",\"showbackground\":true,\"ticks\":\"\",\"zerolinecolor\":\"white\"}},\"shapedefaults\":{\"line\":{\"color\":\"#2a3f5f\"}},\"ternary\":{\"aaxis\":{\"gridcolor\":\"white\",\"linecolor\":\"white\",\"ticks\":\"\"},\"baxis\":{\"gridcolor\":\"white\",\"linecolor\":\"white\",\"ticks\":\"\"},\"bgcolor\":\"#E5ECF6\",\"caxis\":{\"gridcolor\":\"white\",\"linecolor\":\"white\",\"ticks\":\"\"}},\"title\":{\"x\":0.05},\"xaxis\":{\"automargin\":true,\"gridcolor\":\"white\",\"linecolor\":\"white\",\"ticks\":\"\",\"title\":{\"standoff\":15},\"zerolinecolor\":\"white\",\"zerolinewidth\":2},\"yaxis\":{\"automargin\":true,\"gridcolor\":\"white\",\"linecolor\":\"white\",\"ticks\":\"\",\"title\":{\"standoff\":15},\"zerolinecolor\":\"white\",\"zerolinewidth\":2}}}},                        {\"responsive\": true}                    ).then(function(){\n",
       "                            \n",
       "var gd = document.getElementById('de63fd43-3583-4187-b2d8-4f8314a3bd8d');\n",
       "var x = new MutationObserver(function (mutations, observer) {{\n",
       "        var display = window.getComputedStyle(gd).display;\n",
       "        if (!display || display === 'none') {{\n",
       "            console.log([gd, 'removed!']);\n",
       "            Plotly.purge(gd);\n",
       "            observer.disconnect();\n",
       "        }}\n",
       "}});\n",
       "\n",
       "// Listen for the removal of the full notebook cells\n",
       "var notebookContainer = gd.closest('#notebook-container');\n",
       "if (notebookContainer) {{\n",
       "    x.observe(notebookContainer, {childList: true});\n",
       "}}\n",
       "\n",
       "// Listen for the clearing of the current output cell\n",
       "var outputEl = gd.closest('.output');\n",
       "if (outputEl) {{\n",
       "    x.observe(outputEl, {childList: true});\n",
       "}}\n",
       "\n",
       "                        })                };                });            </script>        </div>"
      ]
     },
     "metadata": {},
     "output_type": "display_data"
    }
   ],
   "source": [
    "#Now let's do this with some other comparison like country\n",
    "#using px library\n",
    "fig = px.pie(tv_data, values='add_year', names='index',color_discrete_sequence=px.colors.sequential.RdBu)\n",
    "fig.update_traces(textposition='inside', textinfo='percent+label',\n",
    "                  marker = dict(line = dict(color = 'white', width =2)))\n",
    "fig.show()\n"
   ]
  },
  {
   "cell_type": "code",
   "execution_count": 124,
   "metadata": {},
   "outputs": [
    {
     "data": {
      "image/png": "[encoded data removed]",
      "text/plain": [
       "<Figure size 504x720 with 1 Axes>"
      ]
     },
     "metadata": {},
     "output_type": "display_data"
    }
   ],
   "source": [
    "tv_data=tv.add_year.value_counts().reset_index()\n",
    "tv_data\n",
    "plt.figure(figsize=(7,10))\n",
    "plt.pie(tv_data.add_year,labels=tv_data['index'],autopct='%1.1f%%')\n",
    "plt.show()"
   ]
  },
  {
   "cell_type": "markdown",
   "metadata": {},
   "source": [
    "<h2>Most content on netflix based on countries</h2>"
   ]
  },
  {
   "cell_type": "code",
   "execution_count": 128,
   "metadata": {},
   "outputs": [
    {
     "data": {
      "application/vnd.plotly.v1+json": {
       "config": {
        "plotlyServerURL": "https://plot.ly"
       },
       "data": [
        {
         "alignmentgroup": "True",
         "bingroup": "x",
         "hovertemplate": "country_main=%{x}<br>count=%{y}<extra></extra>",
         "legendgroup": "",
         "marker": {
          "color": "indianred",
          "pattern": {
           "shape": ""
          }
         },
         "name": "",
         "offsetgroup": "",
         "orientation": "v",
         "showlegend": false,
         "type": "histogram",
         "x": [
          "Brazil",
          "Mexico",
          "Singapore",
          "United States",
          "United States",
          "Turkey",
          "Egypt",
          "United States",
          "India",
          "India",
          "United States",
          "Poland",
          "Mexico",
          "Thailand",
          "United States",
          "Nigeria",
          "United States",
          "Norway",
          "India",
          "United Kingdom",
          "India",
          "India",
          "India",
          "India",
          "Japan",
          "United States",
          "United States",
          "South Korea",
          "Italy",
          "United States",
          "Canada",
          "Indonesia",
          "Indonesia",
          "United States",
          "Canada",
          "United States",
          "Romania",
          "Romania",
          "United States",
          "Spain",
          "Turkey",
          "Iceland",
          "Turkey",
          "Nigeria",
          "United States",
          "Turkey",
          "United States",
          "United States",
          "South Africa",
          "France",
          "United States",
          "South Korea",
          "Spain",
          "United States",
          "Portugal",
          "United States",
          "United States",
          "Indonesia",
          "United Kingdom",
          "India",
          "United States",
          "South Korea",
          "United States",
          "United States",
          "United States",
          "United States",
          "United States",
          "United States",
          "Hong Kong",
          "United States",
          "United States",
          "United States",
          "United States",
          "Italy",
          "Spain",
          "United States",
          "United States",
          "France",
          "India",
          "United States",
          "Turkey",
          "South Korea",
          "United Kingdom",
          "United States",
          "United States",
          "United Kingdom",
          "India",
          "Canada",
          "United States",
          "South Africa",
          "India",
          "South Korea",
          "Argentina",
          "United Kingdom",
          "United States",
          "South Korea",
          "United States",
          "United States",
          "United States",
          "Indonesia",
          "India",
          "Canada",
          "Germany",
          "Egypt",
          "United States",
          "Denmark",
          "Poland",
          "Japan",
          "United States",
          "Kenya",
          "United States",
          "Italy",
          "Spain",
          "Canada",
          "Spain",
          "United States",
          "Nigeria",
          "United States",
          "United States",
          "Italy",
          "United States",
          "United States",
          "United States",
          "Indonesia",
          "Romania",
          "United States",
          "New Zealand",
          "United States",
          "United States",
          "India",
          "United States",
          "United States",
          "India",
          "Spain",
          "United States",
          "Pakistan",
          "India",
          "Australia",
          "Australia",
          "Australia",
          "Australia",
          "United States",
          "United States",
          "India",
          "Nigeria",
          "Australia",
          "Mexico",
          "United States",
          "United States",
          "China",
          "India",
          "United States",
          "Taiwan",
          "United States",
          "United States",
          "United States",
          "Turkey",
          "Taiwan",
          "Canada",
          "United States",
          "United States",
          "United States",
          "France",
          "United States",
          "United States",
          "United Kingdom",
          "United States",
          "United States",
          "United States",
          "Netherlands",
          "Canada",
          "United States",
          "India",
          "Denmark",
          "United States",
          "United States",
          "United States",
          "United States",
          "United States",
          "United States",
          "Taiwan",
          "United Kingdom",
          "United States",
          "United States",
          "United States",
          "Germany",
          "United States",
          "Hong Kong",
          "Taiwan",
          "United States",
          "United States",
          "South Korea",
          "France",
          "United States",
          "Argentina",
          "United States",
          "United Kingdom",
          "United States",
          "China",
          "South Korea",
          "United States",
          "Philippines",
          "South Korea",
          "France",
          "United States",
          "United Kingdom",
          "United Arab Emirates",
          "United States",
          "Brazil",
          "United States",
          "United States",
          "Netherlands",
          "United Kingdom",
          "Germany",
          "United States",
          "United States",
          "United Kingdom",
          "United States",
          "Brazil",
          "Spain",
          "Canada",
          "India",
          "Philippines",
          "United States",
          "Iran",
          "United States",
          "United States",
          "United Kingdom",
          "Japan",
          "United States",
          "Argentina",
          "United States",
          "United States",
          "United States",
          "Taiwan",
          "Taiwan",
          "Israel",
          "United States",
          "United States",
          "Taiwan",
          "United States",
          "Taiwan",
          "United States",
          "Nigeria",
          "India",
          "Uruguay",
          "United States",
          "United States",
          "France",
          "Philippines",
          "United States",
          "India",
          "United States",
          "Japan",
          "Canada",
          "United States",
          "United States",
          "Singapore",
          "United Kingdom",
          "United States",
          "Japan",
          "Canada",
          "United States",
          "Turkey",
          "India",
          "India",
          "India",
          "India",
          "India",
          "India",
          "India",
          "India",
          "India",
          "India",
          "India",
          "India",
          "United States",
          "India",
          "India",
          "India",
          "Egypt",
          "United States",
          "Pakistan",
          "India",
          "South Korea",
          "United States",
          "United Kingdom",
          "United Kingdom",
          "United States",
          "United States",
          "South Korea",
          "Argentina",
          "Mexico",
          "Hong Kong",
          "China",
          "United States",
          "Canada",
          "United States",
          "United States",
          "Turkey",
          "India",
          "Bulgaria",
          "Canada",
          "France",
          "Spain",
          "United States",
          "United States",
          "United States",
          "United States",
          "France",
          "United States",
          "India",
          "India",
          "Australia",
          "Hong Kong",
          "India",
          "United States",
          "Canada",
          "United Arab Emirates",
          "United States",
          "Brazil",
          "United Kingdom",
          "Brazil",
          "United States",
          "United Kingdom",
          "United States",
          "United States",
          "United States",
          "United States",
          "United States",
          "United Kingdom",
          "United States",
          "United States",
          "Singapore",
          "United Kingdom",
          "United Kingdom",
          "United States",
          "Taiwan",
          "Germany",
          "Mauritius",
          "India",
          "Japan",
          "Japan",
          "India",
          "Argentina",
          "India",
          "India",
          "United States",
          "Japan",
          "Japan",
          "United Kingdom",
          "United States",
          "United States",
          "India",
          "India",
          "India",
          "India",
          "United States",
          "India",
          "United States",
          "Japan",
          "India",
          "India",
          "Japan",
          "India",
          "United States",
          "United States",
          "Lebanon",
          "India",
          "United States",
          "Mexico",
          "Egypt",
          "United States",
          "India",
          "United States",
          "Colombia",
          "Spain",
          "Uruguay",
          "Mexico",
          "United States",
          "United States",
          "Egypt",
          "France",
          "Uruguay",
          "United Arab Emirates",
          "Turkey",
          "United States",
          "United States",
          "Australia",
          "Canada",
          "United States",
          "Soviet Union",
          "United States",
          "Japan",
          "Brazil",
          "United States",
          "United States",
          "United States",
          "United Kingdom",
          "United States",
          "United States",
          "Sweden",
          "South Africa",
          "United States",
          "United States",
          "United States",
          "Malaysia",
          "United States",
          "Ireland",
          "Colombia",
          "Spain",
          "United States",
          "United States",
          "United States",
          "United States",
          "United States",
          "Philippines",
          "United States",
          "United States",
          "United Kingdom",
          "Mexico",
          "Brazil",
          "United States",
          "Hong Kong",
          "Germany",
          "United States",
          "Argentina",
          "United States",
          "United States",
          "United Kingdom",
          "Philippines",
          "United States",
          "United States",
          "United States",
          "United Kingdom",
          "United States",
          "United States",
          "United States",
          "Japan",
          "United States",
          "Colombia",
          "Philippines",
          "Denmark",
          "South Africa",
          "Spain",
          "United Kingdom",
          "India",
          "Egypt",
          "United States",
          "United Kingdom",
          "United Kingdom",
          "United States",
          "United States",
          "United States",
          "United States",
          "United States",
          "United States",
          "United States",
          "United States",
          "United States",
          "United States",
          "United States",
          "United States",
          "United States",
          "Canada",
          "Canada",
          "United States",
          "United Kingdom",
          "United States",
          "United States",
          "United States",
          "United States",
          "United States",
          "United States",
          "United States",
          "United States",
          "United States",
          "India",
          "Philippines",
          "Turkey",
          "India",
          "United Kingdom",
          "United States",
          "United States",
          "India",
          "United States",
          "United States",
          "United States",
          "United States",
          "France",
          "Egypt",
          "United Kingdom",
          "Egypt",
          "United States",
          "Taiwan",
          "United States",
          "Serbia",
          "Colombia",
          "Egypt",
          "Brazil",
          "India",
          "India",
          "Spain",
          "Canada",
          "United States",
          "Iceland",
          "Egypt",
          "India",
          "India",
          "United States",
          "India",
          "Singapore",
          "France",
          "United States",
          "India",
          "Taiwan",
          "Japan",
          "United States",
          "United States",
          "Ireland",
          "United States",
          "United States",
          "United States",
          "Finland",
          "India",
          "United States",
          "India",
          "United Kingdom",
          "China",
          "China",
          "Spain",
          "Brazil",
          "India",
          "India",
          "India",
          "United States",
          "India",
          "India",
          "United States",
          "Canada",
          "Japan",
          "United Kingdom",
          "Brazil",
          "United States",
          "South Korea",
          "United States",
          "United States",
          "Egypt",
          "United States",
          "United States",
          "United States",
          "United States",
          "India",
          "United States",
          "United States",
          "India",
          "Japan",
          "United States",
          "Argentina",
          "Spain",
          "India",
          "United States",
          "United States",
          "United Kingdom",
          "France",
          "United States",
          "France",
          "United States",
          "Colombia",
          "Japan",
          "United States",
          "India",
          "France",
          "Egypt",
          "United States",
          "Netherlands",
          "South Korea",
          "Iceland",
          "United States",
          "United States",
          "Indonesia",
          "India",
          "Canada",
          "United States",
          "United States",
          "United States",
          "South Korea",
          "United States",
          "United Kingdom",
          "India",
          "Indonesia",
          "United States",
          "United States",
          "India",
          "India",
          "United States",
          "China",
          "Australia",
          "United States",
          "India",
          "United States",
          "Norway",
          "United States",
          "United States",
          "Peru",
          "India",
          "South Korea",
          "United States",
          "Canada",
          "Taiwan",
          "Japan",
          "United States",
          "France",
          "United States",
          "United States",
          "Canada",
          "Japan",
          "United Kingdom",
          "Chile",
          "United States",
          "United States",
          "Australia",
          "Romania",
          "United Kingdom",
          "Australia",
          "United States",
          "United States",
          "United States",
          "India",
          "Bulgaria",
          "Taiwan",
          "United States",
          "United States",
          "Indonesia",
          "United Kingdom",
          "United States",
          "Sweden",
          "United Kingdom",
          "United States",
          "United States",
          "United States",
          "United States",
          "India",
          "India",
          "India",
          "Mexico",
          "Ghana",
          "India",
          "United States",
          "United States",
          "United States",
          "Japan",
          "India",
          "India",
          "India",
          "India",
          "India",
          "United States",
          "United States",
          "United States",
          "India",
          "United States",
          "United States",
          "India",
          "Turkey",
          "Turkey",
          "France",
          "United States",
          "Italy",
          "United Kingdom",
          "India",
          "South Africa",
          "Germany",
          "India",
          "Brazil",
          "Australia",
          "Japan",
          "Taiwan",
          "United States",
          "Thailand",
          "United States",
          "Canada",
          "United States",
          "United States",
          "Australia",
          "Canada",
          "India",
          "United States",
          "United States",
          "United Kingdom",
          "United Kingdom",
          "Thailand",
          "United States",
          "South Korea",
          "South Korea",
          "Singapore",
          "United States",
          "France",
          "India",
          "India",
          "India",
          "United States",
          "United States",
          "Japan",
          "United States",
          "Japan",
          "United States",
          "Chile",
          "United States",
          "United States",
          "United States",
          "Pakistan",
          "Turkey",
          "Nigeria",
          "United States",
          "United States",
          "United States",
          "India",
          "Thailand",
          "India",
          "United States",
          "Thailand",
          "Thailand",
          "United States",
          "Thailand",
          "Thailand",
          "Thailand",
          "Thailand",
          "Spain",
          "India",
          "Saudi Arabia",
          "Germany",
          "Australia",
          "United States",
          "United States",
          "United States",
          "United States",
          "United States",
          "United States",
          "United States",
          "United States",
          "United States",
          "United States",
          "United States",
          "United States",
          "United States",
          "United States",
          "United States",
          "United States",
          "Philippines",
          "India",
          "India",
          "United States",
          "India",
          "Chile",
          "United States",
          "India",
          "United States",
          "United States",
          "United States",
          "Italy",
          "United States",
          "India",
          "United States",
          "United States",
          "Norway",
          "United States",
          "United States",
          "United Kingdom",
          "United States",
          "India",
          "Namibia",
          "Mexico",
          "India",
          "India",
          "United States",
          "United States",
          "Taiwan",
          "Taiwan",
          "Russia",
          "Germany",
          "United Kingdom",
          "United States",
          "Canada",
          "Japan",
          "United States",
          "Australia",
          "Australia",
          "South Korea",
          "United States",
          "Mexico",
          "Canada",
          "Philippines",
          "United States",
          "United States",
          "United States",
          "Indonesia",
          "South Korea",
          "Egypt",
          "United States",
          "Mexico",
          "United Kingdom",
          "United States",
          "United States",
          "United States",
          "Nigeria",
          "United States",
          "United States",
          "United States",
          "Egypt",
          "Japan",
          "United States",
          "United States",
          "United States",
          "United States",
          "Turkey",
          "India",
          "United Kingdom",
          "United States",
          "United States",
          "Nigeria",
          "United States",
          "Lebanon",
          "Belgium",
          "New Zealand",
          "United States",
          "Uruguay",
          "Canada",
          "United Kingdom",
          "United States",
          "United States",
          "United States",
          "United States",
          "United States",
          "United Arab Emirates",
          "United States",
          "United States",
          "United States",
          "Germany",
          "Turkey",
          "Australia",
          "Germany",
          "Germany",
          "Japan",
          "Japan",
          "Japan",
          "United States",
          "United States",
          "United States",
          "United States",
          "South Korea",
          "United States",
          "United States",
          "Canada",
          "United States",
          "United States",
          "India",
          "United States",
          "United States",
          "Russia",
          "United States",
          "United States",
          "Canada",
          "Philippines",
          "United States",
          "Spain",
          "India",
          "Egypt",
          "Japan",
          "United States",
          "Japan",
          "United States",
          "Japan",
          "Turkey",
          "United States",
          "United States",
          "United States",
          "United States",
          "India",
          "India",
          "India",
          "India",
          "India",
          "India",
          "India",
          "India",
          "India",
          "India",
          "India",
          "United States",
          "India",
          "India",
          "India",
          "India",
          "Germany",
          "Germany",
          "Germany",
          "Germany",
          "United States",
          "United States",
          "United States",
          "United States",
          "United Kingdom",
          "United States",
          "United States",
          "United States",
          "United States",
          "United States",
          "Denmark",
          "United States",
          "France",
          "United States",
          "United Kingdom",
          "United States",
          "United States",
          "United States",
          "United States",
          "United States",
          "United States",
          "United Kingdom",
          "United States",
          "United Kingdom",
          "United Kingdom",
          "United States",
          "United States",
          "United States",
          "India",
          "United Kingdom",
          "United States",
          "United States",
          "India",
          "Germany",
          "India",
          "Turkey",
          "United States",
          "United States",
          "Philippines",
          "Canada",
          "United States",
          "Vietnam",
          "Canada",
          "Spain",
          "Egypt",
          "India",
          "India",
          "Ireland",
          "United States",
          "Japan",
          "Saudi Arabia",
          "United Kingdom",
          "India",
          "United States",
          "Turkey",
          "United States",
          "United States",
          "Spain",
          "United Kingdom",
          "United States",
          "Turkey",
          "United States",
          "Russia",
          "United Kingdom",
          "United States",
          "United States",
          "Argentina",
          "France",
          "Canada",
          "United States",
          "United States",
          "United States",
          "Japan",
          "United States",
          "Japan",
          "Japan",
          "Japan",
          "Japan",
          "United States",
          "Germany",
          "France",
          "Hong Kong",
          "United States",
          "Australia",
          "South Africa",
          "France",
          "Thailand",
          "South Africa",
          "France",
          "India",
          "United States",
          "Brazil",
          "Argentina",
          "United States",
          "Norway",
          "United States",
          "Canada",
          "Japan",
          "France",
          "United States",
          "United States",
          "United States",
          "United Kingdom",
          "United States",
          "Germany",
          "United States",
          "India",
          "Canada",
          "Japan",
          "Thailand",
          "United States",
          "United States",
          "Canada",
          "United States",
          "United States",
          "Canada",
          "Denmark",
          "United States",
          "India",
          "India",
          "United States",
          "United Kingdom",
          "Ireland",
          "United States",
          "India",
          "India",
          "Spain",
          "United States",
          "United States",
          "United States",
          "Colombia",
          "India",
          "United States",
          "Spain",
          "United Arab Emirates",
          "India",
          "New Zealand",
          "United States",
          "Netherlands",
          "Canada",
          "Canada",
          "Australia",
          "United States",
          "United States",
          "Sweden",
          "Russia",
          "United States",
          "India",
          "United States",
          "Canada",
          "United Kingdom",
          "Norway",
          "Finland",
          "Denmark",
          "Brazil",
          "Philippines",
          "Spain",
          "Denmark",
          "New Zealand",
          "United States",
          "United Kingdom",
          "India",
          "Lebanon",
          "United Kingdom",
          "United States",
          "Canada",
          "Singapore",
          "Egypt",
          "Brazil",
          "United States",
          "Spain",
          "Bulgaria",
          "South Korea",
          "United States",
          "India",
          "United States",
          "United States",
          "United States",
          "United States",
          "United States",
          "Canada",
          "United States",
          "United States",
          "Canada",
          "United States",
          "United States",
          "France",
          "United States",
          "India",
          "Hong Kong",
          "United States",
          "United States",
          "India",
          "United Kingdom",
          "United States",
          "Australia",
          "United States",
          "United States",
          "United States",
          "United States",
          "Philippines",
          "Indonesia",
          "United States",
          "United Kingdom",
          "United States",
          "United States",
          "India",
          "South Korea",
          "United States",
          "United States",
          "United Kingdom",
          "United States",
          "Taiwan",
          "United States",
          "France",
          "Turkey",
          "United States",
          "Brazil",
          "China",
          "India",
          "United States",
          "Canada",
          "Canada",
          "Canada",
          "India",
          "France",
          "United States",
          "United Kingdom",
          "Brazil",
          "United States",
          "United States",
          "India",
          "Indonesia",
          "Netherlands",
          "India",
          "India",
          "Bulgaria",
          "United States",
          "United States",
          "United States",
          "United States",
          "United States",
          "United States",
          "United States",
          "United States",
          "France",
          "Turkey",
          "South Korea",
          "United States",
          "United States",
          "United Kingdom",
          "United States",
          "South Korea",
          "United States",
          "United States",
          "Philippines",
          "Philippines",
          "France",
          "Kuwait",
          "Turkey",
          "India",
          "India",
          "Belgium",
          "United States",
          "United Kingdom",
          "Spain",
          "Norway",
          "Japan",
          "Indonesia",
          "Argentina",
          "South Korea",
          "Egypt",
          "United Kingdom",
          "India",
          "United Kingdom",
          "United States",
          "United States",
          "United States",
          "United States",
          "United States",
          "Sweden",
          "Italy",
          "France",
          "United Kingdom",
          "United States",
          "United States",
          "United States",
          "Spain",
          "Mexico",
          "United States",
          "United States",
          "Canada",
          "United States",
          "South Korea",
          "Canada",
          "Ireland",
          "United States",
          "Philippines",
          "Egypt",
          "United States",
          "Taiwan",
          "India",
          "United States",
          "France",
          "United States",
          "United States",
          "France",
          "India",
          "United States",
          "United States",
          "United Kingdom",
          "United States",
          "France",
          "Ireland",
          "Japan",
          "United States",
          "United States",
          "India",
          "Philippines",
          "India",
          "United States",
          "Mexico",
          "Mexico",
          "Argentina",
          "United States",
          "Canada",
          "United Kingdom",
          "Japan",
          "United States",
          "United States",
          "United States",
          "United States",
          "France",
          "Iceland",
          "United States",
          "Japan",
          "United Kingdom",
          "Hong Kong",
          "Hong Kong",
          "United States",
          "Nigeria",
          "United States",
          "United States",
          "United States",
          "United States",
          "South Africa",
          "China",
          "United States",
          "Spain",
          "United States",
          "Canada",
          "United Kingdom",
          "Norway",
          "United States",
          "United States",
          "Japan",
          "India",
          "Indonesia",
          "United States",
          "India",
          "India",
          "India",
          "India",
          "India",
          "India",
          "Pakistan",
          "United States",
          "India",
          "India",
          "India",
          "United States",
          "India",
          "United States",
          "India",
          "Germany",
          "United States",
          "Indonesia",
          "United States",
          "South Africa",
          "Germany",
          "United States",
          "United Kingdom",
          "United States",
          "United States",
          "United States",
          "United States",
          "United States",
          "Canada",
          "India",
          "India",
          "United States",
          "United States",
          "United States",
          "Canada",
          "Hong Kong",
          "United States",
          "Brazil",
          "India",
          "Australia",
          "Indonesia",
          "United States",
          "United States",
          "United States",
          "South Korea",
          "United States",
          "South Korea",
          "United States",
          "United States",
          "United States",
          "United States",
          "United States",
          "United States",
          "United States",
          "India",
          "United States",
          "United States",
          "United Kingdom",
          "United Kingdom",
          "India",
          "India",
          "United States",
          "United States",
          "United States",
          "United States",
          "India",
          "South Korea",
          "India",
          "United States",
          "United States",
          "United States",
          "United States",
          "Nigeria",
          "South Korea",
          "United States",
          "Lebanon",
          "United Kingdom",
          "Japan",
          "Japan",
          "United States",
          "India",
          "United States",
          "China",
          "United States",
          "United Kingdom",
          "India",
          "United States",
          "United Kingdom",
          "United States",
          "South Korea",
          "United States",
          "India",
          "India",
          "China",
          "United States",
          "United States",
          "United States",
          "United States",
          "United States",
          "United States",
          "United States",
          "United States",
          "United States",
          "United States",
          "United Kingdom",
          "United States",
          "Germany",
          "Canada",
          "United States",
          "United States",
          "United States",
          "United Kingdom",
          "Canada",
          "Canada",
          "Canada",
          "United States",
          "United States",
          "United States",
          "Argentina",
          "United States",
          "India",
          "United States",
          "United States",
          "United States",
          "United States",
          "Malaysia",
          "India",
          "Pakistan",
          "India",
          "United Kingdom",
          "India",
          "Turkey",
          "South Korea",
          "United States",
          "United States",
          "United States",
          "United States",
          "United States",
          "United States",
          "United States",
          "Nigeria",
          "Taiwan",
          "United Kingdom",
          "Brazil",
          "Brazil",
          "United States",
          "United Kingdom",
          "United Kingdom",
          "Turkey",
          "Japan",
          "United States",
          "United States",
          "United States",
          "India",
          "United States",
          "India",
          "Spain",
          "United States",
          "Australia",
          "United States",
          "United Kingdom",
          "United States",
          "United States",
          "United Kingdom",
          "France",
          "Taiwan",
          "United Kingdom",
          "Germany",
          "France",
          "United States",
          "United States",
          "United States",
          "Mexico",
          "United States",
          "United States",
          "United States",
          "United States",
          "United States",
          "United States",
          "United States",
          "Mexico",
          "United States",
          "United States",
          "United States",
          "United Kingdom",
          "Spain",
          "Mexico",
          "United States",
          "United States",
          "Canada",
          "Japan",
          "France",
          "United States",
          "United States",
          "Italy",
          "India",
          "United States",
          "United States",
          "United States",
          "Nigeria",
          "South Africa",
          "United States",
          "United States",
          "United States",
          "India",
          "United Kingdom",
          "India",
          "Germany",
          "United States",
          "South Korea",
          "India",
          "Canada",
          "United States",
          "United States",
          "United States",
          "United States",
          "United States",
          "United States",
          "United States",
          "Mexico",
          "India",
          "United Kingdom",
          "United States",
          "Czech Republic",
          "United States",
          "Vietnam",
          "United Kingdom",
          "Ireland",
          "Turkey",
          "Turkey",
          "United Kingdom",
          "United States",
          "India",
          "Mexico",
          "United States",
          "United States",
          "Zimbabwe",
          "United States",
          "United States",
          "United States",
          "United States",
          "Canada",
          "United States",
          "United States",
          "United States",
          "United States",
          "United States",
          "Netherlands",
          "United States",
          "Canada",
          "United States",
          "United States",
          "Nigeria",
          "Brazil",
          "Australia",
          "United States",
          "United States",
          "United States",
          "United States",
          "United States",
          "United States",
          "South Korea",
          "United Kingdom",
          "Indonesia",
          "Philippines",
          "United Kingdom",
          "United States",
          "Nigeria",
          "Nigeria",
          "United Kingdom",
          "India",
          "United States",
          "Argentina",
          "United States",
          "United States",
          "United Kingdom",
          "India",
          "Mexico",
          "Mexico",
          "France",
          "United States",
          "United States",
          "Germany",
          "Spain",
          "United Kingdom",
          "United States",
          "United States",
          "United States",
          "Malaysia",
          "Taiwan",
          "China",
          "United States",
          "United Kingdom",
          "Philippines",
          "United States",
          "United States",
          "Canada",
          "Italy",
          "United Kingdom",
          "Hungary",
          "United States",
          "United States",
          "France",
          "Japan",
          "Japan",
          "India",
          "United States",
          "United States",
          "United States",
          "United States",
          "Turkey",
          "Turkey",
          "United States",
          "Australia",
          "India",
          "Turkey",
          "Turkey",
          "Turkey",
          "United States",
          "Mexico",
          "United Kingdom",
          "United States",
          "United States",
          "Argentina",
          "India",
          "United States",
          "United States",
          "United States",
          "United States",
          "United States",
          "Australia",
          "Germany",
          "United States",
          "United States",
          "United States",
          "Germany",
          "United States",
          "Mexico",
          "India",
          "United Kingdom",
          "United Kingdom",
          "United States",
          "United Kingdom",
          "United States",
          "Mexico",
          "Mexico",
          "United States",
          "United States",
          "Indonesia",
          "France",
          "United States",
          "United States",
          "Ireland",
          "Germany",
          "India",
          "United Kingdom",
          "Mexico",
          "Mexico",
          "United States",
          "Canada",
          "United States",
          "United States",
          "New Zealand",
          "Egypt",
          "India",
          "India",
          "India",
          "United States",
          "United States",
          "Brazil",
          "United States",
          "United Kingdom",
          "United States",
          "United States",
          "United States",
          "United States",
          "United States",
          "Sweden",
          "United Kingdom",
          "United States",
          "Canada",
          "United States",
          "United States",
          "United States",
          "China",
          "Bulgaria",
          "United States",
          "Taiwan",
          "United States",
          "United States",
          "United States",
          "Netherlands",
          "United States",
          "United Kingdom",
          "Philippines",
          "United Kingdom",
          "United States",
          "United States",
          "India",
          "United States",
          "United States",
          "Finland",
          "United States",
          "United States",
          "India",
          "United States",
          "Taiwan",
          "South Korea",
          "Canada",
          "United States",
          "India",
          "United States",
          "United States",
          "Colombia",
          "United States",
          "United States",
          "United States",
          "United States",
          "United States",
          "United Kingdom",
          "Turkey",
          "India",
          "Spain",
          "United States",
          "Australia",
          "India",
          "India",
          "United States",
          "United States",
          "United States",
          "Canada",
          "United States",
          "India",
          "India",
          "India",
          "Turkey",
          "Turkey",
          "United States",
          "United States",
          "United States",
          "United States",
          "Denmark",
          "United States",
          "United States",
          "United States",
          "United States",
          "United Kingdom",
          "United States",
          "United States",
          "United Kingdom",
          "United Kingdom",
          "United States",
          "United Kingdom",
          "United Kingdom",
          "United States",
          "South Korea",
          "Argentina",
          "United States",
          "United States",
          "United States",
          "Argentina",
          "Spain",
          "France",
          "Taiwan",
          "Egypt",
          "United Kingdom",
          "United States",
          "India",
          "United States",
          "Finland",
          "Canada",
          "Japan",
          "India",
          "India",
          "United States",
          "India",
          "United Kingdom",
          "India",
          "India",
          "India",
          "India",
          "Malaysia",
          "India",
          "India",
          "China",
          "Mexico",
          "United States",
          "United States",
          "China",
          "United States",
          "United Kingdom",
          "United Kingdom",
          "France",
          "United States",
          "United Kingdom",
          "South Africa",
          "Germany",
          "United States",
          "United States",
          "India",
          "India",
          "India",
          "India",
          "India",
          "India",
          "Indonesia",
          "Indonesia",
          "India",
          "United States",
          "United States",
          "United States",
          "Canada",
          "Japan",
          "United States",
          "United States",
          "United States",
          "United States",
          "Egypt",
          "Hong Kong",
          "United States",
          "India",
          "Kenya",
          "United States",
          "United States",
          "United States",
          "United States",
          "South Africa",
          "United States",
          "France",
          "Brazil",
          "United States",
          "France",
          "South Korea",
          "India",
          "India",
          "United Kingdom",
          "United States",
          "United States",
          "United States",
          "United States",
          "Germany",
          "United States",
          "Lebanon",
          "India",
          "United Kingdom",
          "United States",
          "United States",
          "United States",
          "United States",
          "Denmark",
          "India",
          "India",
          "United States",
          "United States",
          "United States",
          "France",
          "France",
          "France",
          "United Kingdom",
          "Hong Kong",
          "Hong Kong",
          "United Kingdom",
          "United Kingdom",
          "United States",
          "Spain",
          "United States",
          "United States",
          "United Kingdom",
          "United States",
          "United States",
          "India",
          "United States",
          "India",
          "Japan",
          "India",
          "Brazil",
          "United States",
          "China",
          "Hong Kong",
          "United States",
          "Russia",
          "United States",
          "United States",
          "United States",
          "United States",
          "France",
          "United States",
          "United Kingdom",
          "Japan",
          "Japan",
          "Hong Kong",
          "United States",
          "United States",
          "United States",
          "United States",
          "United States",
          "United States",
          "United States",
          "United States",
          "United States",
          "United States",
          "United States",
          "United States",
          "United States",
          "United States",
          "United States",
          "Germany",
          "United States",
          "United States",
          "United States",
          "United States",
          "United States",
          "United States",
          "United States",
          "United States",
          "United States",
          "United States",
          "Germany",
          "Japan",
          "Hong Kong",
          "India",
          "India",
          "United States",
          "United States",
          "United States",
          "Spain",
          "United States",
          "United States",
          "Chile",
          "Japan",
          "United States",
          "China",
          "United States",
          "United States",
          "Pakistan",
          "India",
          "United States",
          "United States",
          "India",
          "India",
          "Japan",
          "United States",
          "Spain",
          "United States",
          "United Kingdom",
          "United States",
          "France",
          "United States",
          "Brazil",
          "United Kingdom",
          "United States",
          "United Kingdom",
          "United States",
          "United States",
          "United States",
          "United States",
          "Taiwan",
          "United States",
          "India",
          "United States",
          "United Kingdom",
          "United States",
          "United States",
          "United States",
          "United States",
          "United States",
          "United Kingdom",
          "Argentina",
          "Brazil",
          "Italy",
          "India",
          "India",
          "Philippines",
          "United Kingdom",
          "Indonesia",
          "India",
          "France",
          "Egypt",
          "India",
          "India",
          "India",
          "India",
          "India",
          "India",
          "Turkey",
          "United States",
          "Spain",
          "United States",
          "United States",
          "Colombia",
          "Colombia",
          "Mexico",
          "Mexico",
          "Venezuela",
          "United States",
          "Spain",
          "Mexico",
          "United States",
          "Mexico",
          "Mexico",
          "Spain",
          "United States",
          "Argentina",
          "Argentina",
          "United States",
          "Chile",
          "United States",
          "Colombia",
          "Mexico",
          "Colombia",
          "United States",
          "United States",
          "Egypt",
          "India",
          "Brazil",
          "Netherlands",
          "Nigeria",
          "United States",
          "United States",
          "United States",
          "Spain",
          "Spain",
          "United Kingdom",
          "United States",
          "United States",
          "France",
          "United States",
          "United States",
          "Canada",
          "United Kingdom",
          "United States",
          "India",
          "Brazil",
          "United States",
          "United States",
          "Indonesia",
          "Australia",
          "United States",
          "Czech Republic",
          "Canada",
          "United States",
          "United States",
          "India",
          "United Kingdom",
          "United States",
          "United States",
          "United States",
          "Canada",
          "India",
          "India",
          "Germany",
          "United States",
          "United Kingdom",
          "South Korea",
          "Canada",
          "United States",
          "Hong Kong",
          "France",
          "United Kingdom",
          "United States",
          "United States",
          "United States",
          "Denmark",
          "Japan",
          "United States",
          "United States",
          "Spain",
          "United States",
          "Poland",
          "Egypt",
          "United States",
          "Argentina",
          "Mexico",
          "China",
          "India",
          "Turkey",
          "Egypt",
          "Italy",
          "United States",
          "United States",
          "United States",
          "Japan",
          "Spain",
          "United Kingdom",
          "Spain",
          "India",
          "United Kingdom",
          "Canada",
          "United States",
          "Spain",
          "Philippines",
          "United Kingdom",
          "Philippines",
          "United States",
          "United States",
          "United States",
          "United States",
          "India",
          "United Kingdom",
          "China",
          "Spain",
          "United States",
          "United States",
          "Philippines",
          "United States",
          "Norway",
          "United States",
          "United States",
          "United States",
          "Germany",
          "Japan",
          "United States",
          "United States",
          "United States",
          "United States",
          "South Korea",
          "United Kingdom",
          "United States",
          "United States",
          "United States",
          "Spain",
          "Turkey",
          "Turkey",
          "Turkey",
          "Turkey",
          "United States",
          "United States",
          "United States",
          "United States",
          "Chile",
          "India",
          "United States",
          "France",
          "Japan",
          "United States",
          "United Kingdom",
          "Singapore",
          "India",
          "United States",
          "Taiwan",
          "United States",
          "Sweden",
          "United States",
          "Mexico",
          "United States",
          "South Korea",
          "Germany",
          "United States",
          "France",
          "United States",
          "India",
          "United Arab Emirates",
          "United States",
          "Poland",
          "India",
          "Canada",
          "Philippines",
          "Australia",
          "Egypt",
          "Russia",
          "France",
          "France",
          "India",
          "United States",
          "United States",
          "United States",
          "United States",
          "United States",
          "Japan",
          "Japan",
          "Japan",
          "Japan",
          "Japan",
          "United Kingdom",
          "United States",
          "United States",
          "India",
          "Israel",
          "United States",
          "United States",
          "India",
          "Canada",
          "United Kingdom",
          "United States",
          "United States",
          "United States",
          "United States",
          "Brazil",
          "Germany",
          "United States",
          "Colombia",
          "Argentina",
          "India",
          "United States",
          "India",
          "United States",
          "Poland",
          "Nigeria",
          "United States",
          "Nigeria",
          "United Kingdom",
          "United States",
          "United States",
          "Turkey",
          "United States",
          "Indonesia",
          "United States",
          "United States",
          "United States",
          "Japan",
          "Philippines",
          "United States",
          "Philippines",
          "Italy",
          "United States",
          "United States",
          "India",
          "India",
          "India",
          "United Kingdom",
          "United States",
          "United States",
          "Japan",
          "United States",
          "United States",
          "United Kingdom",
          "Netherlands",
          "Philippines",
          "United States",
          "United States",
          "Cambodia",
          "United Kingdom",
          "United Kingdom",
          "United States",
          "United States",
          "Brazil",
          "United States",
          "India",
          "United Arab Emirates",
          "United States",
          "Hong Kong",
          "United States",
          "United States",
          "India",
          "United States",
          "Canada",
          "China",
          "China",
          "Egypt",
          "United Kingdom",
          "United States",
          "United States",
          "United States",
          "South Korea",
          "United Kingdom",
          "Hong Kong",
          "United Arab Emirates",
          "United States",
          "Japan",
          "Argentina",
          "Japan",
          "United States",
          "United States",
          "Spain",
          "United States",
          "United States",
          "Mexico",
          "United States",
          "United Kingdom",
          "United States",
          "Philippines",
          "United States",
          "Canada",
          "United States",
          "Spain",
          "United Kingdom",
          "United States",
          "India",
          "United Kingdom",
          "India",
          "United States",
          "Japan",
          "Brazil",
          "United Kingdom",
          "United States",
          "United Kingdom",
          "Italy",
          "South Korea",
          "United States",
          "United Kingdom",
          "United States",
          "Germany",
          "Spain",
          "Philippines",
          "United Kingdom",
          "United States",
          "United States",
          "United States",
          "United States",
          "Italy",
          "Mexico",
          "Mexico",
          "United States",
          "United States",
          "Germany",
          "United States",
          "United States",
          "United States",
          "United States",
          "United States",
          "Germany",
          "United States",
          "United States",
          "United Kingdom",
          "United States",
          "United States",
          "United States",
          "United States",
          "United States",
          "United States",
          "United Arab Emirates",
          "United States",
          "Egypt",
          "United States",
          "South Africa",
          "United States",
          "United States",
          "Austria",
          "United States",
          "United States",
          "Germany",
          "United States",
          "United States",
          "India",
          "United Arab Emirates",
          "United States",
          "Egypt",
          "United States",
          "France",
          "United States",
          "United States",
          "Canada",
          "United Kingdom",
          "United Kingdom",
          "United Kingdom",
          "United States",
          "United States",
          "Spain",
          "India",
          "United States",
          "India",
          "United States",
          "Canada",
          "United States",
          "United States",
          "Japan",
          "Japan",
          "United States",
          "France",
          "United States",
          "Canada",
          "Vietnam",
          "United States",
          "United States",
          "United States",
          "Italy",
          "United States",
          "Turkey",
          "Turkey",
          "India",
          "United States",
          "United States",
          "Brazil",
          "United States",
          "India",
          "United States",
          "France",
          "India",
          "United States",
          "Russia",
          "United States",
          "Indonesia",
          "India",
          "United States",
          "Egypt",
          "United States",
          "India",
          "United States",
          "United States",
          "Taiwan",
          "United States",
          "France",
          "India",
          "India",
          "United States",
          "Japan",
          "India",
          "Kenya",
          "United States",
          "United States",
          "South Korea",
          "United States",
          "Japan",
          "United States",
          "Indonesia",
          "Indonesia",
          "Taiwan",
          "Nigeria",
          "Japan",
          "India",
          "India",
          "United States",
          "United States",
          "United States",
          "United States",
          "India",
          "United Kingdom",
          "United Kingdom",
          "United States",
          "Sweden",
          "United States",
          "United States",
          "United States",
          "Italy",
          "United Kingdom",
          "United States",
          "France",
          "United States",
          "United States",
          "United Kingdom",
          "United States",
          "United States",
          "Spain",
          "United States",
          "Lebanon",
          "India",
          "India",
          "Thailand",
          "Japan",
          "United States",
          "Japan",
          "Canada",
          "United States",
          "India",
          "Japan",
          "United States",
          "Japan",
          "United States",
          "United Kingdom",
          "India",
          "India",
          "Indonesia",
          "United States",
          "United States",
          "United States",
          "United States",
          "United States",
          "France",
          "United States",
          "United Kingdom",
          "United Kingdom",
          "India",
          "United Kingdom",
          "Netherlands",
          "Thailand",
          "United States",
          "Philippines",
          "Taiwan",
          "United States",
          "United States",
          "United States",
          "United States",
          "India",
          "United States",
          "Japan",
          "Japan",
          "France",
          "United States",
          "United States",
          "Australia",
          "United States",
          "Japan",
          "Japan",
          "United States",
          "United Kingdom",
          "United States",
          "United States",
          "United Kingdom",
          "Australia",
          "United States",
          "United States",
          "Argentina",
          "Argentina",
          "United States",
          "Japan",
          "United States",
          "China",
          "United States",
          "United States",
          "United Kingdom",
          "United States",
          "Japan",
          "Japan",
          "Japan",
          "South Korea",
          "Australia",
          "India",
          "Japan",
          "United Kingdom",
          "United States",
          "United States",
          "Australia",
          "India",
          "India",
          "India",
          "Italy",
          "United States",
          "Turkey",
          "Egypt",
          "United States",
          "Turkey",
          "United States",
          "United States",
          "United States",
          "United States",
          "United States",
          "Egypt",
          "United States",
          "Japan",
          "Brazil",
          "United States",
          "United States",
          "United States",
          "United States",
          "United States",
          "South Korea",
          "United States",
          "United States",
          "United States",
          "United States",
          "Canada",
          "Canada",
          "United States",
          "India",
          "Spain",
          "United States",
          "United States",
          "United States",
          "United States",
          "India",
          "Philippines",
          "United States",
          "South Korea",
          "Germany",
          "Japan",
          "United States",
          "United Kingdom",
          "Spain",
          "India",
          "United States",
          "India",
          "United Arab Emirates",
          "United Arab Emirates",
          "United States",
          "United States",
          "United States",
          "United Kingdom",
          "United States",
          "Japan",
          "United Kingdom",
          "United States",
          "United Kingdom",
          "Taiwan",
          "United Kingdom",
          "Colombia",
          "United States",
          "Nigeria",
          "United States",
          "United States",
          "United Kingdom",
          "Argentina",
          "United States",
          "Canada",
          "Italy",
          "United States",
          "Canada",
          "France",
          "United States",
          "United States",
          "Uruguay",
          "United States",
          "Argentina",
          "India",
          "India",
          "Spain",
          "Canada",
          "India",
          "India",
          "Japan",
          "India",
          "Japan",
          "India",
          "United States",
          "United Kingdom",
          "India",
          "United States",
          "France",
          "Chile",
          "Turkey",
          "Turkey",
          "Australia",
          "Germany",
          "United States",
          "India",
          "India",
          "Indonesia",
          "Spain",
          "Turkey",
          "India",
          "Japan",
          "United States",
          "United States",
          "United Arab Emirates",
          "United Arab Emirates",
          "Nigeria",
          "United States",
          "India",
          "India",
          "United States",
          "United States",
          "United States",
          "India",
          "United States",
          "India",
          "Egypt",
          "Ireland",
          "China",
          "United States",
          "United States",
          "United States",
          "United States",
          "Australia",
          "Australia",
          "United States",
          "United States",
          "Netherlands",
          "United Kingdom",
          "Malaysia",
          "United States",
          "Taiwan",
          "South Korea",
          "United States",
          "Italy",
          "India",
          "United States",
          "United States",
          "India",
          "Thailand",
          "Mexico",
          "United Kingdom",
          "United States",
          "United States",
          "India",
          "India",
          "United States",
          "United States",
          "United Kingdom",
          "Russia",
          "Ireland",
          "United States",
          "India",
          "United States",
          "United States",
          "United States",
          "United States",
          "United States",
          "United Kingdom",
          "United States",
          "Malaysia",
          "United States",
          "United States",
          "United States",
          "India",
          "United States",
          "United States",
          "India",
          "India",
          "Israel",
          "India",
          "Mexico",
          "United States",
          "United States",
          "Indonesia",
          "India",
          "United States",
          "United States",
          "United States",
          "United States",
          "United States",
          "United States",
          "Australia",
          "Canada",
          "United States",
          "India",
          "Turkey",
          "Ireland",
          "India",
          "Germany",
          "France",
          "United States",
          "Canada",
          "United States",
          "United States",
          "Australia",
          "Indonesia",
          "United States",
          "France",
          "United States",
          "United States",
          "Australia",
          "United States",
          "Canada",
          "United States",
          "Lebanon",
          "South Korea",
          "Canada",
          "United States",
          "France",
          "Argentina",
          "Hong Kong",
          "United States",
          "United States",
          "Canada",
          "United States",
          "United States",
          "India",
          "United States",
          "Philippines",
          "South Korea",
          "United States",
          "United States",
          "Philippines",
          "United States",
          "United States",
          "Colombia",
          "United States",
          "India",
          "United States",
          "China",
          "Lebanon",
          "Hong Kong",
          "United States",
          "Spain",
          "United States",
          "India",
          "Denmark",
          "United States",
          "South Korea",
          "Japan",
          "Japan",
          "United States",
          "United States",
          "South Korea",
          "Egypt",
          "India",
          "China",
          "Japan",
          "Japan",
          "Japan",
          "Japan",
          "United States",
          "India",
          "United States",
          "United States",
          "United States",
          "Spain",
          "South Korea",
          "Romania",
          "Thailand",
          "Australia",
          "India",
          "Canada",
          "United States",
          "Japan",
          "United Kingdom",
          "United States",
          "India",
          "United Kingdom",
          "Canada",
          "United Kingdom",
          "United Kingdom",
          "India",
          "Argentina",
          "United States",
          "United Kingdom",
          "India",
          "United States",
          "Australia",
          "United States",
          "United States",
          "West Germany",
          "United Kingdom",
          "United Kingdom",
          "France",
          "Denmark",
          "Pakistan",
          "United States",
          "United Kingdom",
          "United States",
          "Turkey",
          "United States",
          "Australia",
          "South Africa",
          "United States",
          "United States",
          "United States",
          "United States",
          "Germany",
          "United States",
          "United States",
          "United States",
          "Spain",
          "United States",
          "Spain",
          "United States",
          "Thailand",
          "Thailand",
          "India",
          "Norway",
          "United States",
          "United States",
          "United States",
          "United States",
          "United States",
          "Chile",
          "Canada",
          "United States",
          "United States",
          "India",
          "United Kingdom",
          "Hong Kong",
          "United States",
          "United States",
          "United States",
          "United States",
          "India",
          "Thailand",
          "United States",
          "United States",
          "Thailand",
          "United States",
          "United Kingdom",
          "United Kingdom",
          "United Kingdom",
          "India",
          "United States",
          "South Korea",
          "Ireland",
          "United States",
          "United States",
          "United States",
          "United States",
          "Japan",
          "United States",
          "United States",
          "United Kingdom",
          "United States",
          "Turkey",
          "Belgium",
          "Germany",
          "Poland",
          "United States",
          "United States",
          "India",
          "United States",
          "United States",
          "United States",
          "United States",
          "Slovenia",
          "United States",
          "United States",
          "United States",
          "United States",
          "Mexico",
          "United States",
          "Canada",
          "United States",
          "United States",
          "Peru",
          "United States",
          "United States",
          "South Africa",
          "Germany",
          "United Kingdom",
          "United States",
          "United States",
          "United Kingdom",
          "India",
          "United States",
          "United States",
          "United Kingdom",
          "United States",
          "India",
          "India",
          "United States",
          "India",
          "India",
          "Pakistan",
          "United Kingdom",
          "New Zealand",
          "Canada",
          "Indonesia",
          "Japan",
          "United States",
          "India",
          "United Kingdom",
          "United States",
          "United States",
          "United States",
          "India",
          "United States",
          "United States",
          "South Korea",
          "South Korea",
          "United States",
          "United States",
          "United States",
          "Argentina",
          "India",
          "United Kingdom",
          "United Kingdom",
          "United Kingdom",
          "United States",
          "United States",
          "France",
          "India",
          "United States",
          "Mexico",
          "United States",
          "Australia",
          "France",
          "China",
          "United States",
          "Switzerland",
          "China",
          "Canada",
          "United Kingdom",
          "United Kingdom",
          "Australia",
          "United States",
          "Sweden",
          "United States",
          "United States",
          "United States",
          "Thailand",
          "India",
          "United States",
          "United States",
          "France",
          "Spain",
          "United States",
          "United States",
          "United Kingdom",
          "United States",
          "United States",
          "United States",
          "United States",
          "United States",
          "Mexico",
          "United States",
          "United States",
          "United States",
          "South Korea",
          "United States",
          "United Kingdom",
          "United States",
          "China",
          "Canada",
          "China",
          "Japan",
          "India",
          "United States",
          "United States",
          "Spain",
          "United States",
          "United States",
          "India",
          "United States",
          "United States",
          "United States",
          "United States",
          "United States",
          "South Korea",
          "United States",
          "India",
          "United States",
          "France",
          "South Korea",
          "Turkey",
          "Singapore",
          "United States",
          "United States",
          "United States",
          "Taiwan",
          "United Kingdom",
          "United States",
          "Spain",
          "Thailand",
          "United States",
          "Nigeria",
          "United States",
          "Kuwait",
          "United States",
          "Kuwait",
          "United States",
          "United Kingdom",
          "France",
          "United States",
          "Canada",
          "Japan",
          "Taiwan",
          "United States",
          "United States",
          "Turkey",
          "Serbia",
          "India",
          "United Kingdom",
          "United States",
          "United States",
          "India",
          "United Kingdom",
          "Canada",
          "United States",
          "United States",
          "United States",
          "United States",
          "United States",
          "United States",
          "United States",
          "United Kingdom",
          "Germany",
          "Mexico",
          "Japan",
          "South Korea",
          "Thailand",
          "France",
          "China",
          "United States",
          "India",
          "Germany",
          "India",
          "Turkey",
          "India",
          "United States",
          "United States",
          "United States",
          "United States",
          "United Kingdom",
          "United States",
          "Israel",
          "United States",
          "United Kingdom",
          "United States",
          "Canada",
          "United Kingdom",
          "Australia",
          "Mexico",
          "Canada",
          "United Kingdom",
          "United States",
          "India",
          "Turkey",
          "United States",
          "United States",
          "Canada",
          "United Kingdom",
          "Belgium",
          "United States",
          "Argentina",
          "Japan",
          "Japan",
          "Japan",
          "Japan",
          "Japan",
          "South Korea",
          "United States",
          "Argentina",
          "Canada",
          "South Africa",
          "United States",
          "Hong Kong",
          "Hong Kong",
          "China",
          "Hong Kong",
          "India",
          "India",
          "South Korea",
          "United States",
          "Australia",
          "Taiwan",
          "United States",
          "Canada",
          "Finland",
          "United States",
          "Japan",
          "India",
          "Philippines",
          "India",
          "India",
          "India",
          "Germany",
          "Indonesia",
          "United Kingdom",
          "Nigeria",
          "South Korea",
          "India",
          "United States",
          "United States",
          "Philippines",
          "United States",
          "United States",
          "United States",
          "Nigeria",
          "Spain",
          "South Korea",
          "Egypt",
          "South Korea",
          "India",
          "United States",
          "Nigeria",
          "United States",
          "Australia",
          "United States",
          "Taiwan",
          "India",
          "India",
          "India",
          "India",
          "India",
          "France",
          "Canada",
          "United States",
          "United Kingdom",
          "United Kingdom",
          "United Kingdom",
          "United Kingdom",
          "United States",
          "United Kingdom",
          "Vietnam",
          "United States",
          "India",
          "Sweden",
          "Malaysia",
          "India",
          "India",
          "India",
          "United States",
          "Cambodia",
          "United States",
          "India",
          "India",
          "United Kingdom",
          "India",
          "Pakistan",
          "United Kingdom",
          "United States",
          "Chile",
          "India",
          "Japan",
          "Japan",
          "Israel",
          "India",
          "India",
          "United States",
          "Poland",
          "Spain",
          "United States",
          "United States",
          "United States",
          "United States",
          "United States",
          "United States",
          "United States",
          "United States",
          "United States",
          "United States",
          "United States",
          "United States",
          "United States",
          "United States",
          "United States",
          "United States",
          "United States",
          "Mexico",
          "United States",
          "United States",
          "United States",
          "United States",
          "United States",
          "United States",
          "United States",
          "United States",
          "Ireland",
          "United States",
          "United States",
          "United Kingdom",
          "India",
          "India",
          "Canada",
          "United States",
          "United States",
          "United States",
          "United States",
          "United States",
          "United States",
          "United States",
          "United States",
          "United States",
          "United States",
          "United States",
          "United Kingdom",
          "United States",
          "United States",
          "Japan",
          "India",
          "United States",
          "Russia",
          "Jordan",
          "United States",
          "United States",
          "United States",
          "United States",
          "United States",
          "United States",
          "South Korea",
          "United States",
          "United States",
          "United States",
          "India",
          "United Kingdom",
          "United States",
          "United States",
          "United States",
          "India",
          "United Kingdom",
          "United States",
          "India",
          "United States",
          "United States",
          "United States",
          "United States",
          "United States",
          "United States",
          "United States",
          "United States",
          "United States",
          "Japan",
          "Taiwan",
          "India",
          "India",
          "Brazil",
          "United States",
          "United Kingdom",
          "India",
          "United States",
          "United States",
          "United States",
          "France",
          "Austria",
          "Japan",
          "Chile",
          "Mexico",
          "United States",
          "United States",
          "United States",
          "India",
          "India",
          "India",
          "United States",
          "United States",
          "United States",
          "United States",
          "United States",
          "United States",
          "Kuwait",
          "South Korea",
          "United States",
          "United States",
          "United States",
          "United States",
          "Brazil",
          "Denmark",
          "Germany",
          "Argentina",
          "Philippines",
          "Taiwan",
          "United States",
          "United States",
          "Hong Kong",
          "United States",
          "United States",
          "Canada",
          "United States",
          "United States",
          "Japan",
          "United Kingdom",
          "Japan",
          "Japan",
          "South Korea",
          "United States",
          "Taiwan",
          "Turkey",
          "Turkey",
          "India",
          "India",
          "India",
          "India",
          "India",
          "India",
          "India",
          "India",
          "India",
          "Japan",
          "India",
          "India",
          "India",
          "India",
          "India",
          "India",
          "United States",
          "India",
          "India",
          "United States",
          "India",
          "India",
          "United Kingdom",
          "United Arab Emirates",
          "Philippines",
          "India",
          "South Africa",
          "India",
          "India",
          "South Africa",
          "India",
          "India",
          "Japan",
          "India",
          "India",
          "Turkey",
          "Brazil",
          "Egypt",
          "United States",
          "India",
          "Indonesia",
          "India",
          "Nigeria",
          "United States",
          "United States",
          "Australia",
          "Australia",
          "India",
          "United States",
          "United Kingdom",
          "United States",
          "United States",
          "United States",
          "United States",
          "United States",
          "United States",
          "India",
          "United States",
          "India",
          "India",
          "Australia",
          "India",
          "United States",
          "United States",
          "United States",
          "United States",
          "United States",
          "United States",
          "United States",
          "India",
          "United States",
          "United States",
          "United States",
          "United States",
          "United States",
          "United States",
          "United States",
          "United States",
          "United States",
          "United States",
          "United States",
          "United States",
          "Pakistan",
          "India",
          "India",
          "India",
          "India",
          "India",
          "India",
          "India",
          "India",
          "India",
          "India",
          "India",
          "China",
          "United States",
          "United States",
          "United States",
          "United States",
          "Philippines",
          "Russia",
          "Netherlands",
          "Germany",
          "Turkey",
          "United States",
          "United States",
          "United States",
          "United Kingdom",
          "France",
          "Japan",
          "Turkey",
          "United States",
          "United States",
          "United States",
          "India",
          "United States",
          "United States",
          "United States",
          "United States",
          "United Kingdom",
          "United States",
          "United States",
          "United States",
          "Hungary",
          "United Kingdom",
          "Canada",
          "United States",
          "Nigeria",
          "China",
          "United States",
          "China",
          "United States",
          "United Kingdom",
          "United States",
          "United States",
          "France",
          "South Africa",
          "United States",
          "India",
          "India",
          "India",
          "Canada",
          "United Kingdom",
          "United States",
          "United States",
          "United States",
          "Brazil",
          "Philippines",
          "United Kingdom",
          "Malaysia",
          "Spain",
          "United States",
          "Japan",
          "United States",
          "United States",
          "United States",
          "United States",
          "Taiwan",
          "United States",
          "Turkey",
          "Turkey",
          "Canada",
          "India",
          "United Kingdom",
          "India",
          "Bangladesh",
          "United States",
          "United Kingdom",
          "United States",
          "United States",
          "Malaysia",
          "United States",
          "India",
          "Norway",
          "United States",
          "United States",
          "United States",
          "United States",
          "India",
          "United States",
          "United States",
          "United States",
          "United States",
          "India",
          "United States",
          "India",
          "United States",
          "India",
          "United States",
          "India",
          "India",
          "India",
          "United States",
          "United States",
          "Hong Kong",
          "Mexico",
          "United States",
          "United States",
          "China",
          "Indonesia",
          "United States",
          "India",
          "Japan",
          "Japan",
          "United Kingdom",
          "Turkey",
          "Turkey",
          "India",
          "India",
          "India",
          "United States",
          "India",
          "India",
          "United States",
          "United States",
          "Argentina",
          "United States",
          "United States",
          "Spain",
          "Italy",
          "United States",
          "Colombia",
          "United States",
          "United States",
          "United States",
          "Taiwan",
          "Spain",
          "Mexico",
          "France",
          "Colombia",
          "United States",
          "Mexico",
          "France",
          "Mexico",
          "Taiwan",
          "Mexico",
          "Colombia",
          "India",
          "India",
          "Thailand",
          "India",
          "India",
          "United States",
          "Hong Kong",
          "United States",
          "United States",
          "United States",
          "France",
          "United States",
          "Colombia",
          "Brazil",
          "India",
          "United States",
          "India",
          "India",
          "India",
          "India",
          "United Kingdom",
          "Singapore",
          "Nigeria",
          "United States",
          "United States",
          "United States",
          "Russia",
          "United States",
          "Colombia",
          "South Korea",
          "United Kingdom",
          "United States",
          "United States",
          "Nigeria",
          "Japan",
          "United Kingdom",
          "United States",
          "United Kingdom",
          "United States",
          "Germany",
          "United States",
          "Taiwan",
          "United States",
          "United States",
          "United Kingdom",
          "Netherlands",
          "France",
          "France",
          "United States",
          "United States",
          "United States",
          "France",
          "United States",
          "United States",
          "United States",
          "United States",
          "United States",
          "United Kingdom",
          "India",
          "United States",
          "United States",
          "United States",
          "United Kingdom",
          "United States",
          "China",
          "Mexico",
          "Mexico",
          "Hong Kong",
          "United States",
          "United States",
          "United States",
          "United States",
          "United States",
          "United States",
          "United States",
          "Denmark",
          "Denmark",
          "United States",
          "United States",
          "United States",
          "United States",
          "United States",
          "United States",
          "United States",
          "Canada",
          "Denmark",
          "Denmark",
          "United States",
          "United States",
          "India",
          "United States",
          "United States",
          "India",
          "United States",
          "United States",
          "France",
          "United Kingdom",
          "United States",
          "United States",
          "United States",
          "United States",
          "United States",
          "Egypt",
          "Malaysia",
          "South Korea",
          "Japan",
          "Turkey",
          "Turkey",
          "United States",
          "United States",
          "India",
          "United States",
          "Canada",
          "South Africa",
          "South Korea",
          "United States",
          "United States",
          "India",
          "United States",
          "India",
          "India",
          "United States",
          "Sweden",
          "Taiwan",
          "United States",
          "United Kingdom",
          "Egypt",
          "Canada",
          "Hong Kong",
          "Nigeria",
          "United States",
          "United States",
          "Mexico",
          "United States",
          "United States",
          "India",
          "Norway",
          "India",
          "United Kingdom",
          "United States",
          "China",
          "United States",
          "Taiwan",
          "Egypt",
          "Nigeria",
          "Brazil",
          "Lebanon",
          "United States",
          "United States",
          "United Kingdom",
          "United States",
          "Hong Kong",
          "United States",
          "Australia",
          "Australia",
          "Australia",
          "United States",
          "United Kingdom",
          "United States",
          "United States",
          "India",
          "United States",
          "United States",
          "United States",
          "United States",
          "United States",
          "United States",
          "United States",
          "United States",
          "India",
          "Japan",
          "United States",
          "United States",
          "South Korea",
          "Spain",
          "South Korea",
          "Nigeria",
          "United States",
          "United States",
          "United States",
          "United States",
          "United States",
          "Mexico",
          "Spain",
          "Mexico",
          "United Kingdom",
          "India",
          "United States",
          "United Kingdom",
          "United Kingdom",
          "Canada",
          "Turkey",
          "Spain",
          "France",
          "Mexico",
          "Russia",
          "India",
          "United States",
          "Philippines",
          "South Korea",
          "United Kingdom",
          "Germany",
          "United Kingdom",
          "United States",
          "United Kingdom",
          "United States",
          "Canada",
          "United States",
          "United States",
          "Hong Kong",
          "Hong Kong",
          "Germany",
          "India",
          "Mexico",
          "United States",
          "Mexico",
          "United States",
          "Colombia",
          "United States",
          "United States",
          "United States",
          "Canada",
          "France",
          "Canada",
          "United States",
          "Nigeria",
          "United States",
          "Japan",
          "United States",
          "United States",
          "United States",
          "United States",
          "United States",
          "Taiwan",
          "Sweden",
          "Turkey",
          "India",
          "South Korea",
          "Japan",
          "Japan",
          "India",
          "Taiwan",
          "United States",
          "Taiwan",
          "Taiwan",
          "United States",
          "Taiwan",
          "Indonesia",
          "Indonesia",
          "South Korea",
          "Hong Kong",
          "Romania",
          "United States",
          "United Kingdom",
          "Nigeria",
          "Canada",
          "United States",
          "Indonesia",
          "Turkey",
          "Taiwan",
          "India",
          "Taiwan",
          "China",
          "China",
          "Hong Kong",
          "Australia",
          "India",
          "South Korea",
          "United States",
          "United States",
          "Egypt",
          "United States",
          "United Kingdom",
          "Philippines",
          "Indonesia",
          "United Kingdom",
          "Japan",
          "United States",
          "United States",
          "Germany",
          "Turkey",
          "Brazil",
          "United States",
          "United States",
          "South Korea",
          "United States",
          "United Kingdom",
          "United States",
          "Colombia",
          "Hong Kong",
          "India",
          "Japan",
          "United States",
          "Brazil",
          "United States",
          "Brazil",
          "Brazil",
          "Argentina",
          "Argentina",
          "South Korea",
          "United States",
          "India",
          "India",
          "India",
          "China",
          "India",
          "India",
          "Brazil",
          "Mexico",
          "India",
          "Italy",
          "United States",
          "Canada",
          "Australia",
          "China",
          "United States",
          "Japan",
          "India",
          "Argentina",
          "India",
          "India",
          "United States",
          "India",
          "United States",
          "United States",
          "India",
          "United States",
          "India",
          "United States",
          "Mexico",
          "Australia",
          "United States",
          "United States",
          "United States",
          "Hong Kong",
          "India",
          "United States",
          "United States",
          "United States",
          "India",
          "United States",
          "India",
          "India",
          "Chile",
          "Italy",
          "Japan",
          "Japan",
          "United States",
          "South Korea",
          "France",
          "Uruguay",
          "France",
          "India",
          "United States",
          "Norway",
          "India",
          "United States",
          "India",
          "India",
          "United Kingdom",
          "India",
          "Hong Kong",
          "Turkey",
          "Japan",
          "India",
          "India",
          "India",
          "India",
          "India",
          "United States",
          "United States",
          "United States",
          "Germany",
          "Australia",
          "Israel",
          "India",
          "India",
          "India",
          "Argentina",
          "United Kingdom",
          "United States",
          "United States",
          "United States",
          "United States",
          "India",
          "Egypt",
          "United Kingdom",
          "United Kingdom",
          "United States",
          "South Korea",
          "United Kingdom",
          "United States",
          "United States",
          "India",
          "India",
          "United States",
          "United States",
          "United States",
          "China",
          "United States",
          "United States",
          "India",
          "India",
          "United States",
          "India",
          "India",
          "United Kingdom",
          "India",
          "India",
          "United Kingdom",
          "United States",
          "India",
          "India",
          "India",
          "India",
          "India",
          "Canada",
          "Spain",
          "United Kingdom",
          "Argentina",
          "Canada",
          "United States",
          "United States",
          "United States",
          "United Kingdom",
          "Japan",
          "United States",
          "Brazil",
          "United States",
          "United States",
          "Philippines",
          "United States",
          "United States",
          "United States",
          "France",
          "United States",
          "United States",
          "United States",
          "United States",
          "United States",
          "India",
          "India",
          "United Kingdom",
          "United States",
          "United States",
          "France",
          "Hong Kong",
          "United States",
          "United States",
          "Canada",
          "India",
          "United States",
          "United States",
          "Japan",
          "United States",
          "United States",
          "United States",
          "United States",
          "United States",
          "United States",
          "United States",
          "United States",
          "United States",
          "United States",
          "Japan",
          "India",
          "United States",
          "United Kingdom",
          "India",
          "Saudi Arabia",
          "Saudi Arabia",
          "United States",
          "Russia",
          "United States",
          "United States",
          "India",
          "India",
          "South Korea",
          "United States",
          "Hong Kong",
          "United States",
          "Argentina",
          "South Africa",
          "India",
          "Mexico",
          "India",
          "Brazil",
          "United States",
          "Indonesia",
          "Hong Kong",
          "Egypt",
          "United States",
          "France",
          "China",
          "United States",
          "United States",
          "India",
          "Mexico",
          "Mexico",
          "Canada",
          "United States",
          "United States",
          "United States",
          "United States",
          "United States",
          "Italy",
          "Canada",
          "Poland",
          "United Kingdom",
          "Nigeria",
          "United Kingdom",
          "United Kingdom",
          "Japan",
          "Australia",
          "India",
          "India",
          "India",
          "United States",
          "United States",
          "South Korea",
          "Argentina",
          "South Korea",
          "Germany",
          "United States",
          "United States",
          "United States",
          "South Korea",
          "Saudi Arabia",
          "United States",
          "Canada",
          "Indonesia",
          "New Zealand",
          "France",
          "United States",
          "United States",
          "United States",
          "United States",
          "India",
          "India",
          "Spain",
          "United Kingdom",
          "United States",
          "Nigeria",
          "Nigeria",
          "India",
          "United Kingdom",
          "United States",
          "United States",
          "United States",
          "China",
          "India",
          "Mexico",
          "United States",
          "France",
          "Chile",
          "Argentina",
          "India",
          "United Kingdom",
          "Netherlands",
          "India",
          "United States",
          "United States",
          "Canada",
          "United Kingdom",
          "United States",
          "United States",
          "United States",
          "United States",
          "United States",
          "Canada",
          "Japan",
          "Japan",
          "India",
          "United States",
          "United States",
          "Canada",
          "United States",
          "India",
          "India",
          "India",
          "United States",
          "United States",
          "India",
          "United States",
          "United States",
          "United States",
          "United States",
          "United States",
          "United States",
          "Czech Republic",
          "United States",
          "Indonesia",
          "United States",
          "France",
          "United States",
          "Argentina",
          "United States",
          "United Kingdom",
          "Japan",
          "Singapore",
          "Austria",
          "United Kingdom",
          "United States",
          "United States",
          "United States",
          "United States",
          "France",
          "United States",
          "South Korea",
          "United States",
          "India",
          "United States",
          "Canada",
          "Turkey",
          "France",
          "Spain",
          "Japan",
          "United States",
          "United States",
          "India",
          "South Korea",
          "India",
          "Netherlands",
          "Netherlands",
          "India",
          "United States",
          "United States",
          "Mexico",
          "Japan",
          "Taiwan",
          "India",
          "Singapore",
          "Norway",
          "United States",
          "South Korea",
          "United States",
          "Taiwan",
          "United States",
          "United States",
          "United States",
          "United States",
          "United States",
          "India",
          "United Kingdom",
          "Malaysia",
          "United States",
          "United States",
          "United States",
          "United Kingdom",
          "Japan",
          "Japan",
          "Japan",
          "Japan",
          "United States",
          "India",
          "Egypt",
          "United States",
          "India",
          "United States",
          "Nigeria",
          "France",
          "China",
          "India",
          "South Korea",
          "Nigeria",
          "United States",
          "Mexico",
          "United States",
          "United States",
          "Spain",
          "United States",
          "Turkey",
          "United States",
          "United Kingdom",
          "Thailand",
          "Canada",
          "Egypt",
          "Germany",
          "United States",
          "United States",
          "United States",
          "United States",
          "United States",
          "United States",
          "United States",
          "United States",
          "United States",
          "United States",
          "United States",
          "United States",
          "United States",
          "United States",
          "United States",
          "India",
          "Canada",
          "United States",
          "United Kingdom",
          "Japan",
          "United Kingdom",
          "United Kingdom",
          "United Kingdom",
          "United Kingdom",
          "United States",
          "United Kingdom",
          "United Kingdom",
          "United States",
          "United Kingdom",
          "United Kingdom",
          "United Kingdom",
          "United Kingdom",
          "United Kingdom",
          "United Kingdom",
          "United States",
          "Argentina",
          "United Kingdom",
          "United States",
          "France",
          "Pakistan",
          "Egypt",
          "Netherlands",
          "Germany",
          "France",
          "United States",
          "India",
          "United States",
          "Israel",
          "Brazil",
          "Canada",
          "United States",
          "Japan",
          "United States",
          "India",
          "India",
          "Australia",
          "India",
          "Australia",
          "United States",
          "United States",
          "United States",
          "United States",
          "United Kingdom",
          "India",
          "United States",
          "United States",
          "Israel",
          "United States",
          "United States",
          "Mexico",
          "United States",
          "United States",
          "United States",
          "South Korea",
          "Hong Kong",
          "United States",
          "Canada",
          "India",
          "Egypt",
          "India",
          "Chile",
          "France",
          "United States",
          "Turkey",
          "United States",
          "United States",
          "India",
          "Chile",
          "India",
          "India",
          "Malaysia",
          "India",
          "India",
          "India",
          "India",
          "Malaysia",
          "India",
          "France",
          "United States",
          "India",
          "India",
          "India",
          "United Kingdom",
          "United States",
          "United States",
          "United States",
          "United States",
          "United States",
          "Taiwan",
          "India",
          "Philippines",
          "United States",
          "Spain",
          "United Kingdom",
          "Mexico",
          "United States",
          "India",
          "Philippines",
          "Canada",
          "Canada",
          "United Kingdom",
          "Spain",
          "India",
          "India",
          "South Korea",
          "United States",
          "Taiwan",
          "Thailand",
          "Egypt",
          "United States",
          "Philippines",
          "Canada",
          "South Korea",
          "India",
          "Germany",
          "United States",
          "Georgia",
          "United States",
          "Italy",
          "Egypt",
          "United Kingdom",
          "Japan",
          "Switzerland",
          "United States",
          "South Korea",
          "United States",
          "United States",
          "United States",
          "United States",
          "United States",
          "United States",
          "United States",
          "South Korea",
          "United States",
          "Taiwan",
          "United States",
          "United States",
          "South Africa",
          "South Korea",
          "United States",
          "United States",
          "Canada",
          "Canada",
          "United States",
          "South Korea",
          "South Korea",
          "Hong Kong",
          "United Kingdom",
          "South Korea",
          "South Korea",
          "United States",
          "Egypt",
          "Turkey",
          "Indonesia",
          "Indonesia",
          "United States",
          "United Kingdom",
          "United States",
          "Turkey",
          "Thailand",
          "Italy",
          "United Kingdom",
          "South Africa",
          "United States",
          "Brazil",
          "United States",
          "United States",
          "United States",
          "South Korea",
          "United States",
          "Singapore",
          "India",
          "France",
          "United Kingdom",
          "India",
          "India",
          "India",
          "United States",
          "United Kingdom",
          "Italy",
          "Japan",
          "United States",
          "France",
          "Germany",
          "United States",
          "Mexico",
          "Spain",
          "Ireland",
          "United States",
          "United States",
          "India",
          "India",
          "United States",
          "Thailand",
          "United States",
          "United States",
          "United States",
          "Mexico",
          "United States",
          "Japan",
          "Japan",
          "Japan",
          "Japan",
          "Japan",
          "Japan",
          "Japan",
          "Japan",
          "Japan",
          "India",
          "Uruguay",
          "Chile",
          "United States",
          "United States",
          "United States",
          "United States",
          "India",
          "United States",
          "United States",
          "United States",
          "United States",
          "India",
          "United States",
          "United States",
          "United Kingdom",
          "United States",
          "United States",
          "United States",
          "United States",
          "United Kingdom",
          "United Kingdom",
          "India",
          "United States",
          "United States",
          "United States",
          "China",
          "United States",
          "United States",
          "India",
          "India",
          "United States",
          "Japan",
          "Chile",
          "Turkey",
          "United States",
          "United States",
          "United States",
          "United States",
          "Nigeria",
          "United States",
          "United States",
          "United States",
          "United States",
          "India",
          "China",
          "United States",
          "India",
          "Puerto Rico",
          "United States",
          "United States",
          "United States",
          "Turkey",
          "United Kingdom",
          "United Kingdom",
          "United States",
          "United States",
          "United States",
          "South Korea",
          "United States",
          "United States",
          "United States",
          "India",
          "Nigeria",
          "Germany",
          "Japan",
          "Canada",
          "Japan",
          "Spain",
          "Turkey",
          "India",
          "United Kingdom",
          "India",
          "Chile",
          "Japan",
          "Japan",
          "United States",
          "Egypt",
          "India",
          "Mexico",
          "Philippines",
          "United States",
          "Argentina",
          "United States",
          "Norway",
          "India",
          "Chile",
          "Poland",
          "Netherlands",
          "Brazil",
          "United States",
          "France",
          "United States",
          "United States",
          "United States",
          "India",
          "United States",
          "United States",
          "Norway",
          "United Kingdom",
          "Canada",
          "United States",
          "Argentina",
          "United Kingdom",
          "France",
          "Brazil",
          "Brazil",
          "United States",
          "United States",
          "United States",
          "United States",
          "United States",
          "United States",
          "United States",
          "United States",
          "United States",
          "United States",
          "United States",
          "United States",
          "United States",
          "United States",
          "United States",
          "United States",
          "United States",
          "United States",
          "United States",
          "United States",
          "France",
          "United States",
          "United States",
          "United States",
          "United Kingdom",
          "Taiwan",
          "Germany",
          "United States",
          "United Kingdom",
          "Israel",
          "Italy",
          "Japan",
          "United States",
          "United Kingdom",
          "Denmark",
          "Denmark",
          "Brazil",
          "United States",
          "United Kingdom",
          "United States",
          "France",
          "Australia",
          "Norway",
          "United States",
          "United States",
          "United States",
          "Hong Kong",
          "United States",
          "United States",
          "United Kingdom",
          "United Kingdom",
          "United Kingdom",
          "United States",
          "United States",
          "India",
          "United States",
          "Spain",
          "Spain",
          "Taiwan",
          "United States",
          "Germany",
          "Australia",
          "France",
          "India",
          "South Korea",
          "Thailand",
          "Thailand",
          "United States",
          "India",
          "Canada",
          "Canada",
          "United States",
          "Romania",
          "India",
          "United States",
          "United States",
          "Nigeria",
          "Nigeria",
          "South Korea",
          "Japan",
          "United States",
          "Germany",
          "Brazil",
          "United States",
          "United States",
          "France",
          "Denmark",
          "United States",
          "India",
          "Egypt",
          "Egypt",
          "Brazil",
          "Hungary",
          "Taiwan",
          "United States",
          "Italy",
          "Nigeria",
          "Hong Kong",
          "Brazil",
          "India",
          "Hong Kong",
          "India",
          "United States",
          "United States",
          "United States",
          "United States",
          "United States",
          "United States",
          "United States",
          "United States",
          "Egypt",
          "China",
          "United Kingdom",
          "India",
          "India",
          "Italy",
          "India",
          "India",
          "Thailand",
          "United States",
          "Indonesia",
          "India",
          "United States",
          "India",
          "United States",
          "Canada",
          "United States",
          "United States",
          "South Korea",
          "Philippines",
          "India",
          "United States",
          "United States",
          "Japan",
          "South Korea",
          "United States",
          "Thailand",
          "Japan",
          "Turkey",
          "United States",
          "Denmark",
          "United States",
          "Australia",
          "United States",
          "United States",
          "Brazil",
          "United States",
          "South Korea",
          "United Kingdom",
          "China",
          "United States",
          "United Kingdom",
          "South Korea",
          "China",
          "United States",
          "Hong Kong",
          "United States",
          "United States",
          "Spain",
          "United States",
          "Philippines",
          "United States",
          "Turkey",
          "United States",
          "India",
          "France",
          "France",
          "United States",
          "United Kingdom",
          "Australia",
          "India",
          "India",
          "United Kingdom",
          "Canada",
          "United States",
          "Spain",
          "United States",
          "United Kingdom",
          "China",
          "United States",
          "Japan",
          "France",
          "United States",
          "United States",
          "Australia",
          "United States",
          "United States",
          "United Kingdom",
          "United Kingdom",
          "United States",
          "United States",
          "Germany",
          "China",
          "Turkey",
          "Thailand",
          "India",
          "United States",
          "United Kingdom",
          "India",
          "United States",
          "United States",
          "India",
          "United States",
          "India",
          "India",
          "United Kingdom",
          "Colombia",
          "Venezuela",
          "United States",
          "United States",
          "France",
          "Australia",
          "Peru",
          "India",
          "United States",
          "United States",
          "Philippines",
          "India",
          "India",
          "India",
          "Thailand",
          "United States",
          "United States",
          "Hong Kong",
          "United States",
          "United States",
          "Argentina",
          "United Kingdom",
          "Spain",
          "Mexico",
          "United States",
          "India",
          "South Korea",
          "United States",
          "India",
          "Lebanon",
          "Canada",
          "India",
          "Canada",
          "United States",
          "Spain",
          "France",
          "Brazil",
          "United States",
          "United States",
          "United Kingdom",
          "Egypt",
          "United States",
          "United States",
          "Canada",
          "United States",
          "Japan",
          "Spain",
          "India",
          "India",
          "Pakistan",
          "United States",
          "France",
          "South Korea",
          "United States",
          "India",
          "United Kingdom",
          "United States",
          "United States",
          "Colombia",
          "Malaysia",
          "United States",
          "United States",
          "United States",
          "India",
          "United States",
          "Mexico",
          "United Kingdom",
          "United States",
          "United States",
          "Turkey",
          "United States",
          "United States",
          "United States",
          "United States",
          "United Kingdom",
          "India",
          "United States",
          "Nigeria",
          "India",
          "India",
          "United Kingdom",
          "Lebanon",
          "Germany",
          "Thailand",
          "United States",
          "United States",
          "United States",
          "India",
          "China",
          "Turkey",
          "Malaysia",
          "India",
          "Colombia",
          "United Kingdom",
          "United States",
          "Ireland",
          "United Kingdom",
          "United States",
          "Hong Kong",
          "Uruguay",
          "Argentina",
          "Canada",
          "United States",
          "Germany",
          "United States",
          "United States",
          "South Korea",
          "France",
          "United States",
          "United States",
          "United States",
          "Germany",
          "India",
          "United States",
          "Germany",
          "United States",
          "India",
          "France",
          "United States",
          "India",
          "India",
          "India",
          "Thailand",
          "Nigeria",
          "India",
          "India",
          "United States",
          "Colombia",
          "Canada",
          "United States",
          "United States",
          "India",
          "United States",
          "India",
          "Australia",
          "United States",
          "India",
          "United States",
          "United States",
          "Pakistan",
          "United States",
          "United States",
          "India",
          "India",
          "Argentina",
          "France",
          "India",
          "France",
          "Spain",
          "United Kingdom",
          "United Kingdom",
          "United States",
          "France",
          "United States",
          "India",
          "United States",
          "United States",
          "Canada",
          "United States",
          "United States",
          "United Kingdom",
          "Spain",
          "United States",
          "Spain",
          "United States",
          "United States",
          "United States",
          "United States",
          "France",
          "United States",
          "Japan",
          "Japan",
          "United States",
          "Japan",
          "Japan",
          "United States",
          "United States",
          "Canada",
          "Canada",
          "India",
          "Japan",
          "South Africa",
          "Switzerland",
          "United States",
          "United States",
          "South Korea",
          "United States",
          "Portugal",
          "United States",
          "United States",
          "Indonesia",
          "India",
          "South Korea",
          "United Kingdom",
          "India",
          "Ghana",
          "United States",
          "India",
          "United States",
          "India",
          "United States",
          "United States",
          "United States",
          "United States",
          "United States",
          "United States",
          "United States",
          "France",
          "United States",
          "United States",
          "United States",
          "United States",
          "United States",
          "United States",
          "United States",
          "United States",
          "United States",
          "United States",
          "United States",
          "United States",
          "United States",
          "United States",
          "United States",
          "United States",
          "United States",
          "United States",
          "United States",
          "United States",
          "United States",
          "United States",
          "United States",
          "India",
          "India",
          "United States",
          "United States",
          "India",
          "India",
          "United States",
          "South Korea",
          "United States",
          "United States",
          "United States",
          "South Africa",
          "United States",
          "India",
          "Hong Kong",
          "United States",
          "United States",
          "United States",
          "United States",
          "United States",
          "South Korea",
          "United States",
          "South Korea",
          "United States",
          "India",
          "United States",
          "United States",
          "India",
          "United States",
          "India",
          "United States",
          "Thailand",
          "United States",
          "Canada",
          "Canada",
          "Argentina",
          "India",
          "South Korea",
          "United States",
          "Japan",
          "Argentina",
          "United States",
          "Ireland",
          "India",
          "Malaysia",
          "United States",
          "Canada",
          "United States",
          "Canada",
          "Canada",
          "Canada",
          "United States",
          "India",
          "United Kingdom",
          "United States",
          "United States",
          "China",
          "India",
          "India",
          "India",
          "India",
          "India",
          "United States",
          "India",
          "United States",
          "India",
          "China",
          "India",
          "Netherlands",
          "United States",
          "United States",
          "United Kingdom",
          "United Kingdom",
          "India",
          "Taiwan",
          "United States",
          "United States",
          "South Africa",
          "United States",
          "United States",
          "United States",
          "United States",
          "Spain",
          "Sweden",
          "United States",
          "Australia",
          "United States",
          "United States",
          "India",
          "United States",
          "India",
          "India",
          "United States",
          "France",
          "Malaysia",
          "India",
          "India",
          "United States",
          "United States",
          "Brazil",
          "United States",
          "India",
          "United States",
          "India",
          "United States",
          "Brazil",
          "United States",
          "India",
          "India",
          "Norway",
          "India",
          "United States",
          "China",
          "United States",
          "India",
          "South Korea",
          "United States",
          "United States",
          "Australia",
          "France",
          "India",
          "India",
          "India",
          "India",
          "India",
          "Australia",
          "India",
          "United States",
          "United States",
          "United States",
          "United States",
          "India",
          "India",
          "India",
          "India",
          "Singapore",
          "India",
          "Canada",
          "South Korea",
          "India",
          "India",
          "United States",
          "India",
          "Pakistan",
          "United States",
          "United States",
          "United States",
          "United States",
          "United States",
          "Canada",
          "United States",
          "United States",
          "India",
          "Japan",
          "Japan",
          "Egypt",
          "India",
          "Mexico",
          "United Kingdom",
          "United Kingdom",
          "United States",
          "United States",
          "United States",
          "Brazil",
          "United Kingdom",
          "United States",
          "Mexico",
          "Ireland",
          "United States",
          "Canada",
          "Canada",
          "Australia",
          "Japan",
          "South Korea",
          "United States",
          "United States",
          "Australia",
          "United States",
          "India",
          "United Kingdom",
          "United States",
          "United Kingdom",
          "Taiwan",
          "United States",
          "Egypt",
          "United States",
          "United Kingdom",
          "India",
          "India",
          "United States",
          "United States",
          "United States",
          "United States",
          "United States",
          "United States",
          "United States",
          "United States",
          "United States",
          "United States",
          "Malaysia",
          "Canada",
          "United States",
          "United Kingdom",
          "Mexico",
          "South Korea",
          "South Korea",
          "South Korea",
          "Canada",
          "United Kingdom",
          "Germany",
          "United States",
          "United States",
          "Canada",
          "United States",
          "United States",
          "United States",
          "Turkey",
          "Peru",
          "United Kingdom",
          "Egypt",
          "Hong Kong",
          "India",
          "United States",
          "Hong Kong",
          "Singapore",
          "South Korea",
          "United States",
          "Japan",
          "United Kingdom",
          "United Kingdom",
          "South Korea",
          "United States",
          "Mexico",
          "United States",
          "United States",
          "United Kingdom",
          "United States",
          "United States",
          "Mexico",
          "Mexico",
          "Colombia",
          "United States",
          "Brazil",
          "United States",
          "United States",
          "United Kingdom",
          "Australia",
          "United States",
          "United States",
          "Germany",
          "United States",
          "Japan",
          "United States",
          "Malaysia",
          "India",
          "United States",
          "Australia",
          "Netherlands",
          "United Kingdom",
          "United States",
          "India",
          "Malaysia",
          "India",
          "Germany",
          "United Kingdom",
          "Denmark",
          "India",
          "Argentina",
          "Japan",
          "United States",
          "United States",
          "Japan",
          "Mexico",
          "India",
          "Nigeria",
          "United States",
          "United States",
          "Italy",
          "United Kingdom",
          "South Korea",
          "South Korea",
          "United States",
          "United Kingdom",
          "France",
          "Germany",
          "India",
          "United States",
          "United States",
          "India",
          "United States",
          "United States",
          "United States",
          "United States",
          "United States",
          "United States",
          "United States",
          "France",
          "United States",
          "United States",
          "Egypt",
          "United States",
          "United States",
          "United States",
          "United States",
          "Mexico",
          "Canada",
          "Japan",
          "South Korea",
          "Turkey",
          "Turkey",
          "India",
          "India",
          "Mexico",
          "United States",
          "United States",
          "United States",
          "South Korea",
          "Ireland",
          "France",
          "Canada",
          "United Kingdom",
          "Thailand",
          "India",
          "United States",
          "United States",
          "United States",
          "Mexico",
          "Italy",
          "United States",
          "United States",
          "United States",
          "United States",
          "India",
          "United States",
          "United States",
          "Mexico",
          "Indonesia",
          "South Korea",
          "Germany",
          "India",
          "Mexico",
          "Hong Kong",
          "United States",
          "India",
          "South Korea",
          "United States",
          "United States",
          "United States",
          "United States",
          "India",
          "Japan",
          "Canada",
          "United States",
          "United Kingdom",
          "United States",
          "United States",
          "United States",
          "United States",
          "United States",
          "United States",
          "Canada",
          "India",
          "United States",
          "Italy",
          "Hong Kong",
          "United States",
          "United States",
          "India",
          "India",
          "India",
          "India",
          "Pakistan",
          "India",
          "Indonesia",
          "India",
          "Italy",
          "Spain",
          "Turkey",
          "Canada",
          "India",
          "Pakistan",
          "India",
          "United Kingdom",
          "United States",
          "France",
          "India",
          "India",
          "Japan",
          "Japan",
          "India",
          "Philippines",
          "India",
          "Senegal",
          "India",
          "Egypt",
          "United States",
          "Egypt",
          "United States",
          "United States",
          "United States",
          "United States",
          "United States",
          "United States",
          "United States",
          "India",
          "Brazil",
          "India",
          "United States",
          "Egypt",
          "France",
          "United States",
          "South Africa",
          "United States",
          "Japan",
          "United States",
          "India",
          "United States",
          "Israel",
          "United States",
          "India",
          "India",
          "Italy",
          "India",
          "United States",
          "United States",
          "United States",
          "United States",
          "Australia",
          "South Africa",
          "Colombia",
          "Spain",
          "United States",
          "United States",
          "France",
          "Austria",
          "Canada",
          "Australia",
          "India",
          "United States",
          "United States",
          "India",
          "India",
          "India",
          "India",
          "United States",
          "United States",
          "India",
          "Indonesia",
          "India",
          "United States",
          "United States",
          "India",
          "United Kingdom",
          "United States",
          "Egypt",
          "South Korea",
          "United States",
          "Italy",
          "United States",
          "United States",
          "United States",
          "India",
          "United States",
          "United States",
          "United States",
          "United States",
          "Japan",
          "United States",
          "Italy",
          "United States",
          "Egypt",
          "United States",
          "United States",
          "United States",
          "Canada",
          "United States",
          "France",
          "Germany",
          "United States",
          "China",
          "United States",
          "United States",
          "United States",
          "United States",
          "United States",
          "United States",
          "United States",
          "United States",
          "Hong Kong",
          "Mexico",
          "United States",
          "United States",
          "United States",
          "Sweden",
          "United States",
          "Argentina",
          "United States",
          "United States",
          "United States",
          "South Korea",
          "Hong Kong",
          "South Korea",
          "Australia",
          "United States",
          "United States",
          "United States",
          "Egypt",
          "India",
          "Argentina",
          "Taiwan",
          "United States",
          "United States",
          "United Kingdom",
          "United States",
          "United Kingdom",
          "United States",
          "United Kingdom",
          "United States",
          "United States",
          "United Kingdom",
          "United Kingdom",
          "United States",
          "United States",
          "United States",
          "United States",
          "United States",
          "India",
          "United States",
          "India",
          "Mexico",
          "United States",
          "United States",
          "United States",
          "Mexico",
          "Turkey",
          "United Kingdom",
          "United States",
          "Canada",
          "South Korea",
          "United States",
          "Guatemala",
          "United States",
          "United Kingdom",
          "India",
          "South Africa",
          "Ukraine",
          "United States",
          "China",
          "United States",
          "United States",
          "United States",
          "India",
          "India",
          "India",
          "United States",
          "United States",
          "France",
          "United States",
          "United States",
          "United States",
          "Philippines",
          "Spain",
          "United States",
          "United States",
          "United States",
          "United Kingdom",
          "United States",
          "United Kingdom",
          "United States",
          "Mexico",
          "United States",
          "Hong Kong",
          "United States",
          "France",
          "India",
          "China",
          "Israel",
          "India",
          "India",
          "Italy",
          "India",
          "United States",
          "India",
          "China",
          "India",
          "Hong Kong",
          "United States",
          "United States",
          "United Kingdom",
          "United Kingdom",
          "United Kingdom",
          "India",
          "United States",
          "United Kingdom",
          "India",
          "United States",
          "Egypt",
          "United States",
          "Philippines",
          "United States",
          "United States",
          "Philippines",
          "United States",
          "United States",
          "South Africa",
          "United Kingdom",
          "United States",
          "India",
          "India",
          "Canada",
          "United States",
          "Brazil",
          "United States",
          "India",
          "India",
          "United States",
          "India",
          "United States",
          "United States",
          "Australia",
          "Australia",
          "India",
          "India",
          "United States",
          "India",
          "United States",
          "United States",
          "United States",
          "United Kingdom",
          "United States",
          "United States",
          "Israel",
          "India",
          "India",
          "Thailand",
          "Indonesia",
          "Indonesia",
          "Indonesia",
          "Colombia",
          "Italy",
          "United Kingdom",
          "United States",
          "India",
          "United States",
          "India",
          "South Korea",
          "Poland",
          "United States",
          "United States",
          "Canada",
          "United States",
          "India",
          "United States",
          "United States",
          "Russia",
          "France",
          "United Kingdom",
          "United States",
          "Mexico",
          "United States",
          "Colombia",
          "United States",
          "United States",
          "Bangladesh",
          "United States",
          "Germany",
          "Spain",
          "India",
          "Singapore",
          "India",
          "India",
          "Indonesia",
          "United States",
          "Australia",
          "China",
          "Switzerland",
          "United States",
          "Peru",
          "Brazil",
          "United States",
          "Japan",
          "United States",
          "United States",
          "United States",
          "Philippines",
          "Australia",
          "Pakistan",
          "Saudi Arabia",
          "Nigeria",
          "United States",
          "Thailand",
          "United States",
          "United States",
          "Spain",
          "China",
          "United States",
          "China",
          "Vietnam",
          "United States",
          "South Korea",
          "United States",
          "Germany",
          "Italy",
          "Canada",
          "United States",
          "United States",
          "Thailand",
          "Thailand",
          "Thailand",
          "United States",
          "United States",
          "United States",
          "United States",
          "Nigeria",
          "United Kingdom",
          "Canada",
          "United States",
          "United States",
          "United States",
          "United States",
          "Spain",
          "Japan",
          "United States",
          "United States",
          "United States",
          "United States",
          "United Kingdom",
          "South Korea",
          "Argentina",
          "India",
          "United States",
          "United States",
          "Indonesia",
          "Mexico",
          "Mexico",
          "United States",
          "India",
          "Japan",
          "India",
          "Spain",
          "Mexico",
          "United States",
          "United States",
          "Czech Republic",
          "Canada",
          "United States",
          "United States",
          "United States",
          "Mexico",
          "Taiwan",
          "Spain",
          "South Korea",
          "United States",
          "India",
          "United States",
          "China",
          "United States",
          "United States",
          "Australia",
          "Egypt",
          "United States",
          "India",
          "Japan",
          "United States",
          "Nigeria",
          "India",
          "Egypt",
          "Thailand",
          "Japan",
          "Mexico",
          "United States",
          "United States",
          "United States",
          "United Kingdom",
          "United States",
          "United States",
          "United States",
          "United States",
          "United States",
          "Spain",
          "South Korea",
          "United States",
          "France",
          "Russia",
          "United States",
          "United States",
          "India",
          "Canada",
          "United States",
          "Brazil",
          "United States",
          "United Kingdom",
          "United States",
          "United States",
          "United States",
          "United States",
          "United States",
          "United States",
          "United States",
          "United States",
          "United States",
          "United States",
          "United States",
          "United States",
          "United States",
          "United Kingdom",
          "United States",
          "United States",
          "United States",
          "United States",
          "United States",
          "United Kingdom",
          "United States",
          "United States",
          "United States",
          "Jamaica",
          "United States",
          "United States",
          "United States",
          "United States",
          "United States",
          "Spain",
          "India",
          "United States",
          "United States",
          "United States",
          "Canada",
          "Canada",
          "United States",
          "United States",
          "United States",
          "United States",
          "United States",
          "United States",
          "United States",
          "United States",
          "Canada",
          "United Kingdom",
          "United States",
          "United Kingdom",
          "United States",
          "United States",
          "South Korea",
          "Philippines",
          "Australia",
          "Switzerland",
          "United States",
          "Japan",
          "United States",
          "United States",
          "United States",
          "South Korea",
          "United States",
          "Egypt",
          "United States",
          "United States",
          "Germany",
          "United Kingdom",
          "United States",
          "India",
          "Thailand",
          "United Kingdom",
          "United States",
          "United States",
          "United States",
          "Spain",
          "South Korea",
          "United States",
          "Australia",
          "United States",
          "India",
          "India",
          "United States",
          "United States",
          "Canada",
          "United States",
          "United States",
          "South Korea",
          "United States",
          "United States",
          "South Korea",
          "France",
          "Lebanon",
          "India",
          "France",
          "United States",
          "United States",
          "United States",
          "United States",
          "Australia",
          "Netherlands",
          "United States",
          "United States",
          "United States",
          "South Korea",
          "United States",
          "Brazil",
          "South Korea",
          "United States",
          "Poland",
          "Germany",
          "United States",
          "Turkey",
          "United States",
          "Turkey",
          "United Kingdom",
          "United States",
          "United States",
          "United States",
          "Italy",
          "Italy",
          "Thailand",
          "India",
          "Singapore",
          "United Kingdom",
          "United States",
          "United States",
          "United States",
          "Israel",
          "United Kingdom",
          "South Korea",
          "United States",
          "Denmark",
          "Italy",
          "Mexico",
          "Spain",
          "United Kingdom",
          "India",
          "Belarus",
          "India",
          "India",
          "India",
          "United States",
          "India",
          "Brazil",
          "United States",
          "United States",
          "Canada",
          "United States",
          "United States",
          "United States",
          "United States",
          "United States",
          "Canada",
          "United States",
          "Canada",
          "United States",
          "India",
          "United States",
          "United States",
          "United States",
          "United States",
          "Spain",
          "United States",
          "United States",
          "United States",
          "United Kingdom",
          "United States",
          "India",
          "India",
          "Indonesia",
          "United States",
          "Indonesia",
          "Indonesia",
          "United States",
          "United States",
          "United States",
          "United States",
          "United States",
          "United States",
          "United States",
          "United States",
          "United States",
          "Indonesia",
          "South Korea",
          "India",
          "India",
          "United States",
          "Canada",
          "Canada",
          "United States",
          "United States",
          "United States",
          "United States",
          "United States",
          "United States",
          "Japan",
          "Japan",
          "Japan",
          "China",
          "Hong Kong",
          "United States",
          "Japan",
          "Nigeria",
          "United States",
          "Germany",
          "India",
          "India",
          "Belgium",
          "United States",
          "India",
          "India",
          "United States",
          "United States",
          "China",
          "United States",
          "Spain",
          "United States",
          "France",
          "United States",
          "Saudi Arabia",
          "India",
          "Malaysia",
          "Australia",
          "United States",
          "United States",
          "United Kingdom",
          "Cyprus",
          "United States",
          "United States",
          "India",
          "India",
          "United States",
          "Lebanon",
          "Argentina",
          "India",
          "India",
          "Egypt",
          "Indonesia",
          "France",
          "Indonesia",
          "United States",
          "United States",
          "Egypt",
          "Nigeria",
          "United States",
          "Lebanon",
          "United States",
          "Egypt",
          "United States",
          "United States",
          "South Korea",
          "United States",
          "India",
          "United States",
          "United States",
          "United States",
          "United States",
          "Japan",
          "Thailand",
          "Pakistan",
          "India",
          "United States",
          "India",
          "United States",
          "United States",
          "Hong Kong",
          "United States",
          "United States",
          "India",
          "United Kingdom",
          "United States",
          "Japan",
          "Argentina",
          "Hong Kong",
          "India",
          "Mexico",
          "United States",
          "United States",
          "United States",
          "France",
          "United States",
          "Japan",
          "Japan",
          "Japan",
          "United States",
          "United States",
          "India",
          "United Kingdom",
          "India",
          "India",
          "India",
          "India",
          "United States",
          "India",
          "India",
          "United States",
          "Philippines",
          "South Korea",
          "United States",
          "United States",
          "Sweden",
          "Norway",
          "United States",
          "United States",
          "United States",
          "Indonesia",
          "Indonesia",
          "United States",
          "United States",
          "Mexico",
          "Taiwan",
          "United Kingdom",
          "Nigeria",
          "Canada",
          "United States",
          "United States",
          "Canada",
          "Australia",
          "United States",
          "United States",
          "United States",
          "United States",
          "Argentina",
          "France",
          "United States",
          "South Korea",
          "Spain",
          "Philippines",
          "United States",
          "United States",
          "United States",
          "United States",
          "United States",
          "United States",
          "United States",
          "Israel",
          "Finland",
          "United States",
          "Egypt",
          "Singapore",
          "Spain",
          "Italy",
          "United States",
          "Nigeria",
          "Poland",
          "Canada",
          "United States",
          "France",
          "United States",
          "France",
          "United Kingdom",
          "Switzerland",
          "United States",
          "United States",
          "United States",
          "United States",
          "United States",
          "United States",
          "United States",
          "United States",
          "United Kingdom",
          "United States",
          "United States",
          "United States",
          "Spain",
          "Hong Kong",
          "Spain",
          "United States",
          "United States",
          "United States",
          "Egypt",
          "Italy",
          "Hong Kong",
          "United States",
          "United States",
          "Brazil",
          "Brazil",
          "United States",
          "United Kingdom",
          "United Kingdom",
          "United Kingdom",
          "United Kingdom",
          "United States",
          "United States",
          "Italy",
          "United States",
          "United States",
          "China",
          "United States",
          "United Kingdom",
          "United States",
          "Canada",
          "United States",
          "Egypt",
          "United States",
          "Australia",
          "Chile",
          "Nigeria",
          "United States",
          "Egypt",
          "United Kingdom",
          "India",
          "India",
          "Canada",
          "United States",
          "United Kingdom",
          "France",
          "United States",
          "Saudi Arabia",
          "United States",
          "United States",
          "United States",
          "France",
          "United States",
          "United States",
          "United States",
          "United States",
          "United Kingdom",
          "United States",
          "United Kingdom",
          "United States",
          "United States",
          "United States",
          "United States",
          "United States",
          "Ireland",
          "Belgium",
          "United States",
          "United States",
          "New Zealand",
          "Philippines",
          "South Korea",
          "Nigeria",
          "Taiwan",
          "South Korea",
          "United States",
          "United States",
          "United States",
          "Hong Kong",
          "Ghana",
          "United States",
          "Turkey",
          "United States",
          "United States",
          "United States",
          "United States",
          "Israel",
          "South Korea",
          "India",
          "Canada",
          "United States",
          "United States",
          "United States",
          "United States",
          "New Zealand",
          "Canada",
          "Egypt",
          "Nigeria",
          "France",
          "United States",
          "United States",
          "United States",
          "United States",
          "United States",
          "Australia",
          "Egypt",
          "Spain",
          "Brazil",
          "Mexico",
          "United Kingdom",
          "United States",
          "Canada",
          "United States",
          "United States",
          "United States",
          "Brazil",
          "United States",
          "United States",
          "United States",
          "France",
          "United States",
          "Mexico",
          "United Kingdom",
          "Poland",
          "United States",
          "France",
          "United States",
          "United States",
          "United States",
          "United States",
          "United States",
          "Canada",
          "United States",
          "Israel",
          "United States",
          "Egypt",
          "Japan",
          "United States",
          "South Korea",
          "United States",
          "India",
          "France",
          "Poland",
          "Argentina",
          "United States",
          "United States",
          "United Kingdom",
          "Poland",
          "United Kingdom",
          "United States",
          "France",
          "United States",
          "United States",
          "United Kingdom",
          "United States",
          "India",
          "Indonesia",
          "United Kingdom",
          "United States",
          "United Kingdom",
          "India",
          "United Kingdom",
          "United States",
          "Australia",
          "Austria",
          "United States",
          "Canada",
          "Mexico",
          "Denmark",
          "Egypt",
          "Greece",
          "Romania",
          "United Kingdom",
          "United Kingdom",
          "United States",
          "Canada",
          "Canada",
          "China",
          "United States",
          "Nigeria",
          "United States",
          "Argentina",
          "United States",
          "United States",
          "Italy",
          "United States",
          "Japan",
          "United States",
          "Taiwan",
          "United States",
          "Czech Republic",
          "United States",
          "United States",
          "United States",
          "United States",
          "Japan",
          "Japan",
          "United States",
          "Argentina",
          "United States",
          "Indonesia",
          "Indonesia",
          "United States",
          "Singapore",
          "Singapore",
          "Indonesia",
          "United States",
          "South Korea",
          "Canada",
          "United Kingdom",
          "United States",
          "United States",
          "United States",
          "United States",
          "United Kingdom",
          "Brazil",
          "United States",
          "United Kingdom",
          "United States",
          "Egypt",
          "Kuwait",
          "Japan",
          "United Kingdom",
          "United States",
          "United States",
          "Spain",
          "United Kingdom",
          "United States",
          "United States",
          "United States",
          "United Kingdom",
          "United States",
          "United States",
          "United States",
          "France",
          "United States",
          "United Kingdom",
          "United Kingdom",
          "United States",
          "Taiwan",
          "United States",
          "Nigeria",
          "United States",
          "United States",
          "United States",
          "United States",
          "Brazil",
          "United States",
          "United Kingdom",
          "Hong Kong",
          "United States",
          "United States",
          "United States",
          "United States",
          "United States",
          "Hong Kong",
          "United States",
          "United States",
          "United Kingdom",
          "United States",
          "Japan",
          "Japan",
          "United Kingdom",
          "United States",
          "United States",
          "United States",
          "United Kingdom",
          "New Zealand",
          "France",
          "United States",
          "United States",
          "United Kingdom",
          "Spain",
          "Norway",
          "United States",
          "United States",
          "Japan",
          "France",
          "Indonesia",
          "United States",
          "United States",
          "Nigeria",
          "Taiwan",
          "United States",
          "Spain",
          "Turkey",
          "Philippines",
          "Spain",
          "United States",
          "United States",
          "India",
          "Israel",
          "Colombia",
          "United States",
          "United States",
          "South Korea",
          "United States",
          "United States",
          "United States",
          "United States",
          "United Kingdom",
          "United States",
          "United States",
          "United States",
          "Nigeria",
          "Hong Kong",
          "South Korea",
          "United Kingdom",
          "United States",
          "United Kingdom",
          "United States",
          "India",
          "United States",
          "Colombia",
          "Hong Kong",
          "United States",
          "United Kingdom",
          "United States",
          "United States",
          "China",
          "United Kingdom",
          "South Korea",
          "United States",
          "United States",
          "United States",
          "United States",
          "United States",
          "United States",
          "Poland",
          "United States",
          "United States",
          "United States",
          "United States",
          "United States",
          "Spain",
          "United States",
          "Indonesia",
          "United States",
          "Canada",
          "United States",
          "Canada",
          "Spain",
          "United States",
          "United States",
          "United States",
          "Spain",
          "United States",
          "United States",
          "Canada",
          "United States",
          "United States",
          "Thailand",
          "United States",
          "United States",
          "France",
          "India",
          "Mexico",
          "United States",
          "United States",
          "India",
          "Philippines",
          "India",
          "Canada",
          "Canada",
          "United States",
          "United Kingdom",
          "United Kingdom",
          "United States",
          "United States",
          "Spain",
          "United States",
          "United Kingdom",
          "Spain",
          "Singapore",
          "Australia",
          "United Kingdom",
          "Mexico",
          "United States",
          "Denmark",
          "United States",
          "Canada",
          "United States",
          "Spain",
          "United States",
          "Mexico",
          "United States",
          "United States",
          "United Kingdom",
          "United Kingdom",
          "United Kingdom",
          "Egypt",
          "Australia",
          "France",
          "United States",
          "United Kingdom",
          "Spain",
          "Spain",
          "United States",
          "United States",
          "United States",
          "United States",
          "United Kingdom",
          "Japan",
          "Nigeria",
          "United Kingdom",
          "Austria",
          "France",
          "United States",
          "United States",
          "United States",
          "United States",
          "Thailand",
          "India",
          "Indonesia",
          "South Korea",
          "United States",
          "United States",
          "United States",
          "Brazil",
          "Ireland",
          "United States",
          "United States",
          "United Kingdom",
          "South Korea",
          "China",
          "United Kingdom",
          "Argentina",
          "United Kingdom",
          "United Kingdom",
          "Lebanon",
          "United States",
          "United States",
          "Canada",
          "South Korea",
          "United States",
          "United States",
          "Egypt",
          "India",
          "Egypt",
          "United States",
          "Belgium",
          "South Korea",
          "United States",
          "India",
          "United States",
          "United States",
          "United States",
          "United States",
          "Australia",
          "France",
          "United States",
          "Brazil",
          "Chile",
          "United States",
          "United Kingdom",
          "United States",
          "United Kingdom",
          "United States",
          "Egypt",
          "United States",
          "Paraguay",
          "United Kingdom",
          "United States",
          "United States",
          "United States",
          "Germany",
          "United States",
          "United States",
          "Spain",
          "United States",
          "United States",
          "Spain",
          "United States",
          "India",
          "China",
          "United States",
          "United States",
          "India",
          "China",
          "Australia",
          "United Kingdom",
          "South Africa",
          "United States",
          "South Korea",
          "United States",
          "South Korea",
          "Italy",
          "India",
          "United States",
          "Spain",
          "Norway",
          "Canada",
          "United States",
          "United States",
          "France",
          "Spain",
          "Netherlands",
          "France",
          "Germany",
          "United States",
          "Ireland",
          "Ireland",
          "United States",
          "United States",
          "United States",
          "United States",
          "United States",
          "Denmark",
          "New Zealand",
          "New Zealand",
          "Argentina",
          "United States",
          "Nigeria",
          "Philippines",
          "United Kingdom",
          "United States",
          "United States",
          "United Kingdom",
          "Poland",
          "Hong Kong",
          "United States",
          "Canada",
          "United States",
          "Canada",
          "United States",
          "Canada",
          "United States",
          "United States",
          "United Kingdom",
          "India",
          "United States",
          "Italy",
          "France",
          "Japan",
          "Egypt",
          "United States",
          "United States",
          "United States",
          "United States",
          "Italy",
          "United States",
          "United States",
          "United States",
          "Spain",
          "United States",
          "South Korea",
          "United Kingdom",
          "Brazil",
          "Chile",
          "United States",
          "United States",
          "Spain",
          "United States",
          "Russia",
          "United States",
          "Hong Kong",
          "United States",
          "United States",
          "Germany",
          "Nigeria",
          "United States",
          "United States",
          "United States",
          "France",
          "Spain",
          "Spain",
          "South Korea",
          "Poland",
          "United Kingdom",
          "United States",
          "Canada",
          "Philippines",
          "United Kingdom",
          "Denmark",
          "United States",
          "New Zealand",
          "United States",
          "Belgium",
          "Sweden",
          "United States",
          "United States",
          "Spain",
          "United States",
          "United States",
          "United States",
          "United Kingdom",
          "Italy",
          "Japan",
          "United States",
          "United States",
          "United States",
          "United States",
          "Spain",
          "United States",
          "United States",
          "Australia",
          "Canada",
          "United States",
          "Spain",
          "Canada",
          "United States",
          "Indonesia",
          "United States",
          "United States",
          "Germany",
          "Canada",
          "United States",
          "United States",
          "Singapore",
          "Spain",
          "United States",
          "United States",
          "Mexico",
          "France",
          "United States",
          "Philippines",
          "Canada",
          "United States",
          "United States",
          "United States",
          "France",
          "United States",
          "United States",
          "France",
          "Turkey",
          "United States",
          "United States",
          "United States",
          "Taiwan",
          "United States",
          "Philippines",
          "Croatia",
          "Spain",
          "United States",
          "United Kingdom",
          "United Kingdom",
          "United States",
          "United States",
          "United States",
          "United States",
          "Mexico",
          "United States",
          "Ghana",
          "United States",
          "United States",
          "United Kingdom",
          "United States",
          "Spain",
          "Germany",
          "United States",
          "United States",
          "Somalia",
          "United Kingdom",
          "United States",
          "United States",
          "Poland",
          "India",
          "United Arab Emirates",
          "United States",
          "Egypt",
          "Italy",
          "United States",
          "United States",
          "United States",
          "Canada",
          "South Korea",
          "France",
          "United States",
          "United States",
          "China",
          "Taiwan",
          "United States",
          "United States",
          "United States",
          "China",
          "South Korea",
          "Ireland",
          "United States",
          "Spain",
          "Japan",
          "Turkey",
          "United States",
          "United States",
          "United States",
          "Canada",
          "United States",
          "Colombia",
          "Colombia",
          "United States",
          "United States",
          "Denmark",
          "Indonesia",
          "United States",
          "United States",
          "United States",
          "India",
          "United Kingdom",
          "United States",
          "United States",
          "Spain",
          "Canada",
          "United States",
          "New Zealand",
          "United States",
          "United States",
          "United Kingdom",
          "United States",
          "South Korea",
          "Netherlands",
          "France",
          "United Kingdom",
          "United States",
          "Serbia",
          "Egypt",
          "United States",
          "United Kingdom",
          "United Kingdom",
          "China",
          "United Kingdom",
          "United States",
          "United States",
          "Russia",
          "United States",
          "Colombia",
          "United Kingdom",
          "United States",
          "Taiwan",
          "Australia",
          "India",
          "Nigeria",
          "United Kingdom",
          "United States",
          "United States",
          "United States",
          "United States",
          "United Kingdom",
          "Italy",
          "United States",
          "United States",
          "Denmark",
          "Australia",
          "South Korea",
          "Egypt",
          "Germany",
          "United States",
          "Mexico",
          "United States",
          "United States",
          "United States",
          "Nigeria",
          "Japan",
          "Japan",
          "United States",
          "United States",
          "United States",
          "India",
          "United States",
          "United States",
          "United Kingdom",
          "Ireland",
          "Italy",
          "United States",
          "Canada",
          "Spain",
          "Spain",
          "Spain",
          "Mexico",
          "Indonesia",
          "United States",
          "Spain",
          "India",
          "United States",
          "United States",
          "United States",
          "Ukraine",
          "United States",
          "United States",
          "United States",
          "Argentina",
          "South Korea",
          "South Korea",
          "United States",
          "United States",
          "United States",
          "United States",
          "Poland",
          "United States",
          "France",
          "United States",
          "United Kingdom",
          "United Kingdom",
          "United States",
          "France",
          "United States",
          "United States",
          "United States",
          "United Kingdom",
          "United States",
          "United States",
          "Thailand",
          "United Kingdom",
          "United States",
          "Egypt",
          "Egypt",
          "United Kingdom",
          "United States",
          "United States",
          "Philippines",
          "United States",
          "United States",
          "United Kingdom",
          "United States",
          "United States",
          "Argentina",
          "United States",
          "United States",
          "United Kingdom",
          "Egypt",
          "Philippines",
          "Mexico",
          "United States",
          "United Kingdom",
          "United States",
          "United States",
          "United Kingdom",
          "United States",
          "United States",
          "Georgia",
          "United States",
          "United States",
          "Spain",
          "Italy",
          "United States",
          "United States",
          "Spain",
          "United States",
          "United States",
          "United Kingdom",
          "United States",
          "United States",
          "United Kingdom",
          "Singapore",
          "Ireland",
          "United States",
          "Belgium",
          "United States",
          "Hong Kong",
          "United Kingdom",
          "United States",
          "Singapore",
          "United States",
          "Thailand",
          "South Korea",
          "Thailand",
          "United States",
          "United States",
          "United States",
          "United States",
          "Belgium",
          "United States",
          "Australia",
          "Philippines",
          "United States",
          "China",
          "United States",
          "Iceland",
          "United States",
          "United States",
          "United States",
          "United States",
          "United States",
          "Taiwan",
          "United States",
          "India",
          "United States",
          "United States",
          "Egypt",
          "China",
          "United States",
          "Spain",
          "Australia",
          "New Zealand",
          "United States",
          "Philippines",
          "Nigeria",
          "Nigeria",
          "United States",
          "United States",
          "United States",
          "United Kingdom",
          "United States",
          "Australia",
          "Canada",
          "United Kingdom",
          "India",
          "United Kingdom",
          "United States",
          "South Korea",
          "United States",
          "United States",
          "Egypt",
          "France",
          "China",
          "United Kingdom",
          "Israel",
          "Poland",
          "France",
          "United Kingdom",
          "France",
          "United States",
          "United Kingdom",
          "United Kingdom",
          "United Kingdom",
          "United Arab Emirates",
          "Lebanon",
          "Canada",
          "United States",
          "Turkey",
          "Taiwan",
          "United States",
          "Ireland",
          "Hong Kong",
          "India",
          "Canada",
          "India",
          "India",
          "United States",
          "United States",
          "United States",
          "United States",
          "United States",
          "Canada",
          "France",
          "United Kingdom",
          "United States",
          "Spain",
          "Brazil",
          "Belgium",
          "Thailand",
          "Indonesia",
          "Egypt",
          "South Korea",
          "China",
          "Belgium",
          "India",
          "United States",
          "United States",
          "United States",
          "United Kingdom",
          "Thailand",
          "United States",
          "United States",
          "United Kingdom",
          "United Kingdom",
          "India",
          "Hong Kong",
          "Spain",
          "United Kingdom",
          "Philippines",
          "United States",
          "United States",
          "Canada",
          "India",
          "United States",
          "United States",
          "Australia",
          "United States",
          "Spain",
          "China",
          "United States",
          "United States",
          "United States",
          "United States",
          "United States",
          "India",
          "United States",
          "United States",
          "Mexico",
          "China",
          "India",
          "Taiwan",
          "United States",
          "United States",
          "United Kingdom",
          "United Kingdom",
          "India",
          "India",
          "Mexico",
          "South Korea",
          "United States",
          "United States",
          "United States",
          "United States",
          "United Kingdom",
          "Spain",
          "United States",
          "United States",
          "United States",
          "United States",
          "United States",
          "Germany",
          "United States",
          "South Africa",
          "United States",
          "United States",
          "United States",
          "United States",
          "United States",
          "France",
          "United States",
          "Russia",
          "United States",
          "United Kingdom",
          "Canada",
          "Spain",
          "United States",
          "United States",
          "United States",
          "Argentina",
          "Argentina",
          "Singapore",
          "India",
          "India",
          "United Kingdom",
          "Canada",
          "Turkey",
          "United States",
          "United States",
          "United States",
          "United States",
          "United States",
          "United States",
          "United States",
          "United States",
          "United Kingdom",
          "South Korea",
          "South Korea",
          "France",
          "United States",
          "Indonesia",
          "United States",
          "United States",
          "Netherlands",
          "Thailand",
          "United Kingdom",
          "United States",
          "United States",
          "India",
          "Japan",
          "India",
          "Spain",
          "United States",
          "Canada",
          "United States",
          "United States",
          "India",
          "United States",
          "Spain",
          "United States",
          "United States",
          "India",
          "Canada",
          "Canada",
          "Canada",
          "Canada",
          "Canada",
          "Canada",
          "United States",
          "Canada",
          "Canada",
          "Canada",
          "Canada",
          "Thailand",
          "South Korea",
          "United Kingdom",
          "United States",
          "United Kingdom",
          "United States",
          "United Kingdom",
          "France",
          "Canada",
          "United States",
          "United States",
          "United States",
          "Canada",
          "United States",
          "United States",
          "United States",
          "United Kingdom",
          "United States",
          "United States",
          "Turkey",
          "Canada",
          "United States",
          "United States",
          "United Kingdom",
          "United States",
          "Canada",
          "South Korea",
          "United States",
          "United States",
          "United States",
          "United States",
          "South Africa",
          "United States",
          "United States",
          "United Kingdom",
          "United States",
          "United States",
          "United States",
          "United States",
          "United States",
          "United States",
          "United States",
          "India",
          "India",
          "United States",
          "United States",
          "India",
          "United States",
          "United States",
          "Thailand",
          "United States",
          "United States",
          "United States",
          "United States",
          "United States",
          "United Kingdom",
          "France",
          "Russia",
          "United Kingdom",
          "United States",
          "India",
          "United States",
          "United States",
          "United States",
          "United States",
          "United States",
          "Canada",
          "Canada",
          "United States",
          "United States",
          "Canada",
          "Canada",
          "Canada",
          "United States",
          "United States",
          "Canada",
          "United States",
          "United Kingdom",
          "United States",
          "India",
          "United States",
          "Canada",
          "India",
          "India",
          "United States",
          "Japan",
          "United States",
          "South Korea",
          "United States",
          "United States",
          "United States",
          "United States",
          "Turkey",
          "United Kingdom",
          "United States",
          "United States",
          "United States",
          "Japan",
          "France",
          "Spain",
          "United States",
          "Hong Kong",
          "United States",
          "United Kingdom",
          "India",
          "Spain",
          "Taiwan",
          "United Kingdom",
          "Canada",
          "United States",
          "South Korea",
          "Australia",
          "India",
          "United States",
          "India",
          "Philippines",
          "India",
          "India",
          "India",
          "India",
          "United States",
          "Thailand",
          "India",
          "United States",
          "United States",
          "United States",
          "Japan",
          "Italy",
          "Poland",
          "India",
          "India",
          "France",
          "United Kingdom",
          "Canada",
          "United States",
          "United States",
          "Spain",
          "United States",
          "United States",
          "United States",
          "Spain",
          "India",
          "Spain",
          "United States",
          "United States",
          "United Arab Emirates",
          "United States",
          "South Africa",
          "United States",
          "United States",
          "United States",
          "United States",
          "South Korea",
          "France",
          "United States",
          "Italy",
          "United Kingdom",
          "Switzerland",
          "Belgium",
          "United States",
          "Canada",
          "Colombia",
          "United States",
          "Argentina",
          "Philippines",
          "United Kingdom",
          "United States",
          "India",
          "United States",
          "Canada",
          "Belgium",
          "United Kingdom",
          "Spain",
          "United States",
          "United States",
          "Germany",
          "China",
          "United Kingdom",
          "Singapore",
          "Egypt",
          "United States",
          "United States",
          "United States",
          "Mexico",
          "Romania",
          "France",
          "Spain",
          "United States",
          "Nigeria",
          "Malaysia",
          "United States",
          "India",
          "India",
          "India",
          "Australia",
          "China",
          "Egypt",
          "United States",
          "India",
          "United States",
          "United States",
          "United States",
          "South Korea",
          "Brazil",
          "Egypt",
          "Spain",
          "United States",
          "Japan",
          "France",
          "United States",
          "United States",
          "India",
          "United States",
          "India",
          "South Africa",
          "India",
          "India",
          "United States",
          "United States",
          "United States",
          "Spain",
          "United States",
          "Spain",
          "United States",
          "Mexico",
          "Spain",
          "France",
          "Indonesia",
          "Indonesia",
          "Lebanon",
          "India",
          "United Kingdom",
          "United Kingdom",
          "Spain",
          "United States",
          "United States",
          "United States",
          "Argentina",
          "United Kingdom",
          "United States",
          "United Kingdom",
          "Philippines",
          "United States",
          "Japan",
          "Japan",
          "United States",
          "United States",
          "India",
          "United States",
          "India",
          "United States",
          "United States",
          "India",
          "United Kingdom",
          "United States",
          "India",
          "India",
          "India",
          "Turkey",
          "Turkey",
          "India",
          "South Korea",
          "United States",
          "United States",
          "France",
          "United States",
          "South Korea",
          "United Kingdom",
          "United States",
          "United Kingdom",
          "United States",
          "India",
          "United Kingdom",
          "Pakistan",
          "India",
          "United States",
          "Saudi Arabia",
          "China",
          "India",
          "United States",
          "United States",
          "United States",
          "India",
          "United States",
          "France",
          "United States",
          "United States",
          "United Kingdom",
          "United States",
          "United States",
          "United States",
          "United States",
          "France",
          "United Kingdom",
          "Australia",
          "United States",
          "United States",
          "India",
          "United States",
          "United States",
          "United Kingdom",
          "Egypt",
          "Mexico",
          "Denmark",
          "United States",
          "Poland",
          "South Korea",
          "France",
          "United States",
          "India",
          "United States",
          "United States",
          "United Kingdom",
          "Taiwan",
          "India",
          "Lebanon",
          "India",
          "Hong Kong",
          "France",
          "United States",
          "Germany",
          "Germany",
          "United Kingdom",
          "United States",
          "United States",
          "United States",
          "United States",
          "Spain",
          "United States",
          "United States",
          "United States",
          "United States",
          "Egypt",
          "United States",
          "United States",
          "Austria",
          "Poland",
          "France",
          "Kuwait",
          "United States",
          "United States",
          "Hong Kong",
          "United Kingdom",
          "India",
          "India",
          "Italy",
          "United States",
          "United States",
          "India",
          "United States",
          "Spain",
          "United States",
          "India",
          "China",
          "Australia",
          "France",
          "France",
          "United States",
          "Poland",
          "United States",
          "United States",
          "United States",
          "United States",
          "United States",
          "United States",
          "United States",
          "China",
          "India",
          "Lebanon",
          "United States",
          "United Kingdom",
          "South Korea",
          "United States",
          "Turkey",
          "United States",
          "South Korea",
          "Taiwan",
          "Canada",
          "United States",
          "United Kingdom",
          "Taiwan",
          "United States",
          "Spain",
          "India",
          "United States",
          "India",
          "United States",
          "United States",
          "Austria",
          "United States",
          "United States",
          "United States",
          "Indonesia",
          "Saudi Arabia",
          "India",
          "United States",
          "United States",
          "Spain",
          "United States",
          "United Kingdom",
          "Israel",
          "Taiwan",
          "Nigeria",
          "South Korea",
          "United States",
          "Peru",
          "United States",
          "Germany",
          "United States",
          "United States",
          "Brazil",
          "Indonesia",
          "Uruguay",
          "Lebanon",
          "United Kingdom",
          "United States",
          "France",
          "United States",
          "United Kingdom",
          "United Kingdom",
          "United Kingdom",
          "South Korea",
          "United States",
          "United States",
          "United States",
          "France",
          "United States",
          "United States",
          "Spain",
          "United States",
          "Taiwan",
          "United States",
          "United States",
          "United Kingdom",
          "Canada",
          "Romania",
          "United States",
          "United Kingdom",
          "United Kingdom",
          "United States",
          "Colombia",
          "Germany",
          "United States",
          "United States",
          "United States",
          "United States",
          "United Kingdom",
          "Hungary",
          "United States",
          "United States",
          "United Kingdom",
          "Australia",
          "United States",
          "France",
          "United States",
          "Australia",
          "United Kingdom",
          "Turkey",
          "United States",
          "Italy",
          "Malaysia",
          "United States",
          "United States",
          "United States",
          "United States",
          "United Kingdom",
          "Canada",
          "United Kingdom",
          "Nigeria",
          "United Kingdom",
          "United States",
          "Turkey",
          "United States",
          "United States",
          "Poland",
          "Netherlands",
          "United States",
          "United States",
          "United States",
          "United States",
          "United States",
          "United States",
          "United States",
          "Canada",
          "Singapore",
          "India",
          "Italy",
          "United States",
          "United Kingdom",
          "United Kingdom",
          "United States",
          "United States",
          "United States",
          "United States",
          "Australia",
          "Pakistan",
          "India",
          "United States",
          "United States",
          "United States",
          "United States",
          "United States",
          "Canada",
          "Egypt",
          "India",
          "United States",
          "United Kingdom",
          "Canada",
          "United States",
          "United States",
          "Mexico",
          "India",
          "United States",
          "India",
          "India",
          "India",
          "India",
          "India",
          "Mexico",
          "China",
          "Egypt",
          "India",
          "India",
          "India",
          "France",
          "United States",
          "Thailand",
          "Thailand",
          "Thailand",
          "Singapore",
          "United States",
          "South Korea",
          "United States",
          "Japan",
          "United States",
          "United States",
          "Russia",
          "United States",
          "South Korea",
          "United States",
          "South Korea",
          "United States",
          "United States",
          "United Kingdom",
          "United States",
          "Mexico",
          "Croatia",
          "Philippines",
          "United States",
          "United States",
          "United States",
          "Turkey",
          "Philippines",
          "Taiwan",
          "Mexico",
          "United States",
          "United States",
          "Hong Kong",
          "United Kingdom",
          "United States",
          "Japan",
          "Taiwan",
          "Spain",
          "Singapore",
          "India",
          "United States",
          "United States",
          "Egypt",
          "Egypt",
          "Japan",
          "Japan",
          "Spain",
          "Australia",
          "Turkey",
          "India",
          "United States",
          "Brazil",
          "United States",
          "United States",
          "United States",
          "Egypt",
          "Canada",
          "India",
          "India",
          "India",
          "United States",
          "France",
          "Pakistan",
          "Pakistan",
          "India",
          "United Arab Emirates",
          "United States",
          "Spain",
          "Mexico",
          "United States",
          "Japan",
          "India",
          "United States",
          "United States",
          "Mexico",
          "India",
          "United States",
          "Sweden",
          "India",
          "United States",
          "Australia",
          "United Kingdom"
         ],
         "xaxis": "x",
         "yaxis": "y"
        }
       ],
       "layout": {
        "barmode": "relative",
        "legend": {
         "tracegroupgap": 0
        },
        "template": {
         "data": {
          "bar": [
           {
            "error_x": {
             "color": "#2a3f5f"
            },
            "error_y": {
             "color": "#2a3f5f"
            },
            "marker": {
             "line": {
              "color": "#E5ECF6",
              "width": 0.5
             },
             "pattern": {
              "fillmode": "overlay",
              "size": 10,
              "solidity": 0.2
             }
            },
            "type": "bar"
           }
          ],
          "barpolar": [
           {
            "marker": {
             "line": {
              "color": "#E5ECF6",
              "width": 0.5
             },
             "pattern": {
              "fillmode": "overlay",
              "size": 10,
              "solidity": 0.2
             }
            },
            "type": "barpolar"
           }
          ],
          "carpet": [
           {
            "aaxis": {
             "endlinecolor": "#2a3f5f",
             "gridcolor": "white",
             "linecolor": "white",
             "minorgridcolor": "white",
             "startlinecolor": "#2a3f5f"
            },
            "baxis": {
             "endlinecolor": "#2a3f5f",
             "gridcolor": "white",
             "linecolor": "white",
             "minorgridcolor": "white",
             "startlinecolor": "#2a3f5f"
            },
            "type": "carpet"
           }
          ],
          "choropleth": [
           {
            "colorbar": {
             "outlinewidth": 0,
             "ticks": ""
            },
            "type": "choropleth"
           }
          ],
          "contour": [
           {
            "colorbar": {
             "outlinewidth": 0,
             "ticks": ""
            },
            "colorscale": [
             [
              0,
              "#0d0887"
             ],
             [
              0.1111111111111111,
              "#46039f"
             ],
             [
              0.2222222222222222,
              "#7201a8"
             ],
             [
              0.3333333333333333,
              "#9c179e"
             ],
             [
              0.4444444444444444,
              "#bd3786"
             ],
             [
              0.5555555555555556,
              "#d8576b"
             ],
             [
              0.6666666666666666,
              "#ed7953"
             ],
             [
              0.7777777777777778,
              "#fb9f3a"
             ],
             [
              0.8888888888888888,
              "#fdca26"
             ],
             [
              1,
              "#f0f921"
             ]
            ],
            "type": "contour"
           }
          ],
          "contourcarpet": [
           {
            "colorbar": {
             "outlinewidth": 0,
             "ticks": ""
            },
            "type": "contourcarpet"
           }
          ],
          "heatmap": [
           {
            "colorbar": {
             "outlinewidth": 0,
             "ticks": ""
            },
            "colorscale": [
             [
              0,
              "#0d0887"
             ],
             [
              0.1111111111111111,
              "#46039f"
             ],
             [
              0.2222222222222222,
              "#7201a8"
             ],
             [
              0.3333333333333333,
              "#9c179e"
             ],
             [
              0.4444444444444444,
              "#bd3786"
             ],
             [
              0.5555555555555556,
              "#d8576b"
             ],
             [
              0.6666666666666666,
              "#ed7953"
             ],
             [
              0.7777777777777778,
              "#fb9f3a"
             ],
             [
              0.8888888888888888,
              "#fdca26"
             ],
             [
              1,
              "#f0f921"
             ]
            ],
            "type": "heatmap"
           }
          ],
          "heatmapgl": [
           {
            "colorbar": {
             "outlinewidth": 0,
             "ticks": ""
            },
            "colorscale": [
             [
              0,
              "#0d0887"
             ],
             [
              0.1111111111111111,
              "#46039f"
             ],
             [
              0.2222222222222222,
              "#7201a8"
             ],
             [
              0.3333333333333333,
              "#9c179e"
             ],
             [
              0.4444444444444444,
              "#bd3786"
             ],
             [
              0.5555555555555556,
              "#d8576b"
             ],
             [
              0.6666666666666666,
              "#ed7953"
             ],
             [
              0.7777777777777778,
              "#fb9f3a"
             ],
             [
              0.8888888888888888,
              "#fdca26"
             ],
             [
              1,
              "#f0f921"
             ]
            ],
            "type": "heatmapgl"
           }
          ],
          "histogram": [
           {
            "marker": {
             "pattern": {
              "fillmode": "overlay",
              "size": 10,
              "solidity": 0.2
             }
            },
            "type": "histogram"
           }
          ],
          "histogram2d": [
           {
            "colorbar": {
             "outlinewidth": 0,
             "ticks": ""
            },
            "colorscale": [
             [
              0,
              "#0d0887"
             ],
             [
              0.1111111111111111,
              "#46039f"
             ],
             [
              0.2222222222222222,
              "#7201a8"
             ],
             [
              0.3333333333333333,
              "#9c179e"
             ],
             [
              0.4444444444444444,
              "#bd3786"
             ],
             [
              0.5555555555555556,
              "#d8576b"
             ],
             [
              0.6666666666666666,
              "#ed7953"
             ],
             [
              0.7777777777777778,
              "#fb9f3a"
             ],
             [
              0.8888888888888888,
              "#fdca26"
             ],
             [
              1,
              "#f0f921"
             ]
            ],
            "type": "histogram2d"
           }
          ],
          "histogram2dcontour": [
           {
            "colorbar": {
             "outlinewidth": 0,
             "ticks": ""
            },
            "colorscale": [
             [
              0,
              "#0d0887"
             ],
             [
              0.1111111111111111,
              "#46039f"
             ],
             [
              0.2222222222222222,
              "#7201a8"
             ],
             [
              0.3333333333333333,
              "#9c179e"
             ],
             [
              0.4444444444444444,
              "#bd3786"
             ],
             [
              0.5555555555555556,
              "#d8576b"
             ],
             [
              0.6666666666666666,
              "#ed7953"
             ],
             [
              0.7777777777777778,
              "#fb9f3a"
             ],
             [
              0.8888888888888888,
              "#fdca26"
             ],
             [
              1,
              "#f0f921"
             ]
            ],
            "type": "histogram2dcontour"
           }
          ],
          "mesh3d": [
           {
            "colorbar": {
             "outlinewidth": 0,
             "ticks": ""
            },
            "type": "mesh3d"
           }
          ],
          "parcoords": [
           {
            "line": {
             "colorbar": {
              "outlinewidth": 0,
              "ticks": ""
             }
            },
            "type": "parcoords"
           }
          ],
          "pie": [
           {
            "automargin": true,
            "type": "pie"
           }
          ],
          "scatter": [
           {
            "marker": {
             "colorbar": {
              "outlinewidth": 0,
              "ticks": ""
             }
            },
            "type": "scatter"
           }
          ],
          "scatter3d": [
           {
            "line": {
             "colorbar": {
              "outlinewidth": 0,
              "ticks": ""
             }
            },
            "marker": {
             "colorbar": {
              "outlinewidth": 0,
              "ticks": ""
             }
            },
            "type": "scatter3d"
           }
          ],
          "scattercarpet": [
           {
            "marker": {
             "colorbar": {
              "outlinewidth": 0,
              "ticks": ""
             }
            },
            "type": "scattercarpet"
           }
          ],
          "scattergeo": [
           {
            "marker": {
             "colorbar": {
              "outlinewidth": 0,
              "ticks": ""
             }
            },
            "type": "scattergeo"
           }
          ],
          "scattergl": [
           {
            "marker": {
             "colorbar": {
              "outlinewidth": 0,
              "ticks": ""
             }
            },
            "type": "scattergl"
           }
          ],
          "scattermapbox": [
           {
            "marker": {
             "colorbar": {
              "outlinewidth": 0,
              "ticks": ""
             }
            },
            "type": "scattermapbox"
           }
          ],
          "scatterpolar": [
           {
            "marker": {
             "colorbar": {
              "outlinewidth": 0,
              "ticks": ""
             }
            },
            "type": "scatterpolar"
           }
          ],
          "scatterpolargl": [
           {
            "marker": {
             "colorbar": {
              "outlinewidth": 0,
              "ticks": ""
             }
            },
            "type": "scatterpolargl"
           }
          ],
          "scatterternary": [
           {
            "marker": {
             "colorbar": {
              "outlinewidth": 0,
              "ticks": ""
             }
            },
            "type": "scatterternary"
           }
          ],
          "surface": [
           {
            "colorbar": {
             "outlinewidth": 0,
             "ticks": ""
            },
            "colorscale": [
             [
              0,
              "#0d0887"
             ],
             [
              0.1111111111111111,
              "#46039f"
             ],
             [
              0.2222222222222222,
              "#7201a8"
             ],
             [
              0.3333333333333333,
              "#9c179e"
             ],
             [
              0.4444444444444444,
              "#bd3786"
             ],
             [
              0.5555555555555556,
              "#d8576b"
             ],
             [
              0.6666666666666666,
              "#ed7953"
             ],
             [
              0.7777777777777778,
              "#fb9f3a"
             ],
             [
              0.8888888888888888,
              "#fdca26"
             ],
             [
              1,
              "#f0f921"
             ]
            ],
            "type": "surface"
           }
          ],
          "table": [
           {
            "cells": {
             "fill": {
              "color": "#EBF0F8"
             },
             "line": {
              "color": "white"
             }
            },
            "header": {
             "fill": {
              "color": "#C8D4E3"
             },
             "line": {
              "color": "white"
             }
            },
            "type": "table"
           }
          ]
         },
         "layout": {
          "annotationdefaults": {
           "arrowcolor": "#2a3f5f",
           "arrowhead": 0,
           "arrowwidth": 1
          },
          "autotypenumbers": "strict",
          "coloraxis": {
           "colorbar": {
            "outlinewidth": 0,
            "ticks": ""
           }
          },
          "colorscale": {
           "diverging": [
            [
             0,
             "#8e0152"
            ],
            [
             0.1,
             "#c51b7d"
            ],
            [
             0.2,
             "#de77ae"
            ],
            [
             0.3,
             "#f1b6da"
            ],
            [
             0.4,
             "#fde0ef"
            ],
            [
             0.5,
             "#f7f7f7"
            ],
            [
             0.6,
             "#e6f5d0"
            ],
            [
             0.7,
             "#b8e186"
            ],
            [
             0.8,
             "#7fbc41"
            ],
            [
             0.9,
             "#4d9221"
            ],
            [
             1,
             "#276419"
            ]
           ],
           "sequential": [
            [
             0,
             "#0d0887"
            ],
            [
             0.1111111111111111,
             "#46039f"
            ],
            [
             0.2222222222222222,
             "#7201a8"
            ],
            [
             0.3333333333333333,
             "#9c179e"
            ],
            [
             0.4444444444444444,
             "#bd3786"
            ],
            [
             0.5555555555555556,
             "#d8576b"
            ],
            [
             0.6666666666666666,
             "#ed7953"
            ],
            [
             0.7777777777777778,
             "#fb9f3a"
            ],
            [
             0.8888888888888888,
             "#fdca26"
            ],
            [
             1,
             "#f0f921"
            ]
           ],
           "sequentialminus": [
            [
             0,
             "#0d0887"
            ],
            [
             0.1111111111111111,
             "#46039f"
            ],
            [
             0.2222222222222222,
             "#7201a8"
            ],
            [
             0.3333333333333333,
             "#9c179e"
            ],
            [
             0.4444444444444444,
             "#bd3786"
            ],
            [
             0.5555555555555556,
             "#d8576b"
            ],
            [
             0.6666666666666666,
             "#ed7953"
            ],
            [
             0.7777777777777778,
             "#fb9f3a"
            ],
            [
             0.8888888888888888,
             "#fdca26"
            ],
            [
             1,
             "#f0f921"
            ]
           ]
          },
          "colorway": [
           "#636efa",
           "#EF553B",
           "#00cc96",
           "#ab63fa",
           "#FFA15A",
           "#19d3f3",
           "#FF6692",
           "#B6E880",
           "#FF97FF",
           "#FECB52"
          ],
          "font": {
           "color": "#2a3f5f"
          },
          "geo": {
           "bgcolor": "white",
           "lakecolor": "white",
           "landcolor": "#E5ECF6",
           "showlakes": true,
           "showland": true,
           "subunitcolor": "white"
          },
          "hoverlabel": {
           "align": "left"
          },
          "hovermode": "closest",
          "mapbox": {
           "style": "light"
          },
          "paper_bgcolor": "white",
          "plot_bgcolor": "#E5ECF6",
          "polar": {
           "angularaxis": {
            "gridcolor": "white",
            "linecolor": "white",
            "ticks": ""
           },
           "bgcolor": "#E5ECF6",
           "radialaxis": {
            "gridcolor": "white",
            "linecolor": "white",
            "ticks": ""
           }
          },
          "scene": {
           "xaxis": {
            "backgroundcolor": "#E5ECF6",
            "gridcolor": "white",
            "gridwidth": 2,
            "linecolor": "white",
            "showbackground": true,
            "ticks": "",
            "zerolinecolor": "white"
           },
           "yaxis": {
            "backgroundcolor": "#E5ECF6",
            "gridcolor": "white",
            "gridwidth": 2,
            "linecolor": "white",
            "showbackground": true,
            "ticks": "",
            "zerolinecolor": "white"
           },
           "zaxis": {
            "backgroundcolor": "#E5ECF6",
            "gridcolor": "white",
            "gridwidth": 2,
            "linecolor": "white",
            "showbackground": true,
            "ticks": "",
            "zerolinecolor": "white"
           }
          },
          "shapedefaults": {
           "line": {
            "color": "#2a3f5f"
           }
          },
          "ternary": {
           "aaxis": {
            "gridcolor": "white",
            "linecolor": "white",
            "ticks": ""
           },
           "baxis": {
            "gridcolor": "white",
            "linecolor": "white",
            "ticks": ""
           },
           "bgcolor": "#E5ECF6",
           "caxis": {
            "gridcolor": "white",
            "linecolor": "white",
            "ticks": ""
           }
          },
          "title": {
           "x": 0.05
          },
          "xaxis": {
           "automargin": true,
           "gridcolor": "white",
           "linecolor": "white",
           "ticks": "",
           "title": {
            "standoff": 15
           },
           "zerolinecolor": "white",
           "zerolinewidth": 2
          },
          "yaxis": {
           "automargin": true,
           "gridcolor": "white",
           "linecolor": "white",
           "ticks": "",
           "title": {
            "standoff": 15
           },
           "zerolinecolor": "white",
           "zerolinewidth": 2
          }
         }
        },
        "title": {
         "text": "Most content on netflix based on countries"
        },
        "xaxis": {
         "anchor": "y",
         "categoryorder": "total ascending",
         "domain": [
          0,
          1
         ],
         "title": {
          "text": "country_main"
         }
        },
        "yaxis": {
         "anchor": "x",
         "domain": [
          0,
          1
         ],
         "title": {
          "text": "count"
         }
        }
       }
      },
      "text/html": [
       "<div>                            <div id=\"493fbe1e-d8fa-4175-95a4-6571f2f5e644\" class=\"plotly-graph-div\" style=\"height:525px; width:100%;\"></div>            <script type=\"text/javascript\">                require([\"plotly\"], function(Plotly) {                    window.PLOTLYENV=window.PLOTLYENV || {};                                    if (document.getElementById(\"493fbe1e-d8fa-4175-95a4-6571f2f5e644\")) {                    Plotly.newPlot(                        \"493fbe1e-d8fa-4175-95a4-6571f2f5e644\",                        [{\"alignmentgroup\":\"True\",\"bingroup\":\"x\",\"hovertemplate\":\"country_main=%{x}<br>count=%{y}<extra></extra>\",\"legendgroup\":\"\",\"marker\":{\"color\":\"indianred\",\"pattern\":{\"shape\":\"\"}},\"name\":\"\",\"offsetgroup\":\"\",\"orientation\":\"v\",\"showlegend\":false,\"type\":\"histogram\",\"x\":[\"Brazil\",\"Mexico\",\"Singapore\",\"United States\",\"United States\",\"Turkey\",\"Egypt\",\"United States\",\"India\",\"India\",\"United States\",\"Poland\",\"Mexico\",\"Thailand\",\"United States\",\"Nigeria\",\"United States\",\"Norway\",\"India\",\"United Kingdom\",\"India\",\"India\",\"India\",\"India\",\"Japan\",\"United States\",\"United States\",\"South Korea\",\"Italy\",\"United States\",\"Canada\",\"Indonesia\",\"Indonesia\",\"United States\",\"Canada\",\"United States\",\"Romania\",\"Romania\",\"United States\",\"Spain\",\"Turkey\",\"Iceland\",\"Turkey\",\"Nigeria\",\"United States\",\"Turkey\",\"United States\",\"United States\",\"South Africa\",\"France\",\"United States\",\"South Korea\",\"Spain\",\"United States\",\"Portugal\",\"United States\",\"United States\",\"Indonesia\",\"United Kingdom\",\"India\",\"United States\",\"South Korea\",\"United States\",\"United States\",\"United States\",\"United States\",\"United States\",\"United States\",\"Hong Kong\",\"United States\",\"United States\",\"United States\",\"United States\",\"Italy\",\"Spain\",\"United States\",\"United States\",\"France\",\"India\",\"United States\",\"Turkey\",\"South Korea\",\"United Kingdom\",\"United States\",\"United States\",\"United Kingdom\",\"India\",\"Canada\",\"United States\",\"South Africa\",\"India\",\"South Korea\",\"Argentina\",\"United Kingdom\",\"United States\",\"South Korea\",\"United States\",\"United States\",\"United States\",\"Indonesia\",\"India\",\"Canada\",\"Germany\",\"Egypt\",\"United States\",\"Denmark\",\"Poland\",\"Japan\",\"United States\",\"Kenya\",\"United States\",\"Italy\",\"Spain\",\"Canada\",\"Spain\",\"United States\",\"Nigeria\",\"United States\",\"United States\",\"Italy\",\"United States\",\"United States\",\"United States\",\"Indonesia\",\"Romania\",\"United States\",\"New Zealand\",\"United States\",\"United States\",\"India\",\"United States\",\"United States\",\"India\",\"Spain\",\"United States\",\"Pakistan\",\"India\",\"Australia\",\"Australia\",\"Australia\",\"Australia\",\"United States\",\"United States\",\"India\",\"Nigeria\",\"Australia\",\"Mexico\",\"United States\",\"United States\",\"China\",\"India\",\"United States\",\"Taiwan\",\"United States\",\"United States\",\"United States\",\"Turkey\",\"Taiwan\",\"Canada\",\"United States\",\"United States\",\"United States\",\"France\",\"United States\",\"United States\",\"United Kingdom\",\"United States\",\"United States\",\"United States\",\"Netherlands\",\"Canada\",\"United States\",\"India\",\"Denmark\",\"United States\",\"United States\",\"United States\",\"United States\",\"United States\",\"United States\",\"Taiwan\",\"United Kingdom\",\"United States\",\"United States\",\"United States\",\"Germany\",\"United States\",\"Hong Kong\",\"Taiwan\",\"United States\",\"United States\",\"South Korea\",\"France\",\"United States\",\"Argentina\",\"United States\",\"United Kingdom\",\"United States\",\"China\",\"South Korea\",\"United States\",\"Philippines\",\"South Korea\",\"France\",\"United States\",\"United Kingdom\",\"United Arab Emirates\",\"United States\",\"Brazil\",\"United States\",\"United States\",\"Netherlands\",\"United Kingdom\",\"Germany\",\"United States\",\"United States\",\"United Kingdom\",\"United States\",\"Brazil\",\"Spain\",\"Canada\",\"India\",\"Philippines\",\"United States\",\"Iran\",\"United States\",\"United States\",\"United Kingdom\",\"Japan\",\"United States\",\"Argentina\",\"United States\",\"United States\",\"United States\",\"Taiwan\",\"Taiwan\",\"Israel\",\"United States\",\"United States\",\"Taiwan\",\"United States\",\"Taiwan\",\"United States\",\"Nigeria\",\"India\",\"Uruguay\",\"United States\",\"United States\",\"France\",\"Philippines\",\"United States\",\"India\",\"United States\",\"Japan\",\"Canada\",\"United States\",\"United States\",\"Singapore\",\"United Kingdom\",\"United States\",\"Japan\",\"Canada\",\"United States\",\"Turkey\",\"India\",\"India\",\"India\",\"India\",\"India\",\"India\",\"India\",\"India\",\"India\",\"India\",\"India\",\"India\",\"United States\",\"India\",\"India\",\"India\",\"Egypt\",\"United States\",\"Pakistan\",\"India\",\"South Korea\",\"United States\",\"United Kingdom\",\"United Kingdom\",\"United States\",\"United States\",\"South Korea\",\"Argentina\",\"Mexico\",\"Hong Kong\",\"China\",\"United States\",\"Canada\",\"United States\",\"United States\",\"Turkey\",\"India\",\"Bulgaria\",\"Canada\",\"France\",\"Spain\",\"United States\",\"United States\",\"United States\",\"United States\",\"France\",\"United States\",\"India\",\"India\",\"Australia\",\"Hong Kong\",\"India\",\"United States\",\"Canada\",\"United Arab Emirates\",\"United States\",\"Brazil\",\"United Kingdom\",\"Brazil\",\"United States\",\"United Kingdom\",\"United States\",\"United States\",\"United States\",\"United States\",\"United States\",\"United Kingdom\",\"United States\",\"United States\",\"Singapore\",\"United Kingdom\",\"United Kingdom\",\"United States\",\"Taiwan\",\"Germany\",\"Mauritius\",\"India\",\"Japan\",\"Japan\",\"India\",\"Argentina\",\"India\",\"India\",\"United States\",\"Japan\",\"Japan\",\"United Kingdom\",\"United States\",\"United States\",\"India\",\"India\",\"India\",\"India\",\"United States\",\"India\",\"United States\",\"Japan\",\"India\",\"India\",\"Japan\",\"India\",\"United States\",\"United States\",\"Lebanon\",\"India\",\"United States\",\"Mexico\",\"Egypt\",\"United States\",\"India\",\"United States\",\"Colombia\",\"Spain\",\"Uruguay\",\"Mexico\",\"United States\",\"United States\",\"Egypt\",\"France\",\"Uruguay\",\"United Arab Emirates\",\"Turkey\",\"United States\",\"United States\",\"Australia\",\"Canada\",\"United States\",\"Soviet Union\",\"United States\",\"Japan\",\"Brazil\",\"United States\",\"United States\",\"United States\",\"United Kingdom\",\"United States\",\"United States\",\"Sweden\",\"South Africa\",\"United States\",\"United States\",\"United States\",\"Malaysia\",\"United States\",\"Ireland\",\"Colombia\",\"Spain\",\"United States\",\"United States\",\"United States\",\"United States\",\"United States\",\"Philippines\",\"United States\",\"United States\",\"United Kingdom\",\"Mexico\",\"Brazil\",\"United States\",\"Hong Kong\",\"Germany\",\"United States\",\"Argentina\",\"United States\",\"United States\",\"United Kingdom\",\"Philippines\",\"United States\",\"United States\",\"United States\",\"United Kingdom\",\"United States\",\"United States\",\"United States\",\"Japan\",\"United States\",\"Colombia\",\"Philippines\",\"Denmark\",\"South Africa\",\"Spain\",\"United Kingdom\",\"India\",\"Egypt\",\"United States\",\"United Kingdom\",\"United Kingdom\",\"United States\",\"United States\",\"United States\",\"United States\",\"United States\",\"United States\",\"United States\",\"United States\",\"United States\",\"United States\",\"United States\",\"United States\",\"United States\",\"Canada\",\"Canada\",\"United States\",\"United Kingdom\",\"United States\",\"United States\",\"United States\",\"United States\",\"United States\",\"United States\",\"United States\",\"United States\",\"United States\",\"India\",\"Philippines\",\"Turkey\",\"India\",\"United Kingdom\",\"United States\",\"United States\",\"India\",\"United States\",\"United States\",\"United States\",\"United States\",\"France\",\"Egypt\",\"United Kingdom\",\"Egypt\",\"United States\",\"Taiwan\",\"United States\",\"Serbia\",\"Colombia\",\"Egypt\",\"Brazil\",\"India\",\"India\",\"Spain\",\"Canada\",\"United States\",\"Iceland\",\"Egypt\",\"India\",\"India\",\"United States\",\"India\",\"Singapore\",\"France\",\"United States\",\"India\",\"Taiwan\",\"Japan\",\"United States\",\"United States\",\"Ireland\",\"United States\",\"United States\",\"United States\",\"Finland\",\"India\",\"United States\",\"India\",\"United Kingdom\",\"China\",\"China\",\"Spain\",\"Brazil\",\"India\",\"India\",\"India\",\"United States\",\"India\",\"India\",\"United States\",\"Canada\",\"Japan\",\"United Kingdom\",\"Brazil\",\"United States\",\"South Korea\",\"United States\",\"United States\",\"Egypt\",\"United States\",\"United States\",\"United States\",\"United States\",\"India\",\"United States\",\"United States\",\"India\",\"Japan\",\"United States\",\"Argentina\",\"Spain\",\"India\",\"United States\",\"United States\",\"United Kingdom\",\"France\",\"United States\",\"France\",\"United States\",\"Colombia\",\"Japan\",\"United States\",\"India\",\"France\",\"Egypt\",\"United States\",\"Netherlands\",\"South Korea\",\"Iceland\",\"United States\",\"United States\",\"Indonesia\",\"India\",\"Canada\",\"United States\",\"United States\",\"United States\",\"South Korea\",\"United States\",\"United Kingdom\",\"India\",\"Indonesia\",\"United States\",\"United States\",\"India\",\"India\",\"United States\",\"China\",\"Australia\",\"United States\",\"India\",\"United States\",\"Norway\",\"United States\",\"United States\",\"Peru\",\"India\",\"South Korea\",\"United States\",\"Canada\",\"Taiwan\",\"Japan\",\"United States\",\"France\",\"United States\",\"United States\",\"Canada\",\"Japan\",\"United Kingdom\",\"Chile\",\"United States\",\"United States\",\"Australia\",\"Romania\",\"United Kingdom\",\"Australia\",\"United States\",\"United States\",\"United States\",\"India\",\"Bulgaria\",\"Taiwan\",\"United States\",\"United States\",\"Indonesia\",\"United Kingdom\",\"United States\",\"Sweden\",\"United Kingdom\",\"United States\",\"United States\",\"United States\",\"United States\",\"India\",\"India\",\"India\",\"Mexico\",\"Ghana\",\"India\",\"United States\",\"United States\",\"United States\",\"Japan\",\"India\",\"India\",\"India\",\"India\",\"India\",\"United States\",\"United States\",\"United States\",\"India\",\"United States\",\"United States\",\"India\",\"Turkey\",\"Turkey\",\"France\",\"United States\",\"Italy\",\"United Kingdom\",\"India\",\"South Africa\",\"Germany\",\"India\",\"Brazil\",\"Australia\",\"Japan\",\"Taiwan\",\"United States\",\"Thailand\",\"United States\",\"Canada\",\"United States\",\"United States\",\"Australia\",\"Canada\",\"India\",\"United States\",\"United States\",\"United Kingdom\",\"United Kingdom\",\"Thailand\",\"United States\",\"South Korea\",\"South Korea\",\"Singapore\",\"United States\",\"France\",\"India\",\"India\",\"India\",\"United States\",\"United States\",\"Japan\",\"United States\",\"Japan\",\"United States\",\"Chile\",\"United States\",\"United States\",\"United States\",\"Pakistan\",\"Turkey\",\"Nigeria\",\"United States\",\"United States\",\"United States\",\"India\",\"Thailand\",\"India\",\"United States\",\"Thailand\",\"Thailand\",\"United States\",\"Thailand\",\"Thailand\",\"Thailand\",\"Thailand\",\"Spain\",\"India\",\"Saudi Arabia\",\"Germany\",\"Australia\",\"United States\",\"United States\",\"United States\",\"United States\",\"United States\",\"United States\",\"United States\",\"United States\",\"United States\",\"United States\",\"United States\",\"United States\",\"United States\",\"United States\",\"United States\",\"United States\",\"Philippines\",\"India\",\"India\",\"United States\",\"India\",\"Chile\",\"United States\",\"India\",\"United States\",\"United States\",\"United States\",\"Italy\",\"United States\",\"India\",\"United States\",\"United States\",\"Norway\",\"United States\",\"United States\",\"United Kingdom\",\"United States\",\"India\",\"Namibia\",\"Mexico\",\"India\",\"India\",\"United States\",\"United States\",\"Taiwan\",\"Taiwan\",\"Russia\",\"Germany\",\"United Kingdom\",\"United States\",\"Canada\",\"Japan\",\"United States\",\"Australia\",\"Australia\",\"South Korea\",\"United States\",\"Mexico\",\"Canada\",\"Philippines\",\"United States\",\"United States\",\"United States\",\"Indonesia\",\"South Korea\",\"Egypt\",\"United States\",\"Mexico\",\"United Kingdom\",\"United States\",\"United States\",\"United States\",\"Nigeria\",\"United States\",\"United States\",\"United States\",\"Egypt\",\"Japan\",\"United States\",\"United States\",\"United States\",\"United States\",\"Turkey\",\"India\",\"United Kingdom\",\"United States\",\"United States\",\"Nigeria\",\"United States\",\"Lebanon\",\"Belgium\",\"New Zealand\",\"United States\",\"Uruguay\",\"Canada\",\"United Kingdom\",\"United States\",\"United States\",\"United States\",\"United States\",\"United States\",\"United Arab Emirates\",\"United States\",\"United States\",\"United States\",\"Germany\",\"Turkey\",\"Australia\",\"Germany\",\"Germany\",\"Japan\",\"Japan\",\"Japan\",\"United States\",\"United States\",\"United States\",\"United States\",\"South Korea\",\"United States\",\"United States\",\"Canada\",\"United States\",\"United States\",\"India\",\"United States\",\"United States\",\"Russia\",\"United States\",\"United States\",\"Canada\",\"Philippines\",\"United States\",\"Spain\",\"India\",\"Egypt\",\"Japan\",\"United States\",\"Japan\",\"United States\",\"Japan\",\"Turkey\",\"United States\",\"United States\",\"United States\",\"United States\",\"India\",\"India\",\"India\",\"India\",\"India\",\"India\",\"India\",\"India\",\"India\",\"India\",\"India\",\"United States\",\"India\",\"India\",\"India\",\"India\",\"Germany\",\"Germany\",\"Germany\",\"Germany\",\"United States\",\"United States\",\"United States\",\"United States\",\"United Kingdom\",\"United States\",\"United States\",\"United States\",\"United States\",\"United States\",\"Denmark\",\"United States\",\"France\",\"United States\",\"United Kingdom\",\"United States\",\"United States\",\"United States\",\"United States\",\"United States\",\"United States\",\"United Kingdom\",\"United States\",\"United Kingdom\",\"United Kingdom\",\"United States\",\"United States\",\"United States\",\"India\",\"United Kingdom\",\"United States\",\"United States\",\"India\",\"Germany\",\"India\",\"Turkey\",\"United States\",\"United States\",\"Philippines\",\"Canada\",\"United States\",\"Vietnam\",\"Canada\",\"Spain\",\"Egypt\",\"India\",\"India\",\"Ireland\",\"United States\",\"Japan\",\"Saudi Arabia\",\"United Kingdom\",\"India\",\"United States\",\"Turkey\",\"United States\",\"United States\",\"Spain\",\"United Kingdom\",\"United States\",\"Turkey\",\"United States\",\"Russia\",\"United Kingdom\",\"United States\",\"United States\",\"Argentina\",\"France\",\"Canada\",\"United States\",\"United States\",\"United States\",\"Japan\",\"United States\",\"Japan\",\"Japan\",\"Japan\",\"Japan\",\"United States\",\"Germany\",\"France\",\"Hong Kong\",\"United States\",\"Australia\",\"South Africa\",\"France\",\"Thailand\",\"South Africa\",\"France\",\"India\",\"United States\",\"Brazil\",\"Argentina\",\"United States\",\"Norway\",\"United States\",\"Canada\",\"Japan\",\"France\",\"United States\",\"United States\",\"United States\",\"United Kingdom\",\"United States\",\"Germany\",\"United States\",\"India\",\"Canada\",\"Japan\",\"Thailand\",\"United States\",\"United States\",\"Canada\",\"United States\",\"United States\",\"Canada\",\"Denmark\",\"United States\",\"India\",\"India\",\"United States\",\"United Kingdom\",\"Ireland\",\"United States\",\"India\",\"India\",\"Spain\",\"United States\",\"United States\",\"United States\",\"Colombia\",\"India\",\"United States\",\"Spain\",\"United Arab Emirates\",\"India\",\"New Zealand\",\"United States\",\"Netherlands\",\"Canada\",\"Canada\",\"Australia\",\"United States\",\"United States\",\"Sweden\",\"Russia\",\"United States\",\"India\",\"United States\",\"Canada\",\"United Kingdom\",\"Norway\",\"Finland\",\"Denmark\",\"Brazil\",\"Philippines\",\"Spain\",\"Denmark\",\"New Zealand\",\"United States\",\"United Kingdom\",\"India\",\"Lebanon\",\"United Kingdom\",\"United States\",\"Canada\",\"Singapore\",\"Egypt\",\"Brazil\",\"United States\",\"Spain\",\"Bulgaria\",\"South Korea\",\"United States\",\"India\",\"United States\",\"United States\",\"United States\",\"United States\",\"United States\",\"Canada\",\"United States\",\"United States\",\"Canada\",\"United States\",\"United States\",\"France\",\"United States\",\"India\",\"Hong Kong\",\"United States\",\"United States\",\"India\",\"United Kingdom\",\"United States\",\"Australia\",\"United States\",\"United States\",\"United States\",\"United States\",\"Philippines\",\"Indonesia\",\"United States\",\"United Kingdom\",\"United States\",\"United States\",\"India\",\"South Korea\",\"United States\",\"United States\",\"United Kingdom\",\"United States\",\"Taiwan\",\"United States\",\"France\",\"Turkey\",\"United States\",\"Brazil\",\"China\",\"India\",\"United States\",\"Canada\",\"Canada\",\"Canada\",\"India\",\"France\",\"United States\",\"United Kingdom\",\"Brazil\",\"United States\",\"United States\",\"India\",\"Indonesia\",\"Netherlands\",\"India\",\"India\",\"Bulgaria\",\"United States\",\"United States\",\"United States\",\"United States\",\"United States\",\"United States\",\"United States\",\"United States\",\"France\",\"Turkey\",\"South Korea\",\"United States\",\"United States\",\"United Kingdom\",\"United States\",\"South Korea\",\"United States\",\"United States\",\"Philippines\",\"Philippines\",\"France\",\"Kuwait\",\"Turkey\",\"India\",\"India\",\"Belgium\",\"United States\",\"United Kingdom\",\"Spain\",\"Norway\",\"Japan\",\"Indonesia\",\"Argentina\",\"South Korea\",\"Egypt\",\"United Kingdom\",\"India\",\"United Kingdom\",\"United States\",\"United States\",\"United States\",\"United States\",\"United States\",\"Sweden\",\"Italy\",\"France\",\"United Kingdom\",\"United States\",\"United States\",\"United States\",\"Spain\",\"Mexico\",\"United States\",\"United States\",\"Canada\",\"United States\",\"South Korea\",\"Canada\",\"Ireland\",\"United States\",\"Philippines\",\"Egypt\",\"United States\",\"Taiwan\",\"India\",\"United States\",\"France\",\"United States\",\"United States\",\"France\",\"India\",\"United States\",\"United States\",\"United Kingdom\",\"United States\",\"France\",\"Ireland\",\"Japan\",\"United States\",\"United States\",\"India\",\"Philippines\",\"India\",\"United States\",\"Mexico\",\"Mexico\",\"Argentina\",\"United States\",\"Canada\",\"United Kingdom\",\"Japan\",\"United States\",\"United States\",\"United States\",\"United States\",\"France\",\"Iceland\",\"United States\",\"Japan\",\"United Kingdom\",\"Hong Kong\",\"Hong Kong\",\"United States\",\"Nigeria\",\"United States\",\"United States\",\"United States\",\"United States\",\"South Africa\",\"China\",\"United States\",\"Spain\",\"United States\",\"Canada\",\"United Kingdom\",\"Norway\",\"United States\",\"United States\",\"Japan\",\"India\",\"Indonesia\",\"United States\",\"India\",\"India\",\"India\",\"India\",\"India\",\"India\",\"Pakistan\",\"United States\",\"India\",\"India\",\"India\",\"United States\",\"India\",\"United States\",\"India\",\"Germany\",\"United States\",\"Indonesia\",\"United States\",\"South Africa\",\"Germany\",\"United States\",\"United Kingdom\",\"United States\",\"United States\",\"United States\",\"United States\",\"United States\",\"Canada\",\"India\",\"India\",\"United States\",\"United States\",\"United States\",\"Canada\",\"Hong Kong\",\"United States\",\"Brazil\",\"India\",\"Australia\",\"Indonesia\",\"United States\",\"United States\",\"United States\",\"South Korea\",\"United States\",\"South Korea\",\"United States\",\"United States\",\"United States\",\"United States\",\"United States\",\"United States\",\"United States\",\"India\",\"United States\",\"United States\",\"United Kingdom\",\"United Kingdom\",\"India\",\"India\",\"United States\",\"United States\",\"United States\",\"United States\",\"India\",\"South Korea\",\"India\",\"United States\",\"United States\",\"United States\",\"United States\",\"Nigeria\",\"South Korea\",\"United States\",\"Lebanon\",\"United Kingdom\",\"Japan\",\"Japan\",\"United States\",\"India\",\"United States\",\"China\",\"United States\",\"United Kingdom\",\"India\",\"United States\",\"United Kingdom\",\"United States\",\"South Korea\",\"United States\",\"India\",\"India\",\"China\",\"United States\",\"United States\",\"United States\",\"United States\",\"United States\",\"United States\",\"United States\",\"United States\",\"United States\",\"United States\",\"United Kingdom\",\"United States\",\"Germany\",\"Canada\",\"United States\",\"United States\",\"United States\",\"United Kingdom\",\"Canada\",\"Canada\",\"Canada\",\"United States\",\"United States\",\"United States\",\"Argentina\",\"United States\",\"India\",\"United States\",\"United States\",\"United States\",\"United States\",\"Malaysia\",\"India\",\"Pakistan\",\"India\",\"United Kingdom\",\"India\",\"Turkey\",\"South Korea\",\"United States\",\"United States\",\"United States\",\"United States\",\"United States\",\"United States\",\"United States\",\"Nigeria\",\"Taiwan\",\"United Kingdom\",\"Brazil\",\"Brazil\",\"United States\",\"United Kingdom\",\"United Kingdom\",\"Turkey\",\"Japan\",\"United States\",\"United States\",\"United States\",\"India\",\"United States\",\"India\",\"Spain\",\"United States\",\"Australia\",\"United States\",\"United Kingdom\",\"United States\",\"United States\",\"United Kingdom\",\"France\",\"Taiwan\",\"United Kingdom\",\"Germany\",\"France\",\"United States\",\"United States\",\"United States\",\"Mexico\",\"United States\",\"United States\",\"United States\",\"United States\",\"United States\",\"United States\",\"United States\",\"Mexico\",\"United States\",\"United States\",\"United States\",\"United Kingdom\",\"Spain\",\"Mexico\",\"United States\",\"United States\",\"Canada\",\"Japan\",\"France\",\"United States\",\"United States\",\"Italy\",\"India\",\"United States\",\"United States\",\"United States\",\"Nigeria\",\"South Africa\",\"United States\",\"United States\",\"United States\",\"India\",\"United Kingdom\",\"India\",\"Germany\",\"United States\",\"South Korea\",\"India\",\"Canada\",\"United States\",\"United States\",\"United States\",\"United States\",\"United States\",\"United States\",\"United States\",\"Mexico\",\"India\",\"United Kingdom\",\"United States\",\"Czech Republic\",\"United States\",\"Vietnam\",\"United Kingdom\",\"Ireland\",\"Turkey\",\"Turkey\",\"United Kingdom\",\"United States\",\"India\",\"Mexico\",\"United States\",\"United States\",\"Zimbabwe\",\"United States\",\"United States\",\"United States\",\"United States\",\"Canada\",\"United States\",\"United States\",\"United States\",\"United States\",\"United States\",\"Netherlands\",\"United States\",\"Canada\",\"United States\",\"United States\",\"Nigeria\",\"Brazil\",\"Australia\",\"United States\",\"United States\",\"United States\",\"United States\",\"United States\",\"United States\",\"South Korea\",\"United Kingdom\",\"Indonesia\",\"Philippines\",\"United Kingdom\",\"United States\",\"Nigeria\",\"Nigeria\",\"United Kingdom\",\"India\",\"United States\",\"Argentina\",\"United States\",\"United States\",\"United Kingdom\",\"India\",\"Mexico\",\"Mexico\",\"France\",\"United States\",\"United States\",\"Germany\",\"Spain\",\"United Kingdom\",\"United States\",\"United States\",\"United States\",\"Malaysia\",\"Taiwan\",\"China\",\"United States\",\"United Kingdom\",\"Philippines\",\"United States\",\"United States\",\"Canada\",\"Italy\",\"United Kingdom\",\"Hungary\",\"United States\",\"United States\",\"France\",\"Japan\",\"Japan\",\"India\",\"United States\",\"United States\",\"United States\",\"United States\",\"Turkey\",\"Turkey\",\"United States\",\"Australia\",\"India\",\"Turkey\",\"Turkey\",\"Turkey\",\"United States\",\"Mexico\",\"United Kingdom\",\"United States\",\"United States\",\"Argentina\",\"India\",\"United States\",\"United States\",\"United States\",\"United States\",\"United States\",\"Australia\",\"Germany\",\"United States\",\"United States\",\"United States\",\"Germany\",\"United States\",\"Mexico\",\"India\",\"United Kingdom\",\"United Kingdom\",\"United States\",\"United Kingdom\",\"United States\",\"Mexico\",\"Mexico\",\"United States\",\"United States\",\"Indonesia\",\"France\",\"United States\",\"United States\",\"Ireland\",\"Germany\",\"India\",\"United Kingdom\",\"Mexico\",\"Mexico\",\"United States\",\"Canada\",\"United States\",\"United States\",\"New Zealand\",\"Egypt\",\"India\",\"India\",\"India\",\"United States\",\"United States\",\"Brazil\",\"United States\",\"United Kingdom\",\"United States\",\"United States\",\"United States\",\"United States\",\"United States\",\"Sweden\",\"United Kingdom\",\"United States\",\"Canada\",\"United States\",\"United States\",\"United States\",\"China\",\"Bulgaria\",\"United States\",\"Taiwan\",\"United States\",\"United States\",\"United States\",\"Netherlands\",\"United States\",\"United Kingdom\",\"Philippines\",\"United Kingdom\",\"United States\",\"United States\",\"India\",\"United States\",\"United States\",\"Finland\",\"United States\",\"United States\",\"India\",\"United States\",\"Taiwan\",\"South Korea\",\"Canada\",\"United States\",\"India\",\"United States\",\"United States\",\"Colombia\",\"United States\",\"United States\",\"United States\",\"United States\",\"United States\",\"United Kingdom\",\"Turkey\",\"India\",\"Spain\",\"United States\",\"Australia\",\"India\",\"India\",\"United States\",\"United States\",\"United States\",\"Canada\",\"United States\",\"India\",\"India\",\"India\",\"Turkey\",\"Turkey\",\"United States\",\"United States\",\"United States\",\"United States\",\"Denmark\",\"United States\",\"United States\",\"United States\",\"United States\",\"United Kingdom\",\"United States\",\"United States\",\"United Kingdom\",\"United Kingdom\",\"United States\",\"United Kingdom\",\"United Kingdom\",\"United States\",\"South Korea\",\"Argentina\",\"United States\",\"United States\",\"United States\",\"Argentina\",\"Spain\",\"France\",\"Taiwan\",\"Egypt\",\"United Kingdom\",\"United States\",\"India\",\"United States\",\"Finland\",\"Canada\",\"Japan\",\"India\",\"India\",\"United States\",\"India\",\"United Kingdom\",\"India\",\"India\",\"India\",\"India\",\"Malaysia\",\"India\",\"India\",\"China\",\"Mexico\",\"United States\",\"United States\",\"China\",\"United States\",\"United Kingdom\",\"United Kingdom\",\"France\",\"United States\",\"United Kingdom\",\"South Africa\",\"Germany\",\"United States\",\"United States\",\"India\",\"India\",\"India\",\"India\",\"India\",\"India\",\"Indonesia\",\"Indonesia\",\"India\",\"United States\",\"United States\",\"United States\",\"Canada\",\"Japan\",\"United States\",\"United States\",\"United States\",\"United States\",\"Egypt\",\"Hong Kong\",\"United States\",\"India\",\"Kenya\",\"United States\",\"United States\",\"United States\",\"United States\",\"South Africa\",\"United States\",\"France\",\"Brazil\",\"United States\",\"France\",\"South Korea\",\"India\",\"India\",\"United Kingdom\",\"United States\",\"United States\",\"United States\",\"United States\",\"Germany\",\"United States\",\"Lebanon\",\"India\",\"United Kingdom\",\"United States\",\"United States\",\"United States\",\"United States\",\"Denmark\",\"India\",\"India\",\"United States\",\"United States\",\"United States\",\"France\",\"France\",\"France\",\"United Kingdom\",\"Hong Kong\",\"Hong Kong\",\"United Kingdom\",\"United Kingdom\",\"United States\",\"Spain\",\"United States\",\"United States\",\"United Kingdom\",\"United States\",\"United States\",\"India\",\"United States\",\"India\",\"Japan\",\"India\",\"Brazil\",\"United States\",\"China\",\"Hong Kong\",\"United States\",\"Russia\",\"United States\",\"United States\",\"United States\",\"United States\",\"France\",\"United States\",\"United Kingdom\",\"Japan\",\"Japan\",\"Hong Kong\",\"United States\",\"United States\",\"United States\",\"United States\",\"United States\",\"United States\",\"United States\",\"United States\",\"United States\",\"United States\",\"United States\",\"United States\",\"United States\",\"United States\",\"United States\",\"Germany\",\"United States\",\"United States\",\"United States\",\"United States\",\"United States\",\"United States\",\"United States\",\"United States\",\"United States\",\"United States\",\"Germany\",\"Japan\",\"Hong Kong\",\"India\",\"India\",\"United States\",\"United States\",\"United States\",\"Spain\",\"United States\",\"United States\",\"Chile\",\"Japan\",\"United States\",\"China\",\"United States\",\"United States\",\"Pakistan\",\"India\",\"United States\",\"United States\",\"India\",\"India\",\"Japan\",\"United States\",\"Spain\",\"United States\",\"United Kingdom\",\"United States\",\"France\",\"United States\",\"Brazil\",\"United Kingdom\",\"United States\",\"United Kingdom\",\"United States\",\"United States\",\"United States\",\"United States\",\"Taiwan\",\"United States\",\"India\",\"United States\",\"United Kingdom\",\"United States\",\"United States\",\"United States\",\"United States\",\"United States\",\"United Kingdom\",\"Argentina\",\"Brazil\",\"Italy\",\"India\",\"India\",\"Philippines\",\"United Kingdom\",\"Indonesia\",\"India\",\"France\",\"Egypt\",\"India\",\"India\",\"India\",\"India\",\"India\",\"India\",\"Turkey\",\"United States\",\"Spain\",\"United States\",\"United States\",\"Colombia\",\"Colombia\",\"Mexico\",\"Mexico\",\"Venezuela\",\"United States\",\"Spain\",\"Mexico\",\"United States\",\"Mexico\",\"Mexico\",\"Spain\",\"United States\",\"Argentina\",\"Argentina\",\"United States\",\"Chile\",\"United States\",\"Colombia\",\"Mexico\",\"Colombia\",\"United States\",\"United States\",\"Egypt\",\"India\",\"Brazil\",\"Netherlands\",\"Nigeria\",\"United States\",\"United States\",\"United States\",\"Spain\",\"Spain\",\"United Kingdom\",\"United States\",\"United States\",\"France\",\"United States\",\"United States\",\"Canada\",\"United Kingdom\",\"United States\",\"India\",\"Brazil\",\"United States\",\"United States\",\"Indonesia\",\"Australia\",\"United States\",\"Czech Republic\",\"Canada\",\"United States\",\"United States\",\"India\",\"United Kingdom\",\"United States\",\"United States\",\"United States\",\"Canada\",\"India\",\"India\",\"Germany\",\"United States\",\"United Kingdom\",\"South Korea\",\"Canada\",\"United States\",\"Hong Kong\",\"France\",\"United Kingdom\",\"United States\",\"United States\",\"United States\",\"Denmark\",\"Japan\",\"United States\",\"United States\",\"Spain\",\"United States\",\"Poland\",\"Egypt\",\"United States\",\"Argentina\",\"Mexico\",\"China\",\"India\",\"Turkey\",\"Egypt\",\"Italy\",\"United States\",\"United States\",\"United States\",\"Japan\",\"Spain\",\"United Kingdom\",\"Spain\",\"India\",\"United Kingdom\",\"Canada\",\"United States\",\"Spain\",\"Philippines\",\"United Kingdom\",\"Philippines\",\"United States\",\"United States\",\"United States\",\"United States\",\"India\",\"United Kingdom\",\"China\",\"Spain\",\"United States\",\"United States\",\"Philippines\",\"United States\",\"Norway\",\"United States\",\"United States\",\"United States\",\"Germany\",\"Japan\",\"United States\",\"United States\",\"United States\",\"United States\",\"South Korea\",\"United Kingdom\",\"United States\",\"United States\",\"United States\",\"Spain\",\"Turkey\",\"Turkey\",\"Turkey\",\"Turkey\",\"United States\",\"United States\",\"United States\",\"United States\",\"Chile\",\"India\",\"United States\",\"France\",\"Japan\",\"United States\",\"United Kingdom\",\"Singapore\",\"India\",\"United States\",\"Taiwan\",\"United States\",\"Sweden\",\"United States\",\"Mexico\",\"United States\",\"South Korea\",\"Germany\",\"United States\",\"France\",\"United States\",\"India\",\"United Arab Emirates\",\"United States\",\"Poland\",\"India\",\"Canada\",\"Philippines\",\"Australia\",\"Egypt\",\"Russia\",\"France\",\"France\",\"India\",\"United States\",\"United States\",\"United States\",\"United States\",\"United States\",\"Japan\",\"Japan\",\"Japan\",\"Japan\",\"Japan\",\"United Kingdom\",\"United States\",\"United States\",\"India\",\"Israel\",\"United States\",\"United States\",\"India\",\"Canada\",\"United Kingdom\",\"United States\",\"United States\",\"United States\",\"United States\",\"Brazil\",\"Germany\",\"United States\",\"Colombia\",\"Argentina\",\"India\",\"United States\",\"India\",\"United States\",\"Poland\",\"Nigeria\",\"United States\",\"Nigeria\",\"United Kingdom\",\"United States\",\"United States\",\"Turkey\",\"United States\",\"Indonesia\",\"United States\",\"United States\",\"United States\",\"Japan\",\"Philippines\",\"United States\",\"Philippines\",\"Italy\",\"United States\",\"United States\",\"India\",\"India\",\"India\",\"United Kingdom\",\"United States\",\"United States\",\"Japan\",\"United States\",\"United States\",\"United Kingdom\",\"Netherlands\",\"Philippines\",\"United States\",\"United States\",\"Cambodia\",\"United Kingdom\",\"United Kingdom\",\"United States\",\"United States\",\"Brazil\",\"United States\",\"India\",\"United Arab Emirates\",\"United States\",\"Hong Kong\",\"United States\",\"United States\",\"India\",\"United States\",\"Canada\",\"China\",\"China\",\"Egypt\",\"United Kingdom\",\"United States\",\"United States\",\"United States\",\"South Korea\",\"United Kingdom\",\"Hong Kong\",\"United Arab Emirates\",\"United States\",\"Japan\",\"Argentina\",\"Japan\",\"United States\",\"United States\",\"Spain\",\"United States\",\"United States\",\"Mexico\",\"United States\",\"United Kingdom\",\"United States\",\"Philippines\",\"United States\",\"Canada\",\"United States\",\"Spain\",\"United Kingdom\",\"United States\",\"India\",\"United Kingdom\",\"India\",\"United States\",\"Japan\",\"Brazil\",\"United Kingdom\",\"United States\",\"United Kingdom\",\"Italy\",\"South Korea\",\"United States\",\"United Kingdom\",\"United States\",\"Germany\",\"Spain\",\"Philippines\",\"United Kingdom\",\"United States\",\"United States\",\"United States\",\"United States\",\"Italy\",\"Mexico\",\"Mexico\",\"United States\",\"United States\",\"Germany\",\"United States\",\"United States\",\"United States\",\"United States\",\"United States\",\"Germany\",\"United States\",\"United States\",\"United Kingdom\",\"United States\",\"United States\",\"United States\",\"United States\",\"United States\",\"United States\",\"United Arab Emirates\",\"United States\",\"Egypt\",\"United States\",\"South Africa\",\"United States\",\"United States\",\"Austria\",\"United States\",\"United States\",\"Germany\",\"United States\",\"United States\",\"India\",\"United Arab Emirates\",\"United States\",\"Egypt\",\"United States\",\"France\",\"United States\",\"United States\",\"Canada\",\"United Kingdom\",\"United Kingdom\",\"United Kingdom\",\"United States\",\"United States\",\"Spain\",\"India\",\"United States\",\"India\",\"United States\",\"Canada\",\"United States\",\"United States\",\"Japan\",\"Japan\",\"United States\",\"France\",\"United States\",\"Canada\",\"Vietnam\",\"United States\",\"United States\",\"United States\",\"Italy\",\"United States\",\"Turkey\",\"Turkey\",\"India\",\"United States\",\"United States\",\"Brazil\",\"United States\",\"India\",\"United States\",\"France\",\"India\",\"United States\",\"Russia\",\"United States\",\"Indonesia\",\"India\",\"United States\",\"Egypt\",\"United States\",\"India\",\"United States\",\"United States\",\"Taiwan\",\"United States\",\"France\",\"India\",\"India\",\"United States\",\"Japan\",\"India\",\"Kenya\",\"United States\",\"United States\",\"South Korea\",\"United States\",\"Japan\",\"United States\",\"Indonesia\",\"Indonesia\",\"Taiwan\",\"Nigeria\",\"Japan\",\"India\",\"India\",\"United States\",\"United States\",\"United States\",\"United States\",\"India\",\"United Kingdom\",\"United Kingdom\",\"United States\",\"Sweden\",\"United States\",\"United States\",\"United States\",\"Italy\",\"United Kingdom\",\"United States\",\"France\",\"United States\",\"United States\",\"United Kingdom\",\"United States\",\"United States\",\"Spain\",\"United States\",\"Lebanon\",\"India\",\"India\",\"Thailand\",\"Japan\",\"United States\",\"Japan\",\"Canada\",\"United States\",\"India\",\"Japan\",\"United States\",\"Japan\",\"United States\",\"United Kingdom\",\"India\",\"India\",\"Indonesia\",\"United States\",\"United States\",\"United States\",\"United States\",\"United States\",\"France\",\"United States\",\"United Kingdom\",\"United Kingdom\",\"India\",\"United Kingdom\",\"Netherlands\",\"Thailand\",\"United States\",\"Philippines\",\"Taiwan\",\"United States\",\"United States\",\"United States\",\"United States\",\"India\",\"United States\",\"Japan\",\"Japan\",\"France\",\"United States\",\"United States\",\"Australia\",\"United States\",\"Japan\",\"Japan\",\"United States\",\"United Kingdom\",\"United States\",\"United States\",\"United Kingdom\",\"Australia\",\"United States\",\"United States\",\"Argentina\",\"Argentina\",\"United States\",\"Japan\",\"United States\",\"China\",\"United States\",\"United States\",\"United Kingdom\",\"United States\",\"Japan\",\"Japan\",\"Japan\",\"South Korea\",\"Australia\",\"India\",\"Japan\",\"United Kingdom\",\"United States\",\"United States\",\"Australia\",\"India\",\"India\",\"India\",\"Italy\",\"United States\",\"Turkey\",\"Egypt\",\"United States\",\"Turkey\",\"United States\",\"United States\",\"United States\",\"United States\",\"United States\",\"Egypt\",\"United States\",\"Japan\",\"Brazil\",\"United States\",\"United States\",\"United States\",\"United States\",\"United States\",\"South Korea\",\"United States\",\"United States\",\"United States\",\"United States\",\"Canada\",\"Canada\",\"United States\",\"India\",\"Spain\",\"United States\",\"United States\",\"United States\",\"United States\",\"India\",\"Philippines\",\"United States\",\"South Korea\",\"Germany\",\"Japan\",\"United States\",\"United Kingdom\",\"Spain\",\"India\",\"United States\",\"India\",\"United Arab Emirates\",\"United Arab Emirates\",\"United States\",\"United States\",\"United States\",\"United Kingdom\",\"United States\",\"Japan\",\"United Kingdom\",\"United States\",\"United Kingdom\",\"Taiwan\",\"United Kingdom\",\"Colombia\",\"United States\",\"Nigeria\",\"United States\",\"United States\",\"United Kingdom\",\"Argentina\",\"United States\",\"Canada\",\"Italy\",\"United States\",\"Canada\",\"France\",\"United States\",\"United States\",\"Uruguay\",\"United States\",\"Argentina\",\"India\",\"India\",\"Spain\",\"Canada\",\"India\",\"India\",\"Japan\",\"India\",\"Japan\",\"India\",\"United States\",\"United Kingdom\",\"India\",\"United States\",\"France\",\"Chile\",\"Turkey\",\"Turkey\",\"Australia\",\"Germany\",\"United States\",\"India\",\"India\",\"Indonesia\",\"Spain\",\"Turkey\",\"India\",\"Japan\",\"United States\",\"United States\",\"United Arab Emirates\",\"United Arab Emirates\",\"Nigeria\",\"United States\",\"India\",\"India\",\"United States\",\"United States\",\"United States\",\"India\",\"United States\",\"India\",\"Egypt\",\"Ireland\",\"China\",\"United States\",\"United States\",\"United States\",\"United States\",\"Australia\",\"Australia\",\"United States\",\"United States\",\"Netherlands\",\"United Kingdom\",\"Malaysia\",\"United States\",\"Taiwan\",\"South Korea\",\"United States\",\"Italy\",\"India\",\"United States\",\"United States\",\"India\",\"Thailand\",\"Mexico\",\"United Kingdom\",\"United States\",\"United States\",\"India\",\"India\",\"United States\",\"United States\",\"United Kingdom\",\"Russia\",\"Ireland\",\"United States\",\"India\",\"United States\",\"United States\",\"United States\",\"United States\",\"United States\",\"United Kingdom\",\"United States\",\"Malaysia\",\"United States\",\"United States\",\"United States\",\"India\",\"United States\",\"United States\",\"India\",\"India\",\"Israel\",\"India\",\"Mexico\",\"United States\",\"United States\",\"Indonesia\",\"India\",\"United States\",\"United States\",\"United States\",\"United States\",\"United States\",\"United States\",\"Australia\",\"Canada\",\"United States\",\"India\",\"Turkey\",\"Ireland\",\"India\",\"Germany\",\"France\",\"United States\",\"Canada\",\"United States\",\"United States\",\"Australia\",\"Indonesia\",\"United States\",\"France\",\"United States\",\"United States\",\"Australia\",\"United States\",\"Canada\",\"United States\",\"Lebanon\",\"South Korea\",\"Canada\",\"United States\",\"France\",\"Argentina\",\"Hong Kong\",\"United States\",\"United States\",\"Canada\",\"United States\",\"United States\",\"India\",\"United States\",\"Philippines\",\"South Korea\",\"United States\",\"United States\",\"Philippines\",\"United States\",\"United States\",\"Colombia\",\"United States\",\"India\",\"United States\",\"China\",\"Lebanon\",\"Hong Kong\",\"United States\",\"Spain\",\"United States\",\"India\",\"Denmark\",\"United States\",\"South Korea\",\"Japan\",\"Japan\",\"United States\",\"United States\",\"South Korea\",\"Egypt\",\"India\",\"China\",\"Japan\",\"Japan\",\"Japan\",\"Japan\",\"United States\",\"India\",\"United States\",\"United States\",\"United States\",\"Spain\",\"South Korea\",\"Romania\",\"Thailand\",\"Australia\",\"India\",\"Canada\",\"United States\",\"Japan\",\"United Kingdom\",\"United States\",\"India\",\"United Kingdom\",\"Canada\",\"United Kingdom\",\"United Kingdom\",\"India\",\"Argentina\",\"United States\",\"United Kingdom\",\"India\",\"United States\",\"Australia\",\"United States\",\"United States\",\"West Germany\",\"United Kingdom\",\"United Kingdom\",\"France\",\"Denmark\",\"Pakistan\",\"United States\",\"United Kingdom\",\"United States\",\"Turkey\",\"United States\",\"Australia\",\"South Africa\",\"United States\",\"United States\",\"United States\",\"United States\",\"Germany\",\"United States\",\"United States\",\"United States\",\"Spain\",\"United States\",\"Spain\",\"United States\",\"Thailand\",\"Thailand\",\"India\",\"Norway\",\"United States\",\"United States\",\"United States\",\"United States\",\"United States\",\"Chile\",\"Canada\",\"United States\",\"United States\",\"India\",\"United Kingdom\",\"Hong Kong\",\"United States\",\"United States\",\"United States\",\"United States\",\"India\",\"Thailand\",\"United States\",\"United States\",\"Thailand\",\"United States\",\"United Kingdom\",\"United Kingdom\",\"United Kingdom\",\"India\",\"United States\",\"South Korea\",\"Ireland\",\"United States\",\"United States\",\"United States\",\"United States\",\"Japan\",\"United States\",\"United States\",\"United Kingdom\",\"United States\",\"Turkey\",\"Belgium\",\"Germany\",\"Poland\",\"United States\",\"United States\",\"India\",\"United States\",\"United States\",\"United States\",\"United States\",\"Slovenia\",\"United States\",\"United States\",\"United States\",\"United States\",\"Mexico\",\"United States\",\"Canada\",\"United States\",\"United States\",\"Peru\",\"United States\",\"United States\",\"South Africa\",\"Germany\",\"United Kingdom\",\"United States\",\"United States\",\"United Kingdom\",\"India\",\"United States\",\"United States\",\"United Kingdom\",\"United States\",\"India\",\"India\",\"United States\",\"India\",\"India\",\"Pakistan\",\"United Kingdom\",\"New Zealand\",\"Canada\",\"Indonesia\",\"Japan\",\"United States\",\"India\",\"United Kingdom\",\"United States\",\"United States\",\"United States\",\"India\",\"United States\",\"United States\",\"South Korea\",\"South Korea\",\"United States\",\"United States\",\"United States\",\"Argentina\",\"India\",\"United Kingdom\",\"United Kingdom\",\"United Kingdom\",\"United States\",\"United States\",\"France\",\"India\",\"United States\",\"Mexico\",\"United States\",\"Australia\",\"France\",\"China\",\"United States\",\"Switzerland\",\"China\",\"Canada\",\"United Kingdom\",\"United Kingdom\",\"Australia\",\"United States\",\"Sweden\",\"United States\",\"United States\",\"United States\",\"Thailand\",\"India\",\"United States\",\"United States\",\"France\",\"Spain\",\"United States\",\"United States\",\"United Kingdom\",\"United States\",\"United States\",\"United States\",\"United States\",\"United States\",\"Mexico\",\"United States\",\"United States\",\"United States\",\"South Korea\",\"United States\",\"United Kingdom\",\"United States\",\"China\",\"Canada\",\"China\",\"Japan\",\"India\",\"United States\",\"United States\",\"Spain\",\"United States\",\"United States\",\"India\",\"United States\",\"United States\",\"United States\",\"United States\",\"United States\",\"South Korea\",\"United States\",\"India\",\"United States\",\"France\",\"South Korea\",\"Turkey\",\"Singapore\",\"United States\",\"United States\",\"United States\",\"Taiwan\",\"United Kingdom\",\"United States\",\"Spain\",\"Thailand\",\"United States\",\"Nigeria\",\"United States\",\"Kuwait\",\"United States\",\"Kuwait\",\"United States\",\"United Kingdom\",\"France\",\"United States\",\"Canada\",\"Japan\",\"Taiwan\",\"United States\",\"United States\",\"Turkey\",\"Serbia\",\"India\",\"United Kingdom\",\"United States\",\"United States\",\"India\",\"United Kingdom\",\"Canada\",\"United States\",\"United States\",\"United States\",\"United States\",\"United States\",\"United States\",\"United States\",\"United Kingdom\",\"Germany\",\"Mexico\",\"Japan\",\"South Korea\",\"Thailand\",\"France\",\"China\",\"United States\",\"India\",\"Germany\",\"India\",\"Turkey\",\"India\",\"United States\",\"United States\",\"United States\",\"United States\",\"United Kingdom\",\"United States\",\"Israel\",\"United States\",\"United Kingdom\",\"United States\",\"Canada\",\"United Kingdom\",\"Australia\",\"Mexico\",\"Canada\",\"United Kingdom\",\"United States\",\"India\",\"Turkey\",\"United States\",\"United States\",\"Canada\",\"United Kingdom\",\"Belgium\",\"United States\",\"Argentina\",\"Japan\",\"Japan\",\"Japan\",\"Japan\",\"Japan\",\"South Korea\",\"United States\",\"Argentina\",\"Canada\",\"South Africa\",\"United States\",\"Hong Kong\",\"Hong Kong\",\"China\",\"Hong Kong\",\"India\",\"India\",\"South Korea\",\"United States\",\"Australia\",\"Taiwan\",\"United States\",\"Canada\",\"Finland\",\"United States\",\"Japan\",\"India\",\"Philippines\",\"India\",\"India\",\"India\",\"Germany\",\"Indonesia\",\"United Kingdom\",\"Nigeria\",\"South Korea\",\"India\",\"United States\",\"United States\",\"Philippines\",\"United States\",\"United States\",\"United States\",\"Nigeria\",\"Spain\",\"South Korea\",\"Egypt\",\"South Korea\",\"India\",\"United States\",\"Nigeria\",\"United States\",\"Australia\",\"United States\",\"Taiwan\",\"India\",\"India\",\"India\",\"India\",\"India\",\"France\",\"Canada\",\"United States\",\"United Kingdom\",\"United Kingdom\",\"United Kingdom\",\"United Kingdom\",\"United States\",\"United Kingdom\",\"Vietnam\",\"United States\",\"India\",\"Sweden\",\"Malaysia\",\"India\",\"India\",\"India\",\"United States\",\"Cambodia\",\"United States\",\"India\",\"India\",\"United Kingdom\",\"India\",\"Pakistan\",\"United Kingdom\",\"United States\",\"Chile\",\"India\",\"Japan\",\"Japan\",\"Israel\",\"India\",\"India\",\"United States\",\"Poland\",\"Spain\",\"United States\",\"United States\",\"United States\",\"United States\",\"United States\",\"United States\",\"United States\",\"United States\",\"United States\",\"United States\",\"United States\",\"United States\",\"United States\",\"United States\",\"United States\",\"United States\",\"United States\",\"Mexico\",\"United States\",\"United States\",\"United States\",\"United States\",\"United States\",\"United States\",\"United States\",\"United States\",\"Ireland\",\"United States\",\"United States\",\"United Kingdom\",\"India\",\"India\",\"Canada\",\"United States\",\"United States\",\"United States\",\"United States\",\"United States\",\"United States\",\"United States\",\"United States\",\"United States\",\"United States\",\"United States\",\"United Kingdom\",\"United States\",\"United States\",\"Japan\",\"India\",\"United States\",\"Russia\",\"Jordan\",\"United States\",\"United States\",\"United States\",\"United States\",\"United States\",\"United States\",\"South Korea\",\"United States\",\"United States\",\"United States\",\"India\",\"United Kingdom\",\"United States\",\"United States\",\"United States\",\"India\",\"United Kingdom\",\"United States\",\"India\",\"United States\",\"United States\",\"United States\",\"United States\",\"United States\",\"United States\",\"United States\",\"United States\",\"United States\",\"Japan\",\"Taiwan\",\"India\",\"India\",\"Brazil\",\"United States\",\"United Kingdom\",\"India\",\"United States\",\"United States\",\"United States\",\"France\",\"Austria\",\"Japan\",\"Chile\",\"Mexico\",\"United States\",\"United States\",\"United States\",\"India\",\"India\",\"India\",\"United States\",\"United States\",\"United States\",\"United States\",\"United States\",\"United States\",\"Kuwait\",\"South Korea\",\"United States\",\"United States\",\"United States\",\"United States\",\"Brazil\",\"Denmark\",\"Germany\",\"Argentina\",\"Philippines\",\"Taiwan\",\"United States\",\"United States\",\"Hong Kong\",\"United States\",\"United States\",\"Canada\",\"United States\",\"United States\",\"Japan\",\"United Kingdom\",\"Japan\",\"Japan\",\"South Korea\",\"United States\",\"Taiwan\",\"Turkey\",\"Turkey\",\"India\",\"India\",\"India\",\"India\",\"India\",\"India\",\"India\",\"India\",\"India\",\"Japan\",\"India\",\"India\",\"India\",\"India\",\"India\",\"India\",\"United States\",\"India\",\"India\",\"United States\",\"India\",\"India\",\"United Kingdom\",\"United Arab Emirates\",\"Philippines\",\"India\",\"South Africa\",\"India\",\"India\",\"South Africa\",\"India\",\"India\",\"Japan\",\"India\",\"India\",\"Turkey\",\"Brazil\",\"Egypt\",\"United States\",\"India\",\"Indonesia\",\"India\",\"Nigeria\",\"United States\",\"United States\",\"Australia\",\"Australia\",\"India\",\"United States\",\"United Kingdom\",\"United States\",\"United States\",\"United States\",\"United States\",\"United States\",\"United States\",\"India\",\"United States\",\"India\",\"India\",\"Australia\",\"India\",\"United States\",\"United States\",\"United States\",\"United States\",\"United States\",\"United States\",\"United States\",\"India\",\"United States\",\"United States\",\"United States\",\"United States\",\"United States\",\"United States\",\"United States\",\"United States\",\"United States\",\"United States\",\"United States\",\"United States\",\"Pakistan\",\"India\",\"India\",\"India\",\"India\",\"India\",\"India\",\"India\",\"India\",\"India\",\"India\",\"India\",\"China\",\"United States\",\"United States\",\"United States\",\"United States\",\"Philippines\",\"Russia\",\"Netherlands\",\"Germany\",\"Turkey\",\"United States\",\"United States\",\"United States\",\"United Kingdom\",\"France\",\"Japan\",\"Turkey\",\"United States\",\"United States\",\"United States\",\"India\",\"United States\",\"United States\",\"United States\",\"United States\",\"United Kingdom\",\"United States\",\"United States\",\"United States\",\"Hungary\",\"United Kingdom\",\"Canada\",\"United States\",\"Nigeria\",\"China\",\"United States\",\"China\",\"United States\",\"United Kingdom\",\"United States\",\"United States\",\"France\",\"South Africa\",\"United States\",\"India\",\"India\",\"India\",\"Canada\",\"United Kingdom\",\"United States\",\"United States\",\"United States\",\"Brazil\",\"Philippines\",\"United Kingdom\",\"Malaysia\",\"Spain\",\"United States\",\"Japan\",\"United States\",\"United States\",\"United States\",\"United States\",\"Taiwan\",\"United States\",\"Turkey\",\"Turkey\",\"Canada\",\"India\",\"United Kingdom\",\"India\",\"Bangladesh\",\"United States\",\"United Kingdom\",\"United States\",\"United States\",\"Malaysia\",\"United States\",\"India\",\"Norway\",\"United States\",\"United States\",\"United States\",\"United States\",\"India\",\"United States\",\"United States\",\"United States\",\"United States\",\"India\",\"United States\",\"India\",\"United States\",\"India\",\"United States\",\"India\",\"India\",\"India\",\"United States\",\"United States\",\"Hong Kong\",\"Mexico\",\"United States\",\"United States\",\"China\",\"Indonesia\",\"United States\",\"India\",\"Japan\",\"Japan\",\"United Kingdom\",\"Turkey\",\"Turkey\",\"India\",\"India\",\"India\",\"United States\",\"India\",\"India\",\"United States\",\"United States\",\"Argentina\",\"United States\",\"United States\",\"Spain\",\"Italy\",\"United States\",\"Colombia\",\"United States\",\"United States\",\"United States\",\"Taiwan\",\"Spain\",\"Mexico\",\"France\",\"Colombia\",\"United States\",\"Mexico\",\"France\",\"Mexico\",\"Taiwan\",\"Mexico\",\"Colombia\",\"India\",\"India\",\"Thailand\",\"India\",\"India\",\"United States\",\"Hong Kong\",\"United States\",\"United States\",\"United States\",\"France\",\"United States\",\"Colombia\",\"Brazil\",\"India\",\"United States\",\"India\",\"India\",\"India\",\"India\",\"United Kingdom\",\"Singapore\",\"Nigeria\",\"United States\",\"United States\",\"United States\",\"Russia\",\"United States\",\"Colombia\",\"South Korea\",\"United Kingdom\",\"United States\",\"United States\",\"Nigeria\",\"Japan\",\"United Kingdom\",\"United States\",\"United Kingdom\",\"United States\",\"Germany\",\"United States\",\"Taiwan\",\"United States\",\"United States\",\"United Kingdom\",\"Netherlands\",\"France\",\"France\",\"United States\",\"United States\",\"United States\",\"France\",\"United States\",\"United States\",\"United States\",\"United States\",\"United States\",\"United Kingdom\",\"India\",\"United States\",\"United States\",\"United States\",\"United Kingdom\",\"United States\",\"China\",\"Mexico\",\"Mexico\",\"Hong Kong\",\"United States\",\"United States\",\"United States\",\"United States\",\"United States\",\"United States\",\"United States\",\"Denmark\",\"Denmark\",\"United States\",\"United States\",\"United States\",\"United States\",\"United States\",\"United States\",\"United States\",\"Canada\",\"Denmark\",\"Denmark\",\"United States\",\"United States\",\"India\",\"United States\",\"United States\",\"India\",\"United States\",\"United States\",\"France\",\"United Kingdom\",\"United States\",\"United States\",\"United States\",\"United States\",\"United States\",\"Egypt\",\"Malaysia\",\"South Korea\",\"Japan\",\"Turkey\",\"Turkey\",\"United States\",\"United States\",\"India\",\"United States\",\"Canada\",\"South Africa\",\"South Korea\",\"United States\",\"United States\",\"India\",\"United States\",\"India\",\"India\",\"United States\",\"Sweden\",\"Taiwan\",\"United States\",\"United Kingdom\",\"Egypt\",\"Canada\",\"Hong Kong\",\"Nigeria\",\"United States\",\"United States\",\"Mexico\",\"United States\",\"United States\",\"India\",\"Norway\",\"India\",\"United Kingdom\",\"United States\",\"China\",\"United States\",\"Taiwan\",\"Egypt\",\"Nigeria\",\"Brazil\",\"Lebanon\",\"United States\",\"United States\",\"United Kingdom\",\"United States\",\"Hong Kong\",\"United States\",\"Australia\",\"Australia\",\"Australia\",\"United States\",\"United Kingdom\",\"United States\",\"United States\",\"India\",\"United States\",\"United States\",\"United States\",\"United States\",\"United States\",\"United States\",\"United States\",\"United States\",\"India\",\"Japan\",\"United States\",\"United States\",\"South Korea\",\"Spain\",\"South Korea\",\"Nigeria\",\"United States\",\"United States\",\"United States\",\"United States\",\"United States\",\"Mexico\",\"Spain\",\"Mexico\",\"United Kingdom\",\"India\",\"United States\",\"United Kingdom\",\"United Kingdom\",\"Canada\",\"Turkey\",\"Spain\",\"France\",\"Mexico\",\"Russia\",\"India\",\"United States\",\"Philippines\",\"South Korea\",\"United Kingdom\",\"Germany\",\"United Kingdom\",\"United States\",\"United Kingdom\",\"United States\",\"Canada\",\"United States\",\"United States\",\"Hong Kong\",\"Hong Kong\",\"Germany\",\"India\",\"Mexico\",\"United States\",\"Mexico\",\"United States\",\"Colombia\",\"United States\",\"United States\",\"United States\",\"Canada\",\"France\",\"Canada\",\"United States\",\"Nigeria\",\"United States\",\"Japan\",\"United States\",\"United States\",\"United States\",\"United States\",\"United States\",\"Taiwan\",\"Sweden\",\"Turkey\",\"India\",\"South Korea\",\"Japan\",\"Japan\",\"India\",\"Taiwan\",\"United States\",\"Taiwan\",\"Taiwan\",\"United States\",\"Taiwan\",\"Indonesia\",\"Indonesia\",\"South Korea\",\"Hong Kong\",\"Romania\",\"United States\",\"United Kingdom\",\"Nigeria\",\"Canada\",\"United States\",\"Indonesia\",\"Turkey\",\"Taiwan\",\"India\",\"Taiwan\",\"China\",\"China\",\"Hong Kong\",\"Australia\",\"India\",\"South Korea\",\"United States\",\"United States\",\"Egypt\",\"United States\",\"United Kingdom\",\"Philippines\",\"Indonesia\",\"United Kingdom\",\"Japan\",\"United States\",\"United States\",\"Germany\",\"Turkey\",\"Brazil\",\"United States\",\"United States\",\"South Korea\",\"United States\",\"United Kingdom\",\"United States\",\"Colombia\",\"Hong Kong\",\"India\",\"Japan\",\"United States\",\"Brazil\",\"United States\",\"Brazil\",\"Brazil\",\"Argentina\",\"Argentina\",\"South Korea\",\"United States\",\"India\",\"India\",\"India\",\"China\",\"India\",\"India\",\"Brazil\",\"Mexico\",\"India\",\"Italy\",\"United States\",\"Canada\",\"Australia\",\"China\",\"United States\",\"Japan\",\"India\",\"Argentina\",\"India\",\"India\",\"United States\",\"India\",\"United States\",\"United States\",\"India\",\"United States\",\"India\",\"United States\",\"Mexico\",\"Australia\",\"United States\",\"United States\",\"United States\",\"Hong Kong\",\"India\",\"United States\",\"United States\",\"United States\",\"India\",\"United States\",\"India\",\"India\",\"Chile\",\"Italy\",\"Japan\",\"Japan\",\"United States\",\"South Korea\",\"France\",\"Uruguay\",\"France\",\"India\",\"United States\",\"Norway\",\"India\",\"United States\",\"India\",\"India\",\"United Kingdom\",\"India\",\"Hong Kong\",\"Turkey\",\"Japan\",\"India\",\"India\",\"India\",\"India\",\"India\",\"United States\",\"United States\",\"United States\",\"Germany\",\"Australia\",\"Israel\",\"India\",\"India\",\"India\",\"Argentina\",\"United Kingdom\",\"United States\",\"United States\",\"United States\",\"United States\",\"India\",\"Egypt\",\"United Kingdom\",\"United Kingdom\",\"United States\",\"South Korea\",\"United Kingdom\",\"United States\",\"United States\",\"India\",\"India\",\"United States\",\"United States\",\"United States\",\"China\",\"United States\",\"United States\",\"India\",\"India\",\"United States\",\"India\",\"India\",\"United Kingdom\",\"India\",\"India\",\"United Kingdom\",\"United States\",\"India\",\"India\",\"India\",\"India\",\"India\",\"Canada\",\"Spain\",\"United Kingdom\",\"Argentina\",\"Canada\",\"United States\",\"United States\",\"United States\",\"United Kingdom\",\"Japan\",\"United States\",\"Brazil\",\"United States\",\"United States\",\"Philippines\",\"United States\",\"United States\",\"United States\",\"France\",\"United States\",\"United States\",\"United States\",\"United States\",\"United States\",\"India\",\"India\",\"United Kingdom\",\"United States\",\"United States\",\"France\",\"Hong Kong\",\"United States\",\"United States\",\"Canada\",\"India\",\"United States\",\"United States\",\"Japan\",\"United States\",\"United States\",\"United States\",\"United States\",\"United States\",\"United States\",\"United States\",\"United States\",\"United States\",\"United States\",\"Japan\",\"India\",\"United States\",\"United Kingdom\",\"India\",\"Saudi Arabia\",\"Saudi Arabia\",\"United States\",\"Russia\",\"United States\",\"United States\",\"India\",\"India\",\"South Korea\",\"United States\",\"Hong Kong\",\"United States\",\"Argentina\",\"South Africa\",\"India\",\"Mexico\",\"India\",\"Brazil\",\"United States\",\"Indonesia\",\"Hong Kong\",\"Egypt\",\"United States\",\"France\",\"China\",\"United States\",\"United States\",\"India\",\"Mexico\",\"Mexico\",\"Canada\",\"United States\",\"United States\",\"United States\",\"United States\",\"United States\",\"Italy\",\"Canada\",\"Poland\",\"United Kingdom\",\"Nigeria\",\"United Kingdom\",\"United Kingdom\",\"Japan\",\"Australia\",\"India\",\"India\",\"India\",\"United States\",\"United States\",\"South Korea\",\"Argentina\",\"South Korea\",\"Germany\",\"United States\",\"United States\",\"United States\",\"South Korea\",\"Saudi Arabia\",\"United States\",\"Canada\",\"Indonesia\",\"New Zealand\",\"France\",\"United States\",\"United States\",\"United States\",\"United States\",\"India\",\"India\",\"Spain\",\"United Kingdom\",\"United States\",\"Nigeria\",\"Nigeria\",\"India\",\"United Kingdom\",\"United States\",\"United States\",\"United States\",\"China\",\"India\",\"Mexico\",\"United States\",\"France\",\"Chile\",\"Argentina\",\"India\",\"United Kingdom\",\"Netherlands\",\"India\",\"United States\",\"United States\",\"Canada\",\"United Kingdom\",\"United States\",\"United States\",\"United States\",\"United States\",\"United States\",\"Canada\",\"Japan\",\"Japan\",\"India\",\"United States\",\"United States\",\"Canada\",\"United States\",\"India\",\"India\",\"India\",\"United States\",\"United States\",\"India\",\"United States\",\"United States\",\"United States\",\"United States\",\"United States\",\"United States\",\"Czech Republic\",\"United States\",\"Indonesia\",\"United States\",\"France\",\"United States\",\"Argentina\",\"United States\",\"United Kingdom\",\"Japan\",\"Singapore\",\"Austria\",\"United Kingdom\",\"United States\",\"United States\",\"United States\",\"United States\",\"France\",\"United States\",\"South Korea\",\"United States\",\"India\",\"United States\",\"Canada\",\"Turkey\",\"France\",\"Spain\",\"Japan\",\"United States\",\"United States\",\"India\",\"South Korea\",\"India\",\"Netherlands\",\"Netherlands\",\"India\",\"United States\",\"United States\",\"Mexico\",\"Japan\",\"Taiwan\",\"India\",\"Singapore\",\"Norway\",\"United States\",\"South Korea\",\"United States\",\"Taiwan\",\"United States\",\"United States\",\"United States\",\"United States\",\"United States\",\"India\",\"United Kingdom\",\"Malaysia\",\"United States\",\"United States\",\"United States\",\"United Kingdom\",\"Japan\",\"Japan\",\"Japan\",\"Japan\",\"United States\",\"India\",\"Egypt\",\"United States\",\"India\",\"United States\",\"Nigeria\",\"France\",\"China\",\"India\",\"South Korea\",\"Nigeria\",\"United States\",\"Mexico\",\"United States\",\"United States\",\"Spain\",\"United States\",\"Turkey\",\"United States\",\"United Kingdom\",\"Thailand\",\"Canada\",\"Egypt\",\"Germany\",\"United States\",\"United States\",\"United States\",\"United States\",\"United States\",\"United States\",\"United States\",\"United States\",\"United States\",\"United States\",\"United States\",\"United States\",\"United States\",\"United States\",\"United States\",\"India\",\"Canada\",\"United States\",\"United Kingdom\",\"Japan\",\"United Kingdom\",\"United Kingdom\",\"United Kingdom\",\"United Kingdom\",\"United States\",\"United Kingdom\",\"United Kingdom\",\"United States\",\"United Kingdom\",\"United Kingdom\",\"United Kingdom\",\"United Kingdom\",\"United Kingdom\",\"United Kingdom\",\"United States\",\"Argentina\",\"United Kingdom\",\"United States\",\"France\",\"Pakistan\",\"Egypt\",\"Netherlands\",\"Germany\",\"France\",\"United States\",\"India\",\"United States\",\"Israel\",\"Brazil\",\"Canada\",\"United States\",\"Japan\",\"United States\",\"India\",\"India\",\"Australia\",\"India\",\"Australia\",\"United States\",\"United States\",\"United States\",\"United States\",\"United Kingdom\",\"India\",\"United States\",\"United States\",\"Israel\",\"United States\",\"United States\",\"Mexico\",\"United States\",\"United States\",\"United States\",\"South Korea\",\"Hong Kong\",\"United States\",\"Canada\",\"India\",\"Egypt\",\"India\",\"Chile\",\"France\",\"United States\",\"Turkey\",\"United States\",\"United States\",\"India\",\"Chile\",\"India\",\"India\",\"Malaysia\",\"India\",\"India\",\"India\",\"India\",\"Malaysia\",\"India\",\"France\",\"United States\",\"India\",\"India\",\"India\",\"United Kingdom\",\"United States\",\"United States\",\"United States\",\"United States\",\"United States\",\"Taiwan\",\"India\",\"Philippines\",\"United States\",\"Spain\",\"United Kingdom\",\"Mexico\",\"United States\",\"India\",\"Philippines\",\"Canada\",\"Canada\",\"United Kingdom\",\"Spain\",\"India\",\"India\",\"South Korea\",\"United States\",\"Taiwan\",\"Thailand\",\"Egypt\",\"United States\",\"Philippines\",\"Canada\",\"South Korea\",\"India\",\"Germany\",\"United States\",\"Georgia\",\"United States\",\"Italy\",\"Egypt\",\"United Kingdom\",\"Japan\",\"Switzerland\",\"United States\",\"South Korea\",\"United States\",\"United States\",\"United States\",\"United States\",\"United States\",\"United States\",\"United States\",\"South Korea\",\"United States\",\"Taiwan\",\"United States\",\"United States\",\"South Africa\",\"South Korea\",\"United States\",\"United States\",\"Canada\",\"Canada\",\"United States\",\"South Korea\",\"South Korea\",\"Hong Kong\",\"United Kingdom\",\"South Korea\",\"South Korea\",\"United States\",\"Egypt\",\"Turkey\",\"Indonesia\",\"Indonesia\",\"United States\",\"United Kingdom\",\"United States\",\"Turkey\",\"Thailand\",\"Italy\",\"United Kingdom\",\"South Africa\",\"United States\",\"Brazil\",\"United States\",\"United States\",\"United States\",\"South Korea\",\"United States\",\"Singapore\",\"India\",\"France\",\"United Kingdom\",\"India\",\"India\",\"India\",\"United States\",\"United Kingdom\",\"Italy\",\"Japan\",\"United States\",\"France\",\"Germany\",\"United States\",\"Mexico\",\"Spain\",\"Ireland\",\"United States\",\"United States\",\"India\",\"India\",\"United States\",\"Thailand\",\"United States\",\"United States\",\"United States\",\"Mexico\",\"United States\",\"Japan\",\"Japan\",\"Japan\",\"Japan\",\"Japan\",\"Japan\",\"Japan\",\"Japan\",\"Japan\",\"India\",\"Uruguay\",\"Chile\",\"United States\",\"United States\",\"United States\",\"United States\",\"India\",\"United States\",\"United States\",\"United States\",\"United States\",\"India\",\"United States\",\"United States\",\"United Kingdom\",\"United States\",\"United States\",\"United States\",\"United States\",\"United Kingdom\",\"United Kingdom\",\"India\",\"United States\",\"United States\",\"United States\",\"China\",\"United States\",\"United States\",\"India\",\"India\",\"United States\",\"Japan\",\"Chile\",\"Turkey\",\"United States\",\"United States\",\"United States\",\"United States\",\"Nigeria\",\"United States\",\"United States\",\"United States\",\"United States\",\"India\",\"China\",\"United States\",\"India\",\"Puerto Rico\",\"United States\",\"United States\",\"United States\",\"Turkey\",\"United Kingdom\",\"United Kingdom\",\"United States\",\"United States\",\"United States\",\"South Korea\",\"United States\",\"United States\",\"United States\",\"India\",\"Nigeria\",\"Germany\",\"Japan\",\"Canada\",\"Japan\",\"Spain\",\"Turkey\",\"India\",\"United Kingdom\",\"India\",\"Chile\",\"Japan\",\"Japan\",\"United States\",\"Egypt\",\"India\",\"Mexico\",\"Philippines\",\"United States\",\"Argentina\",\"United States\",\"Norway\",\"India\",\"Chile\",\"Poland\",\"Netherlands\",\"Brazil\",\"United States\",\"France\",\"United States\",\"United States\",\"United States\",\"India\",\"United States\",\"United States\",\"Norway\",\"United Kingdom\",\"Canada\",\"United States\",\"Argentina\",\"United Kingdom\",\"France\",\"Brazil\",\"Brazil\",\"United States\",\"United States\",\"United States\",\"United States\",\"United States\",\"United States\",\"United States\",\"United States\",\"United States\",\"United States\",\"United States\",\"United States\",\"United States\",\"United States\",\"United States\",\"United States\",\"United States\",\"United States\",\"United States\",\"United States\",\"France\",\"United States\",\"United States\",\"United States\",\"United Kingdom\",\"Taiwan\",\"Germany\",\"United States\",\"United Kingdom\",\"Israel\",\"Italy\",\"Japan\",\"United States\",\"United Kingdom\",\"Denmark\",\"Denmark\",\"Brazil\",\"United States\",\"United Kingdom\",\"United States\",\"France\",\"Australia\",\"Norway\",\"United States\",\"United States\",\"United States\",\"Hong Kong\",\"United States\",\"United States\",\"United Kingdom\",\"United Kingdom\",\"United Kingdom\",\"United States\",\"United States\",\"India\",\"United States\",\"Spain\",\"Spain\",\"Taiwan\",\"United States\",\"Germany\",\"Australia\",\"France\",\"India\",\"South Korea\",\"Thailand\",\"Thailand\",\"United States\",\"India\",\"Canada\",\"Canada\",\"United States\",\"Romania\",\"India\",\"United States\",\"United States\",\"Nigeria\",\"Nigeria\",\"South Korea\",\"Japan\",\"United States\",\"Germany\",\"Brazil\",\"United States\",\"United States\",\"France\",\"Denmark\",\"United States\",\"India\",\"Egypt\",\"Egypt\",\"Brazil\",\"Hungary\",\"Taiwan\",\"United States\",\"Italy\",\"Nigeria\",\"Hong Kong\",\"Brazil\",\"India\",\"Hong Kong\",\"India\",\"United States\",\"United States\",\"United States\",\"United States\",\"United States\",\"United States\",\"United States\",\"United States\",\"Egypt\",\"China\",\"United Kingdom\",\"India\",\"India\",\"Italy\",\"India\",\"India\",\"Thailand\",\"United States\",\"Indonesia\",\"India\",\"United States\",\"India\",\"United States\",\"Canada\",\"United States\",\"United States\",\"South Korea\",\"Philippines\",\"India\",\"United States\",\"United States\",\"Japan\",\"South Korea\",\"United States\",\"Thailand\",\"Japan\",\"Turkey\",\"United States\",\"Denmark\",\"United States\",\"Australia\",\"United States\",\"United States\",\"Brazil\",\"United States\",\"South Korea\",\"United Kingdom\",\"China\",\"United States\",\"United Kingdom\",\"South Korea\",\"China\",\"United States\",\"Hong Kong\",\"United States\",\"United States\",\"Spain\",\"United States\",\"Philippines\",\"United States\",\"Turkey\",\"United States\",\"India\",\"France\",\"France\",\"United States\",\"United Kingdom\",\"Australia\",\"India\",\"India\",\"United Kingdom\",\"Canada\",\"United States\",\"Spain\",\"United States\",\"United Kingdom\",\"China\",\"United States\",\"Japan\",\"France\",\"United States\",\"United States\",\"Australia\",\"United States\",\"United States\",\"United Kingdom\",\"United Kingdom\",\"United States\",\"United States\",\"Germany\",\"China\",\"Turkey\",\"Thailand\",\"India\",\"United States\",\"United Kingdom\",\"India\",\"United States\",\"United States\",\"India\",\"United States\",\"India\",\"India\",\"United Kingdom\",\"Colombia\",\"Venezuela\",\"United States\",\"United States\",\"France\",\"Australia\",\"Peru\",\"India\",\"United States\",\"United States\",\"Philippines\",\"India\",\"India\",\"India\",\"Thailand\",\"United States\",\"United States\",\"Hong Kong\",\"United States\",\"United States\",\"Argentina\",\"United Kingdom\",\"Spain\",\"Mexico\",\"United States\",\"India\",\"South Korea\",\"United States\",\"India\",\"Lebanon\",\"Canada\",\"India\",\"Canada\",\"United States\",\"Spain\",\"France\",\"Brazil\",\"United States\",\"United States\",\"United Kingdom\",\"Egypt\",\"United States\",\"United States\",\"Canada\",\"United States\",\"Japan\",\"Spain\",\"India\",\"India\",\"Pakistan\",\"United States\",\"France\",\"South Korea\",\"United States\",\"India\",\"United Kingdom\",\"United States\",\"United States\",\"Colombia\",\"Malaysia\",\"United States\",\"United States\",\"United States\",\"India\",\"United States\",\"Mexico\",\"United Kingdom\",\"United States\",\"United States\",\"Turkey\",\"United States\",\"United States\",\"United States\",\"United States\",\"United Kingdom\",\"India\",\"United States\",\"Nigeria\",\"India\",\"India\",\"United Kingdom\",\"Lebanon\",\"Germany\",\"Thailand\",\"United States\",\"United States\",\"United States\",\"India\",\"China\",\"Turkey\",\"Malaysia\",\"India\",\"Colombia\",\"United Kingdom\",\"United States\",\"Ireland\",\"United Kingdom\",\"United States\",\"Hong Kong\",\"Uruguay\",\"Argentina\",\"Canada\",\"United States\",\"Germany\",\"United States\",\"United States\",\"South Korea\",\"France\",\"United States\",\"United States\",\"United States\",\"Germany\",\"India\",\"United States\",\"Germany\",\"United States\",\"India\",\"France\",\"United States\",\"India\",\"India\",\"India\",\"Thailand\",\"Nigeria\",\"India\",\"India\",\"United States\",\"Colombia\",\"Canada\",\"United States\",\"United States\",\"India\",\"United States\",\"India\",\"Australia\",\"United States\",\"India\",\"United States\",\"United States\",\"Pakistan\",\"United States\",\"United States\",\"India\",\"India\",\"Argentina\",\"France\",\"India\",\"France\",\"Spain\",\"United Kingdom\",\"United Kingdom\",\"United States\",\"France\",\"United States\",\"India\",\"United States\",\"United States\",\"Canada\",\"United States\",\"United States\",\"United Kingdom\",\"Spain\",\"United States\",\"Spain\",\"United States\",\"United States\",\"United States\",\"United States\",\"France\",\"United States\",\"Japan\",\"Japan\",\"United States\",\"Japan\",\"Japan\",\"United States\",\"United States\",\"Canada\",\"Canada\",\"India\",\"Japan\",\"South Africa\",\"Switzerland\",\"United States\",\"United States\",\"South Korea\",\"United States\",\"Portugal\",\"United States\",\"United States\",\"Indonesia\",\"India\",\"South Korea\",\"United Kingdom\",\"India\",\"Ghana\",\"United States\",\"India\",\"United States\",\"India\",\"United States\",\"United States\",\"United States\",\"United States\",\"United States\",\"United States\",\"United States\",\"France\",\"United States\",\"United States\",\"United States\",\"United States\",\"United States\",\"United States\",\"United States\",\"United States\",\"United States\",\"United States\",\"United States\",\"United States\",\"United States\",\"United States\",\"United States\",\"United States\",\"United States\",\"United States\",\"United States\",\"United States\",\"United States\",\"United States\",\"United States\",\"India\",\"India\",\"United States\",\"United States\",\"India\",\"India\",\"United States\",\"South Korea\",\"United States\",\"United States\",\"United States\",\"South Africa\",\"United States\",\"India\",\"Hong Kong\",\"United States\",\"United States\",\"United States\",\"United States\",\"United States\",\"South Korea\",\"United States\",\"South Korea\",\"United States\",\"India\",\"United States\",\"United States\",\"India\",\"United States\",\"India\",\"United States\",\"Thailand\",\"United States\",\"Canada\",\"Canada\",\"Argentina\",\"India\",\"South Korea\",\"United States\",\"Japan\",\"Argentina\",\"United States\",\"Ireland\",\"India\",\"Malaysia\",\"United States\",\"Canada\",\"United States\",\"Canada\",\"Canada\",\"Canada\",\"United States\",\"India\",\"United Kingdom\",\"United States\",\"United States\",\"China\",\"India\",\"India\",\"India\",\"India\",\"India\",\"United States\",\"India\",\"United States\",\"India\",\"China\",\"India\",\"Netherlands\",\"United States\",\"United States\",\"United Kingdom\",\"United Kingdom\",\"India\",\"Taiwan\",\"United States\",\"United States\",\"South Africa\",\"United States\",\"United States\",\"United States\",\"United States\",\"Spain\",\"Sweden\",\"United States\",\"Australia\",\"United States\",\"United States\",\"India\",\"United States\",\"India\",\"India\",\"United States\",\"France\",\"Malaysia\",\"India\",\"India\",\"United States\",\"United States\",\"Brazil\",\"United States\",\"India\",\"United States\",\"India\",\"United States\",\"Brazil\",\"United States\",\"India\",\"India\",\"Norway\",\"India\",\"United States\",\"China\",\"United States\",\"India\",\"South Korea\",\"United States\",\"United States\",\"Australia\",\"France\",\"India\",\"India\",\"India\",\"India\",\"India\",\"Australia\",\"India\",\"United States\",\"United States\",\"United States\",\"United States\",\"India\",\"India\",\"India\",\"India\",\"Singapore\",\"India\",\"Canada\",\"South Korea\",\"India\",\"India\",\"United States\",\"India\",\"Pakistan\",\"United States\",\"United States\",\"United States\",\"United States\",\"United States\",\"Canada\",\"United States\",\"United States\",\"India\",\"Japan\",\"Japan\",\"Egypt\",\"India\",\"Mexico\",\"United Kingdom\",\"United Kingdom\",\"United States\",\"United States\",\"United States\",\"Brazil\",\"United Kingdom\",\"United States\",\"Mexico\",\"Ireland\",\"United States\",\"Canada\",\"Canada\",\"Australia\",\"Japan\",\"South Korea\",\"United States\",\"United States\",\"Australia\",\"United States\",\"India\",\"United Kingdom\",\"United States\",\"United Kingdom\",\"Taiwan\",\"United States\",\"Egypt\",\"United States\",\"United Kingdom\",\"India\",\"India\",\"United States\",\"United States\",\"United States\",\"United States\",\"United States\",\"United States\",\"United States\",\"United States\",\"United States\",\"United States\",\"Malaysia\",\"Canada\",\"United States\",\"United Kingdom\",\"Mexico\",\"South Korea\",\"South Korea\",\"South Korea\",\"Canada\",\"United Kingdom\",\"Germany\",\"United States\",\"United States\",\"Canada\",\"United States\",\"United States\",\"United States\",\"Turkey\",\"Peru\",\"United Kingdom\",\"Egypt\",\"Hong Kong\",\"India\",\"United States\",\"Hong Kong\",\"Singapore\",\"South Korea\",\"United States\",\"Japan\",\"United Kingdom\",\"United Kingdom\",\"South Korea\",\"United States\",\"Mexico\",\"United States\",\"United States\",\"United Kingdom\",\"United States\",\"United States\",\"Mexico\",\"Mexico\",\"Colombia\",\"United States\",\"Brazil\",\"United States\",\"United States\",\"United Kingdom\",\"Australia\",\"United States\",\"United States\",\"Germany\",\"United States\",\"Japan\",\"United States\",\"Malaysia\",\"India\",\"United States\",\"Australia\",\"Netherlands\",\"United Kingdom\",\"United States\",\"India\",\"Malaysia\",\"India\",\"Germany\",\"United Kingdom\",\"Denmark\",\"India\",\"Argentina\",\"Japan\",\"United States\",\"United States\",\"Japan\",\"Mexico\",\"India\",\"Nigeria\",\"United States\",\"United States\",\"Italy\",\"United Kingdom\",\"South Korea\",\"South Korea\",\"United States\",\"United Kingdom\",\"France\",\"Germany\",\"India\",\"United States\",\"United States\",\"India\",\"United States\",\"United States\",\"United States\",\"United States\",\"United States\",\"United States\",\"United States\",\"France\",\"United States\",\"United States\",\"Egypt\",\"United States\",\"United States\",\"United States\",\"United States\",\"Mexico\",\"Canada\",\"Japan\",\"South Korea\",\"Turkey\",\"Turkey\",\"India\",\"India\",\"Mexico\",\"United States\",\"United States\",\"United States\",\"South Korea\",\"Ireland\",\"France\",\"Canada\",\"United Kingdom\",\"Thailand\",\"India\",\"United States\",\"United States\",\"United States\",\"Mexico\",\"Italy\",\"United States\",\"United States\",\"United States\",\"United States\",\"India\",\"United States\",\"United States\",\"Mexico\",\"Indonesia\",\"South Korea\",\"Germany\",\"India\",\"Mexico\",\"Hong Kong\",\"United States\",\"India\",\"South Korea\",\"United States\",\"United States\",\"United States\",\"United States\",\"India\",\"Japan\",\"Canada\",\"United States\",\"United Kingdom\",\"United States\",\"United States\",\"United States\",\"United States\",\"United States\",\"United States\",\"Canada\",\"India\",\"United States\",\"Italy\",\"Hong Kong\",\"United States\",\"United States\",\"India\",\"India\",\"India\",\"India\",\"Pakistan\",\"India\",\"Indonesia\",\"India\",\"Italy\",\"Spain\",\"Turkey\",\"Canada\",\"India\",\"Pakistan\",\"India\",\"United Kingdom\",\"United States\",\"France\",\"India\",\"India\",\"Japan\",\"Japan\",\"India\",\"Philippines\",\"India\",\"Senegal\",\"India\",\"Egypt\",\"United States\",\"Egypt\",\"United States\",\"United States\",\"United States\",\"United States\",\"United States\",\"United States\",\"United States\",\"India\",\"Brazil\",\"India\",\"United States\",\"Egypt\",\"France\",\"United States\",\"South Africa\",\"United States\",\"Japan\",\"United States\",\"India\",\"United States\",\"Israel\",\"United States\",\"India\",\"India\",\"Italy\",\"India\",\"United States\",\"United States\",\"United States\",\"United States\",\"Australia\",\"South Africa\",\"Colombia\",\"Spain\",\"United States\",\"United States\",\"France\",\"Austria\",\"Canada\",\"Australia\",\"India\",\"United States\",\"United States\",\"India\",\"India\",\"India\",\"India\",\"United States\",\"United States\",\"India\",\"Indonesia\",\"India\",\"United States\",\"United States\",\"India\",\"United Kingdom\",\"United States\",\"Egypt\",\"South Korea\",\"United States\",\"Italy\",\"United States\",\"United States\",\"United States\",\"India\",\"United States\",\"United States\",\"United States\",\"United States\",\"Japan\",\"United States\",\"Italy\",\"United States\",\"Egypt\",\"United States\",\"United States\",\"United States\",\"Canada\",\"United States\",\"France\",\"Germany\",\"United States\",\"China\",\"United States\",\"United States\",\"United States\",\"United States\",\"United States\",\"United States\",\"United States\",\"United States\",\"Hong Kong\",\"Mexico\",\"United States\",\"United States\",\"United States\",\"Sweden\",\"United States\",\"Argentina\",\"United States\",\"United States\",\"United States\",\"South Korea\",\"Hong Kong\",\"South Korea\",\"Australia\",\"United States\",\"United States\",\"United States\",\"Egypt\",\"India\",\"Argentina\",\"Taiwan\",\"United States\",\"United States\",\"United Kingdom\",\"United States\",\"United Kingdom\",\"United States\",\"United Kingdom\",\"United States\",\"United States\",\"United Kingdom\",\"United Kingdom\",\"United States\",\"United States\",\"United States\",\"United States\",\"United States\",\"India\",\"United States\",\"India\",\"Mexico\",\"United States\",\"United States\",\"United States\",\"Mexico\",\"Turkey\",\"United Kingdom\",\"United States\",\"Canada\",\"South Korea\",\"United States\",\"Guatemala\",\"United States\",\"United Kingdom\",\"India\",\"South Africa\",\"Ukraine\",\"United States\",\"China\",\"United States\",\"United States\",\"United States\",\"India\",\"India\",\"India\",\"United States\",\"United States\",\"France\",\"United States\",\"United States\",\"United States\",\"Philippines\",\"Spain\",\"United States\",\"United States\",\"United States\",\"United Kingdom\",\"United States\",\"United Kingdom\",\"United States\",\"Mexico\",\"United States\",\"Hong Kong\",\"United States\",\"France\",\"India\",\"China\",\"Israel\",\"India\",\"India\",\"Italy\",\"India\",\"United States\",\"India\",\"China\",\"India\",\"Hong Kong\",\"United States\",\"United States\",\"United Kingdom\",\"United Kingdom\",\"United Kingdom\",\"India\",\"United States\",\"United Kingdom\",\"India\",\"United States\",\"Egypt\",\"United States\",\"Philippines\",\"United States\",\"United States\",\"Philippines\",\"United States\",\"United States\",\"South Africa\",\"United Kingdom\",\"United States\",\"India\",\"India\",\"Canada\",\"United States\",\"Brazil\",\"United States\",\"India\",\"India\",\"United States\",\"India\",\"United States\",\"United States\",\"Australia\",\"Australia\",\"India\",\"India\",\"United States\",\"India\",\"United States\",\"United States\",\"United States\",\"United Kingdom\",\"United States\",\"United States\",\"Israel\",\"India\",\"India\",\"Thailand\",\"Indonesia\",\"Indonesia\",\"Indonesia\",\"Colombia\",\"Italy\",\"United Kingdom\",\"United States\",\"India\",\"United States\",\"India\",\"South Korea\",\"Poland\",\"United States\",\"United States\",\"Canada\",\"United States\",\"India\",\"United States\",\"United States\",\"Russia\",\"France\",\"United Kingdom\",\"United States\",\"Mexico\",\"United States\",\"Colombia\",\"United States\",\"United States\",\"Bangladesh\",\"United States\",\"Germany\",\"Spain\",\"India\",\"Singapore\",\"India\",\"India\",\"Indonesia\",\"United States\",\"Australia\",\"China\",\"Switzerland\",\"United States\",\"Peru\",\"Brazil\",\"United States\",\"Japan\",\"United States\",\"United States\",\"United States\",\"Philippines\",\"Australia\",\"Pakistan\",\"Saudi Arabia\",\"Nigeria\",\"United States\",\"Thailand\",\"United States\",\"United States\",\"Spain\",\"China\",\"United States\",\"China\",\"Vietnam\",\"United States\",\"South Korea\",\"United States\",\"Germany\",\"Italy\",\"Canada\",\"United States\",\"United States\",\"Thailand\",\"Thailand\",\"Thailand\",\"United States\",\"United States\",\"United States\",\"United States\",\"Nigeria\",\"United Kingdom\",\"Canada\",\"United States\",\"United States\",\"United States\",\"United States\",\"Spain\",\"Japan\",\"United States\",\"United States\",\"United States\",\"United States\",\"United Kingdom\",\"South Korea\",\"Argentina\",\"India\",\"United States\",\"United States\",\"Indonesia\",\"Mexico\",\"Mexico\",\"United States\",\"India\",\"Japan\",\"India\",\"Spain\",\"Mexico\",\"United States\",\"United States\",\"Czech Republic\",\"Canada\",\"United States\",\"United States\",\"United States\",\"Mexico\",\"Taiwan\",\"Spain\",\"South Korea\",\"United States\",\"India\",\"United States\",\"China\",\"United States\",\"United States\",\"Australia\",\"Egypt\",\"United States\",\"India\",\"Japan\",\"United States\",\"Nigeria\",\"India\",\"Egypt\",\"Thailand\",\"Japan\",\"Mexico\",\"United States\",\"United States\",\"United States\",\"United Kingdom\",\"United States\",\"United States\",\"United States\",\"United States\",\"United States\",\"Spain\",\"South Korea\",\"United States\",\"France\",\"Russia\",\"United States\",\"United States\",\"India\",\"Canada\",\"United States\",\"Brazil\",\"United States\",\"United Kingdom\",\"United States\",\"United States\",\"United States\",\"United States\",\"United States\",\"United States\",\"United States\",\"United States\",\"United States\",\"United States\",\"United States\",\"United States\",\"United States\",\"United Kingdom\",\"United States\",\"United States\",\"United States\",\"United States\",\"United States\",\"United Kingdom\",\"United States\",\"United States\",\"United States\",\"Jamaica\",\"United States\",\"United States\",\"United States\",\"United States\",\"United States\",\"Spain\",\"India\",\"United States\",\"United States\",\"United States\",\"Canada\",\"Canada\",\"United States\",\"United States\",\"United States\",\"United States\",\"United States\",\"United States\",\"United States\",\"United States\",\"Canada\",\"United Kingdom\",\"United States\",\"United Kingdom\",\"United States\",\"United States\",\"South Korea\",\"Philippines\",\"Australia\",\"Switzerland\",\"United States\",\"Japan\",\"United States\",\"United States\",\"United States\",\"South Korea\",\"United States\",\"Egypt\",\"United States\",\"United States\",\"Germany\",\"United Kingdom\",\"United States\",\"India\",\"Thailand\",\"United Kingdom\",\"United States\",\"United States\",\"United States\",\"Spain\",\"South Korea\",\"United States\",\"Australia\",\"United States\",\"India\",\"India\",\"United States\",\"United States\",\"Canada\",\"United States\",\"United States\",\"South Korea\",\"United States\",\"United States\",\"South Korea\",\"France\",\"Lebanon\",\"India\",\"France\",\"United States\",\"United States\",\"United States\",\"United States\",\"Australia\",\"Netherlands\",\"United States\",\"United States\",\"United States\",\"South Korea\",\"United States\",\"Brazil\",\"South Korea\",\"United States\",\"Poland\",\"Germany\",\"United States\",\"Turkey\",\"United States\",\"Turkey\",\"United Kingdom\",\"United States\",\"United States\",\"United States\",\"Italy\",\"Italy\",\"Thailand\",\"India\",\"Singapore\",\"United Kingdom\",\"United States\",\"United States\",\"United States\",\"Israel\",\"United Kingdom\",\"South Korea\",\"United States\",\"Denmark\",\"Italy\",\"Mexico\",\"Spain\",\"United Kingdom\",\"India\",\"Belarus\",\"India\",\"India\",\"India\",\"United States\",\"India\",\"Brazil\",\"United States\",\"United States\",\"Canada\",\"United States\",\"United States\",\"United States\",\"United States\",\"United States\",\"Canada\",\"United States\",\"Canada\",\"United States\",\"India\",\"United States\",\"United States\",\"United States\",\"United States\",\"Spain\",\"United States\",\"United States\",\"United States\",\"United Kingdom\",\"United States\",\"India\",\"India\",\"Indonesia\",\"United States\",\"Indonesia\",\"Indonesia\",\"United States\",\"United States\",\"United States\",\"United States\",\"United States\",\"United States\",\"United States\",\"United States\",\"United States\",\"Indonesia\",\"South Korea\",\"India\",\"India\",\"United States\",\"Canada\",\"Canada\",\"United States\",\"United States\",\"United States\",\"United States\",\"United States\",\"United States\",\"Japan\",\"Japan\",\"Japan\",\"China\",\"Hong Kong\",\"United States\",\"Japan\",\"Nigeria\",\"United States\",\"Germany\",\"India\",\"India\",\"Belgium\",\"United States\",\"India\",\"India\",\"United States\",\"United States\",\"China\",\"United States\",\"Spain\",\"United States\",\"France\",\"United States\",\"Saudi Arabia\",\"India\",\"Malaysia\",\"Australia\",\"United States\",\"United States\",\"United Kingdom\",\"Cyprus\",\"United States\",\"United States\",\"India\",\"India\",\"United States\",\"Lebanon\",\"Argentina\",\"India\",\"India\",\"Egypt\",\"Indonesia\",\"France\",\"Indonesia\",\"United States\",\"United States\",\"Egypt\",\"Nigeria\",\"United States\",\"Lebanon\",\"United States\",\"Egypt\",\"United States\",\"United States\",\"South Korea\",\"United States\",\"India\",\"United States\",\"United States\",\"United States\",\"United States\",\"Japan\",\"Thailand\",\"Pakistan\",\"India\",\"United States\",\"India\",\"United States\",\"United States\",\"Hong Kong\",\"United States\",\"United States\",\"India\",\"United Kingdom\",\"United States\",\"Japan\",\"Argentina\",\"Hong Kong\",\"India\",\"Mexico\",\"United States\",\"United States\",\"United States\",\"France\",\"United States\",\"Japan\",\"Japan\",\"Japan\",\"United States\",\"United States\",\"India\",\"United Kingdom\",\"India\",\"India\",\"India\",\"India\",\"United States\",\"India\",\"India\",\"United States\",\"Philippines\",\"South Korea\",\"United States\",\"United States\",\"Sweden\",\"Norway\",\"United States\",\"United States\",\"United States\",\"Indonesia\",\"Indonesia\",\"United States\",\"United States\",\"Mexico\",\"Taiwan\",\"United Kingdom\",\"Nigeria\",\"Canada\",\"United States\",\"United States\",\"Canada\",\"Australia\",\"United States\",\"United States\",\"United States\",\"United States\",\"Argentina\",\"France\",\"United States\",\"South Korea\",\"Spain\",\"Philippines\",\"United States\",\"United States\",\"United States\",\"United States\",\"United States\",\"United States\",\"United States\",\"Israel\",\"Finland\",\"United States\",\"Egypt\",\"Singapore\",\"Spain\",\"Italy\",\"United States\",\"Nigeria\",\"Poland\",\"Canada\",\"United States\",\"France\",\"United States\",\"France\",\"United Kingdom\",\"Switzerland\",\"United States\",\"United States\",\"United States\",\"United States\",\"United States\",\"United States\",\"United States\",\"United States\",\"United Kingdom\",\"United States\",\"United States\",\"United States\",\"Spain\",\"Hong Kong\",\"Spain\",\"United States\",\"United States\",\"United States\",\"Egypt\",\"Italy\",\"Hong Kong\",\"United States\",\"United States\",\"Brazil\",\"Brazil\",\"United States\",\"United Kingdom\",\"United Kingdom\",\"United Kingdom\",\"United Kingdom\",\"United States\",\"United States\",\"Italy\",\"United States\",\"United States\",\"China\",\"United States\",\"United Kingdom\",\"United States\",\"Canada\",\"United States\",\"Egypt\",\"United States\",\"Australia\",\"Chile\",\"Nigeria\",\"United States\",\"Egypt\",\"United Kingdom\",\"India\",\"India\",\"Canada\",\"United States\",\"United Kingdom\",\"France\",\"United States\",\"Saudi Arabia\",\"United States\",\"United States\",\"United States\",\"France\",\"United States\",\"United States\",\"United States\",\"United States\",\"United Kingdom\",\"United States\",\"United Kingdom\",\"United States\",\"United States\",\"United States\",\"United States\",\"United States\",\"Ireland\",\"Belgium\",\"United States\",\"United States\",\"New Zealand\",\"Philippines\",\"South Korea\",\"Nigeria\",\"Taiwan\",\"South Korea\",\"United States\",\"United States\",\"United States\",\"Hong Kong\",\"Ghana\",\"United States\",\"Turkey\",\"United States\",\"United States\",\"United States\",\"United States\",\"Israel\",\"South Korea\",\"India\",\"Canada\",\"United States\",\"United States\",\"United States\",\"United States\",\"New Zealand\",\"Canada\",\"Egypt\",\"Nigeria\",\"France\",\"United States\",\"United States\",\"United States\",\"United States\",\"United States\",\"Australia\",\"Egypt\",\"Spain\",\"Brazil\",\"Mexico\",\"United Kingdom\",\"United States\",\"Canada\",\"United States\",\"United States\",\"United States\",\"Brazil\",\"United States\",\"United States\",\"United States\",\"France\",\"United States\",\"Mexico\",\"United Kingdom\",\"Poland\",\"United States\",\"France\",\"United States\",\"United States\",\"United States\",\"United States\",\"United States\",\"Canada\",\"United States\",\"Israel\",\"United States\",\"Egypt\",\"Japan\",\"United States\",\"South Korea\",\"United States\",\"India\",\"France\",\"Poland\",\"Argentina\",\"United States\",\"United States\",\"United Kingdom\",\"Poland\",\"United Kingdom\",\"United States\",\"France\",\"United States\",\"United States\",\"United Kingdom\",\"United States\",\"India\",\"Indonesia\",\"United Kingdom\",\"United States\",\"United Kingdom\",\"India\",\"United Kingdom\",\"United States\",\"Australia\",\"Austria\",\"United States\",\"Canada\",\"Mexico\",\"Denmark\",\"Egypt\",\"Greece\",\"Romania\",\"United Kingdom\",\"United Kingdom\",\"United States\",\"Canada\",\"Canada\",\"China\",\"United States\",\"Nigeria\",\"United States\",\"Argentina\",\"United States\",\"United States\",\"Italy\",\"United States\",\"Japan\",\"United States\",\"Taiwan\",\"United States\",\"Czech Republic\",\"United States\",\"United States\",\"United States\",\"United States\",\"Japan\",\"Japan\",\"United States\",\"Argentina\",\"United States\",\"Indonesia\",\"Indonesia\",\"United States\",\"Singapore\",\"Singapore\",\"Indonesia\",\"United States\",\"South Korea\",\"Canada\",\"United Kingdom\",\"United States\",\"United States\",\"United States\",\"United States\",\"United Kingdom\",\"Brazil\",\"United States\",\"United Kingdom\",\"United States\",\"Egypt\",\"Kuwait\",\"Japan\",\"United Kingdom\",\"United States\",\"United States\",\"Spain\",\"United Kingdom\",\"United States\",\"United States\",\"United States\",\"United Kingdom\",\"United States\",\"United States\",\"United States\",\"France\",\"United States\",\"United Kingdom\",\"United Kingdom\",\"United States\",\"Taiwan\",\"United States\",\"Nigeria\",\"United States\",\"United States\",\"United States\",\"United States\",\"Brazil\",\"United States\",\"United Kingdom\",\"Hong Kong\",\"United States\",\"United States\",\"United States\",\"United States\",\"United States\",\"Hong Kong\",\"United States\",\"United States\",\"United Kingdom\",\"United States\",\"Japan\",\"Japan\",\"United Kingdom\",\"United States\",\"United States\",\"United States\",\"United Kingdom\",\"New Zealand\",\"France\",\"United States\",\"United States\",\"United Kingdom\",\"Spain\",\"Norway\",\"United States\",\"United States\",\"Japan\",\"France\",\"Indonesia\",\"United States\",\"United States\",\"Nigeria\",\"Taiwan\",\"United States\",\"Spain\",\"Turkey\",\"Philippines\",\"Spain\",\"United States\",\"United States\",\"India\",\"Israel\",\"Colombia\",\"United States\",\"United States\",\"South Korea\",\"United States\",\"United States\",\"United States\",\"United States\",\"United Kingdom\",\"United States\",\"United States\",\"United States\",\"Nigeria\",\"Hong Kong\",\"South Korea\",\"United Kingdom\",\"United States\",\"United Kingdom\",\"United States\",\"India\",\"United States\",\"Colombia\",\"Hong Kong\",\"United States\",\"United Kingdom\",\"United States\",\"United States\",\"China\",\"United Kingdom\",\"South Korea\",\"United States\",\"United States\",\"United States\",\"United States\",\"United States\",\"United States\",\"Poland\",\"United States\",\"United States\",\"United States\",\"United States\",\"United States\",\"Spain\",\"United States\",\"Indonesia\",\"United States\",\"Canada\",\"United States\",\"Canada\",\"Spain\",\"United States\",\"United States\",\"United States\",\"Spain\",\"United States\",\"United States\",\"Canada\",\"United States\",\"United States\",\"Thailand\",\"United States\",\"United States\",\"France\",\"India\",\"Mexico\",\"United States\",\"United States\",\"India\",\"Philippines\",\"India\",\"Canada\",\"Canada\",\"United States\",\"United Kingdom\",\"United Kingdom\",\"United States\",\"United States\",\"Spain\",\"United States\",\"United Kingdom\",\"Spain\",\"Singapore\",\"Australia\",\"United Kingdom\",\"Mexico\",\"United States\",\"Denmark\",\"United States\",\"Canada\",\"United States\",\"Spain\",\"United States\",\"Mexico\",\"United States\",\"United States\",\"United Kingdom\",\"United Kingdom\",\"United Kingdom\",\"Egypt\",\"Australia\",\"France\",\"United States\",\"United Kingdom\",\"Spain\",\"Spain\",\"United States\",\"United States\",\"United States\",\"United States\",\"United Kingdom\",\"Japan\",\"Nigeria\",\"United Kingdom\",\"Austria\",\"France\",\"United States\",\"United States\",\"United States\",\"United States\",\"Thailand\",\"India\",\"Indonesia\",\"South Korea\",\"United States\",\"United States\",\"United States\",\"Brazil\",\"Ireland\",\"United States\",\"United States\",\"United Kingdom\",\"South Korea\",\"China\",\"United Kingdom\",\"Argentina\",\"United Kingdom\",\"United Kingdom\",\"Lebanon\",\"United States\",\"United States\",\"Canada\",\"South Korea\",\"United States\",\"United States\",\"Egypt\",\"India\",\"Egypt\",\"United States\",\"Belgium\",\"South Korea\",\"United States\",\"India\",\"United States\",\"United States\",\"United States\",\"United States\",\"Australia\",\"France\",\"United States\",\"Brazil\",\"Chile\",\"United States\",\"United Kingdom\",\"United States\",\"United Kingdom\",\"United States\",\"Egypt\",\"United States\",\"Paraguay\",\"United Kingdom\",\"United States\",\"United States\",\"United States\",\"Germany\",\"United States\",\"United States\",\"Spain\",\"United States\",\"United States\",\"Spain\",\"United States\",\"India\",\"China\",\"United States\",\"United States\",\"India\",\"China\",\"Australia\",\"United Kingdom\",\"South Africa\",\"United States\",\"South Korea\",\"United States\",\"South Korea\",\"Italy\",\"India\",\"United States\",\"Spain\",\"Norway\",\"Canada\",\"United States\",\"United States\",\"France\",\"Spain\",\"Netherlands\",\"France\",\"Germany\",\"United States\",\"Ireland\",\"Ireland\",\"United States\",\"United States\",\"United States\",\"United States\",\"United States\",\"Denmark\",\"New Zealand\",\"New Zealand\",\"Argentina\",\"United States\",\"Nigeria\",\"Philippines\",\"United Kingdom\",\"United States\",\"United States\",\"United Kingdom\",\"Poland\",\"Hong Kong\",\"United States\",\"Canada\",\"United States\",\"Canada\",\"United States\",\"Canada\",\"United States\",\"United States\",\"United Kingdom\",\"India\",\"United States\",\"Italy\",\"France\",\"Japan\",\"Egypt\",\"United States\",\"United States\",\"United States\",\"United States\",\"Italy\",\"United States\",\"United States\",\"United States\",\"Spain\",\"United States\",\"South Korea\",\"United Kingdom\",\"Brazil\",\"Chile\",\"United States\",\"United States\",\"Spain\",\"United States\",\"Russia\",\"United States\",\"Hong Kong\",\"United States\",\"United States\",\"Germany\",\"Nigeria\",\"United States\",\"United States\",\"United States\",\"France\",\"Spain\",\"Spain\",\"South Korea\",\"Poland\",\"United Kingdom\",\"United States\",\"Canada\",\"Philippines\",\"United Kingdom\",\"Denmark\",\"United States\",\"New Zealand\",\"United States\",\"Belgium\",\"Sweden\",\"United States\",\"United States\",\"Spain\",\"United States\",\"United States\",\"United States\",\"United Kingdom\",\"Italy\",\"Japan\",\"United States\",\"United States\",\"United States\",\"United States\",\"Spain\",\"United States\",\"United States\",\"Australia\",\"Canada\",\"United States\",\"Spain\",\"Canada\",\"United States\",\"Indonesia\",\"United States\",\"United States\",\"Germany\",\"Canada\",\"United States\",\"United States\",\"Singapore\",\"Spain\",\"United States\",\"United States\",\"Mexico\",\"France\",\"United States\",\"Philippines\",\"Canada\",\"United States\",\"United States\",\"United States\",\"France\",\"United States\",\"United States\",\"France\",\"Turkey\",\"United States\",\"United States\",\"United States\",\"Taiwan\",\"United States\",\"Philippines\",\"Croatia\",\"Spain\",\"United States\",\"United Kingdom\",\"United Kingdom\",\"United States\",\"United States\",\"United States\",\"United States\",\"Mexico\",\"United States\",\"Ghana\",\"United States\",\"United States\",\"United Kingdom\",\"United States\",\"Spain\",\"Germany\",\"United States\",\"United States\",\"Somalia\",\"United Kingdom\",\"United States\",\"United States\",\"Poland\",\"India\",\"United Arab Emirates\",\"United States\",\"Egypt\",\"Italy\",\"United States\",\"United States\",\"United States\",\"Canada\",\"South Korea\",\"France\",\"United States\",\"United States\",\"China\",\"Taiwan\",\"United States\",\"United States\",\"United States\",\"China\",\"South Korea\",\"Ireland\",\"United States\",\"Spain\",\"Japan\",\"Turkey\",\"United States\",\"United States\",\"United States\",\"Canada\",\"United States\",\"Colombia\",\"Colombia\",\"United States\",\"United States\",\"Denmark\",\"Indonesia\",\"United States\",\"United States\",\"United States\",\"India\",\"United Kingdom\",\"United States\",\"United States\",\"Spain\",\"Canada\",\"United States\",\"New Zealand\",\"United States\",\"United States\",\"United Kingdom\",\"United States\",\"South Korea\",\"Netherlands\",\"France\",\"United Kingdom\",\"United States\",\"Serbia\",\"Egypt\",\"United States\",\"United Kingdom\",\"United Kingdom\",\"China\",\"United Kingdom\",\"United States\",\"United States\",\"Russia\",\"United States\",\"Colombia\",\"United Kingdom\",\"United States\",\"Taiwan\",\"Australia\",\"India\",\"Nigeria\",\"United Kingdom\",\"United States\",\"United States\",\"United States\",\"United States\",\"United Kingdom\",\"Italy\",\"United States\",\"United States\",\"Denmark\",\"Australia\",\"South Korea\",\"Egypt\",\"Germany\",\"United States\",\"Mexico\",\"United States\",\"United States\",\"United States\",\"Nigeria\",\"Japan\",\"Japan\",\"United States\",\"United States\",\"United States\",\"India\",\"United States\",\"United States\",\"United Kingdom\",\"Ireland\",\"Italy\",\"United States\",\"Canada\",\"Spain\",\"Spain\",\"Spain\",\"Mexico\",\"Indonesia\",\"United States\",\"Spain\",\"India\",\"United States\",\"United States\",\"United States\",\"Ukraine\",\"United States\",\"United States\",\"United States\",\"Argentina\",\"South Korea\",\"South Korea\",\"United States\",\"United States\",\"United States\",\"United States\",\"Poland\",\"United States\",\"France\",\"United States\",\"United Kingdom\",\"United Kingdom\",\"United States\",\"France\",\"United States\",\"United States\",\"United States\",\"United Kingdom\",\"United States\",\"United States\",\"Thailand\",\"United Kingdom\",\"United States\",\"Egypt\",\"Egypt\",\"United Kingdom\",\"United States\",\"United States\",\"Philippines\",\"United States\",\"United States\",\"United Kingdom\",\"United States\",\"United States\",\"Argentina\",\"United States\",\"United States\",\"United Kingdom\",\"Egypt\",\"Philippines\",\"Mexico\",\"United States\",\"United Kingdom\",\"United States\",\"United States\",\"United Kingdom\",\"United States\",\"United States\",\"Georgia\",\"United States\",\"United States\",\"Spain\",\"Italy\",\"United States\",\"United States\",\"Spain\",\"United States\",\"United States\",\"United Kingdom\",\"United States\",\"United States\",\"United Kingdom\",\"Singapore\",\"Ireland\",\"United States\",\"Belgium\",\"United States\",\"Hong Kong\",\"United Kingdom\",\"United States\",\"Singapore\",\"United States\",\"Thailand\",\"South Korea\",\"Thailand\",\"United States\",\"United States\",\"United States\",\"United States\",\"Belgium\",\"United States\",\"Australia\",\"Philippines\",\"United States\",\"China\",\"United States\",\"Iceland\",\"United States\",\"United States\",\"United States\",\"United States\",\"United States\",\"Taiwan\",\"United States\",\"India\",\"United States\",\"United States\",\"Egypt\",\"China\",\"United States\",\"Spain\",\"Australia\",\"New Zealand\",\"United States\",\"Philippines\",\"Nigeria\",\"Nigeria\",\"United States\",\"United States\",\"United States\",\"United Kingdom\",\"United States\",\"Australia\",\"Canada\",\"United Kingdom\",\"India\",\"United Kingdom\",\"United States\",\"South Korea\",\"United States\",\"United States\",\"Egypt\",\"France\",\"China\",\"United Kingdom\",\"Israel\",\"Poland\",\"France\",\"United Kingdom\",\"France\",\"United States\",\"United Kingdom\",\"United Kingdom\",\"United Kingdom\",\"United Arab Emirates\",\"Lebanon\",\"Canada\",\"United States\",\"Turkey\",\"Taiwan\",\"United States\",\"Ireland\",\"Hong Kong\",\"India\",\"Canada\",\"India\",\"India\",\"United States\",\"United States\",\"United States\",\"United States\",\"United States\",\"Canada\",\"France\",\"United Kingdom\",\"United States\",\"Spain\",\"Brazil\",\"Belgium\",\"Thailand\",\"Indonesia\",\"Egypt\",\"South Korea\",\"China\",\"Belgium\",\"India\",\"United States\",\"United States\",\"United States\",\"United Kingdom\",\"Thailand\",\"United States\",\"United States\",\"United Kingdom\",\"United Kingdom\",\"India\",\"Hong Kong\",\"Spain\",\"United Kingdom\",\"Philippines\",\"United States\",\"United States\",\"Canada\",\"India\",\"United States\",\"United States\",\"Australia\",\"United States\",\"Spain\",\"China\",\"United States\",\"United States\",\"United States\",\"United States\",\"United States\",\"India\",\"United States\",\"United States\",\"Mexico\",\"China\",\"India\",\"Taiwan\",\"United States\",\"United States\",\"United Kingdom\",\"United Kingdom\",\"India\",\"India\",\"Mexico\",\"South Korea\",\"United States\",\"United States\",\"United States\",\"United States\",\"United Kingdom\",\"Spain\",\"United States\",\"United States\",\"United States\",\"United States\",\"United States\",\"Germany\",\"United States\",\"South Africa\",\"United States\",\"United States\",\"United States\",\"United States\",\"United States\",\"France\",\"United States\",\"Russia\",\"United States\",\"United Kingdom\",\"Canada\",\"Spain\",\"United States\",\"United States\",\"United States\",\"Argentina\",\"Argentina\",\"Singapore\",\"India\",\"India\",\"United Kingdom\",\"Canada\",\"Turkey\",\"United States\",\"United States\",\"United States\",\"United States\",\"United States\",\"United States\",\"United States\",\"United States\",\"United Kingdom\",\"South Korea\",\"South Korea\",\"France\",\"United States\",\"Indonesia\",\"United States\",\"United States\",\"Netherlands\",\"Thailand\",\"United Kingdom\",\"United States\",\"United States\",\"India\",\"Japan\",\"India\",\"Spain\",\"United States\",\"Canada\",\"United States\",\"United States\",\"India\",\"United States\",\"Spain\",\"United States\",\"United States\",\"India\",\"Canada\",\"Canada\",\"Canada\",\"Canada\",\"Canada\",\"Canada\",\"United States\",\"Canada\",\"Canada\",\"Canada\",\"Canada\",\"Thailand\",\"South Korea\",\"United Kingdom\",\"United States\",\"United Kingdom\",\"United States\",\"United Kingdom\",\"France\",\"Canada\",\"United States\",\"United States\",\"United States\",\"Canada\",\"United States\",\"United States\",\"United States\",\"United Kingdom\",\"United States\",\"United States\",\"Turkey\",\"Canada\",\"United States\",\"United States\",\"United Kingdom\",\"United States\",\"Canada\",\"South Korea\",\"United States\",\"United States\",\"United States\",\"United States\",\"South Africa\",\"United States\",\"United States\",\"United Kingdom\",\"United States\",\"United States\",\"United States\",\"United States\",\"United States\",\"United States\",\"United States\",\"India\",\"India\",\"United States\",\"United States\",\"India\",\"United States\",\"United States\",\"Thailand\",\"United States\",\"United States\",\"United States\",\"United States\",\"United States\",\"United Kingdom\",\"France\",\"Russia\",\"United Kingdom\",\"United States\",\"India\",\"United States\",\"United States\",\"United States\",\"United States\",\"United States\",\"Canada\",\"Canada\",\"United States\",\"United States\",\"Canada\",\"Canada\",\"Canada\",\"United States\",\"United States\",\"Canada\",\"United States\",\"United Kingdom\",\"United States\",\"India\",\"United States\",\"Canada\",\"India\",\"India\",\"United States\",\"Japan\",\"United States\",\"South Korea\",\"United States\",\"United States\",\"United States\",\"United States\",\"Turkey\",\"United Kingdom\",\"United States\",\"United States\",\"United States\",\"Japan\",\"France\",\"Spain\",\"United States\",\"Hong Kong\",\"United States\",\"United Kingdom\",\"India\",\"Spain\",\"Taiwan\",\"United Kingdom\",\"Canada\",\"United States\",\"South Korea\",\"Australia\",\"India\",\"United States\",\"India\",\"Philippines\",\"India\",\"India\",\"India\",\"India\",\"United States\",\"Thailand\",\"India\",\"United States\",\"United States\",\"United States\",\"Japan\",\"Italy\",\"Poland\",\"India\",\"India\",\"France\",\"United Kingdom\",\"Canada\",\"United States\",\"United States\",\"Spain\",\"United States\",\"United States\",\"United States\",\"Spain\",\"India\",\"Spain\",\"United States\",\"United States\",\"United Arab Emirates\",\"United States\",\"South Africa\",\"United States\",\"United States\",\"United States\",\"United States\",\"South Korea\",\"France\",\"United States\",\"Italy\",\"United Kingdom\",\"Switzerland\",\"Belgium\",\"United States\",\"Canada\",\"Colombia\",\"United States\",\"Argentina\",\"Philippines\",\"United Kingdom\",\"United States\",\"India\",\"United States\",\"Canada\",\"Belgium\",\"United Kingdom\",\"Spain\",\"United States\",\"United States\",\"Germany\",\"China\",\"United Kingdom\",\"Singapore\",\"Egypt\",\"United States\",\"United States\",\"United States\",\"Mexico\",\"Romania\",\"France\",\"Spain\",\"United States\",\"Nigeria\",\"Malaysia\",\"United States\",\"India\",\"India\",\"India\",\"Australia\",\"China\",\"Egypt\",\"United States\",\"India\",\"United States\",\"United States\",\"United States\",\"South Korea\",\"Brazil\",\"Egypt\",\"Spain\",\"United States\",\"Japan\",\"France\",\"United States\",\"United States\",\"India\",\"United States\",\"India\",\"South Africa\",\"India\",\"India\",\"United States\",\"United States\",\"United States\",\"Spain\",\"United States\",\"Spain\",\"United States\",\"Mexico\",\"Spain\",\"France\",\"Indonesia\",\"Indonesia\",\"Lebanon\",\"India\",\"United Kingdom\",\"United Kingdom\",\"Spain\",\"United States\",\"United States\",\"United States\",\"Argentina\",\"United Kingdom\",\"United States\",\"United Kingdom\",\"Philippines\",\"United States\",\"Japan\",\"Japan\",\"United States\",\"United States\",\"India\",\"United States\",\"India\",\"United States\",\"United States\",\"India\",\"United Kingdom\",\"United States\",\"India\",\"India\",\"India\",\"Turkey\",\"Turkey\",\"India\",\"South Korea\",\"United States\",\"United States\",\"France\",\"United States\",\"South Korea\",\"United Kingdom\",\"United States\",\"United Kingdom\",\"United States\",\"India\",\"United Kingdom\",\"Pakistan\",\"India\",\"United States\",\"Saudi Arabia\",\"China\",\"India\",\"United States\",\"United States\",\"United States\",\"India\",\"United States\",\"France\",\"United States\",\"United States\",\"United Kingdom\",\"United States\",\"United States\",\"United States\",\"United States\",\"France\",\"United Kingdom\",\"Australia\",\"United States\",\"United States\",\"India\",\"United States\",\"United States\",\"United Kingdom\",\"Egypt\",\"Mexico\",\"Denmark\",\"United States\",\"Poland\",\"South Korea\",\"France\",\"United States\",\"India\",\"United States\",\"United States\",\"United Kingdom\",\"Taiwan\",\"India\",\"Lebanon\",\"India\",\"Hong Kong\",\"France\",\"United States\",\"Germany\",\"Germany\",\"United Kingdom\",\"United States\",\"United States\",\"United States\",\"United States\",\"Spain\",\"United States\",\"United States\",\"United States\",\"United States\",\"Egypt\",\"United States\",\"United States\",\"Austria\",\"Poland\",\"France\",\"Kuwait\",\"United States\",\"United States\",\"Hong Kong\",\"United Kingdom\",\"India\",\"India\",\"Italy\",\"United States\",\"United States\",\"India\",\"United States\",\"Spain\",\"United States\",\"India\",\"China\",\"Australia\",\"France\",\"France\",\"United States\",\"Poland\",\"United States\",\"United States\",\"United States\",\"United States\",\"United States\",\"United States\",\"United States\",\"China\",\"India\",\"Lebanon\",\"United States\",\"United Kingdom\",\"South Korea\",\"United States\",\"Turkey\",\"United States\",\"South Korea\",\"Taiwan\",\"Canada\",\"United States\",\"United Kingdom\",\"Taiwan\",\"United States\",\"Spain\",\"India\",\"United States\",\"India\",\"United States\",\"United States\",\"Austria\",\"United States\",\"United States\",\"United States\",\"Indonesia\",\"Saudi Arabia\",\"India\",\"United States\",\"United States\",\"Spain\",\"United States\",\"United Kingdom\",\"Israel\",\"Taiwan\",\"Nigeria\",\"South Korea\",\"United States\",\"Peru\",\"United States\",\"Germany\",\"United States\",\"United States\",\"Brazil\",\"Indonesia\",\"Uruguay\",\"Lebanon\",\"United Kingdom\",\"United States\",\"France\",\"United States\",\"United Kingdom\",\"United Kingdom\",\"United Kingdom\",\"South Korea\",\"United States\",\"United States\",\"United States\",\"France\",\"United States\",\"United States\",\"Spain\",\"United States\",\"Taiwan\",\"United States\",\"United States\",\"United Kingdom\",\"Canada\",\"Romania\",\"United States\",\"United Kingdom\",\"United Kingdom\",\"United States\",\"Colombia\",\"Germany\",\"United States\",\"United States\",\"United States\",\"United States\",\"United Kingdom\",\"Hungary\",\"United States\",\"United States\",\"United Kingdom\",\"Australia\",\"United States\",\"France\",\"United States\",\"Australia\",\"United Kingdom\",\"Turkey\",\"United States\",\"Italy\",\"Malaysia\",\"United States\",\"United States\",\"United States\",\"United States\",\"United Kingdom\",\"Canada\",\"United Kingdom\",\"Nigeria\",\"United Kingdom\",\"United States\",\"Turkey\",\"United States\",\"United States\",\"Poland\",\"Netherlands\",\"United States\",\"United States\",\"United States\",\"United States\",\"United States\",\"United States\",\"United States\",\"Canada\",\"Singapore\",\"India\",\"Italy\",\"United States\",\"United Kingdom\",\"United Kingdom\",\"United States\",\"United States\",\"United States\",\"United States\",\"Australia\",\"Pakistan\",\"India\",\"United States\",\"United States\",\"United States\",\"United States\",\"United States\",\"Canada\",\"Egypt\",\"India\",\"United States\",\"United Kingdom\",\"Canada\",\"United States\",\"United States\",\"Mexico\",\"India\",\"United States\",\"India\",\"India\",\"India\",\"India\",\"India\",\"Mexico\",\"China\",\"Egypt\",\"India\",\"India\",\"India\",\"France\",\"United States\",\"Thailand\",\"Thailand\",\"Thailand\",\"Singapore\",\"United States\",\"South Korea\",\"United States\",\"Japan\",\"United States\",\"United States\",\"Russia\",\"United States\",\"South Korea\",\"United States\",\"South Korea\",\"United States\",\"United States\",\"United Kingdom\",\"United States\",\"Mexico\",\"Croatia\",\"Philippines\",\"United States\",\"United States\",\"United States\",\"Turkey\",\"Philippines\",\"Taiwan\",\"Mexico\",\"United States\",\"United States\",\"Hong Kong\",\"United Kingdom\",\"United States\",\"Japan\",\"Taiwan\",\"Spain\",\"Singapore\",\"India\",\"United States\",\"United States\",\"Egypt\",\"Egypt\",\"Japan\",\"Japan\",\"Spain\",\"Australia\",\"Turkey\",\"India\",\"United States\",\"Brazil\",\"United States\",\"United States\",\"United States\",\"Egypt\",\"Canada\",\"India\",\"India\",\"India\",\"United States\",\"France\",\"Pakistan\",\"Pakistan\",\"India\",\"United Arab Emirates\",\"United States\",\"Spain\",\"Mexico\",\"United States\",\"Japan\",\"India\",\"United States\",\"United States\",\"Mexico\",\"India\",\"United States\",\"Sweden\",\"India\",\"United States\",\"Australia\",\"United Kingdom\"],\"xaxis\":\"x\",\"yaxis\":\"y\"}],                        {\"barmode\":\"relative\",\"legend\":{\"tracegroupgap\":0},\"template\":{\"data\":{\"bar\":[{\"error_x\":{\"color\":\"#2a3f5f\"},\"error_y\":{\"color\":\"#2a3f5f\"},\"marker\":{\"line\":{\"color\":\"#E5ECF6\",\"width\":0.5},\"pattern\":{\"fillmode\":\"overlay\",\"size\":10,\"solidity\":0.2}},\"type\":\"bar\"}],\"barpolar\":[{\"marker\":{\"line\":{\"color\":\"#E5ECF6\",\"width\":0.5},\"pattern\":{\"fillmode\":\"overlay\",\"size\":10,\"solidity\":0.2}},\"type\":\"barpolar\"}],\"carpet\":[{\"aaxis\":{\"endlinecolor\":\"#2a3f5f\",\"gridcolor\":\"white\",\"linecolor\":\"white\",\"minorgridcolor\":\"white\",\"startlinecolor\":\"#2a3f5f\"},\"baxis\":{\"endlinecolor\":\"#2a3f5f\",\"gridcolor\":\"white\",\"linecolor\":\"white\",\"minorgridcolor\":\"white\",\"startlinecolor\":\"#2a3f5f\"},\"type\":\"carpet\"}],\"choropleth\":[{\"colorbar\":{\"outlinewidth\":0,\"ticks\":\"\"},\"type\":\"choropleth\"}],\"contour\":[{\"colorbar\":{\"outlinewidth\":0,\"ticks\":\"\"},\"colorscale\":[[0.0,\"#0d0887\"],[0.1111111111111111,\"#46039f\"],[0.2222222222222222,\"#7201a8\"],[0.3333333333333333,\"#9c179e\"],[0.4444444444444444,\"#bd3786\"],[0.5555555555555556,\"#d8576b\"],[0.6666666666666666,\"#ed7953\"],[0.7777777777777778,\"#fb9f3a\"],[0.8888888888888888,\"#fdca26\"],[1.0,\"#f0f921\"]],\"type\":\"contour\"}],\"contourcarpet\":[{\"colorbar\":{\"outlinewidth\":0,\"ticks\":\"\"},\"type\":\"contourcarpet\"}],\"heatmap\":[{\"colorbar\":{\"outlinewidth\":0,\"ticks\":\"\"},\"colorscale\":[[0.0,\"#0d0887\"],[0.1111111111111111,\"#46039f\"],[0.2222222222222222,\"#7201a8\"],[0.3333333333333333,\"#9c179e\"],[0.4444444444444444,\"#bd3786\"],[0.5555555555555556,\"#d8576b\"],[0.6666666666666666,\"#ed7953\"],[0.7777777777777778,\"#fb9f3a\"],[0.8888888888888888,\"#fdca26\"],[1.0,\"#f0f921\"]],\"type\":\"heatmap\"}],\"heatmapgl\":[{\"colorbar\":{\"outlinewidth\":0,\"ticks\":\"\"},\"colorscale\":[[0.0,\"#0d0887\"],[0.1111111111111111,\"#46039f\"],[0.2222222222222222,\"#7201a8\"],[0.3333333333333333,\"#9c179e\"],[0.4444444444444444,\"#bd3786\"],[0.5555555555555556,\"#d8576b\"],[0.6666666666666666,\"#ed7953\"],[0.7777777777777778,\"#fb9f3a\"],[0.8888888888888888,\"#fdca26\"],[1.0,\"#f0f921\"]],\"type\":\"heatmapgl\"}],\"histogram\":[{\"marker\":{\"pattern\":{\"fillmode\":\"overlay\",\"size\":10,\"solidity\":0.2}},\"type\":\"histogram\"}],\"histogram2d\":[{\"colorbar\":{\"outlinewidth\":0,\"ticks\":\"\"},\"colorscale\":[[0.0,\"#0d0887\"],[0.1111111111111111,\"#46039f\"],[0.2222222222222222,\"#7201a8\"],[0.3333333333333333,\"#9c179e\"],[0.4444444444444444,\"#bd3786\"],[0.5555555555555556,\"#d8576b\"],[0.6666666666666666,\"#ed7953\"],[0.7777777777777778,\"#fb9f3a\"],[0.8888888888888888,\"#fdca26\"],[1.0,\"#f0f921\"]],\"type\":\"histogram2d\"}],\"histogram2dcontour\":[{\"colorbar\":{\"outlinewidth\":0,\"ticks\":\"\"},\"colorscale\":[[0.0,\"#0d0887\"],[0.1111111111111111,\"#46039f\"],[0.2222222222222222,\"#7201a8\"],[0.3333333333333333,\"#9c179e\"],[0.4444444444444444,\"#bd3786\"],[0.5555555555555556,\"#d8576b\"],[0.6666666666666666,\"#ed7953\"],[0.7777777777777778,\"#fb9f3a\"],[0.8888888888888888,\"#fdca26\"],[1.0,\"#f0f921\"]],\"type\":\"histogram2dcontour\"}],\"mesh3d\":[{\"colorbar\":{\"outlinewidth\":0,\"ticks\":\"\"},\"type\":\"mesh3d\"}],\"parcoords\":[{\"line\":{\"colorbar\":{\"outlinewidth\":0,\"ticks\":\"\"}},\"type\":\"parcoords\"}],\"pie\":[{\"automargin\":true,\"type\":\"pie\"}],\"scatter\":[{\"marker\":{\"colorbar\":{\"outlinewidth\":0,\"ticks\":\"\"}},\"type\":\"scatter\"}],\"scatter3d\":[{\"line\":{\"colorbar\":{\"outlinewidth\":0,\"ticks\":\"\"}},\"marker\":{\"colorbar\":{\"outlinewidth\":0,\"ticks\":\"\"}},\"type\":\"scatter3d\"}],\"scattercarpet\":[{\"marker\":{\"colorbar\":{\"outlinewidth\":0,\"ticks\":\"\"}},\"type\":\"scattercarpet\"}],\"scattergeo\":[{\"marker\":{\"colorbar\":{\"outlinewidth\":0,\"ticks\":\"\"}},\"type\":\"scattergeo\"}],\"scattergl\":[{\"marker\":{\"colorbar\":{\"outlinewidth\":0,\"ticks\":\"\"}},\"type\":\"scattergl\"}],\"scattermapbox\":[{\"marker\":{\"colorbar\":{\"outlinewidth\":0,\"ticks\":\"\"}},\"type\":\"scattermapbox\"}],\"scatterpolar\":[{\"marker\":{\"colorbar\":{\"outlinewidth\":0,\"ticks\":\"\"}},\"type\":\"scatterpolar\"}],\"scatterpolargl\":[{\"marker\":{\"colorbar\":{\"outlinewidth\":0,\"ticks\":\"\"}},\"type\":\"scatterpolargl\"}],\"scatterternary\":[{\"marker\":{\"colorbar\":{\"outlinewidth\":0,\"ticks\":\"\"}},\"type\":\"scatterternary\"}],\"surface\":[{\"colorbar\":{\"outlinewidth\":0,\"ticks\":\"\"},\"colorscale\":[[0.0,\"#0d0887\"],[0.1111111111111111,\"#46039f\"],[0.2222222222222222,\"#7201a8\"],[0.3333333333333333,\"#9c179e\"],[0.4444444444444444,\"#bd3786\"],[0.5555555555555556,\"#d8576b\"],[0.6666666666666666,\"#ed7953\"],[0.7777777777777778,\"#fb9f3a\"],[0.8888888888888888,\"#fdca26\"],[1.0,\"#f0f921\"]],\"type\":\"surface\"}],\"table\":[{\"cells\":{\"fill\":{\"color\":\"#EBF0F8\"},\"line\":{\"color\":\"white\"}},\"header\":{\"fill\":{\"color\":\"#C8D4E3\"},\"line\":{\"color\":\"white\"}},\"type\":\"table\"}]},\"layout\":{\"annotationdefaults\":{\"arrowcolor\":\"#2a3f5f\",\"arrowhead\":0,\"arrowwidth\":1},\"autotypenumbers\":\"strict\",\"coloraxis\":{\"colorbar\":{\"outlinewidth\":0,\"ticks\":\"\"}},\"colorscale\":{\"diverging\":[[0,\"#8e0152\"],[0.1,\"#c51b7d\"],[0.2,\"#de77ae\"],[0.3,\"#f1b6da\"],[0.4,\"#fde0ef\"],[0.5,\"#f7f7f7\"],[0.6,\"#e6f5d0\"],[0.7,\"#b8e186\"],[0.8,\"#7fbc41\"],[0.9,\"#4d9221\"],[1,\"#276419\"]],\"sequential\":[[0.0,\"#0d0887\"],[0.1111111111111111,\"#46039f\"],[0.2222222222222222,\"#7201a8\"],[0.3333333333333333,\"#9c179e\"],[0.4444444444444444,\"#bd3786\"],[0.5555555555555556,\"#d8576b\"],[0.6666666666666666,\"#ed7953\"],[0.7777777777777778,\"#fb9f3a\"],[0.8888888888888888,\"#fdca26\"],[1.0,\"#f0f921\"]],\"sequentialminus\":[[0.0,\"#0d0887\"],[0.1111111111111111,\"#46039f\"],[0.2222222222222222,\"#7201a8\"],[0.3333333333333333,\"#9c179e\"],[0.4444444444444444,\"#bd3786\"],[0.5555555555555556,\"#d8576b\"],[0.6666666666666666,\"#ed7953\"],[0.7777777777777778,\"#fb9f3a\"],[0.8888888888888888,\"#fdca26\"],[1.0,\"#f0f921\"]]},\"colorway\":[\"#636efa\",\"#EF553B\",\"#00cc96\",\"#ab63fa\",\"#FFA15A\",\"#19d3f3\",\"#FF6692\",\"#B6E880\",\"#FF97FF\",\"#FECB52\"],\"font\":{\"color\":\"#2a3f5f\"},\"geo\":{\"bgcolor\":\"white\",\"lakecolor\":\"white\",\"landcolor\":\"#E5ECF6\",\"showlakes\":true,\"showland\":true,\"subunitcolor\":\"white\"},\"hoverlabel\":{\"align\":\"left\"},\"hovermode\":\"closest\",\"mapbox\":{\"style\":\"light\"},\"paper_bgcolor\":\"white\",\"plot_bgcolor\":\"#E5ECF6\",\"polar\":{\"angularaxis\":{\"gridcolor\":\"white\",\"linecolor\":\"white\",\"ticks\":\"\"},\"bgcolor\":\"#E5ECF6\",\"radialaxis\":{\"gridcolor\":\"white\",\"linecolor\":\"white\",\"ticks\":\"\"}},\"scene\":{\"xaxis\":{\"backgroundcolor\":\"#E5ECF6\",\"gridcolor\":\"white\",\"gridwidth\":2,\"linecolor\":\"white\",\"showbackground\":true,\"ticks\":\"\",\"zerolinecolor\":\"white\"},\"yaxis\":{\"backgroundcolor\":\"#E5ECF6\",\"gridcolor\":\"white\",\"gridwidth\":2,\"linecolor\":\"white\",\"showbackground\":true,\"ticks\":\"\",\"zerolinecolor\":\"white\"},\"zaxis\":{\"backgroundcolor\":\"#E5ECF6\",\"gridcolor\":\"white\",\"gridwidth\":2,\"linecolor\":\"white\",\"showbackground\":true,\"ticks\":\"\",\"zerolinecolor\":\"white\"}},\"shapedefaults\":{\"line\":{\"color\":\"#2a3f5f\"}},\"ternary\":{\"aaxis\":{\"gridcolor\":\"white\",\"linecolor\":\"white\",\"ticks\":\"\"},\"baxis\":{\"gridcolor\":\"white\",\"linecolor\":\"white\",\"ticks\":\"\"},\"bgcolor\":\"#E5ECF6\",\"caxis\":{\"gridcolor\":\"white\",\"linecolor\":\"white\",\"ticks\":\"\"}},\"title\":{\"x\":0.05},\"xaxis\":{\"automargin\":true,\"gridcolor\":\"white\",\"linecolor\":\"white\",\"ticks\":\"\",\"title\":{\"standoff\":15},\"zerolinecolor\":\"white\",\"zerolinewidth\":2},\"yaxis\":{\"automargin\":true,\"gridcolor\":\"white\",\"linecolor\":\"white\",\"ticks\":\"\",\"title\":{\"standoff\":15},\"zerolinecolor\":\"white\",\"zerolinewidth\":2}}},\"title\":{\"text\":\"Most content on netflix based on countries\"},\"xaxis\":{\"anchor\":\"y\",\"categoryorder\":\"total ascending\",\"domain\":[0.0,1.0],\"title\":{\"text\":\"country_main\"}},\"yaxis\":{\"anchor\":\"x\",\"domain\":[0.0,1.0],\"title\":{\"text\":\"count\"}}},                        {\"responsive\": true}                    ).then(function(){\n",
       "                            \n",
       "var gd = document.getElementById('493fbe1e-d8fa-4175-95a4-6571f2f5e644');\n",
       "var x = new MutationObserver(function (mutations, observer) {{\n",
       "        var display = window.getComputedStyle(gd).display;\n",
       "        if (!display || display === 'none') {{\n",
       "            console.log([gd, 'removed!']);\n",
       "            Plotly.purge(gd);\n",
       "            observer.disconnect();\n",
       "        }}\n",
       "}});\n",
       "\n",
       "// Listen for the removal of the full notebook cells\n",
       "var notebookContainer = gd.closest('#notebook-container');\n",
       "if (notebookContainer) {{\n",
       "    x.observe(notebookContainer, {childList: true});\n",
       "}}\n",
       "\n",
       "// Listen for the clearing of the current output cell\n",
       "var outputEl = gd.closest('.output');\n",
       "if (outputEl) {{\n",
       "    x.observe(outputEl, {childList: true});\n",
       "}}\n",
       "\n",
       "                        })                };                });            </script>        </div>"
      ]
     },
     "metadata": {},
     "output_type": "display_data"
    }
   ],
   "source": [
    "#Most of the content on netflix based on the countries\n",
    "fig = px.histogram(data, x='country_main',color_discrete_sequence=['indianred'],title='Most content on netflix based on countries',labels=['country','country_count'])\n",
    "fig.update_xaxes(categoryorder='total ascending')\n",
    "fig.show()"
   ]
  },
  {
   "cell_type": "markdown",
   "metadata": {},
   "source": [
    "<h2> data based on -Duration of movies </h2>"
   ]
  },
  {
   "cell_type": "code",
   "execution_count": 134,
   "metadata": {},
   "outputs": [],
   "source": [
    " new_df = movie.groupby(['duration']).agg({'show_id': 'count'}).reset_index()"
   ]
  },
  {
   "cell_type": "code",
   "execution_count": 129,
   "metadata": {},
   "outputs": [
    {
     "data": {
      "text/html": [
       "<div>\n",
       "<style scoped>\n",
       "    .dataframe tbody tr th:only-of-type {\n",
       "        vertical-align: middle;\n",
       "    }\n",
       "\n",
       "    .dataframe tbody tr th {\n",
       "        vertical-align: top;\n",
       "    }\n",
       "\n",
       "    .dataframe thead th {\n",
       "        text-align: right;\n",
       "    }\n",
       "</style>\n",
       "<table border=\"1\" class=\"dataframe\">\n",
       "  <thead>\n",
       "    <tr style=\"text-align: right;\">\n",
       "      <th></th>\n",
       "      <th>country_main</th>\n",
       "      <th>show_id</th>\n",
       "    </tr>\n",
       "  </thead>\n",
       "  <tbody>\n",
       "    <tr>\n",
       "      <th>0</th>\n",
       "      <td>Argentina</td>\n",
       "      <td>68</td>\n",
       "    </tr>\n",
       "    <tr>\n",
       "      <th>1</th>\n",
       "      <td>Australia</td>\n",
       "      <td>108</td>\n",
       "    </tr>\n",
       "  </tbody>\n",
       "</table>\n",
       "</div>"
      ],
      "text/plain": [
       "  country_main  show_id\n",
       "0    Argentina       68\n",
       "1    Australia      108"
      ]
     },
     "execution_count": 129,
     "metadata": {},
     "output_type": "execute_result"
    }
   ],
   "source": [
    "new_df.head(2)"
   ]
  },
  {
   "cell_type": "code",
   "execution_count": 76,
   "metadata": {},
   "outputs": [
    {
     "data": {
      "text/plain": [
       "<AxesSubplot:xlabel='duration', ylabel='show_id'>"
      ]
     },
     "execution_count": 76,
     "metadata": {},
     "output_type": "execute_result"
    },
    {
     "data": {
      "image/png": "[encoded data removed]",
      "text/plain": [
       "<Figure size 432x288 with 1 Axes>"
      ]
     },
     "metadata": {},
     "output_type": "display_data"
    }
   ],
   "source": [
    "#using seaborn library\n",
    "sns.barplot(new_df['duration'],new_df['show_id'])"
   ]
  },
  {
   "cell_type": "code",
   "execution_count": 137,
   "metadata": {},
   "outputs": [
    {
     "data": {
      "application/vnd.plotly.v1+json": {
       "config": {
        "plotlyServerURL": "https://plot.ly"
       },
       "data": [
        {
         "alignmentgroup": "True",
         "hovertemplate": "x=%{x}<br>y=%{y}<extra></extra>",
         "legendgroup": "",
         "marker": {
          "color": "green",
          "pattern": {
           "shape": ""
          }
         },
         "name": "",
         "offsetgroup": "",
         "orientation": "v",
         "showlegend": false,
         "textposition": "auto",
         "type": "bar",
         "x": [
          "10 min",
          "100 min",
          "101 min",
          "102 min",
          "103 min",
          "104 min",
          "105 min",
          "106 min",
          "107 min",
          "108 min",
          "109 min",
          "11 min",
          "110 min",
          "111 min",
          "112 min",
          "113 min",
          "114 min",
          "115 min",
          "116 min",
          "117 min",
          "118 min",
          "119 min",
          "12 min",
          "120 min",
          "121 min",
          "122 min",
          "123 min",
          "124 min",
          "125 min",
          "126 min",
          "127 min",
          "128 min",
          "129 min",
          "13 min",
          "130 min",
          "131 min",
          "132 min",
          "133 min",
          "134 min",
          "135 min",
          "136 min",
          "137 min",
          "138 min",
          "139 min",
          "14 min",
          "140 min",
          "141 min",
          "142 min",
          "143 min",
          "144 min",
          "145 min",
          "146 min",
          "147 min",
          "148 min",
          "149 min",
          "15 min",
          "150 min",
          "151 min",
          "152 min",
          "153 min",
          "154 min",
          "155 min",
          "156 min",
          "157 min",
          "158 min",
          "159 min",
          "16 min",
          "160 min",
          "161 min",
          "162 min",
          "163 min",
          "164 min",
          "165 min",
          "166 min",
          "167 min",
          "168 min",
          "169 min",
          "17 min",
          "170 min",
          "171 min",
          "172 min",
          "173 min",
          "174 min",
          "176 min",
          "177 min",
          "178 min",
          "179 min",
          "18 min",
          "180 min",
          "181 min",
          "182 min",
          "185 min",
          "186 min",
          "187 min",
          "189 min",
          "19 min",
          "190 min",
          "191 min",
          "192 min",
          "193 min",
          "194 min",
          "195 min",
          "196 min",
          "20 min",
          "200 min",
          "201 min",
          "203 min",
          "204 min",
          "205 min",
          "208 min",
          "209 min",
          "21 min",
          "214 min",
          "22 min",
          "224 min",
          "228 min",
          "23 min",
          "230 min",
          "233 min",
          "237 min",
          "24 min",
          "25 min",
          "253 min",
          "26 min",
          "27 min",
          "28 min",
          "29 min",
          "3 min",
          "30 min",
          "31 min",
          "312 min",
          "32 min",
          "33 min",
          "34 min",
          "35 min",
          "36 min",
          "37 min",
          "38 min",
          "40 min",
          "41 min",
          "42 min",
          "43 min",
          "44 min",
          "45 min",
          "46 min",
          "47 min",
          "48 min",
          "49 min",
          "5 min",
          "50 min",
          "51 min",
          "52 min",
          "53 min",
          "54 min",
          "55 min",
          "56 min",
          "57 min",
          "58 min",
          "59 min",
          "60 min",
          "61 min",
          "62 min",
          "63 min",
          "64 min",
          "65 min",
          "66 min",
          "67 min",
          "68 min",
          "69 min",
          "70 min",
          "71 min",
          "72 min",
          "73 min",
          "74 min",
          "75 min",
          "76 min",
          "77 min",
          "78 min",
          "79 min",
          "8 min",
          "80 min",
          "81 min",
          "82 min",
          "83 min",
          "84 min",
          "85 min",
          "86 min",
          "87 min",
          "88 min",
          "89 min",
          "9 min",
          "90 min",
          "91 min",
          "92 min",
          "93 min",
          "94 min",
          "95 min",
          "96 min",
          "97 min",
          "98 min",
          "99 min"
         ],
         "xaxis": "x",
         "y": [
          1,
          97,
          96,
          98,
          101,
          89,
          91,
          97,
          85,
          74,
          61,
          2,
          86,
          61,
          65,
          54,
          45,
          47,
          65,
          56,
          51,
          54,
          2,
          47,
          44,
          38,
          35,
          46,
          32,
          40,
          40,
          38,
          30,
          1,
          38,
          28,
          33,
          36,
          21,
          37,
          18,
          37,
          17,
          17,
          3,
          22,
          18,
          11,
          18,
          8,
          12,
          13,
          10,
          18,
          13,
          2,
          17,
          14,
          5,
          11,
          12,
          9,
          9,
          6,
          11,
          6,
          1,
          6,
          9,
          13,
          11,
          4,
          8,
          7,
          1,
          7,
          2,
          3,
          5,
          7,
          4,
          5,
          2,
          5,
          4,
          1,
          2,
          1,
          2,
          2,
          1,
          5,
          1,
          2,
          1,
          2,
          2,
          1,
          2,
          1,
          1,
          2,
          1,
          2,
          1,
          1,
          1,
          1,
          1,
          1,
          2,
          2,
          1,
          15,
          1,
          1,
          12,
          1,
          1,
          1,
          22,
          10,
          1,
          6,
          3,
          10,
          10,
          1,
          6,
          2,
          1,
          7,
          5,
          2,
          3,
          1,
          2,
          4,
          13,
          3,
          8,
          1,
          19,
          10,
          23,
          10,
          7,
          8,
          1,
          10,
          10,
          19,
          24,
          23,
          15,
          12,
          14,
          21,
          24,
          26,
          28,
          23,
          29,
          16,
          22,
          29,
          19,
          20,
          27,
          22,
          26,
          32,
          28,
          29,
          33,
          24,
          28,
          40,
          34,
          1,
          39,
          58,
          48,
          61,
          60,
          63,
          93,
          87,
          101,
          88,
          1,
          136,
          125,
          118,
          131,
          125,
          119,
          115,
          117,
          106,
          101
         ],
         "yaxis": "y"
        }
       ],
       "layout": {
        "barmode": "relative",
        "legend": {
         "tracegroupgap": 0
        },
        "template": {
         "data": {
          "bar": [
           {
            "error_x": {
             "color": "#2a3f5f"
            },
            "error_y": {
             "color": "#2a3f5f"
            },
            "marker": {
             "line": {
              "color": "#E5ECF6",
              "width": 0.5
             },
             "pattern": {
              "fillmode": "overlay",
              "size": 10,
              "solidity": 0.2
             }
            },
            "type": "bar"
           }
          ],
          "barpolar": [
           {
            "marker": {
             "line": {
              "color": "#E5ECF6",
              "width": 0.5
             },
             "pattern": {
              "fillmode": "overlay",
              "size": 10,
              "solidity": 0.2
             }
            },
            "type": "barpolar"
           }
          ],
          "carpet": [
           {
            "aaxis": {
             "endlinecolor": "#2a3f5f",
             "gridcolor": "white",
             "linecolor": "white",
             "minorgridcolor": "white",
             "startlinecolor": "#2a3f5f"
            },
            "baxis": {
             "endlinecolor": "#2a3f5f",
             "gridcolor": "white",
             "linecolor": "white",
             "minorgridcolor": "white",
             "startlinecolor": "#2a3f5f"
            },
            "type": "carpet"
           }
          ],
          "choropleth": [
           {
            "colorbar": {
             "outlinewidth": 0,
             "ticks": ""
            },
            "type": "choropleth"
           }
          ],
          "contour": [
           {
            "colorbar": {
             "outlinewidth": 0,
             "ticks": ""
            },
            "colorscale": [
             [
              0,
              "#0d0887"
             ],
             [
              0.1111111111111111,
              "#46039f"
             ],
             [
              0.2222222222222222,
              "#7201a8"
             ],
             [
              0.3333333333333333,
              "#9c179e"
             ],
             [
              0.4444444444444444,
              "#bd3786"
             ],
             [
              0.5555555555555556,
              "#d8576b"
             ],
             [
              0.6666666666666666,
              "#ed7953"
             ],
             [
              0.7777777777777778,
              "#fb9f3a"
             ],
             [
              0.8888888888888888,
              "#fdca26"
             ],
             [
              1,
              "#f0f921"
             ]
            ],
            "type": "contour"
           }
          ],
          "contourcarpet": [
           {
            "colorbar": {
             "outlinewidth": 0,
             "ticks": ""
            },
            "type": "contourcarpet"
           }
          ],
          "heatmap": [
           {
            "colorbar": {
             "outlinewidth": 0,
             "ticks": ""
            },
            "colorscale": [
             [
              0,
              "#0d0887"
             ],
             [
              0.1111111111111111,
              "#46039f"
             ],
             [
              0.2222222222222222,
              "#7201a8"
             ],
             [
              0.3333333333333333,
              "#9c179e"
             ],
             [
              0.4444444444444444,
              "#bd3786"
             ],
             [
              0.5555555555555556,
              "#d8576b"
             ],
             [
              0.6666666666666666,
              "#ed7953"
             ],
             [
              0.7777777777777778,
              "#fb9f3a"
             ],
             [
              0.8888888888888888,
              "#fdca26"
             ],
             [
              1,
              "#f0f921"
             ]
            ],
            "type": "heatmap"
           }
          ],
          "heatmapgl": [
           {
            "colorbar": {
             "outlinewidth": 0,
             "ticks": ""
            },
            "colorscale": [
             [
              0,
              "#0d0887"
             ],
             [
              0.1111111111111111,
              "#46039f"
             ],
             [
              0.2222222222222222,
              "#7201a8"
             ],
             [
              0.3333333333333333,
              "#9c179e"
             ],
             [
              0.4444444444444444,
              "#bd3786"
             ],
             [
              0.5555555555555556,
              "#d8576b"
             ],
             [
              0.6666666666666666,
              "#ed7953"
             ],
             [
              0.7777777777777778,
              "#fb9f3a"
             ],
             [
              0.8888888888888888,
              "#fdca26"
             ],
             [
              1,
              "#f0f921"
             ]
            ],
            "type": "heatmapgl"
           }
          ],
          "histogram": [
           {
            "marker": {
             "pattern": {
              "fillmode": "overlay",
              "size": 10,
              "solidity": 0.2
             }
            },
            "type": "histogram"
           }
          ],
          "histogram2d": [
           {
            "colorbar": {
             "outlinewidth": 0,
             "ticks": ""
            },
            "colorscale": [
             [
              0,
              "#0d0887"
             ],
             [
              0.1111111111111111,
              "#46039f"
             ],
             [
              0.2222222222222222,
              "#7201a8"
             ],
             [
              0.3333333333333333,
              "#9c179e"
             ],
             [
              0.4444444444444444,
              "#bd3786"
             ],
             [
              0.5555555555555556,
              "#d8576b"
             ],
             [
              0.6666666666666666,
              "#ed7953"
             ],
             [
              0.7777777777777778,
              "#fb9f3a"
             ],
             [
              0.8888888888888888,
              "#fdca26"
             ],
             [
              1,
              "#f0f921"
             ]
            ],
            "type": "histogram2d"
           }
          ],
          "histogram2dcontour": [
           {
            "colorbar": {
             "outlinewidth": 0,
             "ticks": ""
            },
            "colorscale": [
             [
              0,
              "#0d0887"
             ],
             [
              0.1111111111111111,
              "#46039f"
             ],
             [
              0.2222222222222222,
              "#7201a8"
             ],
             [
              0.3333333333333333,
              "#9c179e"
             ],
             [
              0.4444444444444444,
              "#bd3786"
             ],
             [
              0.5555555555555556,
              "#d8576b"
             ],
             [
              0.6666666666666666,
              "#ed7953"
             ],
             [
              0.7777777777777778,
              "#fb9f3a"
             ],
             [
              0.8888888888888888,
              "#fdca26"
             ],
             [
              1,
              "#f0f921"
             ]
            ],
            "type": "histogram2dcontour"
           }
          ],
          "mesh3d": [
           {
            "colorbar": {
             "outlinewidth": 0,
             "ticks": ""
            },
            "type": "mesh3d"
           }
          ],
          "parcoords": [
           {
            "line": {
             "colorbar": {
              "outlinewidth": 0,
              "ticks": ""
             }
            },
            "type": "parcoords"
           }
          ],
          "pie": [
           {
            "automargin": true,
            "type": "pie"
           }
          ],
          "scatter": [
           {
            "marker": {
             "colorbar": {
              "outlinewidth": 0,
              "ticks": ""
             }
            },
            "type": "scatter"
           }
          ],
          "scatter3d": [
           {
            "line": {
             "colorbar": {
              "outlinewidth": 0,
              "ticks": ""
             }
            },
            "marker": {
             "colorbar": {
              "outlinewidth": 0,
              "ticks": ""
             }
            },
            "type": "scatter3d"
           }
          ],
          "scattercarpet": [
           {
            "marker": {
             "colorbar": {
              "outlinewidth": 0,
              "ticks": ""
             }
            },
            "type": "scattercarpet"
           }
          ],
          "scattergeo": [
           {
            "marker": {
             "colorbar": {
              "outlinewidth": 0,
              "ticks": ""
             }
            },
            "type": "scattergeo"
           }
          ],
          "scattergl": [
           {
            "marker": {
             "colorbar": {
              "outlinewidth": 0,
              "ticks": ""
             }
            },
            "type": "scattergl"
           }
          ],
          "scattermapbox": [
           {
            "marker": {
             "colorbar": {
              "outlinewidth": 0,
              "ticks": ""
             }
            },
            "type": "scattermapbox"
           }
          ],
          "scatterpolar": [
           {
            "marker": {
             "colorbar": {
              "outlinewidth": 0,
              "ticks": ""
             }
            },
            "type": "scatterpolar"
           }
          ],
          "scatterpolargl": [
           {
            "marker": {
             "colorbar": {
              "outlinewidth": 0,
              "ticks": ""
             }
            },
            "type": "scatterpolargl"
           }
          ],
          "scatterternary": [
           {
            "marker": {
             "colorbar": {
              "outlinewidth": 0,
              "ticks": ""
             }
            },
            "type": "scatterternary"
           }
          ],
          "surface": [
           {
            "colorbar": {
             "outlinewidth": 0,
             "ticks": ""
            },
            "colorscale": [
             [
              0,
              "#0d0887"
             ],
             [
              0.1111111111111111,
              "#46039f"
             ],
             [
              0.2222222222222222,
              "#7201a8"
             ],
             [
              0.3333333333333333,
              "#9c179e"
             ],
             [
              0.4444444444444444,
              "#bd3786"
             ],
             [
              0.5555555555555556,
              "#d8576b"
             ],
             [
              0.6666666666666666,
              "#ed7953"
             ],
             [
              0.7777777777777778,
              "#fb9f3a"
             ],
             [
              0.8888888888888888,
              "#fdca26"
             ],
             [
              1,
              "#f0f921"
             ]
            ],
            "type": "surface"
           }
          ],
          "table": [
           {
            "cells": {
             "fill": {
              "color": "#EBF0F8"
             },
             "line": {
              "color": "white"
             }
            },
            "header": {
             "fill": {
              "color": "#C8D4E3"
             },
             "line": {
              "color": "white"
             }
            },
            "type": "table"
           }
          ]
         },
         "layout": {
          "annotationdefaults": {
           "arrowcolor": "#2a3f5f",
           "arrowhead": 0,
           "arrowwidth": 1
          },
          "autotypenumbers": "strict",
          "coloraxis": {
           "colorbar": {
            "outlinewidth": 0,
            "ticks": ""
           }
          },
          "colorscale": {
           "diverging": [
            [
             0,
             "#8e0152"
            ],
            [
             0.1,
             "#c51b7d"
            ],
            [
             0.2,
             "#de77ae"
            ],
            [
             0.3,
             "#f1b6da"
            ],
            [
             0.4,
             "#fde0ef"
            ],
            [
             0.5,
             "#f7f7f7"
            ],
            [
             0.6,
             "#e6f5d0"
            ],
            [
             0.7,
             "#b8e186"
            ],
            [
             0.8,
             "#7fbc41"
            ],
            [
             0.9,
             "#4d9221"
            ],
            [
             1,
             "#276419"
            ]
           ],
           "sequential": [
            [
             0,
             "#0d0887"
            ],
            [
             0.1111111111111111,
             "#46039f"
            ],
            [
             0.2222222222222222,
             "#7201a8"
            ],
            [
             0.3333333333333333,
             "#9c179e"
            ],
            [
             0.4444444444444444,
             "#bd3786"
            ],
            [
             0.5555555555555556,
             "#d8576b"
            ],
            [
             0.6666666666666666,
             "#ed7953"
            ],
            [
             0.7777777777777778,
             "#fb9f3a"
            ],
            [
             0.8888888888888888,
             "#fdca26"
            ],
            [
             1,
             "#f0f921"
            ]
           ],
           "sequentialminus": [
            [
             0,
             "#0d0887"
            ],
            [
             0.1111111111111111,
             "#46039f"
            ],
            [
             0.2222222222222222,
             "#7201a8"
            ],
            [
             0.3333333333333333,
             "#9c179e"
            ],
            [
             0.4444444444444444,
             "#bd3786"
            ],
            [
             0.5555555555555556,
             "#d8576b"
            ],
            [
             0.6666666666666666,
             "#ed7953"
            ],
            [
             0.7777777777777778,
             "#fb9f3a"
            ],
            [
             0.8888888888888888,
             "#fdca26"
            ],
            [
             1,
             "#f0f921"
            ]
           ]
          },
          "colorway": [
           "#636efa",
           "#EF553B",
           "#00cc96",
           "#ab63fa",
           "#FFA15A",
           "#19d3f3",
           "#FF6692",
           "#B6E880",
           "#FF97FF",
           "#FECB52"
          ],
          "font": {
           "color": "#2a3f5f"
          },
          "geo": {
           "bgcolor": "white",
           "lakecolor": "white",
           "landcolor": "#E5ECF6",
           "showlakes": true,
           "showland": true,
           "subunitcolor": "white"
          },
          "hoverlabel": {
           "align": "left"
          },
          "hovermode": "closest",
          "mapbox": {
           "style": "light"
          },
          "paper_bgcolor": "white",
          "plot_bgcolor": "#E5ECF6",
          "polar": {
           "angularaxis": {
            "gridcolor": "white",
            "linecolor": "white",
            "ticks": ""
           },
           "bgcolor": "#E5ECF6",
           "radialaxis": {
            "gridcolor": "white",
            "linecolor": "white",
            "ticks": ""
           }
          },
          "scene": {
           "xaxis": {
            "backgroundcolor": "#E5ECF6",
            "gridcolor": "white",
            "gridwidth": 2,
            "linecolor": "white",
            "showbackground": true,
            "ticks": "",
            "zerolinecolor": "white"
           },
           "yaxis": {
            "backgroundcolor": "#E5ECF6",
            "gridcolor": "white",
            "gridwidth": 2,
            "linecolor": "white",
            "showbackground": true,
            "ticks": "",
            "zerolinecolor": "white"
           },
           "zaxis": {
            "backgroundcolor": "#E5ECF6",
            "gridcolor": "white",
            "gridwidth": 2,
            "linecolor": "white",
            "showbackground": true,
            "ticks": "",
            "zerolinecolor": "white"
           }
          },
          "shapedefaults": {
           "line": {
            "color": "#2a3f5f"
           }
          },
          "ternary": {
           "aaxis": {
            "gridcolor": "white",
            "linecolor": "white",
            "ticks": ""
           },
           "baxis": {
            "gridcolor": "white",
            "linecolor": "white",
            "ticks": ""
           },
           "bgcolor": "#E5ECF6",
           "caxis": {
            "gridcolor": "white",
            "linecolor": "white",
            "ticks": ""
           }
          },
          "title": {
           "x": 0.05
          },
          "xaxis": {
           "automargin": true,
           "gridcolor": "white",
           "linecolor": "white",
           "ticks": "",
           "title": {
            "standoff": 15
           },
           "zerolinecolor": "white",
           "zerolinewidth": 2
          },
          "yaxis": {
           "automargin": true,
           "gridcolor": "white",
           "linecolor": "white",
           "ticks": "",
           "title": {
            "standoff": 15
           },
           "zerolinecolor": "white",
           "zerolinewidth": 2
          }
         }
        },
        "title": {
         "text": "data Based on duration"
        },
        "xaxis": {
         "anchor": "y",
         "categoryorder": "total ascending",
         "domain": [
          0,
          1
         ],
         "title": {
          "text": "x"
         },
         "type": "category"
        },
        "yaxis": {
         "anchor": "x",
         "domain": [
          0,
          1
         ],
         "title": {
          "text": "y"
         }
        }
       }
      },
      "text/html": [
       "<div>                            <div id=\"4ca299d3-5e3a-4fef-a5b0-09b34bd5760a\" class=\"plotly-graph-div\" style=\"height:525px; width:100%;\"></div>            <script type=\"text/javascript\">                require([\"plotly\"], function(Plotly) {                    window.PLOTLYENV=window.PLOTLYENV || {};                                    if (document.getElementById(\"4ca299d3-5e3a-4fef-a5b0-09b34bd5760a\")) {                    Plotly.newPlot(                        \"4ca299d3-5e3a-4fef-a5b0-09b34bd5760a\",                        [{\"alignmentgroup\":\"True\",\"hovertemplate\":\"x=%{x}<br>y=%{y}<extra></extra>\",\"legendgroup\":\"\",\"marker\":{\"color\":\"green\",\"pattern\":{\"shape\":\"\"}},\"name\":\"\",\"offsetgroup\":\"\",\"orientation\":\"v\",\"showlegend\":false,\"textposition\":\"auto\",\"type\":\"bar\",\"x\":[\"10 min\",\"100 min\",\"101 min\",\"102 min\",\"103 min\",\"104 min\",\"105 min\",\"106 min\",\"107 min\",\"108 min\",\"109 min\",\"11 min\",\"110 min\",\"111 min\",\"112 min\",\"113 min\",\"114 min\",\"115 min\",\"116 min\",\"117 min\",\"118 min\",\"119 min\",\"12 min\",\"120 min\",\"121 min\",\"122 min\",\"123 min\",\"124 min\",\"125 min\",\"126 min\",\"127 min\",\"128 min\",\"129 min\",\"13 min\",\"130 min\",\"131 min\",\"132 min\",\"133 min\",\"134 min\",\"135 min\",\"136 min\",\"137 min\",\"138 min\",\"139 min\",\"14 min\",\"140 min\",\"141 min\",\"142 min\",\"143 min\",\"144 min\",\"145 min\",\"146 min\",\"147 min\",\"148 min\",\"149 min\",\"15 min\",\"150 min\",\"151 min\",\"152 min\",\"153 min\",\"154 min\",\"155 min\",\"156 min\",\"157 min\",\"158 min\",\"159 min\",\"16 min\",\"160 min\",\"161 min\",\"162 min\",\"163 min\",\"164 min\",\"165 min\",\"166 min\",\"167 min\",\"168 min\",\"169 min\",\"17 min\",\"170 min\",\"171 min\",\"172 min\",\"173 min\",\"174 min\",\"176 min\",\"177 min\",\"178 min\",\"179 min\",\"18 min\",\"180 min\",\"181 min\",\"182 min\",\"185 min\",\"186 min\",\"187 min\",\"189 min\",\"19 min\",\"190 min\",\"191 min\",\"192 min\",\"193 min\",\"194 min\",\"195 min\",\"196 min\",\"20 min\",\"200 min\",\"201 min\",\"203 min\",\"204 min\",\"205 min\",\"208 min\",\"209 min\",\"21 min\",\"214 min\",\"22 min\",\"224 min\",\"228 min\",\"23 min\",\"230 min\",\"233 min\",\"237 min\",\"24 min\",\"25 min\",\"253 min\",\"26 min\",\"27 min\",\"28 min\",\"29 min\",\"3 min\",\"30 min\",\"31 min\",\"312 min\",\"32 min\",\"33 min\",\"34 min\",\"35 min\",\"36 min\",\"37 min\",\"38 min\",\"40 min\",\"41 min\",\"42 min\",\"43 min\",\"44 min\",\"45 min\",\"46 min\",\"47 min\",\"48 min\",\"49 min\",\"5 min\",\"50 min\",\"51 min\",\"52 min\",\"53 min\",\"54 min\",\"55 min\",\"56 min\",\"57 min\",\"58 min\",\"59 min\",\"60 min\",\"61 min\",\"62 min\",\"63 min\",\"64 min\",\"65 min\",\"66 min\",\"67 min\",\"68 min\",\"69 min\",\"70 min\",\"71 min\",\"72 min\",\"73 min\",\"74 min\",\"75 min\",\"76 min\",\"77 min\",\"78 min\",\"79 min\",\"8 min\",\"80 min\",\"81 min\",\"82 min\",\"83 min\",\"84 min\",\"85 min\",\"86 min\",\"87 min\",\"88 min\",\"89 min\",\"9 min\",\"90 min\",\"91 min\",\"92 min\",\"93 min\",\"94 min\",\"95 min\",\"96 min\",\"97 min\",\"98 min\",\"99 min\"],\"xaxis\":\"x\",\"y\":[1,97,96,98,101,89,91,97,85,74,61,2,86,61,65,54,45,47,65,56,51,54,2,47,44,38,35,46,32,40,40,38,30,1,38,28,33,36,21,37,18,37,17,17,3,22,18,11,18,8,12,13,10,18,13,2,17,14,5,11,12,9,9,6,11,6,1,6,9,13,11,4,8,7,1,7,2,3,5,7,4,5,2,5,4,1,2,1,2,2,1,5,1,2,1,2,2,1,2,1,1,2,1,2,1,1,1,1,1,1,2,2,1,15,1,1,12,1,1,1,22,10,1,6,3,10,10,1,6,2,1,7,5,2,3,1,2,4,13,3,8,1,19,10,23,10,7,8,1,10,10,19,24,23,15,12,14,21,24,26,28,23,29,16,22,29,19,20,27,22,26,32,28,29,33,24,28,40,34,1,39,58,48,61,60,63,93,87,101,88,1,136,125,118,131,125,119,115,117,106,101],\"yaxis\":\"y\"}],                        {\"barmode\":\"relative\",\"legend\":{\"tracegroupgap\":0},\"template\":{\"data\":{\"bar\":[{\"error_x\":{\"color\":\"#2a3f5f\"},\"error_y\":{\"color\":\"#2a3f5f\"},\"marker\":{\"line\":{\"color\":\"#E5ECF6\",\"width\":0.5},\"pattern\":{\"fillmode\":\"overlay\",\"size\":10,\"solidity\":0.2}},\"type\":\"bar\"}],\"barpolar\":[{\"marker\":{\"line\":{\"color\":\"#E5ECF6\",\"width\":0.5},\"pattern\":{\"fillmode\":\"overlay\",\"size\":10,\"solidity\":0.2}},\"type\":\"barpolar\"}],\"carpet\":[{\"aaxis\":{\"endlinecolor\":\"#2a3f5f\",\"gridcolor\":\"white\",\"linecolor\":\"white\",\"minorgridcolor\":\"white\",\"startlinecolor\":\"#2a3f5f\"},\"baxis\":{\"endlinecolor\":\"#2a3f5f\",\"gridcolor\":\"white\",\"linecolor\":\"white\",\"minorgridcolor\":\"white\",\"startlinecolor\":\"#2a3f5f\"},\"type\":\"carpet\"}],\"choropleth\":[{\"colorbar\":{\"outlinewidth\":0,\"ticks\":\"\"},\"type\":\"choropleth\"}],\"contour\":[{\"colorbar\":{\"outlinewidth\":0,\"ticks\":\"\"},\"colorscale\":[[0.0,\"#0d0887\"],[0.1111111111111111,\"#46039f\"],[0.2222222222222222,\"#7201a8\"],[0.3333333333333333,\"#9c179e\"],[0.4444444444444444,\"#bd3786\"],[0.5555555555555556,\"#d8576b\"],[0.6666666666666666,\"#ed7953\"],[0.7777777777777778,\"#fb9f3a\"],[0.8888888888888888,\"#fdca26\"],[1.0,\"#f0f921\"]],\"type\":\"contour\"}],\"contourcarpet\":[{\"colorbar\":{\"outlinewidth\":0,\"ticks\":\"\"},\"type\":\"contourcarpet\"}],\"heatmap\":[{\"colorbar\":{\"outlinewidth\":0,\"ticks\":\"\"},\"colorscale\":[[0.0,\"#0d0887\"],[0.1111111111111111,\"#46039f\"],[0.2222222222222222,\"#7201a8\"],[0.3333333333333333,\"#9c179e\"],[0.4444444444444444,\"#bd3786\"],[0.5555555555555556,\"#d8576b\"],[0.6666666666666666,\"#ed7953\"],[0.7777777777777778,\"#fb9f3a\"],[0.8888888888888888,\"#fdca26\"],[1.0,\"#f0f921\"]],\"type\":\"heatmap\"}],\"heatmapgl\":[{\"colorbar\":{\"outlinewidth\":0,\"ticks\":\"\"},\"colorscale\":[[0.0,\"#0d0887\"],[0.1111111111111111,\"#46039f\"],[0.2222222222222222,\"#7201a8\"],[0.3333333333333333,\"#9c179e\"],[0.4444444444444444,\"#bd3786\"],[0.5555555555555556,\"#d8576b\"],[0.6666666666666666,\"#ed7953\"],[0.7777777777777778,\"#fb9f3a\"],[0.8888888888888888,\"#fdca26\"],[1.0,\"#f0f921\"]],\"type\":\"heatmapgl\"}],\"histogram\":[{\"marker\":{\"pattern\":{\"fillmode\":\"overlay\",\"size\":10,\"solidity\":0.2}},\"type\":\"histogram\"}],\"histogram2d\":[{\"colorbar\":{\"outlinewidth\":0,\"ticks\":\"\"},\"colorscale\":[[0.0,\"#0d0887\"],[0.1111111111111111,\"#46039f\"],[0.2222222222222222,\"#7201a8\"],[0.3333333333333333,\"#9c179e\"],[0.4444444444444444,\"#bd3786\"],[0.5555555555555556,\"#d8576b\"],[0.6666666666666666,\"#ed7953\"],[0.7777777777777778,\"#fb9f3a\"],[0.8888888888888888,\"#fdca26\"],[1.0,\"#f0f921\"]],\"type\":\"histogram2d\"}],\"histogram2dcontour\":[{\"colorbar\":{\"outlinewidth\":0,\"ticks\":\"\"},\"colorscale\":[[0.0,\"#0d0887\"],[0.1111111111111111,\"#46039f\"],[0.2222222222222222,\"#7201a8\"],[0.3333333333333333,\"#9c179e\"],[0.4444444444444444,\"#bd3786\"],[0.5555555555555556,\"#d8576b\"],[0.6666666666666666,\"#ed7953\"],[0.7777777777777778,\"#fb9f3a\"],[0.8888888888888888,\"#fdca26\"],[1.0,\"#f0f921\"]],\"type\":\"histogram2dcontour\"}],\"mesh3d\":[{\"colorbar\":{\"outlinewidth\":0,\"ticks\":\"\"},\"type\":\"mesh3d\"}],\"parcoords\":[{\"line\":{\"colorbar\":{\"outlinewidth\":0,\"ticks\":\"\"}},\"type\":\"parcoords\"}],\"pie\":[{\"automargin\":true,\"type\":\"pie\"}],\"scatter\":[{\"marker\":{\"colorbar\":{\"outlinewidth\":0,\"ticks\":\"\"}},\"type\":\"scatter\"}],\"scatter3d\":[{\"line\":{\"colorbar\":{\"outlinewidth\":0,\"ticks\":\"\"}},\"marker\":{\"colorbar\":{\"outlinewidth\":0,\"ticks\":\"\"}},\"type\":\"scatter3d\"}],\"scattercarpet\":[{\"marker\":{\"colorbar\":{\"outlinewidth\":0,\"ticks\":\"\"}},\"type\":\"scattercarpet\"}],\"scattergeo\":[{\"marker\":{\"colorbar\":{\"outlinewidth\":0,\"ticks\":\"\"}},\"type\":\"scattergeo\"}],\"scattergl\":[{\"marker\":{\"colorbar\":{\"outlinewidth\":0,\"ticks\":\"\"}},\"type\":\"scattergl\"}],\"scattermapbox\":[{\"marker\":{\"colorbar\":{\"outlinewidth\":0,\"ticks\":\"\"}},\"type\":\"scattermapbox\"}],\"scatterpolar\":[{\"marker\":{\"colorbar\":{\"outlinewidth\":0,\"ticks\":\"\"}},\"type\":\"scatterpolar\"}],\"scatterpolargl\":[{\"marker\":{\"colorbar\":{\"outlinewidth\":0,\"ticks\":\"\"}},\"type\":\"scatterpolargl\"}],\"scatterternary\":[{\"marker\":{\"colorbar\":{\"outlinewidth\":0,\"ticks\":\"\"}},\"type\":\"scatterternary\"}],\"surface\":[{\"colorbar\":{\"outlinewidth\":0,\"ticks\":\"\"},\"colorscale\":[[0.0,\"#0d0887\"],[0.1111111111111111,\"#46039f\"],[0.2222222222222222,\"#7201a8\"],[0.3333333333333333,\"#9c179e\"],[0.4444444444444444,\"#bd3786\"],[0.5555555555555556,\"#d8576b\"],[0.6666666666666666,\"#ed7953\"],[0.7777777777777778,\"#fb9f3a\"],[0.8888888888888888,\"#fdca26\"],[1.0,\"#f0f921\"]],\"type\":\"surface\"}],\"table\":[{\"cells\":{\"fill\":{\"color\":\"#EBF0F8\"},\"line\":{\"color\":\"white\"}},\"header\":{\"fill\":{\"color\":\"#C8D4E3\"},\"line\":{\"color\":\"white\"}},\"type\":\"table\"}]},\"layout\":{\"annotationdefaults\":{\"arrowcolor\":\"#2a3f5f\",\"arrowhead\":0,\"arrowwidth\":1},\"autotypenumbers\":\"strict\",\"coloraxis\":{\"colorbar\":{\"outlinewidth\":0,\"ticks\":\"\"}},\"colorscale\":{\"diverging\":[[0,\"#8e0152\"],[0.1,\"#c51b7d\"],[0.2,\"#de77ae\"],[0.3,\"#f1b6da\"],[0.4,\"#fde0ef\"],[0.5,\"#f7f7f7\"],[0.6,\"#e6f5d0\"],[0.7,\"#b8e186\"],[0.8,\"#7fbc41\"],[0.9,\"#4d9221\"],[1,\"#276419\"]],\"sequential\":[[0.0,\"#0d0887\"],[0.1111111111111111,\"#46039f\"],[0.2222222222222222,\"#7201a8\"],[0.3333333333333333,\"#9c179e\"],[0.4444444444444444,\"#bd3786\"],[0.5555555555555556,\"#d8576b\"],[0.6666666666666666,\"#ed7953\"],[0.7777777777777778,\"#fb9f3a\"],[0.8888888888888888,\"#fdca26\"],[1.0,\"#f0f921\"]],\"sequentialminus\":[[0.0,\"#0d0887\"],[0.1111111111111111,\"#46039f\"],[0.2222222222222222,\"#7201a8\"],[0.3333333333333333,\"#9c179e\"],[0.4444444444444444,\"#bd3786\"],[0.5555555555555556,\"#d8576b\"],[0.6666666666666666,\"#ed7953\"],[0.7777777777777778,\"#fb9f3a\"],[0.8888888888888888,\"#fdca26\"],[1.0,\"#f0f921\"]]},\"colorway\":[\"#636efa\",\"#EF553B\",\"#00cc96\",\"#ab63fa\",\"#FFA15A\",\"#19d3f3\",\"#FF6692\",\"#B6E880\",\"#FF97FF\",\"#FECB52\"],\"font\":{\"color\":\"#2a3f5f\"},\"geo\":{\"bgcolor\":\"white\",\"lakecolor\":\"white\",\"landcolor\":\"#E5ECF6\",\"showlakes\":true,\"showland\":true,\"subunitcolor\":\"white\"},\"hoverlabel\":{\"align\":\"left\"},\"hovermode\":\"closest\",\"mapbox\":{\"style\":\"light\"},\"paper_bgcolor\":\"white\",\"plot_bgcolor\":\"#E5ECF6\",\"polar\":{\"angularaxis\":{\"gridcolor\":\"white\",\"linecolor\":\"white\",\"ticks\":\"\"},\"bgcolor\":\"#E5ECF6\",\"radialaxis\":{\"gridcolor\":\"white\",\"linecolor\":\"white\",\"ticks\":\"\"}},\"scene\":{\"xaxis\":{\"backgroundcolor\":\"#E5ECF6\",\"gridcolor\":\"white\",\"gridwidth\":2,\"linecolor\":\"white\",\"showbackground\":true,\"ticks\":\"\",\"zerolinecolor\":\"white\"},\"yaxis\":{\"backgroundcolor\":\"#E5ECF6\",\"gridcolor\":\"white\",\"gridwidth\":2,\"linecolor\":\"white\",\"showbackground\":true,\"ticks\":\"\",\"zerolinecolor\":\"white\"},\"zaxis\":{\"backgroundcolor\":\"#E5ECF6\",\"gridcolor\":\"white\",\"gridwidth\":2,\"linecolor\":\"white\",\"showbackground\":true,\"ticks\":\"\",\"zerolinecolor\":\"white\"}},\"shapedefaults\":{\"line\":{\"color\":\"#2a3f5f\"}},\"ternary\":{\"aaxis\":{\"gridcolor\":\"white\",\"linecolor\":\"white\",\"ticks\":\"\"},\"baxis\":{\"gridcolor\":\"white\",\"linecolor\":\"white\",\"ticks\":\"\"},\"bgcolor\":\"#E5ECF6\",\"caxis\":{\"gridcolor\":\"white\",\"linecolor\":\"white\",\"ticks\":\"\"}},\"title\":{\"x\":0.05},\"xaxis\":{\"automargin\":true,\"gridcolor\":\"white\",\"linecolor\":\"white\",\"ticks\":\"\",\"title\":{\"standoff\":15},\"zerolinecolor\":\"white\",\"zerolinewidth\":2},\"yaxis\":{\"automargin\":true,\"gridcolor\":\"white\",\"linecolor\":\"white\",\"ticks\":\"\",\"title\":{\"standoff\":15},\"zerolinecolor\":\"white\",\"zerolinewidth\":2}}},\"title\":{\"text\":\"data Based on duration\"},\"xaxis\":{\"anchor\":\"y\",\"categoryorder\":\"total ascending\",\"domain\":[0.0,1.0],\"title\":{\"text\":\"x\"},\"type\":\"category\"},\"yaxis\":{\"anchor\":\"x\",\"domain\":[0.0,1.0],\"title\":{\"text\":\"y\"}}},                        {\"responsive\": true}                    ).then(function(){\n",
       "                            \n",
       "var gd = document.getElementById('4ca299d3-5e3a-4fef-a5b0-09b34bd5760a');\n",
       "var x = new MutationObserver(function (mutations, observer) {{\n",
       "        var display = window.getComputedStyle(gd).display;\n",
       "        if (!display || display === 'none') {{\n",
       "            console.log([gd, 'removed!']);\n",
       "            Plotly.purge(gd);\n",
       "            observer.disconnect();\n",
       "        }}\n",
       "}});\n",
       "\n",
       "// Listen for the removal of the full notebook cells\n",
       "var notebookContainer = gd.closest('#notebook-container');\n",
       "if (notebookContainer) {{\n",
       "    x.observe(notebookContainer, {childList: true});\n",
       "}}\n",
       "\n",
       "// Listen for the clearing of the current output cell\n",
       "var outputEl = gd.closest('.output');\n",
       "if (outputEl) {{\n",
       "    x.observe(outputEl, {childList: true});\n",
       "}}\n",
       "\n",
       "                        })                };                });            </script>        </div>"
      ]
     },
     "metadata": {},
     "output_type": "display_data"
    }
   ],
   "source": [
    "\n",
    "fig = px.bar(x=new_df['duration'], y = new_df['show_id'],title='data Based on duration')\n",
    "fig.update_traces(marker = dict(color= 'green'))\n",
    "\n",
    "fig.update_xaxes(type='category',categoryorder='total ascending')\n",
    "\n",
    "fig.show()"
   ]
  },
  {
   "cell_type": "code",
   "execution_count": 82,
   "metadata": {},
   "outputs": [],
   "source": [
    " new_tv = tv.groupby(['duration']).agg({'show_id': 'count'}).reset_index()"
   ]
  },
  {
   "cell_type": "code",
   "execution_count": 139,
   "metadata": {},
   "outputs": [
    {
     "data": {
      "application/vnd.plotly.v1+json": {
       "config": {
        "plotlyServerURL": "https://plot.ly"
       },
       "data": [
        {
         "alignmentgroup": "True",
         "hovertemplate": "x=%{x}<br>y=%{y}<extra></extra>",
         "legendgroup": "",
         "marker": {
          "color": "green",
          "pattern": {
           "shape": ""
          }
         },
         "name": "",
         "offsetgroup": "",
         "orientation": "v",
         "showlegend": false,
         "textposition": "auto",
         "type": "bar",
         "x": [
          "1 Season",
          "10 Seasons",
          "11 Seasons",
          "12 Seasons",
          "13 Seasons",
          "15 Seasons",
          "16 Seasons",
          "2 Seasons",
          "3 Seasons",
          "4 Seasons",
          "5 Seasons",
          "6 Seasons",
          "7 Seasons",
          "8 Seasons",
          "9 Seasons"
         ],
         "xaxis": "x",
         "y": [
          1608,
          6,
          3,
          2,
          2,
          2,
          1,
          382,
          184,
          87,
          58,
          30,
          19,
          18,
          8
         ],
         "yaxis": "y"
        }
       ],
       "layout": {
        "barmode": "relative",
        "legend": {
         "tracegroupgap": 0
        },
        "template": {
         "data": {
          "bar": [
           {
            "error_x": {
             "color": "#2a3f5f"
            },
            "error_y": {
             "color": "#2a3f5f"
            },
            "marker": {
             "line": {
              "color": "#E5ECF6",
              "width": 0.5
             },
             "pattern": {
              "fillmode": "overlay",
              "size": 10,
              "solidity": 0.2
             }
            },
            "type": "bar"
           }
          ],
          "barpolar": [
           {
            "marker": {
             "line": {
              "color": "#E5ECF6",
              "width": 0.5
             },
             "pattern": {
              "fillmode": "overlay",
              "size": 10,
              "solidity": 0.2
             }
            },
            "type": "barpolar"
           }
          ],
          "carpet": [
           {
            "aaxis": {
             "endlinecolor": "#2a3f5f",
             "gridcolor": "white",
             "linecolor": "white",
             "minorgridcolor": "white",
             "startlinecolor": "#2a3f5f"
            },
            "baxis": {
             "endlinecolor": "#2a3f5f",
             "gridcolor": "white",
             "linecolor": "white",
             "minorgridcolor": "white",
             "startlinecolor": "#2a3f5f"
            },
            "type": "carpet"
           }
          ],
          "choropleth": [
           {
            "colorbar": {
             "outlinewidth": 0,
             "ticks": ""
            },
            "type": "choropleth"
           }
          ],
          "contour": [
           {
            "colorbar": {
             "outlinewidth": 0,
             "ticks": ""
            },
            "colorscale": [
             [
              0,
              "#0d0887"
             ],
             [
              0.1111111111111111,
              "#46039f"
             ],
             [
              0.2222222222222222,
              "#7201a8"
             ],
             [
              0.3333333333333333,
              "#9c179e"
             ],
             [
              0.4444444444444444,
              "#bd3786"
             ],
             [
              0.5555555555555556,
              "#d8576b"
             ],
             [
              0.6666666666666666,
              "#ed7953"
             ],
             [
              0.7777777777777778,
              "#fb9f3a"
             ],
             [
              0.8888888888888888,
              "#fdca26"
             ],
             [
              1,
              "#f0f921"
             ]
            ],
            "type": "contour"
           }
          ],
          "contourcarpet": [
           {
            "colorbar": {
             "outlinewidth": 0,
             "ticks": ""
            },
            "type": "contourcarpet"
           }
          ],
          "heatmap": [
           {
            "colorbar": {
             "outlinewidth": 0,
             "ticks": ""
            },
            "colorscale": [
             [
              0,
              "#0d0887"
             ],
             [
              0.1111111111111111,
              "#46039f"
             ],
             [
              0.2222222222222222,
              "#7201a8"
             ],
             [
              0.3333333333333333,
              "#9c179e"
             ],
             [
              0.4444444444444444,
              "#bd3786"
             ],
             [
              0.5555555555555556,
              "#d8576b"
             ],
             [
              0.6666666666666666,
              "#ed7953"
             ],
             [
              0.7777777777777778,
              "#fb9f3a"
             ],
             [
              0.8888888888888888,
              "#fdca26"
             ],
             [
              1,
              "#f0f921"
             ]
            ],
            "type": "heatmap"
           }
          ],
          "heatmapgl": [
           {
            "colorbar": {
             "outlinewidth": 0,
             "ticks": ""
            },
            "colorscale": [
             [
              0,
              "#0d0887"
             ],
             [
              0.1111111111111111,
              "#46039f"
             ],
             [
              0.2222222222222222,
              "#7201a8"
             ],
             [
              0.3333333333333333,
              "#9c179e"
             ],
             [
              0.4444444444444444,
              "#bd3786"
             ],
             [
              0.5555555555555556,
              "#d8576b"
             ],
             [
              0.6666666666666666,
              "#ed7953"
             ],
             [
              0.7777777777777778,
              "#fb9f3a"
             ],
             [
              0.8888888888888888,
              "#fdca26"
             ],
             [
              1,
              "#f0f921"
             ]
            ],
            "type": "heatmapgl"
           }
          ],
          "histogram": [
           {
            "marker": {
             "pattern": {
              "fillmode": "overlay",
              "size": 10,
              "solidity": 0.2
             }
            },
            "type": "histogram"
           }
          ],
          "histogram2d": [
           {
            "colorbar": {
             "outlinewidth": 0,
             "ticks": ""
            },
            "colorscale": [
             [
              0,
              "#0d0887"
             ],
             [
              0.1111111111111111,
              "#46039f"
             ],
             [
              0.2222222222222222,
              "#7201a8"
             ],
             [
              0.3333333333333333,
              "#9c179e"
             ],
             [
              0.4444444444444444,
              "#bd3786"
             ],
             [
              0.5555555555555556,
              "#d8576b"
             ],
             [
              0.6666666666666666,
              "#ed7953"
             ],
             [
              0.7777777777777778,
              "#fb9f3a"
             ],
             [
              0.8888888888888888,
              "#fdca26"
             ],
             [
              1,
              "#f0f921"
             ]
            ],
            "type": "histogram2d"
           }
          ],
          "histogram2dcontour": [
           {
            "colorbar": {
             "outlinewidth": 0,
             "ticks": ""
            },
            "colorscale": [
             [
              0,
              "#0d0887"
             ],
             [
              0.1111111111111111,
              "#46039f"
             ],
             [
              0.2222222222222222,
              "#7201a8"
             ],
             [
              0.3333333333333333,
              "#9c179e"
             ],
             [
              0.4444444444444444,
              "#bd3786"
             ],
             [
              0.5555555555555556,
              "#d8576b"
             ],
             [
              0.6666666666666666,
              "#ed7953"
             ],
             [
              0.7777777777777778,
              "#fb9f3a"
             ],
             [
              0.8888888888888888,
              "#fdca26"
             ],
             [
              1,
              "#f0f921"
             ]
            ],
            "type": "histogram2dcontour"
           }
          ],
          "mesh3d": [
           {
            "colorbar": {
             "outlinewidth": 0,
             "ticks": ""
            },
            "type": "mesh3d"
           }
          ],
          "parcoords": [
           {
            "line": {
             "colorbar": {
              "outlinewidth": 0,
              "ticks": ""
             }
            },
            "type": "parcoords"
           }
          ],
          "pie": [
           {
            "automargin": true,
            "type": "pie"
           }
          ],
          "scatter": [
           {
            "marker": {
             "colorbar": {
              "outlinewidth": 0,
              "ticks": ""
             }
            },
            "type": "scatter"
           }
          ],
          "scatter3d": [
           {
            "line": {
             "colorbar": {
              "outlinewidth": 0,
              "ticks": ""
             }
            },
            "marker": {
             "colorbar": {
              "outlinewidth": 0,
              "ticks": ""
             }
            },
            "type": "scatter3d"
           }
          ],
          "scattercarpet": [
           {
            "marker": {
             "colorbar": {
              "outlinewidth": 0,
              "ticks": ""
             }
            },
            "type": "scattercarpet"
           }
          ],
          "scattergeo": [
           {
            "marker": {
             "colorbar": {
              "outlinewidth": 0,
              "ticks": ""
             }
            },
            "type": "scattergeo"
           }
          ],
          "scattergl": [
           {
            "marker": {
             "colorbar": {
              "outlinewidth": 0,
              "ticks": ""
             }
            },
            "type": "scattergl"
           }
          ],
          "scattermapbox": [
           {
            "marker": {
             "colorbar": {
              "outlinewidth": 0,
              "ticks": ""
             }
            },
            "type": "scattermapbox"
           }
          ],
          "scatterpolar": [
           {
            "marker": {
             "colorbar": {
              "outlinewidth": 0,
              "ticks": ""
             }
            },
            "type": "scatterpolar"
           }
          ],
          "scatterpolargl": [
           {
            "marker": {
             "colorbar": {
              "outlinewidth": 0,
              "ticks": ""
             }
            },
            "type": "scatterpolargl"
           }
          ],
          "scatterternary": [
           {
            "marker": {
             "colorbar": {
              "outlinewidth": 0,
              "ticks": ""
             }
            },
            "type": "scatterternary"
           }
          ],
          "surface": [
           {
            "colorbar": {
             "outlinewidth": 0,
             "ticks": ""
            },
            "colorscale": [
             [
              0,
              "#0d0887"
             ],
             [
              0.1111111111111111,
              "#46039f"
             ],
             [
              0.2222222222222222,
              "#7201a8"
             ],
             [
              0.3333333333333333,
              "#9c179e"
             ],
             [
              0.4444444444444444,
              "#bd3786"
             ],
             [
              0.5555555555555556,
              "#d8576b"
             ],
             [
              0.6666666666666666,
              "#ed7953"
             ],
             [
              0.7777777777777778,
              "#fb9f3a"
             ],
             [
              0.8888888888888888,
              "#fdca26"
             ],
             [
              1,
              "#f0f921"
             ]
            ],
            "type": "surface"
           }
          ],
          "table": [
           {
            "cells": {
             "fill": {
              "color": "#EBF0F8"
             },
             "line": {
              "color": "white"
             }
            },
            "header": {
             "fill": {
              "color": "#C8D4E3"
             },
             "line": {
              "color": "white"
             }
            },
            "type": "table"
           }
          ]
         },
         "layout": {
          "annotationdefaults": {
           "arrowcolor": "#2a3f5f",
           "arrowhead": 0,
           "arrowwidth": 1
          },
          "autotypenumbers": "strict",
          "coloraxis": {
           "colorbar": {
            "outlinewidth": 0,
            "ticks": ""
           }
          },
          "colorscale": {
           "diverging": [
            [
             0,
             "#8e0152"
            ],
            [
             0.1,
             "#c51b7d"
            ],
            [
             0.2,
             "#de77ae"
            ],
            [
             0.3,
             "#f1b6da"
            ],
            [
             0.4,
             "#fde0ef"
            ],
            [
             0.5,
             "#f7f7f7"
            ],
            [
             0.6,
             "#e6f5d0"
            ],
            [
             0.7,
             "#b8e186"
            ],
            [
             0.8,
             "#7fbc41"
            ],
            [
             0.9,
             "#4d9221"
            ],
            [
             1,
             "#276419"
            ]
           ],
           "sequential": [
            [
             0,
             "#0d0887"
            ],
            [
             0.1111111111111111,
             "#46039f"
            ],
            [
             0.2222222222222222,
             "#7201a8"
            ],
            [
             0.3333333333333333,
             "#9c179e"
            ],
            [
             0.4444444444444444,
             "#bd3786"
            ],
            [
             0.5555555555555556,
             "#d8576b"
            ],
            [
             0.6666666666666666,
             "#ed7953"
            ],
            [
             0.7777777777777778,
             "#fb9f3a"
            ],
            [
             0.8888888888888888,
             "#fdca26"
            ],
            [
             1,
             "#f0f921"
            ]
           ],
           "sequentialminus": [
            [
             0,
             "#0d0887"
            ],
            [
             0.1111111111111111,
             "#46039f"
            ],
            [
             0.2222222222222222,
             "#7201a8"
            ],
            [
             0.3333333333333333,
             "#9c179e"
            ],
            [
             0.4444444444444444,
             "#bd3786"
            ],
            [
             0.5555555555555556,
             "#d8576b"
            ],
            [
             0.6666666666666666,
             "#ed7953"
            ],
            [
             0.7777777777777778,
             "#fb9f3a"
            ],
            [
             0.8888888888888888,
             "#fdca26"
            ],
            [
             1,
             "#f0f921"
            ]
           ]
          },
          "colorway": [
           "#636efa",
           "#EF553B",
           "#00cc96",
           "#ab63fa",
           "#FFA15A",
           "#19d3f3",
           "#FF6692",
           "#B6E880",
           "#FF97FF",
           "#FECB52"
          ],
          "font": {
           "color": "#2a3f5f"
          },
          "geo": {
           "bgcolor": "white",
           "lakecolor": "white",
           "landcolor": "#E5ECF6",
           "showlakes": true,
           "showland": true,
           "subunitcolor": "white"
          },
          "hoverlabel": {
           "align": "left"
          },
          "hovermode": "closest",
          "mapbox": {
           "style": "light"
          },
          "paper_bgcolor": "white",
          "plot_bgcolor": "#E5ECF6",
          "polar": {
           "angularaxis": {
            "gridcolor": "white",
            "linecolor": "white",
            "ticks": ""
           },
           "bgcolor": "#E5ECF6",
           "radialaxis": {
            "gridcolor": "white",
            "linecolor": "white",
            "ticks": ""
           }
          },
          "scene": {
           "xaxis": {
            "backgroundcolor": "#E5ECF6",
            "gridcolor": "white",
            "gridwidth": 2,
            "linecolor": "white",
            "showbackground": true,
            "ticks": "",
            "zerolinecolor": "white"
           },
           "yaxis": {
            "backgroundcolor": "#E5ECF6",
            "gridcolor": "white",
            "gridwidth": 2,
            "linecolor": "white",
            "showbackground": true,
            "ticks": "",
            "zerolinecolor": "white"
           },
           "zaxis": {
            "backgroundcolor": "#E5ECF6",
            "gridcolor": "white",
            "gridwidth": 2,
            "linecolor": "white",
            "showbackground": true,
            "ticks": "",
            "zerolinecolor": "white"
           }
          },
          "shapedefaults": {
           "line": {
            "color": "#2a3f5f"
           }
          },
          "ternary": {
           "aaxis": {
            "gridcolor": "white",
            "linecolor": "white",
            "ticks": ""
           },
           "baxis": {
            "gridcolor": "white",
            "linecolor": "white",
            "ticks": ""
           },
           "bgcolor": "#E5ECF6",
           "caxis": {
            "gridcolor": "white",
            "linecolor": "white",
            "ticks": ""
           }
          },
          "title": {
           "x": 0.05
          },
          "xaxis": {
           "automargin": true,
           "gridcolor": "white",
           "linecolor": "white",
           "ticks": "",
           "title": {
            "standoff": 15
           },
           "zerolinecolor": "white",
           "zerolinewidth": 2
          },
          "yaxis": {
           "automargin": true,
           "gridcolor": "white",
           "linecolor": "white",
           "ticks": "",
           "title": {
            "standoff": 15
           },
           "zerolinecolor": "white",
           "zerolinewidth": 2
          }
         }
        },
        "title": {
         "text": "Tv -Based on duration"
        },
        "xaxis": {
         "anchor": "y",
         "categoryorder": "total ascending",
         "domain": [
          0,
          1
         ],
         "title": {
          "text": "x"
         },
         "type": "category"
        },
        "yaxis": {
         "anchor": "x",
         "domain": [
          0,
          1
         ],
         "title": {
          "text": "y"
         }
        }
       }
      },
      "text/html": [
       "<div>                            <div id=\"bda39c52-3a7e-414b-aac3-c7198957679f\" class=\"plotly-graph-div\" style=\"height:525px; width:100%;\"></div>            <script type=\"text/javascript\">                require([\"plotly\"], function(Plotly) {                    window.PLOTLYENV=window.PLOTLYENV || {};                                    if (document.getElementById(\"bda39c52-3a7e-414b-aac3-c7198957679f\")) {                    Plotly.newPlot(                        \"bda39c52-3a7e-414b-aac3-c7198957679f\",                        [{\"alignmentgroup\":\"True\",\"hovertemplate\":\"x=%{x}<br>y=%{y}<extra></extra>\",\"legendgroup\":\"\",\"marker\":{\"color\":\"green\",\"pattern\":{\"shape\":\"\"}},\"name\":\"\",\"offsetgroup\":\"\",\"orientation\":\"v\",\"showlegend\":false,\"textposition\":\"auto\",\"type\":\"bar\",\"x\":[\"1 Season\",\"10 Seasons\",\"11 Seasons\",\"12 Seasons\",\"13 Seasons\",\"15 Seasons\",\"16 Seasons\",\"2 Seasons\",\"3 Seasons\",\"4 Seasons\",\"5 Seasons\",\"6 Seasons\",\"7 Seasons\",\"8 Seasons\",\"9 Seasons\"],\"xaxis\":\"x\",\"y\":[1608,6,3,2,2,2,1,382,184,87,58,30,19,18,8],\"yaxis\":\"y\"}],                        {\"barmode\":\"relative\",\"legend\":{\"tracegroupgap\":0},\"template\":{\"data\":{\"bar\":[{\"error_x\":{\"color\":\"#2a3f5f\"},\"error_y\":{\"color\":\"#2a3f5f\"},\"marker\":{\"line\":{\"color\":\"#E5ECF6\",\"width\":0.5},\"pattern\":{\"fillmode\":\"overlay\",\"size\":10,\"solidity\":0.2}},\"type\":\"bar\"}],\"barpolar\":[{\"marker\":{\"line\":{\"color\":\"#E5ECF6\",\"width\":0.5},\"pattern\":{\"fillmode\":\"overlay\",\"size\":10,\"solidity\":0.2}},\"type\":\"barpolar\"}],\"carpet\":[{\"aaxis\":{\"endlinecolor\":\"#2a3f5f\",\"gridcolor\":\"white\",\"linecolor\":\"white\",\"minorgridcolor\":\"white\",\"startlinecolor\":\"#2a3f5f\"},\"baxis\":{\"endlinecolor\":\"#2a3f5f\",\"gridcolor\":\"white\",\"linecolor\":\"white\",\"minorgridcolor\":\"white\",\"startlinecolor\":\"#2a3f5f\"},\"type\":\"carpet\"}],\"choropleth\":[{\"colorbar\":{\"outlinewidth\":0,\"ticks\":\"\"},\"type\":\"choropleth\"}],\"contour\":[{\"colorbar\":{\"outlinewidth\":0,\"ticks\":\"\"},\"colorscale\":[[0.0,\"#0d0887\"],[0.1111111111111111,\"#46039f\"],[0.2222222222222222,\"#7201a8\"],[0.3333333333333333,\"#9c179e\"],[0.4444444444444444,\"#bd3786\"],[0.5555555555555556,\"#d8576b\"],[0.6666666666666666,\"#ed7953\"],[0.7777777777777778,\"#fb9f3a\"],[0.8888888888888888,\"#fdca26\"],[1.0,\"#f0f921\"]],\"type\":\"contour\"}],\"contourcarpet\":[{\"colorbar\":{\"outlinewidth\":0,\"ticks\":\"\"},\"type\":\"contourcarpet\"}],\"heatmap\":[{\"colorbar\":{\"outlinewidth\":0,\"ticks\":\"\"},\"colorscale\":[[0.0,\"#0d0887\"],[0.1111111111111111,\"#46039f\"],[0.2222222222222222,\"#7201a8\"],[0.3333333333333333,\"#9c179e\"],[0.4444444444444444,\"#bd3786\"],[0.5555555555555556,\"#d8576b\"],[0.6666666666666666,\"#ed7953\"],[0.7777777777777778,\"#fb9f3a\"],[0.8888888888888888,\"#fdca26\"],[1.0,\"#f0f921\"]],\"type\":\"heatmap\"}],\"heatmapgl\":[{\"colorbar\":{\"outlinewidth\":0,\"ticks\":\"\"},\"colorscale\":[[0.0,\"#0d0887\"],[0.1111111111111111,\"#46039f\"],[0.2222222222222222,\"#7201a8\"],[0.3333333333333333,\"#9c179e\"],[0.4444444444444444,\"#bd3786\"],[0.5555555555555556,\"#d8576b\"],[0.6666666666666666,\"#ed7953\"],[0.7777777777777778,\"#fb9f3a\"],[0.8888888888888888,\"#fdca26\"],[1.0,\"#f0f921\"]],\"type\":\"heatmapgl\"}],\"histogram\":[{\"marker\":{\"pattern\":{\"fillmode\":\"overlay\",\"size\":10,\"solidity\":0.2}},\"type\":\"histogram\"}],\"histogram2d\":[{\"colorbar\":{\"outlinewidth\":0,\"ticks\":\"\"},\"colorscale\":[[0.0,\"#0d0887\"],[0.1111111111111111,\"#46039f\"],[0.2222222222222222,\"#7201a8\"],[0.3333333333333333,\"#9c179e\"],[0.4444444444444444,\"#bd3786\"],[0.5555555555555556,\"#d8576b\"],[0.6666666666666666,\"#ed7953\"],[0.7777777777777778,\"#fb9f3a\"],[0.8888888888888888,\"#fdca26\"],[1.0,\"#f0f921\"]],\"type\":\"histogram2d\"}],\"histogram2dcontour\":[{\"colorbar\":{\"outlinewidth\":0,\"ticks\":\"\"},\"colorscale\":[[0.0,\"#0d0887\"],[0.1111111111111111,\"#46039f\"],[0.2222222222222222,\"#7201a8\"],[0.3333333333333333,\"#9c179e\"],[0.4444444444444444,\"#bd3786\"],[0.5555555555555556,\"#d8576b\"],[0.6666666666666666,\"#ed7953\"],[0.7777777777777778,\"#fb9f3a\"],[0.8888888888888888,\"#fdca26\"],[1.0,\"#f0f921\"]],\"type\":\"histogram2dcontour\"}],\"mesh3d\":[{\"colorbar\":{\"outlinewidth\":0,\"ticks\":\"\"},\"type\":\"mesh3d\"}],\"parcoords\":[{\"line\":{\"colorbar\":{\"outlinewidth\":0,\"ticks\":\"\"}},\"type\":\"parcoords\"}],\"pie\":[{\"automargin\":true,\"type\":\"pie\"}],\"scatter\":[{\"marker\":{\"colorbar\":{\"outlinewidth\":0,\"ticks\":\"\"}},\"type\":\"scatter\"}],\"scatter3d\":[{\"line\":{\"colorbar\":{\"outlinewidth\":0,\"ticks\":\"\"}},\"marker\":{\"colorbar\":{\"outlinewidth\":0,\"ticks\":\"\"}},\"type\":\"scatter3d\"}],\"scattercarpet\":[{\"marker\":{\"colorbar\":{\"outlinewidth\":0,\"ticks\":\"\"}},\"type\":\"scattercarpet\"}],\"scattergeo\":[{\"marker\":{\"colorbar\":{\"outlinewidth\":0,\"ticks\":\"\"}},\"type\":\"scattergeo\"}],\"scattergl\":[{\"marker\":{\"colorbar\":{\"outlinewidth\":0,\"ticks\":\"\"}},\"type\":\"scattergl\"}],\"scattermapbox\":[{\"marker\":{\"colorbar\":{\"outlinewidth\":0,\"ticks\":\"\"}},\"type\":\"scattermapbox\"}],\"scatterpolar\":[{\"marker\":{\"colorbar\":{\"outlinewidth\":0,\"ticks\":\"\"}},\"type\":\"scatterpolar\"}],\"scatterpolargl\":[{\"marker\":{\"colorbar\":{\"outlinewidth\":0,\"ticks\":\"\"}},\"type\":\"scatterpolargl\"}],\"scatterternary\":[{\"marker\":{\"colorbar\":{\"outlinewidth\":0,\"ticks\":\"\"}},\"type\":\"scatterternary\"}],\"surface\":[{\"colorbar\":{\"outlinewidth\":0,\"ticks\":\"\"},\"colorscale\":[[0.0,\"#0d0887\"],[0.1111111111111111,\"#46039f\"],[0.2222222222222222,\"#7201a8\"],[0.3333333333333333,\"#9c179e\"],[0.4444444444444444,\"#bd3786\"],[0.5555555555555556,\"#d8576b\"],[0.6666666666666666,\"#ed7953\"],[0.7777777777777778,\"#fb9f3a\"],[0.8888888888888888,\"#fdca26\"],[1.0,\"#f0f921\"]],\"type\":\"surface\"}],\"table\":[{\"cells\":{\"fill\":{\"color\":\"#EBF0F8\"},\"line\":{\"color\":\"white\"}},\"header\":{\"fill\":{\"color\":\"#C8D4E3\"},\"line\":{\"color\":\"white\"}},\"type\":\"table\"}]},\"layout\":{\"annotationdefaults\":{\"arrowcolor\":\"#2a3f5f\",\"arrowhead\":0,\"arrowwidth\":1},\"autotypenumbers\":\"strict\",\"coloraxis\":{\"colorbar\":{\"outlinewidth\":0,\"ticks\":\"\"}},\"colorscale\":{\"diverging\":[[0,\"#8e0152\"],[0.1,\"#c51b7d\"],[0.2,\"#de77ae\"],[0.3,\"#f1b6da\"],[0.4,\"#fde0ef\"],[0.5,\"#f7f7f7\"],[0.6,\"#e6f5d0\"],[0.7,\"#b8e186\"],[0.8,\"#7fbc41\"],[0.9,\"#4d9221\"],[1,\"#276419\"]],\"sequential\":[[0.0,\"#0d0887\"],[0.1111111111111111,\"#46039f\"],[0.2222222222222222,\"#7201a8\"],[0.3333333333333333,\"#9c179e\"],[0.4444444444444444,\"#bd3786\"],[0.5555555555555556,\"#d8576b\"],[0.6666666666666666,\"#ed7953\"],[0.7777777777777778,\"#fb9f3a\"],[0.8888888888888888,\"#fdca26\"],[1.0,\"#f0f921\"]],\"sequentialminus\":[[0.0,\"#0d0887\"],[0.1111111111111111,\"#46039f\"],[0.2222222222222222,\"#7201a8\"],[0.3333333333333333,\"#9c179e\"],[0.4444444444444444,\"#bd3786\"],[0.5555555555555556,\"#d8576b\"],[0.6666666666666666,\"#ed7953\"],[0.7777777777777778,\"#fb9f3a\"],[0.8888888888888888,\"#fdca26\"],[1.0,\"#f0f921\"]]},\"colorway\":[\"#636efa\",\"#EF553B\",\"#00cc96\",\"#ab63fa\",\"#FFA15A\",\"#19d3f3\",\"#FF6692\",\"#B6E880\",\"#FF97FF\",\"#FECB52\"],\"font\":{\"color\":\"#2a3f5f\"},\"geo\":{\"bgcolor\":\"white\",\"lakecolor\":\"white\",\"landcolor\":\"#E5ECF6\",\"showlakes\":true,\"showland\":true,\"subunitcolor\":\"white\"},\"hoverlabel\":{\"align\":\"left\"},\"hovermode\":\"closest\",\"mapbox\":{\"style\":\"light\"},\"paper_bgcolor\":\"white\",\"plot_bgcolor\":\"#E5ECF6\",\"polar\":{\"angularaxis\":{\"gridcolor\":\"white\",\"linecolor\":\"white\",\"ticks\":\"\"},\"bgcolor\":\"#E5ECF6\",\"radialaxis\":{\"gridcolor\":\"white\",\"linecolor\":\"white\",\"ticks\":\"\"}},\"scene\":{\"xaxis\":{\"backgroundcolor\":\"#E5ECF6\",\"gridcolor\":\"white\",\"gridwidth\":2,\"linecolor\":\"white\",\"showbackground\":true,\"ticks\":\"\",\"zerolinecolor\":\"white\"},\"yaxis\":{\"backgroundcolor\":\"#E5ECF6\",\"gridcolor\":\"white\",\"gridwidth\":2,\"linecolor\":\"white\",\"showbackground\":true,\"ticks\":\"\",\"zerolinecolor\":\"white\"},\"zaxis\":{\"backgroundcolor\":\"#E5ECF6\",\"gridcolor\":\"white\",\"gridwidth\":2,\"linecolor\":\"white\",\"showbackground\":true,\"ticks\":\"\",\"zerolinecolor\":\"white\"}},\"shapedefaults\":{\"line\":{\"color\":\"#2a3f5f\"}},\"ternary\":{\"aaxis\":{\"gridcolor\":\"white\",\"linecolor\":\"white\",\"ticks\":\"\"},\"baxis\":{\"gridcolor\":\"white\",\"linecolor\":\"white\",\"ticks\":\"\"},\"bgcolor\":\"#E5ECF6\",\"caxis\":{\"gridcolor\":\"white\",\"linecolor\":\"white\",\"ticks\":\"\"}},\"title\":{\"x\":0.05},\"xaxis\":{\"automargin\":true,\"gridcolor\":\"white\",\"linecolor\":\"white\",\"ticks\":\"\",\"title\":{\"standoff\":15},\"zerolinecolor\":\"white\",\"zerolinewidth\":2},\"yaxis\":{\"automargin\":true,\"gridcolor\":\"white\",\"linecolor\":\"white\",\"ticks\":\"\",\"title\":{\"standoff\":15},\"zerolinecolor\":\"white\",\"zerolinewidth\":2}}},\"title\":{\"text\":\"Tv -Based on duration\"},\"xaxis\":{\"anchor\":\"y\",\"categoryorder\":\"total ascending\",\"domain\":[0.0,1.0],\"title\":{\"text\":\"x\"},\"type\":\"category\"},\"yaxis\":{\"anchor\":\"x\",\"domain\":[0.0,1.0],\"title\":{\"text\":\"y\"}}},                        {\"responsive\": true}                    ).then(function(){\n",
       "                            \n",
       "var gd = document.getElementById('bda39c52-3a7e-414b-aac3-c7198957679f');\n",
       "var x = new MutationObserver(function (mutations, observer) {{\n",
       "        var display = window.getComputedStyle(gd).display;\n",
       "        if (!display || display === 'none') {{\n",
       "            console.log([gd, 'removed!']);\n",
       "            Plotly.purge(gd);\n",
       "            observer.disconnect();\n",
       "        }}\n",
       "}});\n",
       "\n",
       "// Listen for the removal of the full notebook cells\n",
       "var notebookContainer = gd.closest('#notebook-container');\n",
       "if (notebookContainer) {{\n",
       "    x.observe(notebookContainer, {childList: true});\n",
       "}}\n",
       "\n",
       "// Listen for the clearing of the current output cell\n",
       "var outputEl = gd.closest('.output');\n",
       "if (outputEl) {{\n",
       "    x.observe(outputEl, {childList: true});\n",
       "}}\n",
       "\n",
       "                        })                };                });            </script>        </div>"
      ]
     },
     "metadata": {},
     "output_type": "display_data"
    }
   ],
   "source": [
    "fig = px.bar(x=new_tv['duration'], y = new_tv['show_id'],title='Tv -Based on duration')\n",
    "fig.update_traces(marker = dict(color= 'green'))\n",
    "\n",
    "fig.update_xaxes(type='category',categoryorder='total ascending')\n",
    "\n",
    "fig.show()"
   ]
  },
  {
   "cell_type": "code",
   "execution_count": 141,
   "metadata": {},
   "outputs": [
    {
     "data": {
      "application/vnd.plotly.v1+json": {
       "config": {
        "plotlyServerURL": "https://plot.ly"
       },
       "data": [
        {
         "domain": {
          "x": [
           0,
           1
          ],
          "y": [
           0,
           1
          ]
         },
         "hovertemplate": "index=%{label}<br>country_main=%{value}<extra></extra>",
         "labels": [
          "United States",
          "United Kingdom",
          "Japan",
          "South Korea",
          "Canada",
          "India",
          "Taiwan",
          "France",
          "Australia",
          "Spain",
          "Mexico",
          "China",
          "Turkey",
          "Brazil",
          "Germany",
          "Colombia",
          "Thailand",
          "Singapore",
          "Argentina",
          "Italy",
          "Russia",
          "Egypt",
          "Denmark",
          "Norway",
          "Nigeria",
          "Belgium",
          "Poland",
          "Sweden",
          "Malaysia",
          "Israel",
          "Ireland",
          "Lebanon",
          "Netherlands",
          "South Africa",
          "Pakistan",
          "Saudi Arabia",
          "Chile",
          "Finland",
          "Hong Kong",
          "New Zealand",
          "Ukraine",
          "Iceland",
          "Indonesia",
          "Kuwait",
          "Austria",
          "Senegal",
          "Jordan",
          "Czech Republic",
          "Cyprus",
          "Philippines",
          "United Arab Emirates",
          "Switzerland",
          "Croatia",
          "Uruguay",
          "Mauritius",
          "Puerto Rico",
          "Belarus"
         ],
         "legendgroup": "",
         "marker": {
          "line": {
           "color": "white",
           "width": 2
          }
         },
         "name": "",
         "showlegend": true,
         "textinfo": "percent+label",
         "textposition": "inside",
         "type": "pie",
         "values": [
          1060,
          236,
          162,
          152,
          84,
          73,
          70,
          59,
          52,
          49,
          44,
          38,
          28,
          27,
          24,
          23,
          22,
          18,
          18,
          17,
          15,
          12,
          11,
          9,
          8,
          8,
          7,
          7,
          7,
          7,
          6,
          6,
          5,
          5,
          4,
          4,
          4,
          3,
          3,
          2,
          2,
          2,
          2,
          2,
          1,
          1,
          1,
          1,
          1,
          1,
          1,
          1,
          1,
          1,
          1,
          1,
          1
         ]
        }
       ],
       "layout": {
        "legend": {
         "tracegroupgap": 0
        },
        "piecolorway": [
         "rgb(103,0,31)",
         "rgb(178,24,43)",
         "rgb(214,96,77)",
         "rgb(244,165,130)",
         "rgb(253,219,199)",
         "rgb(247,247,247)",
         "rgb(209,229,240)",
         "rgb(146,197,222)",
         "rgb(67,147,195)",
         "rgb(33,102,172)",
         "rgb(5,48,97)"
        ],
        "template": {
         "data": {
          "bar": [
           {
            "error_x": {
             "color": "#2a3f5f"
            },
            "error_y": {
             "color": "#2a3f5f"
            },
            "marker": {
             "line": {
              "color": "#E5ECF6",
              "width": 0.5
             },
             "pattern": {
              "fillmode": "overlay",
              "size": 10,
              "solidity": 0.2
             }
            },
            "type": "bar"
           }
          ],
          "barpolar": [
           {
            "marker": {
             "line": {
              "color": "#E5ECF6",
              "width": 0.5
             },
             "pattern": {
              "fillmode": "overlay",
              "size": 10,
              "solidity": 0.2
             }
            },
            "type": "barpolar"
           }
          ],
          "carpet": [
           {
            "aaxis": {
             "endlinecolor": "#2a3f5f",
             "gridcolor": "white",
             "linecolor": "white",
             "minorgridcolor": "white",
             "startlinecolor": "#2a3f5f"
            },
            "baxis": {
             "endlinecolor": "#2a3f5f",
             "gridcolor": "white",
             "linecolor": "white",
             "minorgridcolor": "white",
             "startlinecolor": "#2a3f5f"
            },
            "type": "carpet"
           }
          ],
          "choropleth": [
           {
            "colorbar": {
             "outlinewidth": 0,
             "ticks": ""
            },
            "type": "choropleth"
           }
          ],
          "contour": [
           {
            "colorbar": {
             "outlinewidth": 0,
             "ticks": ""
            },
            "colorscale": [
             [
              0,
              "#0d0887"
             ],
             [
              0.1111111111111111,
              "#46039f"
             ],
             [
              0.2222222222222222,
              "#7201a8"
             ],
             [
              0.3333333333333333,
              "#9c179e"
             ],
             [
              0.4444444444444444,
              "#bd3786"
             ],
             [
              0.5555555555555556,
              "#d8576b"
             ],
             [
              0.6666666666666666,
              "#ed7953"
             ],
             [
              0.7777777777777778,
              "#fb9f3a"
             ],
             [
              0.8888888888888888,
              "#fdca26"
             ],
             [
              1,
              "#f0f921"
             ]
            ],
            "type": "contour"
           }
          ],
          "contourcarpet": [
           {
            "colorbar": {
             "outlinewidth": 0,
             "ticks": ""
            },
            "type": "contourcarpet"
           }
          ],
          "heatmap": [
           {
            "colorbar": {
             "outlinewidth": 0,
             "ticks": ""
            },
            "colorscale": [
             [
              0,
              "#0d0887"
             ],
             [
              0.1111111111111111,
              "#46039f"
             ],
             [
              0.2222222222222222,
              "#7201a8"
             ],
             [
              0.3333333333333333,
              "#9c179e"
             ],
             [
              0.4444444444444444,
              "#bd3786"
             ],
             [
              0.5555555555555556,
              "#d8576b"
             ],
             [
              0.6666666666666666,
              "#ed7953"
             ],
             [
              0.7777777777777778,
              "#fb9f3a"
             ],
             [
              0.8888888888888888,
              "#fdca26"
             ],
             [
              1,
              "#f0f921"
             ]
            ],
            "type": "heatmap"
           }
          ],
          "heatmapgl": [
           {
            "colorbar": {
             "outlinewidth": 0,
             "ticks": ""
            },
            "colorscale": [
             [
              0,
              "#0d0887"
             ],
             [
              0.1111111111111111,
              "#46039f"
             ],
             [
              0.2222222222222222,
              "#7201a8"
             ],
             [
              0.3333333333333333,
              "#9c179e"
             ],
             [
              0.4444444444444444,
              "#bd3786"
             ],
             [
              0.5555555555555556,
              "#d8576b"
             ],
             [
              0.6666666666666666,
              "#ed7953"
             ],
             [
              0.7777777777777778,
              "#fb9f3a"
             ],
             [
              0.8888888888888888,
              "#fdca26"
             ],
             [
              1,
              "#f0f921"
             ]
            ],
            "type": "heatmapgl"
           }
          ],
          "histogram": [
           {
            "marker": {
             "pattern": {
              "fillmode": "overlay",
              "size": 10,
              "solidity": 0.2
             }
            },
            "type": "histogram"
           }
          ],
          "histogram2d": [
           {
            "colorbar": {
             "outlinewidth": 0,
             "ticks": ""
            },
            "colorscale": [
             [
              0,
              "#0d0887"
             ],
             [
              0.1111111111111111,
              "#46039f"
             ],
             [
              0.2222222222222222,
              "#7201a8"
             ],
             [
              0.3333333333333333,
              "#9c179e"
             ],
             [
              0.4444444444444444,
              "#bd3786"
             ],
             [
              0.5555555555555556,
              "#d8576b"
             ],
             [
              0.6666666666666666,
              "#ed7953"
             ],
             [
              0.7777777777777778,
              "#fb9f3a"
             ],
             [
              0.8888888888888888,
              "#fdca26"
             ],
             [
              1,
              "#f0f921"
             ]
            ],
            "type": "histogram2d"
           }
          ],
          "histogram2dcontour": [
           {
            "colorbar": {
             "outlinewidth": 0,
             "ticks": ""
            },
            "colorscale": [
             [
              0,
              "#0d0887"
             ],
             [
              0.1111111111111111,
              "#46039f"
             ],
             [
              0.2222222222222222,
              "#7201a8"
             ],
             [
              0.3333333333333333,
              "#9c179e"
             ],
             [
              0.4444444444444444,
              "#bd3786"
             ],
             [
              0.5555555555555556,
              "#d8576b"
             ],
             [
              0.6666666666666666,
              "#ed7953"
             ],
             [
              0.7777777777777778,
              "#fb9f3a"
             ],
             [
              0.8888888888888888,
              "#fdca26"
             ],
             [
              1,
              "#f0f921"
             ]
            ],
            "type": "histogram2dcontour"
           }
          ],
          "mesh3d": [
           {
            "colorbar": {
             "outlinewidth": 0,
             "ticks": ""
            },
            "type": "mesh3d"
           }
          ],
          "parcoords": [
           {
            "line": {
             "colorbar": {
              "outlinewidth": 0,
              "ticks": ""
             }
            },
            "type": "parcoords"
           }
          ],
          "pie": [
           {
            "automargin": true,
            "type": "pie"
           }
          ],
          "scatter": [
           {
            "marker": {
             "colorbar": {
              "outlinewidth": 0,
              "ticks": ""
             }
            },
            "type": "scatter"
           }
          ],
          "scatter3d": [
           {
            "line": {
             "colorbar": {
              "outlinewidth": 0,
              "ticks": ""
             }
            },
            "marker": {
             "colorbar": {
              "outlinewidth": 0,
              "ticks": ""
             }
            },
            "type": "scatter3d"
           }
          ],
          "scattercarpet": [
           {
            "marker": {
             "colorbar": {
              "outlinewidth": 0,
              "ticks": ""
             }
            },
            "type": "scattercarpet"
           }
          ],
          "scattergeo": [
           {
            "marker": {
             "colorbar": {
              "outlinewidth": 0,
              "ticks": ""
             }
            },
            "type": "scattergeo"
           }
          ],
          "scattergl": [
           {
            "marker": {
             "colorbar": {
              "outlinewidth": 0,
              "ticks": ""
             }
            },
            "type": "scattergl"
           }
          ],
          "scattermapbox": [
           {
            "marker": {
             "colorbar": {
              "outlinewidth": 0,
              "ticks": ""
             }
            },
            "type": "scattermapbox"
           }
          ],
          "scatterpolar": [
           {
            "marker": {
             "colorbar": {
              "outlinewidth": 0,
              "ticks": ""
             }
            },
            "type": "scatterpolar"
           }
          ],
          "scatterpolargl": [
           {
            "marker": {
             "colorbar": {
              "outlinewidth": 0,
              "ticks": ""
             }
            },
            "type": "scatterpolargl"
           }
          ],
          "scatterternary": [
           {
            "marker": {
             "colorbar": {
              "outlinewidth": 0,
              "ticks": ""
             }
            },
            "type": "scatterternary"
           }
          ],
          "surface": [
           {
            "colorbar": {
             "outlinewidth": 0,
             "ticks": ""
            },
            "colorscale": [
             [
              0,
              "#0d0887"
             ],
             [
              0.1111111111111111,
              "#46039f"
             ],
             [
              0.2222222222222222,
              "#7201a8"
             ],
             [
              0.3333333333333333,
              "#9c179e"
             ],
             [
              0.4444444444444444,
              "#bd3786"
             ],
             [
              0.5555555555555556,
              "#d8576b"
             ],
             [
              0.6666666666666666,
              "#ed7953"
             ],
             [
              0.7777777777777778,
              "#fb9f3a"
             ],
             [
              0.8888888888888888,
              "#fdca26"
             ],
             [
              1,
              "#f0f921"
             ]
            ],
            "type": "surface"
           }
          ],
          "table": [
           {
            "cells": {
             "fill": {
              "color": "#EBF0F8"
             },
             "line": {
              "color": "white"
             }
            },
            "header": {
             "fill": {
              "color": "#C8D4E3"
             },
             "line": {
              "color": "white"
             }
            },
            "type": "table"
           }
          ]
         },
         "layout": {
          "annotationdefaults": {
           "arrowcolor": "#2a3f5f",
           "arrowhead": 0,
           "arrowwidth": 1
          },
          "autotypenumbers": "strict",
          "coloraxis": {
           "colorbar": {
            "outlinewidth": 0,
            "ticks": ""
           }
          },
          "colorscale": {
           "diverging": [
            [
             0,
             "#8e0152"
            ],
            [
             0.1,
             "#c51b7d"
            ],
            [
             0.2,
             "#de77ae"
            ],
            [
             0.3,
             "#f1b6da"
            ],
            [
             0.4,
             "#fde0ef"
            ],
            [
             0.5,
             "#f7f7f7"
            ],
            [
             0.6,
             "#e6f5d0"
            ],
            [
             0.7,
             "#b8e186"
            ],
            [
             0.8,
             "#7fbc41"
            ],
            [
             0.9,
             "#4d9221"
            ],
            [
             1,
             "#276419"
            ]
           ],
           "sequential": [
            [
             0,
             "#0d0887"
            ],
            [
             0.1111111111111111,
             "#46039f"
            ],
            [
             0.2222222222222222,
             "#7201a8"
            ],
            [
             0.3333333333333333,
             "#9c179e"
            ],
            [
             0.4444444444444444,
             "#bd3786"
            ],
            [
             0.5555555555555556,
             "#d8576b"
            ],
            [
             0.6666666666666666,
             "#ed7953"
            ],
            [
             0.7777777777777778,
             "#fb9f3a"
            ],
            [
             0.8888888888888888,
             "#fdca26"
            ],
            [
             1,
             "#f0f921"
            ]
           ],
           "sequentialminus": [
            [
             0,
             "#0d0887"
            ],
            [
             0.1111111111111111,
             "#46039f"
            ],
            [
             0.2222222222222222,
             "#7201a8"
            ],
            [
             0.3333333333333333,
             "#9c179e"
            ],
            [
             0.4444444444444444,
             "#bd3786"
            ],
            [
             0.5555555555555556,
             "#d8576b"
            ],
            [
             0.6666666666666666,
             "#ed7953"
            ],
            [
             0.7777777777777778,
             "#fb9f3a"
            ],
            [
             0.8888888888888888,
             "#fdca26"
            ],
            [
             1,
             "#f0f921"
            ]
           ]
          },
          "colorway": [
           "#636efa",
           "#EF553B",
           "#00cc96",
           "#ab63fa",
           "#FFA15A",
           "#19d3f3",
           "#FF6692",
           "#B6E880",
           "#FF97FF",
           "#FECB52"
          ],
          "font": {
           "color": "#2a3f5f"
          },
          "geo": {
           "bgcolor": "white",
           "lakecolor": "white",
           "landcolor": "#E5ECF6",
           "showlakes": true,
           "showland": true,
           "subunitcolor": "white"
          },
          "hoverlabel": {
           "align": "left"
          },
          "hovermode": "closest",
          "mapbox": {
           "style": "light"
          },
          "paper_bgcolor": "white",
          "plot_bgcolor": "#E5ECF6",
          "polar": {
           "angularaxis": {
            "gridcolor": "white",
            "linecolor": "white",
            "ticks": ""
           },
           "bgcolor": "#E5ECF6",
           "radialaxis": {
            "gridcolor": "white",
            "linecolor": "white",
            "ticks": ""
           }
          },
          "scene": {
           "xaxis": {
            "backgroundcolor": "#E5ECF6",
            "gridcolor": "white",
            "gridwidth": 2,
            "linecolor": "white",
            "showbackground": true,
            "ticks": "",
            "zerolinecolor": "white"
           },
           "yaxis": {
            "backgroundcolor": "#E5ECF6",
            "gridcolor": "white",
            "gridwidth": 2,
            "linecolor": "white",
            "showbackground": true,
            "ticks": "",
            "zerolinecolor": "white"
           },
           "zaxis": {
            "backgroundcolor": "#E5ECF6",
            "gridcolor": "white",
            "gridwidth": 2,
            "linecolor": "white",
            "showbackground": true,
            "ticks": "",
            "zerolinecolor": "white"
           }
          },
          "shapedefaults": {
           "line": {
            "color": "#2a3f5f"
           }
          },
          "ternary": {
           "aaxis": {
            "gridcolor": "white",
            "linecolor": "white",
            "ticks": ""
           },
           "baxis": {
            "gridcolor": "white",
            "linecolor": "white",
            "ticks": ""
           },
           "bgcolor": "#E5ECF6",
           "caxis": {
            "gridcolor": "white",
            "linecolor": "white",
            "ticks": ""
           }
          },
          "title": {
           "x": 0.05
          },
          "xaxis": {
           "automargin": true,
           "gridcolor": "white",
           "linecolor": "white",
           "ticks": "",
           "title": {
            "standoff": 15
           },
           "zerolinecolor": "white",
           "zerolinewidth": 2
          },
          "yaxis": {
           "automargin": true,
           "gridcolor": "white",
           "linecolor": "white",
           "ticks": "",
           "title": {
            "standoff": 15
           },
           "zerolinecolor": "white",
           "zerolinewidth": 2
          }
         }
        },
        "title": {
         "text": "Most Tv-series Released based on countries"
        }
       }
      },
      "text/html": [
       "<div>                            <div id=\"b32757cb-c461-4e41-8d2e-0c532065db72\" class=\"plotly-graph-div\" style=\"height:525px; width:100%;\"></div>            <script type=\"text/javascript\">                require([\"plotly\"], function(Plotly) {                    window.PLOTLYENV=window.PLOTLYENV || {};                                    if (document.getElementById(\"b32757cb-c461-4e41-8d2e-0c532065db72\")) {                    Plotly.newPlot(                        \"b32757cb-c461-4e41-8d2e-0c532065db72\",                        [{\"domain\":{\"x\":[0.0,1.0],\"y\":[0.0,1.0]},\"hovertemplate\":\"index=%{label}<br>country_main=%{value}<extra></extra>\",\"labels\":[\"United States\",\"United Kingdom\",\"Japan\",\"South Korea\",\"Canada\",\"India\",\"Taiwan\",\"France\",\"Australia\",\"Spain\",\"Mexico\",\"China\",\"Turkey\",\"Brazil\",\"Germany\",\"Colombia\",\"Thailand\",\"Singapore\",\"Argentina\",\"Italy\",\"Russia\",\"Egypt\",\"Denmark\",\"Norway\",\"Nigeria\",\"Belgium\",\"Poland\",\"Sweden\",\"Malaysia\",\"Israel\",\"Ireland\",\"Lebanon\",\"Netherlands\",\"South Africa\",\"Pakistan\",\"Saudi Arabia\",\"Chile\",\"Finland\",\"Hong Kong\",\"New Zealand\",\"Ukraine\",\"Iceland\",\"Indonesia\",\"Kuwait\",\"Austria\",\"Senegal\",\"Jordan\",\"Czech Republic\",\"Cyprus\",\"Philippines\",\"United Arab Emirates\",\"Switzerland\",\"Croatia\",\"Uruguay\",\"Mauritius\",\"Puerto Rico\",\"Belarus\"],\"legendgroup\":\"\",\"marker\":{\"line\":{\"color\":\"white\",\"width\":2}},\"name\":\"\",\"showlegend\":true,\"textinfo\":\"percent+label\",\"textposition\":\"inside\",\"type\":\"pie\",\"values\":[1060,236,162,152,84,73,70,59,52,49,44,38,28,27,24,23,22,18,18,17,15,12,11,9,8,8,7,7,7,7,6,6,5,5,4,4,4,3,3,2,2,2,2,2,1,1,1,1,1,1,1,1,1,1,1,1,1]}],                        {\"legend\":{\"tracegroupgap\":0},\"piecolorway\":[\"rgb(103,0,31)\",\"rgb(178,24,43)\",\"rgb(214,96,77)\",\"rgb(244,165,130)\",\"rgb(253,219,199)\",\"rgb(247,247,247)\",\"rgb(209,229,240)\",\"rgb(146,197,222)\",\"rgb(67,147,195)\",\"rgb(33,102,172)\",\"rgb(5,48,97)\"],\"template\":{\"data\":{\"bar\":[{\"error_x\":{\"color\":\"#2a3f5f\"},\"error_y\":{\"color\":\"#2a3f5f\"},\"marker\":{\"line\":{\"color\":\"#E5ECF6\",\"width\":0.5},\"pattern\":{\"fillmode\":\"overlay\",\"size\":10,\"solidity\":0.2}},\"type\":\"bar\"}],\"barpolar\":[{\"marker\":{\"line\":{\"color\":\"#E5ECF6\",\"width\":0.5},\"pattern\":{\"fillmode\":\"overlay\",\"size\":10,\"solidity\":0.2}},\"type\":\"barpolar\"}],\"carpet\":[{\"aaxis\":{\"endlinecolor\":\"#2a3f5f\",\"gridcolor\":\"white\",\"linecolor\":\"white\",\"minorgridcolor\":\"white\",\"startlinecolor\":\"#2a3f5f\"},\"baxis\":{\"endlinecolor\":\"#2a3f5f\",\"gridcolor\":\"white\",\"linecolor\":\"white\",\"minorgridcolor\":\"white\",\"startlinecolor\":\"#2a3f5f\"},\"type\":\"carpet\"}],\"choropleth\":[{\"colorbar\":{\"outlinewidth\":0,\"ticks\":\"\"},\"type\":\"choropleth\"}],\"contour\":[{\"colorbar\":{\"outlinewidth\":0,\"ticks\":\"\"},\"colorscale\":[[0.0,\"#0d0887\"],[0.1111111111111111,\"#46039f\"],[0.2222222222222222,\"#7201a8\"],[0.3333333333333333,\"#9c179e\"],[0.4444444444444444,\"#bd3786\"],[0.5555555555555556,\"#d8576b\"],[0.6666666666666666,\"#ed7953\"],[0.7777777777777778,\"#fb9f3a\"],[0.8888888888888888,\"#fdca26\"],[1.0,\"#f0f921\"]],\"type\":\"contour\"}],\"contourcarpet\":[{\"colorbar\":{\"outlinewidth\":0,\"ticks\":\"\"},\"type\":\"contourcarpet\"}],\"heatmap\":[{\"colorbar\":{\"outlinewidth\":0,\"ticks\":\"\"},\"colorscale\":[[0.0,\"#0d0887\"],[0.1111111111111111,\"#46039f\"],[0.2222222222222222,\"#7201a8\"],[0.3333333333333333,\"#9c179e\"],[0.4444444444444444,\"#bd3786\"],[0.5555555555555556,\"#d8576b\"],[0.6666666666666666,\"#ed7953\"],[0.7777777777777778,\"#fb9f3a\"],[0.8888888888888888,\"#fdca26\"],[1.0,\"#f0f921\"]],\"type\":\"heatmap\"}],\"heatmapgl\":[{\"colorbar\":{\"outlinewidth\":0,\"ticks\":\"\"},\"colorscale\":[[0.0,\"#0d0887\"],[0.1111111111111111,\"#46039f\"],[0.2222222222222222,\"#7201a8\"],[0.3333333333333333,\"#9c179e\"],[0.4444444444444444,\"#bd3786\"],[0.5555555555555556,\"#d8576b\"],[0.6666666666666666,\"#ed7953\"],[0.7777777777777778,\"#fb9f3a\"],[0.8888888888888888,\"#fdca26\"],[1.0,\"#f0f921\"]],\"type\":\"heatmapgl\"}],\"histogram\":[{\"marker\":{\"pattern\":{\"fillmode\":\"overlay\",\"size\":10,\"solidity\":0.2}},\"type\":\"histogram\"}],\"histogram2d\":[{\"colorbar\":{\"outlinewidth\":0,\"ticks\":\"\"},\"colorscale\":[[0.0,\"#0d0887\"],[0.1111111111111111,\"#46039f\"],[0.2222222222222222,\"#7201a8\"],[0.3333333333333333,\"#9c179e\"],[0.4444444444444444,\"#bd3786\"],[0.5555555555555556,\"#d8576b\"],[0.6666666666666666,\"#ed7953\"],[0.7777777777777778,\"#fb9f3a\"],[0.8888888888888888,\"#fdca26\"],[1.0,\"#f0f921\"]],\"type\":\"histogram2d\"}],\"histogram2dcontour\":[{\"colorbar\":{\"outlinewidth\":0,\"ticks\":\"\"},\"colorscale\":[[0.0,\"#0d0887\"],[0.1111111111111111,\"#46039f\"],[0.2222222222222222,\"#7201a8\"],[0.3333333333333333,\"#9c179e\"],[0.4444444444444444,\"#bd3786\"],[0.5555555555555556,\"#d8576b\"],[0.6666666666666666,\"#ed7953\"],[0.7777777777777778,\"#fb9f3a\"],[0.8888888888888888,\"#fdca26\"],[1.0,\"#f0f921\"]],\"type\":\"histogram2dcontour\"}],\"mesh3d\":[{\"colorbar\":{\"outlinewidth\":0,\"ticks\":\"\"},\"type\":\"mesh3d\"}],\"parcoords\":[{\"line\":{\"colorbar\":{\"outlinewidth\":0,\"ticks\":\"\"}},\"type\":\"parcoords\"}],\"pie\":[{\"automargin\":true,\"type\":\"pie\"}],\"scatter\":[{\"marker\":{\"colorbar\":{\"outlinewidth\":0,\"ticks\":\"\"}},\"type\":\"scatter\"}],\"scatter3d\":[{\"line\":{\"colorbar\":{\"outlinewidth\":0,\"ticks\":\"\"}},\"marker\":{\"colorbar\":{\"outlinewidth\":0,\"ticks\":\"\"}},\"type\":\"scatter3d\"}],\"scattercarpet\":[{\"marker\":{\"colorbar\":{\"outlinewidth\":0,\"ticks\":\"\"}},\"type\":\"scattercarpet\"}],\"scattergeo\":[{\"marker\":{\"colorbar\":{\"outlinewidth\":0,\"ticks\":\"\"}},\"type\":\"scattergeo\"}],\"scattergl\":[{\"marker\":{\"colorbar\":{\"outlinewidth\":0,\"ticks\":\"\"}},\"type\":\"scattergl\"}],\"scattermapbox\":[{\"marker\":{\"colorbar\":{\"outlinewidth\":0,\"ticks\":\"\"}},\"type\":\"scattermapbox\"}],\"scatterpolar\":[{\"marker\":{\"colorbar\":{\"outlinewidth\":0,\"ticks\":\"\"}},\"type\":\"scatterpolar\"}],\"scatterpolargl\":[{\"marker\":{\"colorbar\":{\"outlinewidth\":0,\"ticks\":\"\"}},\"type\":\"scatterpolargl\"}],\"scatterternary\":[{\"marker\":{\"colorbar\":{\"outlinewidth\":0,\"ticks\":\"\"}},\"type\":\"scatterternary\"}],\"surface\":[{\"colorbar\":{\"outlinewidth\":0,\"ticks\":\"\"},\"colorscale\":[[0.0,\"#0d0887\"],[0.1111111111111111,\"#46039f\"],[0.2222222222222222,\"#7201a8\"],[0.3333333333333333,\"#9c179e\"],[0.4444444444444444,\"#bd3786\"],[0.5555555555555556,\"#d8576b\"],[0.6666666666666666,\"#ed7953\"],[0.7777777777777778,\"#fb9f3a\"],[0.8888888888888888,\"#fdca26\"],[1.0,\"#f0f921\"]],\"type\":\"surface\"}],\"table\":[{\"cells\":{\"fill\":{\"color\":\"#EBF0F8\"},\"line\":{\"color\":\"white\"}},\"header\":{\"fill\":{\"color\":\"#C8D4E3\"},\"line\":{\"color\":\"white\"}},\"type\":\"table\"}]},\"layout\":{\"annotationdefaults\":{\"arrowcolor\":\"#2a3f5f\",\"arrowhead\":0,\"arrowwidth\":1},\"autotypenumbers\":\"strict\",\"coloraxis\":{\"colorbar\":{\"outlinewidth\":0,\"ticks\":\"\"}},\"colorscale\":{\"diverging\":[[0,\"#8e0152\"],[0.1,\"#c51b7d\"],[0.2,\"#de77ae\"],[0.3,\"#f1b6da\"],[0.4,\"#fde0ef\"],[0.5,\"#f7f7f7\"],[0.6,\"#e6f5d0\"],[0.7,\"#b8e186\"],[0.8,\"#7fbc41\"],[0.9,\"#4d9221\"],[1,\"#276419\"]],\"sequential\":[[0.0,\"#0d0887\"],[0.1111111111111111,\"#46039f\"],[0.2222222222222222,\"#7201a8\"],[0.3333333333333333,\"#9c179e\"],[0.4444444444444444,\"#bd3786\"],[0.5555555555555556,\"#d8576b\"],[0.6666666666666666,\"#ed7953\"],[0.7777777777777778,\"#fb9f3a\"],[0.8888888888888888,\"#fdca26\"],[1.0,\"#f0f921\"]],\"sequentialminus\":[[0.0,\"#0d0887\"],[0.1111111111111111,\"#46039f\"],[0.2222222222222222,\"#7201a8\"],[0.3333333333333333,\"#9c179e\"],[0.4444444444444444,\"#bd3786\"],[0.5555555555555556,\"#d8576b\"],[0.6666666666666666,\"#ed7953\"],[0.7777777777777778,\"#fb9f3a\"],[0.8888888888888888,\"#fdca26\"],[1.0,\"#f0f921\"]]},\"colorway\":[\"#636efa\",\"#EF553B\",\"#00cc96\",\"#ab63fa\",\"#FFA15A\",\"#19d3f3\",\"#FF6692\",\"#B6E880\",\"#FF97FF\",\"#FECB52\"],\"font\":{\"color\":\"#2a3f5f\"},\"geo\":{\"bgcolor\":\"white\",\"lakecolor\":\"white\",\"landcolor\":\"#E5ECF6\",\"showlakes\":true,\"showland\":true,\"subunitcolor\":\"white\"},\"hoverlabel\":{\"align\":\"left\"},\"hovermode\":\"closest\",\"mapbox\":{\"style\":\"light\"},\"paper_bgcolor\":\"white\",\"plot_bgcolor\":\"#E5ECF6\",\"polar\":{\"angularaxis\":{\"gridcolor\":\"white\",\"linecolor\":\"white\",\"ticks\":\"\"},\"bgcolor\":\"#E5ECF6\",\"radialaxis\":{\"gridcolor\":\"white\",\"linecolor\":\"white\",\"ticks\":\"\"}},\"scene\":{\"xaxis\":{\"backgroundcolor\":\"#E5ECF6\",\"gridcolor\":\"white\",\"gridwidth\":2,\"linecolor\":\"white\",\"showbackground\":true,\"ticks\":\"\",\"zerolinecolor\":\"white\"},\"yaxis\":{\"backgroundcolor\":\"#E5ECF6\",\"gridcolor\":\"white\",\"gridwidth\":2,\"linecolor\":\"white\",\"showbackground\":true,\"ticks\":\"\",\"zerolinecolor\":\"white\"},\"zaxis\":{\"backgroundcolor\":\"#E5ECF6\",\"gridcolor\":\"white\",\"gridwidth\":2,\"linecolor\":\"white\",\"showbackground\":true,\"ticks\":\"\",\"zerolinecolor\":\"white\"}},\"shapedefaults\":{\"line\":{\"color\":\"#2a3f5f\"}},\"ternary\":{\"aaxis\":{\"gridcolor\":\"white\",\"linecolor\":\"white\",\"ticks\":\"\"},\"baxis\":{\"gridcolor\":\"white\",\"linecolor\":\"white\",\"ticks\":\"\"},\"bgcolor\":\"#E5ECF6\",\"caxis\":{\"gridcolor\":\"white\",\"linecolor\":\"white\",\"ticks\":\"\"}},\"title\":{\"x\":0.05},\"xaxis\":{\"automargin\":true,\"gridcolor\":\"white\",\"linecolor\":\"white\",\"ticks\":\"\",\"title\":{\"standoff\":15},\"zerolinecolor\":\"white\",\"zerolinewidth\":2},\"yaxis\":{\"automargin\":true,\"gridcolor\":\"white\",\"linecolor\":\"white\",\"ticks\":\"\",\"title\":{\"standoff\":15},\"zerolinecolor\":\"white\",\"zerolinewidth\":2}}},\"title\":{\"text\":\"Most Tv-series Released based on countries\"}},                        {\"responsive\": true}                    ).then(function(){\n",
       "                            \n",
       "var gd = document.getElementById('b32757cb-c461-4e41-8d2e-0c532065db72');\n",
       "var x = new MutationObserver(function (mutations, observer) {{\n",
       "        var display = window.getComputedStyle(gd).display;\n",
       "        if (!display || display === 'none') {{\n",
       "            console.log([gd, 'removed!']);\n",
       "            Plotly.purge(gd);\n",
       "            observer.disconnect();\n",
       "        }}\n",
       "}});\n",
       "\n",
       "// Listen for the removal of the full notebook cells\n",
       "var notebookContainer = gd.closest('#notebook-container');\n",
       "if (notebookContainer) {{\n",
       "    x.observe(notebookContainer, {childList: true});\n",
       "}}\n",
       "\n",
       "// Listen for the clearing of the current output cell\n",
       "var outputEl = gd.closest('.output');\n",
       "if (outputEl) {{\n",
       "    x.observe(outputEl, {childList: true});\n",
       "}}\n",
       "\n",
       "                        })                };                });            </script>        </div>"
      ]
     },
     "metadata": {},
     "output_type": "display_data"
    }
   ],
   "source": [
    "#According to the country in tv_series_data\n",
    "tv_series=tv.country_main.value_counts().reset_index()\n",
    "fig = px.pie(tv_series, values='country_main', names='index',color_discrete_sequence=px.colors.sequential.RdBu,title='Most Tv-series Released based on countries')\n",
    "fig.update_traces(textposition='inside', textinfo='percent+label',\n",
    "                  marker = dict(line = dict(color = 'white', width =2)))\n",
    "fig.show()\n"
   ]
  },
  {
   "cell_type": "code",
   "execution_count": 142,
   "metadata": {},
   "outputs": [
    {
     "data": {
      "application/vnd.plotly.v1+json": {
       "config": {
        "plotlyServerURL": "https://plot.ly"
       },
       "data": [
        {
         "domain": {
          "x": [
           0,
           1
          ],
          "y": [
           0,
           1
          ]
         },
         "hovertemplate": "index=%{label}<br>country_main=%{value}<extra></extra>",
         "labels": [
          "United States",
          "India",
          "United Kingdom",
          "Canada",
          "France",
          "Spain",
          "Egypt",
          "Mexico",
          "Turkey",
          "Japan",
          "Indonesia",
          "Hong Kong",
          "Philippines",
          "Germany",
          "Nigeria",
          "Australia",
          "Brazil",
          "Argentina",
          "China",
          "Italy",
          "South Korea",
          "Thailand",
          "South Africa",
          "Ireland",
          "Netherlands",
          "Denmark",
          "Poland",
          "Pakistan",
          "United Arab Emirates",
          "Chile",
          "Malaysia",
          "Lebanon",
          "New Zealand",
          "Colombia",
          "Taiwan",
          "Israel",
          "Norway",
          "Romania",
          "Singapore",
          "Sweden",
          "Uruguay",
          "Austria",
          "Belgium",
          "Peru",
          "Switzerland",
          "Saudi Arabia",
          "Bulgaria",
          "Russia",
          "Vietnam",
          "Hungary",
          "Ghana",
          "Czech Republic",
          "Kuwait",
          "Serbia",
          "Iceland",
          "Kenya",
          "Finland",
          "Venezuela",
          "Bangladesh",
          "Cambodia",
          "Portugal",
          "Georgia",
          "Croatia",
          "Zimbabwe",
          "Somalia",
          "Jamaica",
          "Namibia",
          "Soviet Union",
          "Iran",
          "Guatemala",
          "Paraguay",
          "Greece",
          "West Germany",
          "Slovenia"
         ],
         "legendgroup": "",
         "marker": {
          "line": {
           "color": "white",
           "width": 2
          }
         },
         "name": "",
         "showlegend": true,
         "textinfo": "percent+label",
         "textposition": "inside",
         "type": "pie",
         "values": [
          2330,
          883,
          341,
          175,
          137,
          119,
          93,
          79,
          78,
          75,
          74,
          74,
          74,
          68,
          63,
          56,
          52,
          50,
          48,
          42,
          42,
          39,
          30,
          20,
          20,
          19,
          19,
          18,
          18,
          17,
          16,
          14,
          13,
          13,
          12,
          12,
          11,
          10,
          10,
          9,
          8,
          7,
          6,
          6,
          6,
          6,
          5,
          5,
          5,
          4,
          4,
          4,
          4,
          3,
          3,
          3,
          3,
          2,
          2,
          2,
          2,
          2,
          1,
          1,
          1,
          1,
          1,
          1,
          1,
          1,
          1,
          1,
          1,
          1
         ]
        }
       ],
       "layout": {
        "legend": {
         "tracegroupgap": 0
        },
        "piecolorway": [
         "rgb(103,0,31)",
         "rgb(178,24,43)",
         "rgb(214,96,77)",
         "rgb(244,165,130)",
         "rgb(253,219,199)",
         "rgb(247,247,247)",
         "rgb(209,229,240)",
         "rgb(146,197,222)",
         "rgb(67,147,195)",
         "rgb(33,102,172)",
         "rgb(5,48,97)"
        ],
        "template": {
         "data": {
          "bar": [
           {
            "error_x": {
             "color": "#2a3f5f"
            },
            "error_y": {
             "color": "#2a3f5f"
            },
            "marker": {
             "line": {
              "color": "#E5ECF6",
              "width": 0.5
             },
             "pattern": {
              "fillmode": "overlay",
              "size": 10,
              "solidity": 0.2
             }
            },
            "type": "bar"
           }
          ],
          "barpolar": [
           {
            "marker": {
             "line": {
              "color": "#E5ECF6",
              "width": 0.5
             },
             "pattern": {
              "fillmode": "overlay",
              "size": 10,
              "solidity": 0.2
             }
            },
            "type": "barpolar"
           }
          ],
          "carpet": [
           {
            "aaxis": {
             "endlinecolor": "#2a3f5f",
             "gridcolor": "white",
             "linecolor": "white",
             "minorgridcolor": "white",
             "startlinecolor": "#2a3f5f"
            },
            "baxis": {
             "endlinecolor": "#2a3f5f",
             "gridcolor": "white",
             "linecolor": "white",
             "minorgridcolor": "white",
             "startlinecolor": "#2a3f5f"
            },
            "type": "carpet"
           }
          ],
          "choropleth": [
           {
            "colorbar": {
             "outlinewidth": 0,
             "ticks": ""
            },
            "type": "choropleth"
           }
          ],
          "contour": [
           {
            "colorbar": {
             "outlinewidth": 0,
             "ticks": ""
            },
            "colorscale": [
             [
              0,
              "#0d0887"
             ],
             [
              0.1111111111111111,
              "#46039f"
             ],
             [
              0.2222222222222222,
              "#7201a8"
             ],
             [
              0.3333333333333333,
              "#9c179e"
             ],
             [
              0.4444444444444444,
              "#bd3786"
             ],
             [
              0.5555555555555556,
              "#d8576b"
             ],
             [
              0.6666666666666666,
              "#ed7953"
             ],
             [
              0.7777777777777778,
              "#fb9f3a"
             ],
             [
              0.8888888888888888,
              "#fdca26"
             ],
             [
              1,
              "#f0f921"
             ]
            ],
            "type": "contour"
           }
          ],
          "contourcarpet": [
           {
            "colorbar": {
             "outlinewidth": 0,
             "ticks": ""
            },
            "type": "contourcarpet"
           }
          ],
          "heatmap": [
           {
            "colorbar": {
             "outlinewidth": 0,
             "ticks": ""
            },
            "colorscale": [
             [
              0,
              "#0d0887"
             ],
             [
              0.1111111111111111,
              "#46039f"
             ],
             [
              0.2222222222222222,
              "#7201a8"
             ],
             [
              0.3333333333333333,
              "#9c179e"
             ],
             [
              0.4444444444444444,
              "#bd3786"
             ],
             [
              0.5555555555555556,
              "#d8576b"
             ],
             [
              0.6666666666666666,
              "#ed7953"
             ],
             [
              0.7777777777777778,
              "#fb9f3a"
             ],
             [
              0.8888888888888888,
              "#fdca26"
             ],
             [
              1,
              "#f0f921"
             ]
            ],
            "type": "heatmap"
           }
          ],
          "heatmapgl": [
           {
            "colorbar": {
             "outlinewidth": 0,
             "ticks": ""
            },
            "colorscale": [
             [
              0,
              "#0d0887"
             ],
             [
              0.1111111111111111,
              "#46039f"
             ],
             [
              0.2222222222222222,
              "#7201a8"
             ],
             [
              0.3333333333333333,
              "#9c179e"
             ],
             [
              0.4444444444444444,
              "#bd3786"
             ],
             [
              0.5555555555555556,
              "#d8576b"
             ],
             [
              0.6666666666666666,
              "#ed7953"
             ],
             [
              0.7777777777777778,
              "#fb9f3a"
             ],
             [
              0.8888888888888888,
              "#fdca26"
             ],
             [
              1,
              "#f0f921"
             ]
            ],
            "type": "heatmapgl"
           }
          ],
          "histogram": [
           {
            "marker": {
             "pattern": {
              "fillmode": "overlay",
              "size": 10,
              "solidity": 0.2
             }
            },
            "type": "histogram"
           }
          ],
          "histogram2d": [
           {
            "colorbar": {
             "outlinewidth": 0,
             "ticks": ""
            },
            "colorscale": [
             [
              0,
              "#0d0887"
             ],
             [
              0.1111111111111111,
              "#46039f"
             ],
             [
              0.2222222222222222,
              "#7201a8"
             ],
             [
              0.3333333333333333,
              "#9c179e"
             ],
             [
              0.4444444444444444,
              "#bd3786"
             ],
             [
              0.5555555555555556,
              "#d8576b"
             ],
             [
              0.6666666666666666,
              "#ed7953"
             ],
             [
              0.7777777777777778,
              "#fb9f3a"
             ],
             [
              0.8888888888888888,
              "#fdca26"
             ],
             [
              1,
              "#f0f921"
             ]
            ],
            "type": "histogram2d"
           }
          ],
          "histogram2dcontour": [
           {
            "colorbar": {
             "outlinewidth": 0,
             "ticks": ""
            },
            "colorscale": [
             [
              0,
              "#0d0887"
             ],
             [
              0.1111111111111111,
              "#46039f"
             ],
             [
              0.2222222222222222,
              "#7201a8"
             ],
             [
              0.3333333333333333,
              "#9c179e"
             ],
             [
              0.4444444444444444,
              "#bd3786"
             ],
             [
              0.5555555555555556,
              "#d8576b"
             ],
             [
              0.6666666666666666,
              "#ed7953"
             ],
             [
              0.7777777777777778,
              "#fb9f3a"
             ],
             [
              0.8888888888888888,
              "#fdca26"
             ],
             [
              1,
              "#f0f921"
             ]
            ],
            "type": "histogram2dcontour"
           }
          ],
          "mesh3d": [
           {
            "colorbar": {
             "outlinewidth": 0,
             "ticks": ""
            },
            "type": "mesh3d"
           }
          ],
          "parcoords": [
           {
            "line": {
             "colorbar": {
              "outlinewidth": 0,
              "ticks": ""
             }
            },
            "type": "parcoords"
           }
          ],
          "pie": [
           {
            "automargin": true,
            "type": "pie"
           }
          ],
          "scatter": [
           {
            "marker": {
             "colorbar": {
              "outlinewidth": 0,
              "ticks": ""
             }
            },
            "type": "scatter"
           }
          ],
          "scatter3d": [
           {
            "line": {
             "colorbar": {
              "outlinewidth": 0,
              "ticks": ""
             }
            },
            "marker": {
             "colorbar": {
              "outlinewidth": 0,
              "ticks": ""
             }
            },
            "type": "scatter3d"
           }
          ],
          "scattercarpet": [
           {
            "marker": {
             "colorbar": {
              "outlinewidth": 0,
              "ticks": ""
             }
            },
            "type": "scattercarpet"
           }
          ],
          "scattergeo": [
           {
            "marker": {
             "colorbar": {
              "outlinewidth": 0,
              "ticks": ""
             }
            },
            "type": "scattergeo"
           }
          ],
          "scattergl": [
           {
            "marker": {
             "colorbar": {
              "outlinewidth": 0,
              "ticks": ""
             }
            },
            "type": "scattergl"
           }
          ],
          "scattermapbox": [
           {
            "marker": {
             "colorbar": {
              "outlinewidth": 0,
              "ticks": ""
             }
            },
            "type": "scattermapbox"
           }
          ],
          "scatterpolar": [
           {
            "marker": {
             "colorbar": {
              "outlinewidth": 0,
              "ticks": ""
             }
            },
            "type": "scatterpolar"
           }
          ],
          "scatterpolargl": [
           {
            "marker": {
             "colorbar": {
              "outlinewidth": 0,
              "ticks": ""
             }
            },
            "type": "scatterpolargl"
           }
          ],
          "scatterternary": [
           {
            "marker": {
             "colorbar": {
              "outlinewidth": 0,
              "ticks": ""
             }
            },
            "type": "scatterternary"
           }
          ],
          "surface": [
           {
            "colorbar": {
             "outlinewidth": 0,
             "ticks": ""
            },
            "colorscale": [
             [
              0,
              "#0d0887"
             ],
             [
              0.1111111111111111,
              "#46039f"
             ],
             [
              0.2222222222222222,
              "#7201a8"
             ],
             [
              0.3333333333333333,
              "#9c179e"
             ],
             [
              0.4444444444444444,
              "#bd3786"
             ],
             [
              0.5555555555555556,
              "#d8576b"
             ],
             [
              0.6666666666666666,
              "#ed7953"
             ],
             [
              0.7777777777777778,
              "#fb9f3a"
             ],
             [
              0.8888888888888888,
              "#fdca26"
             ],
             [
              1,
              "#f0f921"
             ]
            ],
            "type": "surface"
           }
          ],
          "table": [
           {
            "cells": {
             "fill": {
              "color": "#EBF0F8"
             },
             "line": {
              "color": "white"
             }
            },
            "header": {
             "fill": {
              "color": "#C8D4E3"
             },
             "line": {
              "color": "white"
             }
            },
            "type": "table"
           }
          ]
         },
         "layout": {
          "annotationdefaults": {
           "arrowcolor": "#2a3f5f",
           "arrowhead": 0,
           "arrowwidth": 1
          },
          "autotypenumbers": "strict",
          "coloraxis": {
           "colorbar": {
            "outlinewidth": 0,
            "ticks": ""
           }
          },
          "colorscale": {
           "diverging": [
            [
             0,
             "#8e0152"
            ],
            [
             0.1,
             "#c51b7d"
            ],
            [
             0.2,
             "#de77ae"
            ],
            [
             0.3,
             "#f1b6da"
            ],
            [
             0.4,
             "#fde0ef"
            ],
            [
             0.5,
             "#f7f7f7"
            ],
            [
             0.6,
             "#e6f5d0"
            ],
            [
             0.7,
             "#b8e186"
            ],
            [
             0.8,
             "#7fbc41"
            ],
            [
             0.9,
             "#4d9221"
            ],
            [
             1,
             "#276419"
            ]
           ],
           "sequential": [
            [
             0,
             "#0d0887"
            ],
            [
             0.1111111111111111,
             "#46039f"
            ],
            [
             0.2222222222222222,
             "#7201a8"
            ],
            [
             0.3333333333333333,
             "#9c179e"
            ],
            [
             0.4444444444444444,
             "#bd3786"
            ],
            [
             0.5555555555555556,
             "#d8576b"
            ],
            [
             0.6666666666666666,
             "#ed7953"
            ],
            [
             0.7777777777777778,
             "#fb9f3a"
            ],
            [
             0.8888888888888888,
             "#fdca26"
            ],
            [
             1,
             "#f0f921"
            ]
           ],
           "sequentialminus": [
            [
             0,
             "#0d0887"
            ],
            [
             0.1111111111111111,
             "#46039f"
            ],
            [
             0.2222222222222222,
             "#7201a8"
            ],
            [
             0.3333333333333333,
             "#9c179e"
            ],
            [
             0.4444444444444444,
             "#bd3786"
            ],
            [
             0.5555555555555556,
             "#d8576b"
            ],
            [
             0.6666666666666666,
             "#ed7953"
            ],
            [
             0.7777777777777778,
             "#fb9f3a"
            ],
            [
             0.8888888888888888,
             "#fdca26"
            ],
            [
             1,
             "#f0f921"
            ]
           ]
          },
          "colorway": [
           "#636efa",
           "#EF553B",
           "#00cc96",
           "#ab63fa",
           "#FFA15A",
           "#19d3f3",
           "#FF6692",
           "#B6E880",
           "#FF97FF",
           "#FECB52"
          ],
          "font": {
           "color": "#2a3f5f"
          },
          "geo": {
           "bgcolor": "white",
           "lakecolor": "white",
           "landcolor": "#E5ECF6",
           "showlakes": true,
           "showland": true,
           "subunitcolor": "white"
          },
          "hoverlabel": {
           "align": "left"
          },
          "hovermode": "closest",
          "mapbox": {
           "style": "light"
          },
          "paper_bgcolor": "white",
          "plot_bgcolor": "#E5ECF6",
          "polar": {
           "angularaxis": {
            "gridcolor": "white",
            "linecolor": "white",
            "ticks": ""
           },
           "bgcolor": "#E5ECF6",
           "radialaxis": {
            "gridcolor": "white",
            "linecolor": "white",
            "ticks": ""
           }
          },
          "scene": {
           "xaxis": {
            "backgroundcolor": "#E5ECF6",
            "gridcolor": "white",
            "gridwidth": 2,
            "linecolor": "white",
            "showbackground": true,
            "ticks": "",
            "zerolinecolor": "white"
           },
           "yaxis": {
            "backgroundcolor": "#E5ECF6",
            "gridcolor": "white",
            "gridwidth": 2,
            "linecolor": "white",
            "showbackground": true,
            "ticks": "",
            "zerolinecolor": "white"
           },
           "zaxis": {
            "backgroundcolor": "#E5ECF6",
            "gridcolor": "white",
            "gridwidth": 2,
            "linecolor": "white",
            "showbackground": true,
            "ticks": "",
            "zerolinecolor": "white"
           }
          },
          "shapedefaults": {
           "line": {
            "color": "#2a3f5f"
           }
          },
          "ternary": {
           "aaxis": {
            "gridcolor": "white",
            "linecolor": "white",
            "ticks": ""
           },
           "baxis": {
            "gridcolor": "white",
            "linecolor": "white",
            "ticks": ""
           },
           "bgcolor": "#E5ECF6",
           "caxis": {
            "gridcolor": "white",
            "linecolor": "white",
            "ticks": ""
           }
          },
          "title": {
           "x": 0.05
          },
          "xaxis": {
           "automargin": true,
           "gridcolor": "white",
           "linecolor": "white",
           "ticks": "",
           "title": {
            "standoff": 15
           },
           "zerolinecolor": "white",
           "zerolinewidth": 2
          },
          "yaxis": {
           "automargin": true,
           "gridcolor": "white",
           "linecolor": "white",
           "ticks": "",
           "title": {
            "standoff": 15
           },
           "zerolinecolor": "white",
           "zerolinewidth": 2
          }
         }
        },
        "title": {
         "text": "Most Movies released based on countries"
        }
       }
      },
      "text/html": [
       "<div>                            <div id=\"0643ebe7-affa-47b1-bc17-c691678e5c43\" class=\"plotly-graph-div\" style=\"height:525px; width:100%;\"></div>            <script type=\"text/javascript\">                require([\"plotly\"], function(Plotly) {                    window.PLOTLYENV=window.PLOTLYENV || {};                                    if (document.getElementById(\"0643ebe7-affa-47b1-bc17-c691678e5c43\")) {                    Plotly.newPlot(                        \"0643ebe7-affa-47b1-bc17-c691678e5c43\",                        [{\"domain\":{\"x\":[0.0,1.0],\"y\":[0.0,1.0]},\"hovertemplate\":\"index=%{label}<br>country_main=%{value}<extra></extra>\",\"labels\":[\"United States\",\"India\",\"United Kingdom\",\"Canada\",\"France\",\"Spain\",\"Egypt\",\"Mexico\",\"Turkey\",\"Japan\",\"Indonesia\",\"Hong Kong\",\"Philippines\",\"Germany\",\"Nigeria\",\"Australia\",\"Brazil\",\"Argentina\",\"China\",\"Italy\",\"South Korea\",\"Thailand\",\"South Africa\",\"Ireland\",\"Netherlands\",\"Denmark\",\"Poland\",\"Pakistan\",\"United Arab Emirates\",\"Chile\",\"Malaysia\",\"Lebanon\",\"New Zealand\",\"Colombia\",\"Taiwan\",\"Israel\",\"Norway\",\"Romania\",\"Singapore\",\"Sweden\",\"Uruguay\",\"Austria\",\"Belgium\",\"Peru\",\"Switzerland\",\"Saudi Arabia\",\"Bulgaria\",\"Russia\",\"Vietnam\",\"Hungary\",\"Ghana\",\"Czech Republic\",\"Kuwait\",\"Serbia\",\"Iceland\",\"Kenya\",\"Finland\",\"Venezuela\",\"Bangladesh\",\"Cambodia\",\"Portugal\",\"Georgia\",\"Croatia\",\"Zimbabwe\",\"Somalia\",\"Jamaica\",\"Namibia\",\"Soviet Union\",\"Iran\",\"Guatemala\",\"Paraguay\",\"Greece\",\"West Germany\",\"Slovenia\"],\"legendgroup\":\"\",\"marker\":{\"line\":{\"color\":\"white\",\"width\":2}},\"name\":\"\",\"showlegend\":true,\"textinfo\":\"percent+label\",\"textposition\":\"inside\",\"type\":\"pie\",\"values\":[2330,883,341,175,137,119,93,79,78,75,74,74,74,68,63,56,52,50,48,42,42,39,30,20,20,19,19,18,18,17,16,14,13,13,12,12,11,10,10,9,8,7,6,6,6,6,5,5,5,4,4,4,4,3,3,3,3,2,2,2,2,2,1,1,1,1,1,1,1,1,1,1,1,1]}],                        {\"legend\":{\"tracegroupgap\":0},\"piecolorway\":[\"rgb(103,0,31)\",\"rgb(178,24,43)\",\"rgb(214,96,77)\",\"rgb(244,165,130)\",\"rgb(253,219,199)\",\"rgb(247,247,247)\",\"rgb(209,229,240)\",\"rgb(146,197,222)\",\"rgb(67,147,195)\",\"rgb(33,102,172)\",\"rgb(5,48,97)\"],\"template\":{\"data\":{\"bar\":[{\"error_x\":{\"color\":\"#2a3f5f\"},\"error_y\":{\"color\":\"#2a3f5f\"},\"marker\":{\"line\":{\"color\":\"#E5ECF6\",\"width\":0.5},\"pattern\":{\"fillmode\":\"overlay\",\"size\":10,\"solidity\":0.2}},\"type\":\"bar\"}],\"barpolar\":[{\"marker\":{\"line\":{\"color\":\"#E5ECF6\",\"width\":0.5},\"pattern\":{\"fillmode\":\"overlay\",\"size\":10,\"solidity\":0.2}},\"type\":\"barpolar\"}],\"carpet\":[{\"aaxis\":{\"endlinecolor\":\"#2a3f5f\",\"gridcolor\":\"white\",\"linecolor\":\"white\",\"minorgridcolor\":\"white\",\"startlinecolor\":\"#2a3f5f\"},\"baxis\":{\"endlinecolor\":\"#2a3f5f\",\"gridcolor\":\"white\",\"linecolor\":\"white\",\"minorgridcolor\":\"white\",\"startlinecolor\":\"#2a3f5f\"},\"type\":\"carpet\"}],\"choropleth\":[{\"colorbar\":{\"outlinewidth\":0,\"ticks\":\"\"},\"type\":\"choropleth\"}],\"contour\":[{\"colorbar\":{\"outlinewidth\":0,\"ticks\":\"\"},\"colorscale\":[[0.0,\"#0d0887\"],[0.1111111111111111,\"#46039f\"],[0.2222222222222222,\"#7201a8\"],[0.3333333333333333,\"#9c179e\"],[0.4444444444444444,\"#bd3786\"],[0.5555555555555556,\"#d8576b\"],[0.6666666666666666,\"#ed7953\"],[0.7777777777777778,\"#fb9f3a\"],[0.8888888888888888,\"#fdca26\"],[1.0,\"#f0f921\"]],\"type\":\"contour\"}],\"contourcarpet\":[{\"colorbar\":{\"outlinewidth\":0,\"ticks\":\"\"},\"type\":\"contourcarpet\"}],\"heatmap\":[{\"colorbar\":{\"outlinewidth\":0,\"ticks\":\"\"},\"colorscale\":[[0.0,\"#0d0887\"],[0.1111111111111111,\"#46039f\"],[0.2222222222222222,\"#7201a8\"],[0.3333333333333333,\"#9c179e\"],[0.4444444444444444,\"#bd3786\"],[0.5555555555555556,\"#d8576b\"],[0.6666666666666666,\"#ed7953\"],[0.7777777777777778,\"#fb9f3a\"],[0.8888888888888888,\"#fdca26\"],[1.0,\"#f0f921\"]],\"type\":\"heatmap\"}],\"heatmapgl\":[{\"colorbar\":{\"outlinewidth\":0,\"ticks\":\"\"},\"colorscale\":[[0.0,\"#0d0887\"],[0.1111111111111111,\"#46039f\"],[0.2222222222222222,\"#7201a8\"],[0.3333333333333333,\"#9c179e\"],[0.4444444444444444,\"#bd3786\"],[0.5555555555555556,\"#d8576b\"],[0.6666666666666666,\"#ed7953\"],[0.7777777777777778,\"#fb9f3a\"],[0.8888888888888888,\"#fdca26\"],[1.0,\"#f0f921\"]],\"type\":\"heatmapgl\"}],\"histogram\":[{\"marker\":{\"pattern\":{\"fillmode\":\"overlay\",\"size\":10,\"solidity\":0.2}},\"type\":\"histogram\"}],\"histogram2d\":[{\"colorbar\":{\"outlinewidth\":0,\"ticks\":\"\"},\"colorscale\":[[0.0,\"#0d0887\"],[0.1111111111111111,\"#46039f\"],[0.2222222222222222,\"#7201a8\"],[0.3333333333333333,\"#9c179e\"],[0.4444444444444444,\"#bd3786\"],[0.5555555555555556,\"#d8576b\"],[0.6666666666666666,\"#ed7953\"],[0.7777777777777778,\"#fb9f3a\"],[0.8888888888888888,\"#fdca26\"],[1.0,\"#f0f921\"]],\"type\":\"histogram2d\"}],\"histogram2dcontour\":[{\"colorbar\":{\"outlinewidth\":0,\"ticks\":\"\"},\"colorscale\":[[0.0,\"#0d0887\"],[0.1111111111111111,\"#46039f\"],[0.2222222222222222,\"#7201a8\"],[0.3333333333333333,\"#9c179e\"],[0.4444444444444444,\"#bd3786\"],[0.5555555555555556,\"#d8576b\"],[0.6666666666666666,\"#ed7953\"],[0.7777777777777778,\"#fb9f3a\"],[0.8888888888888888,\"#fdca26\"],[1.0,\"#f0f921\"]],\"type\":\"histogram2dcontour\"}],\"mesh3d\":[{\"colorbar\":{\"outlinewidth\":0,\"ticks\":\"\"},\"type\":\"mesh3d\"}],\"parcoords\":[{\"line\":{\"colorbar\":{\"outlinewidth\":0,\"ticks\":\"\"}},\"type\":\"parcoords\"}],\"pie\":[{\"automargin\":true,\"type\":\"pie\"}],\"scatter\":[{\"marker\":{\"colorbar\":{\"outlinewidth\":0,\"ticks\":\"\"}},\"type\":\"scatter\"}],\"scatter3d\":[{\"line\":{\"colorbar\":{\"outlinewidth\":0,\"ticks\":\"\"}},\"marker\":{\"colorbar\":{\"outlinewidth\":0,\"ticks\":\"\"}},\"type\":\"scatter3d\"}],\"scattercarpet\":[{\"marker\":{\"colorbar\":{\"outlinewidth\":0,\"ticks\":\"\"}},\"type\":\"scattercarpet\"}],\"scattergeo\":[{\"marker\":{\"colorbar\":{\"outlinewidth\":0,\"ticks\":\"\"}},\"type\":\"scattergeo\"}],\"scattergl\":[{\"marker\":{\"colorbar\":{\"outlinewidth\":0,\"ticks\":\"\"}},\"type\":\"scattergl\"}],\"scattermapbox\":[{\"marker\":{\"colorbar\":{\"outlinewidth\":0,\"ticks\":\"\"}},\"type\":\"scattermapbox\"}],\"scatterpolar\":[{\"marker\":{\"colorbar\":{\"outlinewidth\":0,\"ticks\":\"\"}},\"type\":\"scatterpolar\"}],\"scatterpolargl\":[{\"marker\":{\"colorbar\":{\"outlinewidth\":0,\"ticks\":\"\"}},\"type\":\"scatterpolargl\"}],\"scatterternary\":[{\"marker\":{\"colorbar\":{\"outlinewidth\":0,\"ticks\":\"\"}},\"type\":\"scatterternary\"}],\"surface\":[{\"colorbar\":{\"outlinewidth\":0,\"ticks\":\"\"},\"colorscale\":[[0.0,\"#0d0887\"],[0.1111111111111111,\"#46039f\"],[0.2222222222222222,\"#7201a8\"],[0.3333333333333333,\"#9c179e\"],[0.4444444444444444,\"#bd3786\"],[0.5555555555555556,\"#d8576b\"],[0.6666666666666666,\"#ed7953\"],[0.7777777777777778,\"#fb9f3a\"],[0.8888888888888888,\"#fdca26\"],[1.0,\"#f0f921\"]],\"type\":\"surface\"}],\"table\":[{\"cells\":{\"fill\":{\"color\":\"#EBF0F8\"},\"line\":{\"color\":\"white\"}},\"header\":{\"fill\":{\"color\":\"#C8D4E3\"},\"line\":{\"color\":\"white\"}},\"type\":\"table\"}]},\"layout\":{\"annotationdefaults\":{\"arrowcolor\":\"#2a3f5f\",\"arrowhead\":0,\"arrowwidth\":1},\"autotypenumbers\":\"strict\",\"coloraxis\":{\"colorbar\":{\"outlinewidth\":0,\"ticks\":\"\"}},\"colorscale\":{\"diverging\":[[0,\"#8e0152\"],[0.1,\"#c51b7d\"],[0.2,\"#de77ae\"],[0.3,\"#f1b6da\"],[0.4,\"#fde0ef\"],[0.5,\"#f7f7f7\"],[0.6,\"#e6f5d0\"],[0.7,\"#b8e186\"],[0.8,\"#7fbc41\"],[0.9,\"#4d9221\"],[1,\"#276419\"]],\"sequential\":[[0.0,\"#0d0887\"],[0.1111111111111111,\"#46039f\"],[0.2222222222222222,\"#7201a8\"],[0.3333333333333333,\"#9c179e\"],[0.4444444444444444,\"#bd3786\"],[0.5555555555555556,\"#d8576b\"],[0.6666666666666666,\"#ed7953\"],[0.7777777777777778,\"#fb9f3a\"],[0.8888888888888888,\"#fdca26\"],[1.0,\"#f0f921\"]],\"sequentialminus\":[[0.0,\"#0d0887\"],[0.1111111111111111,\"#46039f\"],[0.2222222222222222,\"#7201a8\"],[0.3333333333333333,\"#9c179e\"],[0.4444444444444444,\"#bd3786\"],[0.5555555555555556,\"#d8576b\"],[0.6666666666666666,\"#ed7953\"],[0.7777777777777778,\"#fb9f3a\"],[0.8888888888888888,\"#fdca26\"],[1.0,\"#f0f921\"]]},\"colorway\":[\"#636efa\",\"#EF553B\",\"#00cc96\",\"#ab63fa\",\"#FFA15A\",\"#19d3f3\",\"#FF6692\",\"#B6E880\",\"#FF97FF\",\"#FECB52\"],\"font\":{\"color\":\"#2a3f5f\"},\"geo\":{\"bgcolor\":\"white\",\"lakecolor\":\"white\",\"landcolor\":\"#E5ECF6\",\"showlakes\":true,\"showland\":true,\"subunitcolor\":\"white\"},\"hoverlabel\":{\"align\":\"left\"},\"hovermode\":\"closest\",\"mapbox\":{\"style\":\"light\"},\"paper_bgcolor\":\"white\",\"plot_bgcolor\":\"#E5ECF6\",\"polar\":{\"angularaxis\":{\"gridcolor\":\"white\",\"linecolor\":\"white\",\"ticks\":\"\"},\"bgcolor\":\"#E5ECF6\",\"radialaxis\":{\"gridcolor\":\"white\",\"linecolor\":\"white\",\"ticks\":\"\"}},\"scene\":{\"xaxis\":{\"backgroundcolor\":\"#E5ECF6\",\"gridcolor\":\"white\",\"gridwidth\":2,\"linecolor\":\"white\",\"showbackground\":true,\"ticks\":\"\",\"zerolinecolor\":\"white\"},\"yaxis\":{\"backgroundcolor\":\"#E5ECF6\",\"gridcolor\":\"white\",\"gridwidth\":2,\"linecolor\":\"white\",\"showbackground\":true,\"ticks\":\"\",\"zerolinecolor\":\"white\"},\"zaxis\":{\"backgroundcolor\":\"#E5ECF6\",\"gridcolor\":\"white\",\"gridwidth\":2,\"linecolor\":\"white\",\"showbackground\":true,\"ticks\":\"\",\"zerolinecolor\":\"white\"}},\"shapedefaults\":{\"line\":{\"color\":\"#2a3f5f\"}},\"ternary\":{\"aaxis\":{\"gridcolor\":\"white\",\"linecolor\":\"white\",\"ticks\":\"\"},\"baxis\":{\"gridcolor\":\"white\",\"linecolor\":\"white\",\"ticks\":\"\"},\"bgcolor\":\"#E5ECF6\",\"caxis\":{\"gridcolor\":\"white\",\"linecolor\":\"white\",\"ticks\":\"\"}},\"title\":{\"x\":0.05},\"xaxis\":{\"automargin\":true,\"gridcolor\":\"white\",\"linecolor\":\"white\",\"ticks\":\"\",\"title\":{\"standoff\":15},\"zerolinecolor\":\"white\",\"zerolinewidth\":2},\"yaxis\":{\"automargin\":true,\"gridcolor\":\"white\",\"linecolor\":\"white\",\"ticks\":\"\",\"title\":{\"standoff\":15},\"zerolinecolor\":\"white\",\"zerolinewidth\":2}}},\"title\":{\"text\":\"Most Movies released based on countries\"}},                        {\"responsive\": true}                    ).then(function(){\n",
       "                            \n",
       "var gd = document.getElementById('0643ebe7-affa-47b1-bc17-c691678e5c43');\n",
       "var x = new MutationObserver(function (mutations, observer) {{\n",
       "        var display = window.getComputedStyle(gd).display;\n",
       "        if (!display || display === 'none') {{\n",
       "            console.log([gd, 'removed!']);\n",
       "            Plotly.purge(gd);\n",
       "            observer.disconnect();\n",
       "        }}\n",
       "}});\n",
       "\n",
       "// Listen for the removal of the full notebook cells\n",
       "var notebookContainer = gd.closest('#notebook-container');\n",
       "if (notebookContainer) {{\n",
       "    x.observe(notebookContainer, {childList: true});\n",
       "}}\n",
       "\n",
       "// Listen for the clearing of the current output cell\n",
       "var outputEl = gd.closest('.output');\n",
       "if (outputEl) {{\n",
       "    x.observe(outputEl, {childList: true});\n",
       "}}\n",
       "\n",
       "                        })                };                });            </script>        </div>"
      ]
     },
     "metadata": {},
     "output_type": "display_data"
    }
   ],
   "source": [
    "#According to the country in tv_series_data\n",
    "movies_data=movie.country_main.value_counts().reset_index()\n",
    "fig = px.pie(movies_data, values='country_main', names='index',color_discrete_sequence=px.colors.sequential.RdBu,title='Most Movies released based on countries')\n",
    "fig.update_traces(textposition='inside', textinfo='percent+label',\n",
    "                  marker = dict(line = dict(color = 'white', width =2)))\n",
    "fig.show()\n"
   ]
  }
 ],
 "metadata": {
  "kernelspec": {
   "display_name": "Python 3",
   "language": "python",
   "name": "python3"
  },
  "language_info": {
   "codemirror_mode": {
    "name": "ipython",
    "version": 3
   },
   "file_extension": ".py",
   "mimetype": "text/x-python",
   "name": "python",
   "nbconvert_exporter": "python",
   "pygments_lexer": "ipython3",
   "version": "3.8.5"
  }
 },
 "nbformat": 4,
 "nbformat_minor": 4
}
